{
 "cells": [
  {
   "cell_type": "markdown",
   "metadata": {
    "colab_type": "text",
    "id": "a-5AKYNZpu4k"
   },
   "source": [
    "# ***Running Pyspark in Colab***\n",
    "\n",
    "To run spark in Colab, first we need to install all the dependencies in Colab environment such as Apache Spark 2.4.4 with hadoop 2.7, Java 8 and Findspark in order to locate the spark in the system. The tools installation can be carried out inside the Jupyter Notebook of the Colab. Follow the steps to install the dependencies:"
   ]
  },
  {
   "cell_type": "code",
   "execution_count": 0,
   "metadata": {
    "colab": {
     "base_uri": "https://localhost:8080/",
     "height": 216
    },
    "colab_type": "code",
    "id": "H3-5mGZVq8Dv",
    "outputId": "e2ef250e-c9b8-4876-f678-3df21a4af0a5"
   },
   "outputs": [
    {
     "data": {
      "text/html": [
       "\n",
       "            <div>\n",
       "                <p><b>SparkSession - in-memory</b></p>\n",
       "                \n",
       "        <div>\n",
       "            <p><b>SparkContext</b></p>\n",
       "\n",
       "            <p><a href=\"http://f6d9ccc36d4d:4040\">Spark UI</a></p>\n",
       "\n",
       "            <dl>\n",
       "              <dt>Version</dt>\n",
       "                <dd><code>v2.4.4</code></dd>\n",
       "              <dt>Master</dt>\n",
       "                <dd><code>local[*]</code></dd>\n",
       "              <dt>AppName</dt>\n",
       "                <dd><code>pyspark-shell</code></dd>\n",
       "            </dl>\n",
       "        </div>\n",
       "        \n",
       "            </div>\n",
       "        "
      ],
      "text/plain": [
       "<pyspark.sql.session.SparkSession at 0x7f7fad3b5828>"
      ]
     },
     "execution_count": 88,
     "metadata": {
      "tags": []
     },
     "output_type": "execute_result"
    }
   ],
   "source": [
    "spark"
   ]
  },
  {
   "cell_type": "code",
   "execution_count": 0,
   "metadata": {
    "colab": {},
    "colab_type": "code",
    "id": "iq-clTaFq_Rq"
   },
   "outputs": [],
   "source": []
  },
  {
   "cell_type": "markdown",
   "metadata": {
    "colab_type": "text",
    "id": "XgpFyPUEs06o"
   },
   "source": [
    "# The SparkSession\n",
    "* Spark Application is controlled through a driver process called the SparkSession.\n",
    "*The SparkSession instance is the way Spark executes user-defined manipulations across the cluster.\n",
    "*There is a one-to-one correspondence between a SparkSession and a Spark Application.\n",
    "*In Scala and Python, the variable is available as spark when you start the console.\n",
    "\n",
    "* When you start Spark in the interactive mode, you implicitly create a SparkSession that manages the Spark Application.\n",
    "\n",
    "* When you start it through a standalone application, you must create the SparkSession object yourself in your application code\n",
    "\n",
    "\n",
    "\n"
   ]
  },
  {
   "cell_type": "code",
   "execution_count": 0,
   "metadata": {
    "colab": {},
    "colab_type": "code",
    "id": "Gog7z3AjtK3-"
   },
   "outputs": [],
   "source": []
  },
  {
   "cell_type": "markdown",
   "metadata": {
    "colab_type": "text",
    "id": "3bLNOkWDt1h8"
   },
   "source": [
    "# Resilient Distributed Datasets (RDDs)"
   ]
  },
  {
   "cell_type": "markdown",
   "metadata": {
    "colab_type": "text",
    "id": "1sq5AgeLxqkk"
   },
   "source": [
    "* There are two sets of low-level APIs:\n",
    "    * For manipulating distributed data (RDDs)\n",
    "    *   For distributing and manipulating distributed shared variables\n",
    "        * broadcast variables\n",
    "        * accumulators\n",
    "* All Spark workloads compile down to these fundamental primitives\n",
    "* A SparkContext is the entry point for low-level API functionality.\n",
    "* SparkContext can be accessed through the SparkSession, which is the tool you use to perform computation across a Spark cluster\n",
    "\n",
    "\n",
    "\n",
    "\n",
    "\n",
    "\n"
   ]
  },
  {
   "cell_type": "markdown",
   "metadata": {
    "colab_type": "text",
    "id": "sD7XFZlWy7lt"
   },
   "source": [
    "## RDD"
   ]
  },
  {
   "cell_type": "markdown",
   "metadata": {
    "colab_type": "text",
    "id": "EGNAiRgZzBzu"
   },
   "source": [
    "* Spark introduces the concept of an RDD (Resilient Distributed Dataset), an immutable fault-tolerant, distributed collection of objects that can be operated on in parallel.\n",
    "* An RDD can contain any type of object and is created by loading an external dataset or distributing a collection from the driver program\n"
   ]
  },
  {
   "cell_type": "markdown",
   "metadata": {
    "colab_type": "text",
    "id": "etboL5wf1Rl-"
   },
   "source": [
    "## There are three ways to create an RDD in Spark."
   ]
  },
  {
   "cell_type": "markdown",
   "metadata": {
    "colab_type": "text",
    "id": "LpviosJW1ZmJ"
   },
   "source": [
    "* Parallelizing already existing collection in driver program.\n",
    "* Referencing a dataset in an external storage system (e.g. HDFS, Hbase, shared file system).\n",
    "* Creating RDD from already existing RDDs."
   ]
  },
  {
   "cell_type": "code",
   "execution_count": 7,
   "metadata": {
    "colab": {
     "base_uri": "https://localhost:8080/",
     "height": 195
    },
    "colab_type": "code",
    "id": "cXocHsVd3DF2",
    "outputId": "5744c296-1adb-4322-952f-a4818dab8d95"
   },
   "outputs": [
    {
     "data": {
      "text/html": [
       "\n",
       "        <div>\n",
       "            <p><b>SparkContext</b></p>\n",
       "\n",
       "            <p><a href=\"http://5c3d3fd75d8b:4040\">Spark UI</a></p>\n",
       "\n",
       "            <dl>\n",
       "              <dt>Version</dt>\n",
       "                <dd><code>v2.4.4</code></dd>\n",
       "              <dt>Master</dt>\n",
       "                <dd><code>local[*]</code></dd>\n",
       "              <dt>AppName</dt>\n",
       "                <dd><code>pyspark-shell</code></dd>\n",
       "            </dl>\n",
       "        </div>\n",
       "        "
      ],
      "text/plain": [
       "<SparkContext master=local[*] appName=pyspark-shell>"
      ]
     },
     "execution_count": 7,
     "metadata": {
      "tags": []
     },
     "output_type": "execute_result"
    }
   ],
   "source": [
    "sc = spark.sparkContext\n",
    "sc"
   ]
  },
  {
   "cell_type": "code",
   "execution_count": 0,
   "metadata": {
    "colab": {},
    "colab_type": "code",
    "id": "4SH8ka4j1dvB"
   },
   "outputs": [],
   "source": [
    "data_range = range(1,101)"
   ]
  },
  {
   "cell_type": "code",
   "execution_count": 5,
   "metadata": {
    "colab": {
     "base_uri": "https://localhost:8080/",
     "height": 35
    },
    "colab_type": "code",
    "id": "fH4KMttn2uYm",
    "outputId": "f36ca5dd-7114-4154-8836-c9da68aa0a24"
   },
   "outputs": [
    {
     "data": {
      "text/plain": [
       "range"
      ]
     },
     "execution_count": 5,
     "metadata": {
      "tags": []
     },
     "output_type": "execute_result"
    }
   ],
   "source": [
    "type(data_range)"
   ]
  },
  {
   "cell_type": "code",
   "execution_count": 0,
   "metadata": {
    "colab": {},
    "colab_type": "code",
    "id": "cdrspDE32v3j"
   },
   "outputs": [],
   "source": [
    "data_RDD = sc.parallelize(data_range,10)"
   ]
  },
  {
   "cell_type": "code",
   "execution_count": 0,
   "metadata": {
    "colab": {
     "base_uri": "https://localhost:8080/",
     "height": 34
    },
    "colab_type": "code",
    "id": "6l2b6E3W24qH",
    "outputId": "894cd995-2bb4-409d-832c-08297ed78264"
   },
   "outputs": [
    {
     "data": {
      "text/plain": [
       "[1, 2, 3, 4, 5]"
      ]
     },
     "execution_count": 16,
     "metadata": {
      "tags": []
     },
     "output_type": "execute_result"
    }
   ],
   "source": [
    "data_RDD.take(5)"
   ]
  },
  {
   "cell_type": "code",
   "execution_count": 0,
   "metadata": {
    "colab": {
     "base_uri": "https://localhost:8080/",
     "height": 34
    },
    "colab_type": "code",
    "id": "O4qGWibf3JHz",
    "outputId": "a419da6c-ff49-412a-b0de-acb1a2583795"
   },
   "outputs": [
    {
     "data": {
      "text/plain": [
       "10"
      ]
     },
     "execution_count": 17,
     "metadata": {
      "tags": []
     },
     "output_type": "execute_result"
    }
   ],
   "source": [
    "data_RDD.getNumPartitions()"
   ]
  },
  {
   "cell_type": "code",
   "execution_count": 0,
   "metadata": {
    "colab": {},
    "colab_type": "code",
    "id": "g5e0KRJs3Zkb"
   },
   "outputs": [],
   "source": [
    "data_pair = [(\"maths\",52),(\"english\",75),(\"science\",82), (\"computer\",65),(\"maths\",85)]"
   ]
  },
  {
   "cell_type": "code",
   "execution_count": 0,
   "metadata": {
    "colab": {
     "base_uri": "https://localhost:8080/",
     "height": 34
    },
    "colab_type": "code",
    "id": "_kewysSb3hsR",
    "outputId": "bfdcd1ed-11bc-40d7-a91f-b9c7edc40afe"
   },
   "outputs": [
    {
     "data": {
      "text/plain": [
       "list"
      ]
     },
     "execution_count": 19,
     "metadata": {
      "tags": []
     },
     "output_type": "execute_result"
    }
   ],
   "source": [
    "type(data_pair)"
   ]
  },
  {
   "cell_type": "code",
   "execution_count": 0,
   "metadata": {
    "colab": {},
    "colab_type": "code",
    "id": "nivGmWJv3kxM"
   },
   "outputs": [],
   "source": [
    "rdd1 = sc.parallelize(data_pair)"
   ]
  },
  {
   "cell_type": "code",
   "execution_count": 0,
   "metadata": {
    "colab": {
     "base_uri": "https://localhost:8080/",
     "height": 102
    },
    "colab_type": "code",
    "id": "khyl59o-3mz7",
    "outputId": "0929b148-efa2-4e40-fba5-8b55d16ff035"
   },
   "outputs": [
    {
     "data": {
      "text/plain": [
       "[('maths', 52),\n",
       " ('english', 75),\n",
       " ('science', 82),\n",
       " ('computer', 65),\n",
       " ('maths', 85)]"
      ]
     },
     "execution_count": 21,
     "metadata": {
      "tags": []
     },
     "output_type": "execute_result"
    }
   ],
   "source": [
    "rdd1.collect()"
   ]
  },
  {
   "cell_type": "code",
   "execution_count": 0,
   "metadata": {
    "colab": {},
    "colab_type": "code",
    "id": "r5lHkOBI5Dgx"
   },
   "outputs": [],
   "source": [
    "from google.colab import files"
   ]
  },
  {
   "cell_type": "code",
   "execution_count": 0,
   "metadata": {
    "colab": {
     "base_uri": "https://localhost:8080/",
     "height": 111,
     "resources": {
      "http://localhost:8080/nbextensions/google.colab/files.js": {
       "data": "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",
       "headers": [
        [
         "content-type",
         "application/javascript"
        ]
       ],
       "ok": true,
       "status": 200,
       "status_text": ""
      }
     }
    },
    "colab_type": "code",
    "id": "yjExdSqh5FgR",
    "outputId": "36a53a93-2759-4d6e-f180-8f29247536e9"
   },
   "outputs": [
    {
     "data": {
      "text/html": [
       "\n",
       "     <input type=\"file\" id=\"files-83114b1d-b376-46ad-85d2-5f565af09f7f\" name=\"files[]\" multiple disabled />\n",
       "     <output id=\"result-83114b1d-b376-46ad-85d2-5f565af09f7f\">\n",
       "      Upload widget is only available when the cell has been executed in the\n",
       "      current browser session. Please rerun this cell to enable.\n",
       "      </output>\n",
       "      <script src=\"/nbextensions/google.colab/files.js\"></script> "
      ],
      "text/plain": [
       "<IPython.core.display.HTML object>"
      ]
     },
     "metadata": {
      "tags": []
     },
     "output_type": "display_data"
    },
    {
     "name": "stdout",
     "output_type": "stream",
     "text": [
      "Saving temp_data.txt to temp_data.txt\n"
     ]
    },
    {
     "data": {
      "text/plain": [
       "{'temp_data.txt': b'1901\\t-78\\t1\\n1901\\t-72\\t1\\n1901\\t-94\\t1\\n1901\\t-61\\t1\\n1901\\t-56\\t1\\n1901\\t-28\\t1\\n1901\\t-67\\t1\\n1901\\t-33\\t1\\n1901\\t-28\\t1\\n1901\\t-33\\t1\\n1901\\t-44\\t1\\n1901\\t-39\\t1\\n1901\\t0\\t1\\n1901\\t6\\t1\\n1901\\t0\\t1\\n1901\\t6\\t1\\n1901\\t6\\t1\\n1901\\t-11\\t1\\n1901\\t-33\\t1\\n1901\\t-50\\t1\\n1901\\t-44\\t1\\n1901\\t-28\\t1\\n1901\\t-33\\t1\\n1901\\t-33\\t1\\n1901\\t-50\\t1\\n1901\\t-33\\t1\\n1901\\t-28\\t1\\n1901\\t-44\\t1\\n1901\\t-44\\t1\\n1901\\t-44\\t1\\n1901\\t-39\\t1\\n1901\\t-50\\t1\\n1901\\t-44\\t1\\n1901\\t-39\\t1\\n1901\\t-33\\t1\\n1901\\t-22\\t1\\n1901\\t0\\t1\\n1901\\t-6\\t1\\n1901\\t-17\\t1\\n1901\\t-44\\t1\\n1901\\t-39\\t1\\n1901\\t-33\\t1\\n1901\\t-6\\t1\\n1901\\t17\\t1\\n1901\\t22\\t1\\n1901\\t28\\t1\\n1901\\t28\\t1\\n1901\\t11\\t1\\n1901\\t-17\\t1\\n1901\\t-28\\t1\\n1901\\t-56\\t1\\n1901\\t-44\\t1\\n1901\\t-44\\t1\\n1901\\t-67\\t1\\n1901\\t-44\\t1\\n1901\\t-39\\t1\\n1901\\t-22\\t1\\n1901\\t-22\\t1\\n1901\\t-22\\t1\\n1901\\t-39\\t1\\n1901\\t-17\\t1\\n1901\\t-17\\t1\\n1901\\t-22\\t1\\n1901\\t-17\\t1\\n1901\\t-6\\t1\\n1901\\t-6\\t1\\n1901\\t0\\t1\\n1901\\t11\\t1\\n1901\\t0\\t1\\n1901\\t-6\\t1\\n1901\\t17\\t1\\n1901\\t6\\t1\\n1901\\t6\\t1\\n1901\\t6\\t1\\n1901\\t0\\t1\\n1901\\t-6\\t1\\n1901\\t-11\\t1\\n1901\\t-22\\t1\\n1901\\t-56\\t1\\n1901\\t-28\\t1\\n1901\\t-28\\t1\\n1901\\t-28\\t1\\n1901\\t-28\\t1\\n1901\\t-39\\t1\\n1901\\t-28\\t1\\n1901\\t-17\\t1\\n1901\\t-11\\t1\\n1901\\t-33\\t1\\n1901\\t-33\\t1\\n1901\\t-44\\t1\\n1901\\t-78\\t1\\n1901\\t-61\\t1\\n1901\\t-67\\t1\\n1901\\t-78\\t1\\n1901\\t-67\\t1\\n1901\\t-83\\t1\\n1901\\t-56\\t1\\n1901\\t-22\\t1\\n1901\\t-33\\t1\\n1901\\t-44\\t1\\n1901\\t-33\\t1\\n1901\\t-78\\t1\\n1901\\t-61\\t1\\n1901\\t-61\\t1\\n1901\\t-83\\t1\\n1901\\t-28\\t1\\n1901\\t-33\\t1\\n1901\\t-44\\t1\\n1901\\t-161\\t1\\n1901\\t-128\\t1\\n1901\\t-122\\t1\\n1901\\t-111\\t1\\n1901\\t-122\\t1\\n1901\\t-122\\t1\\n1901\\t-122\\t1\\n1901\\t-117\\t1\\n1901\\t-117\\t1\\n1901\\t-111\\t1\\n1901\\t-106\\t1\\n1901\\t-133\\t1\\n1901\\t-106\\t1\\n1901\\t-117\\t1\\n1901\\t-183\\t1\\n1901\\t-150\\t1\\n1901\\t-128\\t1\\n1901\\t-122\\t1\\n1901\\t-128\\t1\\n1901\\t-128\\t1\\n1901\\t-128\\t1\\n1901\\t-122\\t1\\n1901\\t-117\\t1\\n1901\\t-100\\t1\\n1901\\t-183\\t1\\n1901\\t-178\\t1\\n1901\\t-211\\t1\\n1901\\t-250\\t1\\n1901\\t-200\\t1\\n1901\\t-178\\t1\\n1901\\t-106\\t1\\n1901\\t-117\\t1\\n1901\\t-133\\t1\\n1901\\t-156\\t1\\n1901\\t-122\\t1\\n1901\\t-122\\t1\\n1901\\t-94\\t1\\n1901\\t-94\\t1\\n1901\\t-89\\t1\\n1901\\t-144\\t1\\n1901\\t-78\\t1\\n1901\\t-83\\t1\\n1901\\t-89\\t1\\n1901\\t-61\\t1\\n1901\\t-72\\t1\\n1901\\t-67\\t1\\n1901\\t-44\\t1\\n1901\\t-89\\t1\\n1901\\t-156\\t1\\n1901\\t-139\\t1\\n1901\\t-172\\t1\\n1901\\t-156\\t1\\n1901\\t-144\\t1\\n1901\\t-156\\t1\\n1901\\t-172\\t1\\n1901\\t-156\\t1\\n1901\\t-167\\t1\\n1901\\t-183\\t1\\n1901\\t-122\\t1\\n1901\\t-106\\t1\\n1901\\t-150\\t1\\n1901\\t-111\\t1\\n1901\\t-111\\t1\\n1901\\t-106\\t1\\n1901\\t-72\\t1\\n1901\\t-78\\t1\\n1901\\t-178\\t1\\n1901\\t-156\\t1\\n1901\\t-167\\t1\\n1901\\t-194\\t1\\n1901\\t-150\\t1\\n1901\\t-172\\t1\\n1901\\t-200\\t1\\n1901\\t-133\\t1\\n1901\\t-167\\t1\\n1901\\t-189\\t1\\n1901\\t-106\\t1\\n1901\\t-67\\t1\\n1901\\t-56\\t1\\n1901\\t-28\\t1\\n1901\\t-22\\t1\\n1901\\t-50\\t1\\n1901\\t-28\\t1\\n1901\\t-17\\t1\\n1901\\t-6\\t1\\n1901\\t22\\t1\\n1901\\t11\\t1\\n1901\\t-17\\t1\\n1901\\t0\\t1\\n1901\\t-6\\t1\\n1901\\t-11\\t1\\n1901\\t-6\\t1\\n1901\\t-6\\t1\\n1901\\t-33\\t1\\n1901\\t-11\\t1\\n1901\\t-11\\t1\\n1901\\t-6\\t1\\n1901\\t0\\t1\\n1901\\t-28\\t1\\n1901\\t-17\\t1\\n1901\\t22\\t1\\n1901\\t17\\t1\\n1901\\t-33\\t1\\n1901\\t-6\\t1\\n1901\\t-44\\t1\\n1901\\t-44\\t1\\n1901\\t17\\t1\\n1901\\t-44\\t1\\n1901\\t-67\\t1\\n1901\\t-17\\t1\\n1901\\t-11\\t1\\n1901\\t0\\t1\\n1901\\t6\\t1\\n1901\\t-28\\t1\\n1901\\t-50\\t1\\n1901\\t-6\\t1\\n1901\\t-11\\t1\\n1901\\t-28\\t1\\n1901\\t-44\\t1\\n1901\\t-100\\t1\\n1901\\t-100\\t1\\n1901\\t-50\\t1\\n1901\\t-50\\t1\\n1901\\t-139\\t1\\n1901\\t-44\\t1\\n1901\\t-39\\t1\\n1901\\t-56\\t1\\n1901\\t-33\\t1\\n1901\\t-67\\t1\\n1901\\t-122\\t1\\n1901\\t-61\\t1\\n1901\\t-83\\t1\\n1901\\t-78\\t1\\n1901\\t-28\\t1\\n1901\\t-28\\t1\\n1901\\t-17\\t1\\n1901\\t17\\t1\\n1901\\t0\\t1\\n1901\\t-11\\t1\\n1901\\t-61\\t1\\n1901\\t-117\\t1\\n1901\\t-156\\t1\\n1901\\t-111\\t1\\n1901\\t-133\\t1\\n1901\\t-178\\t1\\n1901\\t-94\\t1\\n1901\\t-117\\t1\\n1901\\t-200\\t1\\n1901\\t-100\\t1\\n1901\\t-156\\t1\\n1901\\t-183\\t1\\n1901\\t-89\\t1\\n1901\\t-172\\t1\\n1901\\t-172\\t1\\n1901\\t-72\\t1\\n1901\\t-89\\t1\\n1901\\t-117\\t1\\n1901\\t-56\\t1\\n1901\\t-111\\t1\\n1901\\t-156\\t1\\n1901\\t-39\\t1\\n1901\\t-56\\t1\\n1901\\t-33\\t1\\n1901\\t11\\t1\\n1901\\t6\\t1\\n1901\\t17\\t1\\n1901\\t17\\t1\\n1901\\t0\\t1\\n1901\\t-39\\t1\\n1901\\t0\\t1\\n1901\\t-6\\t1\\n1901\\t11\\t1\\n1901\\t28\\t1\\n1901\\t17\\t1\\n1901\\t6\\t1\\n1901\\t17\\t1\\n1901\\t6\\t1\\n1901\\t-11\\t1\\n1901\\t0\\t1\\n1901\\t-22\\t1\\n1901\\t-44\\t1\\n1901\\t-6\\t1\\n1901\\t-39\\t1\\n1901\\t-50\\t1\\n1901\\t22\\t1\\n1901\\t6\\t1\\n1901\\t0\\t1\\n1901\\t22\\t1\\n1901\\t17\\t1\\n1901\\t11\\t1\\n1901\\t33\\t1\\n1901\\t22\\t1\\n1901\\t0\\t1\\n1901\\t28\\t1\\n1901\\t-6\\t1\\n1901\\t-6\\t1\\n1901\\t-11\\t1\\n1901\\t-17\\t1\\n1901\\t-11\\t1\\n1901\\t0\\t1\\n1901\\t-28\\t1\\n1901\\t-28\\t1\\n1901\\t-28\\t1\\n1901\\t-28\\t1\\n1901\\t-56\\t1\\n1901\\t-50\\t1\\n1901\\t-50\\t1\\n1901\\t-61\\t1\\n1901\\t-44\\t1\\n1901\\t-61\\t1\\n1901\\t-39\\t1\\n1901\\t0\\t1\\n1901\\t0\\t1\\n1901\\t6\\t1\\n1901\\t6\\t1\\n1901\\t-6\\t1\\n1901\\t-6\\t1\\n1901\\t0\\t1\\n1901\\t-28\\t1\\n1901\\t-11\\t1\\n1901\\t-6\\t1\\n1901\\t-17\\t1\\n1901\\t-11\\t1\\n1901\\t-6\\t1\\n1901\\t-17\\t1\\n1901\\t0\\t1\\n1901\\t17\\t1\\n1901\\t0\\t1\\n1901\\t17\\t1\\n1901\\t11\\t1\\n1901\\t-11\\t1\\n1901\\t-17\\t1\\n1901\\t17\\t1\\n1901\\t-11\\t1\\n1901\\t11\\t1\\n1901\\t28\\t1\\n1901\\t-11\\t1\\n1901\\t0\\t1\\n1901\\t22\\t1\\n1901\\t22\\t1\\n1901\\t6\\t1\\n1901\\t28\\t1\\n1901\\t0\\t1\\n1901\\t11\\t1\\n1901\\t33\\t1\\n1901\\t0\\t1\\n1901\\t11\\t1\\n1901\\t22\\t1\\n1901\\t17\\t1\\n1901\\t11\\t1\\n1901\\t28\\t1\\n1901\\t17\\t1\\n1901\\t11\\t1\\n1901\\t44\\t1\\n1901\\t17\\t1\\n1901\\t6\\t1\\n1901\\t50\\t1\\n1901\\t6\\t1\\n1901\\t22\\t1\\n1901\\t39\\t1\\n1901\\t17\\t1\\n1901\\t-11\\t1\\n1901\\t0\\t1\\n1901\\t-22\\t1\\n1901\\t-28\\t1\\n1901\\t0\\t1\\n1901\\t-17\\t1\\n1901\\t-22\\t1\\n1901\\t-11\\t1\\n1901\\t-11\\t1\\n1901\\t-22\\t1\\n1901\\t0\\t1\\n1901\\t-6\\t1\\n1901\\t-6\\t1\\n1901\\t33\\t1\\n1901\\t-17\\t1\\n1901\\t17\\t1\\n1901\\t44\\t1\\n1901\\t6\\t1\\n1901\\t17\\t1\\n1901\\t33\\t1\\n1901\\t33\\t1\\n1901\\t33\\t1\\n1901\\t72\\t1\\n1901\\t33\\t1\\n1901\\t72\\t1\\n1901\\t72\\t1\\n1901\\t56\\t1\\n1901\\t72\\t1\\n1901\\t89\\t1\\n1901\\t83\\t1\\n1901\\t67\\t1\\n1901\\t50\\t1\\n1901\\t67\\t1\\n1901\\t67\\t1\\n1901\\t83\\t1\\n1901\\t39\\t1\\n1901\\t22\\t1\\n1901\\t33\\t1\\n1901\\t17\\t1\\n1901\\t11\\t1\\n1901\\t17\\t1\\n1901\\t17\\t1\\n1901\\t17\\t1\\n1901\\t28\\t1\\n1901\\t6\\t1\\n1901\\t17\\t1\\n1901\\t33\\t1\\n1901\\t17\\t1\\n1901\\t11\\t1\\n1901\\t50\\t1\\n1901\\t17\\t1\\n1901\\t22\\t1\\n1901\\t44\\t1\\n1901\\t39\\t1\\n1901\\t33\\t1\\n1901\\t50\\t1\\n1901\\t33\\t1\\n1901\\t33\\t1\\n1901\\t50\\t1\\n1901\\t33\\t1\\n1901\\t33\\t1\\n1901\\t50\\t1\\n1901\\t33\\t1\\n1901\\t33\\t1\\n1901\\t56\\t1\\n1901\\t33\\t1\\n1901\\t50\\t1\\n1901\\t61\\t1\\n1901\\t39\\t1\\n1901\\t33\\t1\\n1901\\t39\\t1\\n1901\\t28\\t1\\n1901\\t33\\t1\\n1901\\t44\\t1\\n1901\\t28\\t1\\n1901\\t22\\t1\\n1901\\t33\\t1\\n1901\\t28\\t1\\n1901\\t44\\t1\\n1901\\t50\\t1\\n1901\\t33\\t1\\n1901\\t44\\t1\\n1901\\t67\\t1\\n1901\\t44\\t1\\n1901\\t56\\t1\\n1901\\t50\\t1\\n1901\\t44\\t1\\n1901\\t61\\t1\\n1901\\t94\\t1\\n1901\\t67\\t1\\n1901\\t44\\t1\\n1901\\t61\\t1\\n1901\\t44\\t1\\n1901\\t50\\t1\\n1901\\t67\\t1\\n1901\\t61\\t1\\n1901\\t94\\t1\\n1901\\t128\\t1\\n1901\\t122\\t1\\n1901\\t94\\t1\\n1901\\t89\\t1\\n1901\\t78\\t1\\n1901\\t72\\t1\\n1901\\t100\\t1\\n1901\\t72\\t1\\n1901\\t72\\t1\\n1901\\t100\\t1\\n1901\\t89\\t1\\n1901\\t100\\t1\\n1901\\t117\\t1\\n1901\\t128\\t1\\n1901\\t156\\t1\\n1901\\t117\\t1\\n1901\\t117\\t1\\n1901\\t94\\t1\\n1901\\t94\\t1\\n1901\\t106\\t1\\n1901\\t100\\t1\\n1901\\t89\\t1\\n1901\\t72\\t1\\n1901\\t72\\t1\\n1901\\t94\\t1\\n1901\\t50\\t1\\n1901\\t67\\t1\\n1901\\t78\\t1\\n1901\\t56\\t1\\n1901\\t61\\t1\\n1901\\t78\\t1\\n1901\\t67\\t1\\n1901\\t67\\t1\\n1901\\t78\\t1\\n1901\\t67\\t1\\n1901\\t78\\t1\\n1901\\t111\\t1\\n1901\\t83\\t1\\n1901\\t100\\t1\\n1901\\t111\\t1\\n1901\\t100\\t1\\n1901\\t100\\t1\\n1901\\t111\\t1\\n1901\\t94\\t1\\n1901\\t100\\t1\\n1901\\t122\\t1\\n1901\\t100\\t1\\n1901\\t83\\t1\\n1901\\t106\\t1\\n1901\\t83\\t1\\n1901\\t100\\t1\\n1901\\t133\\t1\\n1901\\t117\\t1\\n1901\\t128\\t1\\n1901\\t161\\t1\\n1901\\t156\\t1\\n1901\\t172\\t1\\n1901\\t200\\t1\\n1901\\t183\\t1\\n1901\\t172\\t1\\n1901\\t194\\t1\\n1901\\t144\\t1\\n1901\\t150\\t1\\n1901\\t178\\t1\\n1901\\t144\\t1\\n1901\\t133\\t1\\n1901\\t128\\t1\\n1901\\t111\\t1\\n1901\\t111\\t1\\n1901\\t128\\t1\\n1901\\t100\\t1\\n1901\\t100\\t1\\n1901\\t111\\t1\\n1901\\t94\\t1\\n1901\\t106\\t1\\n1901\\t128\\t1\\n1901\\t117\\t1\\n1901\\t111\\t1\\n1901\\t128\\t1\\n1901\\t111\\t1\\n1901\\t111\\t1\\n1901\\t111\\t1\\n1901\\t117\\t1\\n1901\\t111\\t1\\n1901\\t117\\t1\\n1901\\t122\\t1\\n1901\\t111\\t1\\n1901\\t122\\t1\\n1901\\t133\\t1\\n1901\\t122\\t1\\n1901\\t128\\t1\\n1901\\t128\\t1\\n1901\\t150\\t1\\n1901\\t161\\t1\\n1901\\t133\\t1\\n1901\\t139\\t1\\n1901\\t172\\t1\\n1901\\t156\\t1\\n1901\\t133\\t1\\n1901\\t144\\t1\\n1901\\t139\\t1\\n1901\\t133\\t1\\n1901\\t167\\t1\\n1901\\t150\\t1\\n1901\\t133\\t1\\n1901\\t178\\t1\\n1901\\t161\\t1\\n1901\\t172\\t1\\n1901\\t167\\t1\\n1901\\t161\\t1\\n1901\\t150\\t1\\n1901\\t144\\t1\\n1901\\t150\\t1\\n1901\\t156\\t1\\n1901\\t178\\t1\\n1901\\t161\\t1\\n1901\\t178\\t1\\n1901\\t167\\t1\\n1901\\t172\\t1\\n1901\\t156\\t1\\n1901\\t161\\t1\\n1901\\t150\\t1\\n1901\\t167\\t1\\n1901\\t161\\t1\\n1901\\t156\\t1\\n1901\\t161\\t1\\n1901\\t189\\t1\\n1901\\t144\\t1\\n1901\\t156\\t1\\n1901\\t178\\t1\\n1901\\t167\\t1\\n1901\\t172\\t1\\n1901\\t200\\t1\\n1901\\t194\\t1\\n1901\\t183\\t1\\n1901\\t211\\t1\\n1901\\t178\\t1\\n1901\\t178\\t1\\n1901\\t200\\t1\\n1901\\t183\\t1\\n1901\\t178\\t1\\n1901\\t206\\t1\\n1901\\t194\\t1\\n1901\\t183\\t1\\n1901\\t239\\t1\\n1901\\t222\\t1\\n1901\\t200\\t1\\n1901\\t222\\t1\\n1901\\t194\\t1\\n1901\\t200\\t1\\n1901\\t222\\t1\\n1901\\t206\\t1\\n1901\\t200\\t1\\n1901\\t211\\t1\\n1901\\t194\\t1\\n1901\\t194\\t1\\n1901\\t206\\t1\\n1901\\t194\\t1\\n1901\\t194\\t1\\n1901\\t228\\t1\\n1901\\t206\\t1\\n1901\\t200\\t1\\n1901\\t217\\t1\\n1901\\t206\\t1\\n1901\\t189\\t1\\n1901\\t194\\t1\\n1901\\t194\\t1\\n1901\\t172\\t1\\n1901\\t194\\t1\\n1901\\t172\\t1\\n1901\\t150\\t1\\n1901\\t183\\t1\\n1901\\t172\\t1\\n1901\\t183\\t1\\n1901\\t211\\t1\\n1901\\t189\\t1\\n1901\\t133\\t1\\n1901\\t167\\t1\\n1901\\t156\\t1\\n1901\\t150\\t1\\n1901\\t189\\t1\\n1901\\t172\\t1\\n1901\\t161\\t1\\n1901\\t156\\t1\\n1901\\t156\\t1\\n1901\\t144\\t1\\n1901\\t167\\t1\\n1901\\t156\\t1\\n1901\\t144\\t1\\n1901\\t156\\t1\\n1901\\t150\\t1\\n1901\\t156\\t1\\n1901\\t172\\t1\\n1901\\t167\\t1\\n1901\\t144\\t1\\n1901\\t156\\t1\\n1901\\t144\\t1\\n1901\\t150\\t1\\n1901\\t200\\t1\\n1901\\t178\\t1\\n1901\\t183\\t1\\n1901\\t194\\t1\\n1901\\t167\\t1\\n1901\\t150\\t1\\n1901\\t161\\t1\\n1901\\t150\\t1\\n1901\\t156\\t1\\n1901\\t172\\t1\\n1901\\t178\\t1\\n1901\\t156\\t1\\n1901\\t167\\t1\\n1901\\t167\\t1\\n1901\\t178\\t1\\n1901\\t200\\t1\\n1901\\t178\\t1\\n1901\\t183\\t1\\n1901\\t217\\t1\\n1901\\t194\\t1\\n1901\\t183\\t1\\n1901\\t217\\t1\\n1901\\t183\\t1\\n1901\\t183\\t1\\n1901\\t183\\t1\\n1901\\t178\\t1\\n1901\\t172\\t1\\n1901\\t189\\t1\\n1901\\t161\\t1\\n1901\\t144\\t1\\n1901\\t156\\t1\\n1901\\t139\\t1\\n1901\\t139\\t1\\n1901\\t139\\t1\\n1901\\t133\\t1\\n1901\\t150\\t1\\n1901\\t161\\t1\\n1901\\t161\\t1\\n1901\\t161\\t1\\n1901\\t172\\t1\\n1901\\t161\\t1\\n1901\\t144\\t1\\n1901\\t150\\t1\\n1901\\t150\\t1\\n1901\\t139\\t1\\n1901\\t144\\t1\\n1901\\t128\\t1\\n1901\\t122\\t1\\n1901\\t150\\t1\\n1901\\t144\\t1\\n1901\\t133\\t1\\n1901\\t161\\t1\\n1901\\t156\\t1\\n1901\\t167\\t1\\n1901\\t183\\t1\\n1901\\t156\\t1\\n1901\\t133\\t1\\n1901\\t161\\t1\\n1901\\t133\\t1\\n1901\\t100\\t1\\n1901\\t133\\t1\\n1901\\t122\\t1\\n1901\\t117\\t1\\n1901\\t106\\t1\\n1901\\t106\\t1\\n1901\\t78\\t1\\n1901\\t100\\t1\\n1901\\t83\\t1\\n1901\\t56\\t1\\n1901\\t72\\t1\\n1901\\t89\\t1\\n1901\\t72\\t1\\n1901\\t89\\t1\\n1901\\t100\\t1\\n1901\\t94\\t1\\n1901\\t106\\t1\\n1901\\t106\\t1\\n1901\\t83\\t1\\n1901\\t106\\t1\\n1901\\t94\\t1\\n1901\\t83\\t1\\n1901\\t106\\t1\\n1901\\t100\\t1\\n1901\\t72\\t1\\n1901\\t111\\t1\\n1901\\t94\\t1\\n1901\\t78\\t1\\n1901\\t111\\t1\\n1901\\t94\\t1\\n1901\\t106\\t1\\n1901\\t117\\t1\\n1901\\t106\\t1\\n1901\\t94\\t1\\n1901\\t117\\t1\\n1901\\t100\\t1\\n1901\\t106\\t1\\n1901\\t106\\t1\\n1901\\t83\\t1\\n1901\\t94\\t1\\n1901\\t100\\t1\\n1901\\t89\\t1\\n1901\\t89\\t1\\n1901\\t106\\t1\\n1901\\t100\\t1\\n1901\\t100\\t1\\n1901\\t111\\t1\\n1901\\t111\\t1\\n1901\\t100\\t1\\n1901\\t111\\t1\\n1901\\t100\\t1\\n1901\\t100\\t1\\n1901\\t117\\t1\\n1901\\t106\\t1\\n1901\\t106\\t1\\n1901\\t122\\t1\\n1901\\t106\\t1\\n1901\\t106\\t1\\n1901\\t117\\t1\\n1901\\t106\\t1\\n1901\\t106\\t1\\n1901\\t117\\t1\\n1901\\t106\\t1\\n1901\\t111\\t1\\n1901\\t122\\t1\\n1901\\t106\\t1\\n1901\\t100\\t1\\n1901\\t94\\t1\\n1901\\t94\\t1\\n1901\\t83\\t1\\n1901\\t111\\t1\\n1901\\t106\\t1\\n1901\\t111\\t1\\n1901\\t111\\t1\\n1901\\t106\\t1\\n1901\\t111\\t1\\n1901\\t117\\t1\\n1901\\t111\\t1\\n1901\\t111\\t1\\n1901\\t106\\t1\\n1901\\t106\\t1\\n1901\\t111\\t1\\n1901\\t111\\t1\\n1901\\t100\\t1\\n1901\\t100\\t1\\n1901\\t117\\t1\\n1901\\t117\\t1\\n1901\\t100\\t1\\n1901\\t117\\t1\\n1901\\t117\\t1\\n1901\\t117\\t1\\n1901\\t117\\t1\\n1901\\t100\\t1\\n1901\\t106\\t1\\n1901\\t122\\t1\\n1901\\t117\\t1\\n1901\\t100\\t1\\n1901\\t94\\t1\\n1901\\t78\\t1\\n1901\\t67\\t1\\n1901\\t89\\t1\\n1901\\t94\\t1\\n1901\\t89\\t1\\n1901\\t111\\t1\\n1901\\t106\\t1\\n1901\\t111\\t1\\n1901\\t117\\t1\\n1901\\t111\\t1\\n1901\\t117\\t1\\n1901\\t117\\t1\\n1901\\t106\\t1\\n1901\\t117\\t1\\n1901\\t128\\t1\\n1901\\t111\\t1\\n1901\\t94\\t1\\n1901\\t106\\t1\\n1901\\t111\\t1\\n1901\\t94\\t1\\n1901\\t100\\t1\\n1901\\t78\\t1\\n1901\\t89\\t1\\n1901\\t89\\t1\\n1901\\t94\\t1\\n1901\\t83\\t1\\n1901\\t89\\t1\\n1901\\t89\\t1\\n1901\\t83\\t1\\n1901\\t111\\t1\\n1901\\t94\\t1\\n1901\\t78\\t1\\n1901\\t83\\t1\\n1901\\t72\\t1\\n1901\\t67\\t1\\n1901\\t89\\t1\\n1901\\t78\\t1\\n1901\\t50\\t1\\n1901\\t61\\t1\\n1901\\t61\\t1\\n1901\\t33\\t1\\n1901\\t67\\t1\\n1901\\t50\\t1\\n1901\\t67\\t1\\n1901\\t83\\t1\\n1901\\t78\\t1\\n1901\\t83\\t1\\n1901\\t89\\t1\\n1901\\t83\\t1\\n1901\\t78\\t1\\n1901\\t100\\t1\\n1901\\t94\\t1\\n1901\\t72\\t1\\n1901\\t78\\t1\\n1901\\t78\\t1\\n1901\\t78\\t1\\n1901\\t78\\t1\\n1901\\t78\\t1\\n1901\\t72\\t1\\n1901\\t94\\t1\\n1901\\t89\\t1\\n1901\\t83\\t1\\n1901\\t94\\t1\\n1901\\t89\\t1\\n1901\\t56\\t1\\n1901\\t50\\t1\\n1901\\t44\\t1\\n1901\\t61\\t1\\n1901\\t72\\t1\\n1901\\t72\\t1\\n1901\\t83\\t1\\n1901\\t78\\t1\\n1901\\t78\\t1\\n1901\\t72\\t1\\n1901\\t78\\t1\\n1901\\t72\\t1\\n1901\\t78\\t1\\n1901\\t78\\t1\\n1901\\t78\\t1\\n1901\\t83\\t1\\n1901\\t89\\t1\\n1901\\t83\\t1\\n1901\\t67\\t1\\n1901\\t67\\t1\\n1901\\t72\\t1\\n1901\\t61\\t1\\n1901\\t56\\t1\\n1901\\t39\\t1\\n1901\\t33\\t1\\n1901\\t61\\t1\\n1901\\t78\\t1\\n1901\\t67\\t1\\n1901\\t61\\t1\\n1901\\t78\\t1\\n1901\\t72\\t1\\n1901\\t78\\t1\\n1901\\t78\\t1\\n1901\\t33\\t1\\n1901\\t28\\t1\\n1901\\t33\\t1\\n1901\\t17\\t1\\n1901\\t28\\t1\\n1901\\t39\\t1\\n1901\\t67\\t1\\n1901\\t56\\t1\\n1901\\t39\\t1\\n1901\\t61\\t1\\n1901\\t56\\t1\\n1901\\t56\\t1\\n1901\\t50\\t1\\n1901\\t33\\t1\\n1901\\t22\\t1\\n1901\\t-17\\t1\\n1901\\t-6\\t1\\n1901\\t-11\\t1\\n1901\\t17\\t1\\n1901\\t-6\\t1\\n1901\\t0\\t1\\n1901\\t-6\\t1\\n1901\\t17\\t1\\n1901\\t-22\\t1\\n1901\\t-33\\t1\\n1901\\t-22\\t1\\n1901\\t-17\\t1\\n1901\\t-6\\t1\\n1901\\t-11\\t1\\n1901\\t-11\\t1\\n1901\\t-22\\t1\\n1901\\t-33\\t1\\n1901\\t-67\\t1\\n1901\\t-78\\t1\\n1901\\t-72\\t1\\n1901\\t-50\\t1\\n1901\\t-39\\t1\\n1901\\t-39\\t1\\n1901\\t-28\\t1\\n1901\\t-28\\t1\\n1901\\t-61\\t1\\n1901\\t6\\t1\\n1901\\t-6\\t1\\n1901\\t-17\\t1\\n1901\\t-22\\t1\\n1901\\t-11\\t1\\n1901\\t-17\\t1\\n1901\\t-17\\t1\\n1901\\t-22\\t1\\n1901\\t-33\\t1\\n1901\\t-33\\t1\\n1901\\t-44\\t1\\n1901\\t-39\\t1\\n1901\\t-33\\t1\\n1901\\t-22\\t1\\n1901\\t-22\\t1\\n1901\\t-22\\t1\\n1901\\t-50\\t1\\n1901\\t-61\\t1\\n1901\\t-56\\t1\\n1901\\t-33\\t1\\n1901\\t0\\t1\\n1901\\t-6\\t1\\n1901\\t-17\\t1\\n1901\\t-17\\t1\\n1901\\t-17\\t1\\n1901\\t22\\t1\\n1901\\t22\\t1\\n1901\\t22\\t1\\n1901\\t-33\\t1\\n1901\\t-28\\t1\\n1901\\t-22\\t1\\n1901\\t28\\t1\\n1901\\t33\\t1\\n1901\\t22\\t1\\n1901\\t-11\\t1\\n1901\\t-22\\t1\\n1901\\t-28\\t1\\n1901\\t-33\\t1\\n1901\\t-44\\t1\\n1901\\t-44\\t1\\n1901\\t-89\\t1\\n1901\\t-89\\t1\\n1901\\t-94\\t1\\n1901\\t-94\\t1\\n1901\\t-72\\t1\\n1901\\t-61\\t1\\n1901\\t-44\\t1\\n1901\\t-39\\t1\\n1901\\t-39\\t1\\n1901\\t-61\\t1\\n1901\\t-61\\t1\\n1901\\t-83\\t1\\n1901\\t-72\\t1\\n1901\\t-17\\t1\\n1901\\t-6\\t1\\n1901\\t6\\t1\\n1901\\t6\\t1\\n1901\\t-11\\t1\\n1901\\t0\\t1\\n1901\\t-17\\t1\\n1901\\t6\\t1\\n1901\\t0\\t1\\n1901\\t0\\t1\\n1901\\t0\\t1\\n1901\\t11\\t1\\n1901\\t11\\t1\\n1901\\t0\\t1\\n1901\\t-22\\t1\\n1901\\t-44\\t1\\n1901\\t-67\\t1\\n1901\\t-89\\t1\\n1901\\t-78\\t1\\n1901\\t-61\\t1\\n1901\\t-67\\t1\\n1901\\t-56\\t1\\n1901\\t-78\\t1\\n1901\\t-94\\t1\\n1901\\t-89\\t1\\n1901\\t-72\\t1\\n1901\\t-83\\t1\\n1901\\t-72\\t1\\n1901\\t-50\\t1\\n1901\\t-44\\t1\\n1901\\t-39\\t1\\n1901\\t-44\\t1\\n1901\\t-72\\t1\\n1901\\t-89\\t1\\n1901\\t-111\\t1\\n1901\\t-78\\t1\\n1901\\t-78\\t1\\n1901\\t-78\\t1\\n1901\\t-94\\t1\\n1901\\t-100\\t1\\n1901\\t-122\\t1\\n1901\\t-128\\t1\\n1901\\t-139\\t1\\n1901\\t-111\\t1\\n1901\\t-111\\t1\\n1901\\t-89\\t1\\n1901\\t-83\\t1\\n1901\\t-67\\t1\\n1901\\t-44\\t1\\n1901\\t-44\\t1\\n1901\\t-39\\t1\\n1901\\t-50\\t1\\n1901\\t-50\\t1\\n1901\\t-83\\t1\\n1901\\t-94\\t1\\n1901\\t-94\\t1\\n1901\\t-122\\t1\\n1901\\t-128\\t1\\n1901\\t-144\\t1\\n1901\\t-100\\t1\\n1901\\t-83\\t1\\n1901\\t-94\\t1\\n1901\\t-106\\t1\\n1901\\t-106\\t1\\n1901\\t-117\\t1\\n1901\\t-144\\t1\\n1901\\t-161\\t1\\n1901\\t-167\\t1\\n1901\\t-156\\t1\\n1901\\t-128\\t1\\n1901\\t-117\\t1\\n1901\\t-117\\t1\\n1901\\t-117\\t1\\n1901\\t-117\\t1\\n1901\\t-128\\t1\\n1901\\t-122\\t1\\n1901\\t-122\\t1\\n1901\\t-106\\t1\\n1901\\t-106\\t1\\n1901\\t-89\\t1\\n1901\\t-72\\t1\\n1901\\t-72\\t1\\n1901\\t-83\\t1\\n1901\\t-144\\t1\\n1901\\t-100\\t1\\n1901\\t-67\\t1\\n1901\\t-39\\t1\\n1901\\t-22\\t1\\n1901\\t-17\\t1\\n1901\\t-22\\t1\\n1901\\t-22\\t1\\n1901\\t-11\\t1\\n1901\\t-6\\t1\\n1901\\t-11\\t1\\n1901\\t-6\\t1\\n1901\\t0\\t1\\n1901\\t6\\t1\\n1901\\t0\\t1\\n1901\\t0\\t1\\n1901\\t6\\t1\\n1901\\t0\\t1\\n1901\\t-39\\t1\\n1901\\t-44\\t1\\n1901\\t-39\\t1\\n1901\\t-22\\t1\\n1901\\t-11\\t1\\n1901\\t-17\\t1\\n1901\\t-22\\t1\\n1901\\t-17\\t1\\n1901\\t-11\\t1\\n1901\\t-11\\t1\\n1901\\t-6\\t1\\n1901\\t0\\t1\\n1901\\t-6\\t1\\n1901\\t0\\t1\\n1901\\t0\\t1\\n1901\\t6\\t1\\n1901\\t11\\t1\\n1901\\t0\\t1\\n1901\\t11\\t1\\n1901\\t11\\t1\\n1901\\t6\\t1\\n1901\\t-6\\t1\\n1901\\t-6\\t1\\n1901\\t-11\\t1\\n1901\\t-22\\t1\\n1901\\t-6\\t1\\n1901\\t-11\\t1\\n1901\\t11\\t1\\n1901\\t22\\t1\\n1901\\t11\\t1\\n1901\\t0\\t1\\n1901\\t-22\\t1\\n1901\\t-39\\t1\\n1901\\t-6\\t1\\n1901\\t0\\t1\\n1901\\t-39\\t1\\n1901\\t-33\\t1\\n1901\\t0\\t1\\n1901\\t0\\t1\\n1901\\t-6\\t1\\n1901\\t6\\t1\\n1901\\t-6\\t1\\n1901\\t-17\\t1\\n1901\\t-22\\t1\\n1901\\t-17\\t1\\n1901\\t-17\\t1\\n1901\\t17\\t1\\n1901\\t17\\t1\\n1901\\t22\\t1\\n1901\\t22\\t1\\n1901\\t17\\t1\\n1901\\t22\\t1\\n1901\\t22\\t1\\n1901\\t6\\t1\\n1901\\t6\\t1\\n1901\\t11\\t1\\n1901\\t17\\t1\\n1901\\t11\\t1\\n1901\\t6\\t1\\n1901\\t0\\t1\\n1901\\t-17\\t1\\n1901\\t-17\\t1\\n1901\\t-28\\t1\\n1901\\t-28\\t1\\n1901\\t-22\\t1\\n1901\\t-22\\t1\\n1901\\t-33\\t1\\n1901\\t-28\\t1\\n1901\\t-17\\t1\\n1901\\t-33\\t1\\n1901\\t-44\\t1\\n1901\\t-50\\t1\\n1901\\t-50\\t1\\n1901\\t-39\\t1\\n1901\\t-50\\t1\\n1901\\t-72\\t1\\n1901\\t-33\\t1\\n1901\\t-17\\t1\\n1901\\t-50\\t1\\n1901\\t-39\\t1\\n1901\\t-28\\t1\\n1901\\t-89\\t1\\n1901\\t-44\\t1\\n1901\\t-33\\t1\\n1901\\t-33\\t1\\n1901\\t-11\\t1\\n1901\\t-33\\t1\\n1901\\t-44\\t1\\n1901\\t-28\\t1\\n1901\\t-33\\t1\\n1901\\t-50\\t1\\n1901\\t-39\\t1\\n1901\\t-33\\t1\\n1901\\t-6\\t1\\n1901\\t-22\\t1\\n1901\\t-22\\t1\\n1901\\t-22\\t1\\n1901\\t-22\\t1\\n1901\\t-17\\t1\\n1901\\t-11\\t1\\n1901\\t-11\\t1\\n1901\\t-56\\t1\\n1901\\t-50\\t1\\n1901\\t-83\\t1\\n1901\\t-100\\t1\\n1901\\t-161\\t1\\n1901\\t-117\\t1\\n1901\\t-78\\t1\\n1901\\t-100\\t1\\n1901\\t-100\\t1\\n1901\\t-111\\t1\\n1901\\t-122\\t1\\n1901\\t-83\\t1\\n1901\\t-100\\t1\\n1901\\t-122\\t1\\n1901\\t-89\\t1\\n1901\\t-150\\t1\\n1901\\t-222\\t1\\n1901\\t-222\\t1\\n1901\\t-183\\t1\\n1901\\t-56\\t1\\n1901\\t-33\\t1\\n1901\\t-78\\t1\\n1901\\t-83\\t1\\n1901\\t-83\\t1\\n1901\\t-150\\t1\\n1901\\t-189\\t1\\n1901\\t-89\\t1\\n1901\\t-117\\t1\\n1901\\t-100\\t1\\n1901\\t-89\\t1\\n1901\\t-100\\t1\\n1901\\t-106\\t1\\n1901\\t-56\\t1\\n1901\\t-100\\t1\\n1901\\t-72\\t1\\n1901\\t-22\\t1\\n1901\\t-44\\t1\\n1901\\t-106\\t1\\n1901\\t-78\\t1\\n1901\\t-89\\t1\\n1901\\t-28\\t1\\n1901\\t-67\\t1\\n1901\\t-89\\t1\\n1901\\t-150\\t1\\n1901\\t-133\\t1\\n1901\\t-133\\t1\\n1901\\t-78\\t1\\n1901\\t-22\\t1\\n1901\\t-50\\t1\\n1901\\t-78\\t1\\n1901\\t-61\\t1\\n1901\\t-89\\t1\\n1901\\t-44\\t1\\n1901\\t-17\\t1\\n1901\\t-17\\t1\\n1901\\t-56\\t1\\n1901\\t-67\\t1\\n1901\\t-144\\t1\\n1901\\t-194\\t1\\n1901\\t-100\\t1\\n1901\\t-178\\t1\\n1901\\t-211\\t1\\n1901\\t-122\\t1\\n1901\\t-150\\t1\\n1901\\t-144\\t1\\n1901\\t-106\\t1\\n1901\\t-100\\t1\\n1901\\t-67\\t1\\n1901\\t0\\t1\\n1901\\t-28\\t1\\n1901\\t-28\\t1\\n1901\\t6\\t1\\n1901\\t0\\t1\\n1901\\t6\\t1\\n1901\\t17\\t1\\n1901\\t-6\\t1\\n1901\\t6\\t1\\n1901\\t17\\t1\\n1901\\t-11\\t1\\n1901\\t-28\\t1\\n1901\\t0\\t1\\n1901\\t-33\\t1\\n1901\\t-94\\t1\\n1901\\t-6\\t1\\n1901\\t-6\\t1\\n1901\\t6\\t1\\n1901\\t17\\t1\\n1901\\t-11\\t1\\n1901\\t0\\t1\\n1901\\t17\\t1\\n1901\\t22\\t1\\n1901\\t-39\\t1\\n1901\\t-11\\t1\\n1901\\t-50\\t1\\n1901\\t-78\\t1\\n1901\\t17\\t1\\n1901\\t11\\t1\\n1901\\t-56\\t1\\n1901\\t39\\t1\\n1901\\t-28\\t1\\n1901\\t-67\\t1\\n1901\\t50\\t1\\n1901\\t-33\\t1\\n1901\\t-67\\t1\\n1901\\t6\\t1\\n1901\\t-11\\t1\\n1901\\t0\\t1\\n1901\\t17\\t1\\n1901\\t-50\\t1\\n1901\\t-94\\t1\\n1901\\t-22\\t1\\n1901\\t-100\\t1\\n1901\\t-122\\t1\\n1901\\t-17\\t1\\n1901\\t-61\\t1\\n1901\\t-50\\t1\\n1901\\t-28\\t1\\n1901\\t-61\\t1\\n1901\\t-106\\t1\\n1901\\t-50\\t1\\n1901\\t-94\\t1\\n1901\\t-100\\t1\\n1901\\t-17\\t1\\n1901\\t-50\\t1\\n1901\\t-39\\t1\\n1901\\t11\\t1\\n1901\\t-6\\t1\\n1901\\t-22\\t1\\n1901\\t22\\t1\\n1901\\t-50\\t1\\n1901\\t-117\\t1\\n1901\\t-89\\t1\\n1901\\t-122\\t1\\n1901\\t-111\\t1\\n1901\\t-83\\t1\\n1901\\t-117\\t1\\n1901\\t-111\\t1\\n1901\\t-67\\t1\\n1901\\t-128\\t1\\n1901\\t-100\\t1\\n1901\\t-6\\t1\\n1901\\t-94\\t1\\n1901\\t-156\\t1\\n1901\\t-39\\t1\\n1901\\t-106\\t1\\n1901\\t-150\\t1\\n1901\\t-17\\t1\\n1901\\t-83\\t1\\n1901\\t-122\\t1\\n1901\\t-11\\t1\\n1901\\t-39\\t1\\n1901\\t6\\t1\\n1901\\t22\\t1\\n1901\\t11\\t1\\n1901\\t6\\t1\\n1901\\t39\\t1\\n1901\\t11\\t1\\n1901\\t-6\\t1\\n1901\\t39\\t1\\n1901\\t11\\t1\\n1901\\t17\\t1\\n1901\\t39\\t1\\n1901\\t22\\t1\\n1901\\t6\\t1\\n1901\\t17\\t1\\n1901\\t11\\t1\\n1901\\t-11\\t1\\n1901\\t17\\t1\\n1901\\t-17\\t1\\n1901\\t0\\t1\\n1901\\t11\\t1\\n1901\\t-28\\t1\\n1901\\t-28\\t1\\n1901\\t39\\t1\\n1901\\t0\\t1\\n1901\\t6\\t1\\n1901\\t39\\t1\\n1901\\t17\\t1\\n1901\\t11\\t1\\n1901\\t22\\t1\\n1901\\t0\\t1\\n1901\\t6\\t1\\n1901\\t50\\t1\\n1901\\t-11\\t1\\n1901\\t0\\t1\\n1901\\t11\\t1\\n1901\\t6\\t1\\n1901\\t-6\\t1\\n1901\\t44\\t1\\n1901\\t0\\t1\\n1901\\t-6\\t1\\n1901\\t28\\t1\\n1901\\t0\\t1\\n1901\\t-33\\t1\\n1901\\t0\\t1\\n1901\\t-28\\t1\\n1901\\t-28\\t1\\n1901\\t11\\t1\\n1901\\t0\\t1\\n1901\\t6\\t1\\n1901\\t6\\t1\\n1901\\t6\\t1\\n1901\\t-6\\t1\\n1901\\t6\\t1\\n1901\\t-22\\t1\\n1901\\t0\\t1\\n1901\\t28\\t1\\n1901\\t0\\t1\\n1901\\t-6\\t1\\n1901\\t6\\t1\\n1901\\t0\\t1\\n1901\\t-11\\t1\\n1901\\t17\\t1\\n1901\\t0\\t1\\n1901\\t0\\t1\\n1901\\t39\\t1\\n1901\\t6\\t1\\n1901\\t17\\t1\\n1901\\t50\\t1\\n1901\\t11\\t1\\n1901\\t22\\t1\\n1901\\t33\\t1\\n1901\\t22\\t1\\n1901\\t28\\t1\\n1901\\t33\\t1\\n1901\\t28\\t1\\n1901\\t28\\t1\\n1901\\t61\\t1\\n1901\\t61\\t1\\n1901\\t44\\t1\\n1901\\t72\\t1\\n1901\\t39\\t1\\n1901\\t39\\t1\\n1901\\t67\\t1\\n1901\\t44\\t1\\n1901\\t39\\t1\\n1901\\t89\\t1\\n1901\\t50\\t1\\n1901\\t56\\t1\\n1901\\t83\\t1\\n1901\\t78\\t1\\n1901\\t39\\t1\\n1901\\t61\\t1\\n1901\\t39\\t1\\n1901\\t50\\t1\\n1901\\t83\\t1\\n1901\\t50\\t1\\n1901\\t39\\t1\\n1901\\t50\\t1\\n1901\\t39\\t1\\n1901\\t28\\t1\\n1901\\t22\\t1\\n1901\\t0\\t1\\n1901\\t-17\\t1\\n1901\\t-11\\t1\\n1901\\t-6\\t1\\n1901\\t-6\\t1\\n1901\\t0\\t1\\n1901\\t-17\\t1\\n1901\\t6\\t1\\n1901\\t17\\t1\\n1901\\t0\\t1\\n1901\\t17\\t1\\n1901\\t28\\t1\\n1901\\t28\\t1\\n1901\\t44\\t1\\n1901\\t122\\t1\\n1901\\t94\\t1\\n1901\\t78\\t1\\n1901\\t178\\t1\\n1901\\t117\\t1\\n1901\\t122\\t1\\n1901\\t144\\t1\\n1901\\t78\\t1\\n1901\\t122\\t1\\n1901\\t144\\t1\\n1901\\t100\\t1\\n1901\\t89\\t1\\n1901\\t100\\t1\\n1901\\t100\\t1\\n1901\\t133\\t1\\n1901\\t133\\t1\\n1901\\t122\\t1\\n1901\\t106\\t1\\n1901\\t111\\t1\\n1901\\t89\\t1\\n1901\\t56\\t1\\n1901\\t50\\t1\\n1901\\t28\\t1\\n1901\\t44\\t1\\n1901\\t39\\t1\\n1901\\t22\\t1\\n1901\\t33\\t1\\n1901\\t28\\t1\\n1901\\t28\\t1\\n1901\\t56\\t1\\n1901\\t50\\t1\\n1901\\t33\\t1\\n1901\\t44\\t1\\n1901\\t50\\t1\\n1901\\t44\\t1\\n1901\\t56\\t1\\n1901\\t78\\t1\\n1901\\t61\\t1\\n1901\\t72\\t1\\n1901\\t106\\t1\\n1901\\t72\\t1\\n1901\\t83\\t1\\n1901\\t94\\t1\\n1901\\t56\\t1\\n1901\\t61\\t1\\n1901\\t67\\t1\\n1901\\t56\\t1\\n1901\\t72\\t1\\n1901\\t78\\t1\\n1901\\t72\\t1\\n1901\\t67\\t1\\n1901\\t100\\t1\\n1901\\t72\\t1\\n1901\\t67\\t1\\n1901\\t72\\t1\\n1901\\t67\\t1\\n1901\\t67\\t1\\n1901\\t89\\t1\\n1901\\t100\\t1\\n1901\\t83\\t1\\n1901\\t106\\t1\\n1901\\t83\\t1\\n1901\\t56\\t1\\n1901\\t78\\t1\\n1901\\t61\\t1\\n1901\\t94\\t1\\n1901\\t128\\t1\\n1901\\t94\\t1\\n1901\\t94\\t1\\n1901\\t117\\t1\\n1901\\t111\\t1\\n1901\\t117\\t1\\n1901\\t117\\t1\\n1901\\t94\\t1\\n1901\\t89\\t1\\n1901\\t111\\t1\\n1901\\t83\\t1\\n1901\\t83\\t1\\n1901\\t83\\t1\\n1901\\t83\\t1\\n1901\\t156\\t1\\n1901\\t144\\t1\\n1901\\t111\\t1\\n1901\\t150\\t1\\n1901\\t150\\t1\\n1901\\t139\\t1\\n1901\\t133\\t1\\n1901\\t144\\t1\\n1901\\t133\\t1\\n1901\\t172\\t1\\n1901\\t156\\t1\\n1901\\t156\\t1\\n1901\\t189\\t1\\n1901\\t183\\t1\\n1901\\t189\\t1\\n1901\\t150\\t1\\n1901\\t156\\t1\\n1901\\t122\\t1\\n1901\\t122\\t1\\n1901\\t133\\t1\\n1901\\t122\\t1\\n1901\\t100\\t1\\n1901\\t122\\t1\\n1901\\t94\\t1\\n1901\\t94\\t1\\n1901\\t128\\t1\\n1901\\t117\\t1\\n1901\\t89\\t1\\n1901\\t72\\t1\\n1901\\t94\\t1\\n1901\\t94\\t1\\n1901\\t156\\t1\\n1901\\t122\\t1\\n1901\\t128\\t1\\n1901\\t122\\t1\\n1901\\t122\\t1\\n1901\\t150\\t1\\n1901\\t189\\t1\\n1901\\t133\\t1\\n1901\\t156\\t1\\n1901\\t222\\t1\\n1901\\t167\\t1\\n1901\\t128\\t1\\n1901\\t161\\t1\\n1901\\t128\\t1\\n1901\\t128\\t1\\n1901\\t172\\t1\\n1901\\t139\\t1\\n1901\\t133\\t1\\n1901\\t122\\t1\\n1901\\t156\\t1\\n1901\\t139\\t1\\n1901\\t150\\t1\\n1901\\t167\\t1\\n1901\\t150\\t1\\n1901\\t183\\t1\\n1901\\t167\\t1\\n1901\\t200\\t1\\n1901\\t278\\t1\\n1901\\t228\\t1\\n1901\\t200\\t1\\n1901\\t244\\t1\\n1901\\t211\\t1\\n1901\\t194\\t1\\n1901\\t200\\t1\\n1901\\t156\\t1\\n1901\\t139\\t1\\n1901\\t150\\t1\\n1901\\t122\\t1\\n1901\\t106\\t1\\n1901\\t128\\t1\\n1901\\t122\\t1\\n1901\\t133\\t1\\n1901\\t139\\t1\\n1901\\t144\\t1\\n1901\\t150\\t1\\n1901\\t150\\t1\\n1901\\t122\\t1\\n1901\\t133\\t1\\n1901\\t139\\t1\\n1901\\t133\\t1\\n1901\\t133\\t1\\n1901\\t139\\t1\\n1901\\t122\\t1\\n1901\\t117\\t1\\n1901\\t128\\t1\\n1901\\t117\\t1\\n1901\\t106\\t1\\n1901\\t117\\t1\\n1901\\t94\\t1\\n1901\\t100\\t1\\n1901\\t128\\t1\\n1901\\t100\\t1\\n1901\\t106\\t1\\n1901\\t150\\t1\\n1901\\t133\\t1\\n1901\\t139\\t1\\n1901\\t144\\t1\\n1901\\t122\\t1\\n1901\\t122\\t1\\n1901\\t144\\t1\\n1901\\t133\\t1\\n1901\\t128\\t1\\n1901\\t139\\t1\\n1901\\t117\\t1\\n1901\\t178\\t1\\n1901\\t172\\t1\\n1901\\t178\\t1\\n1901\\t183\\t1\\n1901\\t178\\t1\\n1901\\t150\\t1\\n1901\\t150\\t1\\n1901\\t161\\t1\\n1901\\t150\\t1\\n1901\\t150\\t1\\n1901\\t178\\t1\\n1901\\t167\\t1\\n1901\\t167\\t1\\n1901\\t194\\t1\\n1901\\t150\\t1\\n1901\\t167\\t1\\n1901\\t172\\t1\\n1901\\t167\\t1\\n1901\\t183\\t1\\n1901\\t211\\t1\\n1901\\t156\\t1\\n1901\\t156\\t1\\n1901\\t161\\t1\\n1901\\t144\\t1\\n1901\\t172\\t1\\n1901\\t206\\t1\\n1901\\t167\\t1\\n1901\\t183\\t1\\n1901\\t206\\t1\\n1901\\t200\\t1\\n1901\\t206\\t1\\n1901\\t222\\t1\\n1901\\t217\\t1\\n1901\\t217\\t1\\n1901\\t233\\t1\\n1901\\t217\\t1\\n1901\\t211\\t1\\n1901\\t233\\t1\\n1901\\t200\\t1\\n1901\\t200\\t1\\n1901\\t244\\t1\\n1901\\t233\\t1\\n1901\\t194\\t1\\n1901\\t267\\t1\\n1901\\t211\\t1\\n1901\\t200\\t1\\n1901\\t233\\t1\\n1901\\t211\\t1\\n1901\\t206\\t1\\n1901\\t244\\t1\\n1901\\t217\\t1\\n1901\\t211\\t1\\n1901\\t233\\t1\\n1901\\t206\\t1\\n1901\\t217\\t1\\n1901\\t244\\t1\\n1901\\t217\\t1\\n1901\\t222\\t1\\n1901\\t244\\t1\\n1901\\t211\\t1\\n1901\\t222\\t1\\n1901\\t217\\t1\\n1901\\t194\\t1\\n1901\\t206\\t1\\n1901\\t200\\t1\\n1901\\t189\\t1\\n1901\\t178\\t1\\n1901\\t189\\t1\\n1901\\t178\\t1\\n1901\\t194\\t1\\n1901\\t239\\t1\\n1901\\t200\\t1\\n1901\\t150\\t1\\n1901\\t156\\t1\\n1901\\t150\\t1\\n1901\\t178\\t1\\n1901\\t206\\t1\\n1901\\t172\\t1\\n1901\\t167\\t1\\n1901\\t200\\t1\\n1901\\t178\\t1\\n1901\\t178\\t1\\n1901\\t194\\t1\\n1901\\t150\\t1\\n1901\\t156\\t1\\n1901\\t183\\t1\\n1901\\t150\\t1\\n1901\\t161\\t1\\n1901\\t178\\t1\\n1901\\t144\\t1\\n1901\\t161\\t1\\n1901\\t172\\t1\\n1901\\t167\\t1\\n1901\\t178\\t1\\n1901\\t217\\t1\\n1901\\t178\\t1\\n1901\\t189\\t1\\n1901\\t217\\t1\\n1901\\t183\\t1\\n1901\\t194\\t1\\n1901\\t222\\t1\\n1901\\t178\\t1\\n1901\\t189\\t1\\n1901\\t217\\t1\\n1901\\t206\\t1\\n1901\\t200\\t1\\n1901\\t228\\t1\\n1901\\t206\\t1\\n1901\\t189\\t1\\n1901\\t278\\t1\\n1901\\t217\\t1\\n1901\\t206\\t1\\n1901\\t250\\t1\\n1901\\t217\\t1\\n1901\\t194\\t1\\n1901\\t278\\t1\\n1901\\t206\\t1\\n1901\\t183\\t1\\n1901\\t183\\t1\\n1901\\t172\\t1\\n1901\\t183\\t1\\n1901\\t189\\t1\\n1901\\t156\\t1\\n1901\\t161\\t1\\n1901\\t183\\t1\\n1901\\t156\\t1\\n1901\\t139\\t1\\n1901\\t167\\t1\\n1901\\t161\\t1\\n1901\\t167\\t1\\n1901\\t178\\t1\\n1901\\t150\\t1\\n1901\\t183\\t1\\n1901\\t183\\t1\\n1901\\t150\\t1\\n1901\\t150\\t1\\n1901\\t144\\t1\\n1901\\t139\\t1\\n1901\\t128\\t1\\n1901\\t133\\t1\\n1901\\t100\\t1\\n1901\\t128\\t1\\n1901\\t161\\t1\\n1901\\t139\\t1\\n1901\\t144\\t1\\n1901\\t222\\t1\\n1901\\t172\\t1\\n1901\\t144\\t1\\n1901\\t183\\t1\\n1901\\t133\\t1\\n1901\\t128\\t1\\n1901\\t117\\t1\\n1901\\t122\\t1\\n1901\\t122\\t1\\n1901\\t156\\t1\\n1901\\t133\\t1\\n1901\\t106\\t1\\n1901\\t139\\t1\\n1901\\t122\\t1\\n1901\\t78\\t1\\n1901\\t111\\t1\\n1901\\t94\\t1\\n1901\\t72\\t1\\n1901\\t94\\t1\\n1901\\t61\\t1\\n1901\\t67\\t1\\n1901\\t83\\t1\\n1901\\t67\\t1\\n1901\\t67\\t1\\n1901\\t94\\t1\\n1901\\t72\\t1\\n1901\\t72\\t1\\n1901\\t89\\t1\\n1901\\t67\\t1\\n1901\\t61\\t1\\n1901\\t94\\t1\\n1901\\t67\\t1\\n1901\\t89\\t1\\n1901\\t122\\t1\\n1901\\t72\\t1\\n1901\\t67\\t1\\n1901\\t133\\t1\\n1901\\t78\\t1\\n1901\\t72\\t1\\n1901\\t133\\t1\\n1901\\t78\\t1\\n1901\\t83\\t1\\n1901\\t133\\t1\\n1901\\t83\\t1\\n1901\\t83\\t1\\n1901\\t150\\t1\\n1901\\t94\\t1\\n1901\\t78\\t1\\n1901\\t133\\t1\\n1901\\t83\\t1\\n1901\\t72\\t1\\n1901\\t111\\t1\\n1901\\t78\\t1\\n1901\\t72\\t1\\n1901\\t78\\t1\\n1901\\t106\\t1\\n1901\\t94\\t1\\n1901\\t128\\t1\\n1901\\t100\\t1\\n1901\\t106\\t1\\n1901\\t122\\t1\\n1901\\t106\\t1\\n1901\\t122\\t1\\n1901\\t161\\t1\\n1901\\t133\\t1\\n1901\\t128\\t1\\n1901\\t139\\t1\\n1901\\t117\\t1\\n1901\\t117\\t1\\n1901\\t128\\t1\\n1901\\t111\\t1\\n1901\\t117\\t1\\n1901\\t139\\t1\\n1901\\t100\\t1\\n1901\\t117\\t1\\n1901\\t150\\t1\\n1901\\t111\\t1\\n1901\\t117\\t1\\n1901\\t156\\t1\\n1901\\t106\\t1\\n1901\\t106\\t1\\n1901\\t133\\t1\\n1901\\t117\\t1\\n1901\\t122\\t1\\n1901\\t172\\t1\\n1901\\t128\\t1\\n1901\\t128\\t1\\n1901\\t156\\t1\\n1901\\t122\\t1\\n1901\\t122\\t1\\n1901\\t139\\t1\\n1901\\t106\\t1\\n1901\\t122\\t1\\n1901\\t128\\t1\\n1901\\t122\\t1\\n1901\\t128\\t1\\n1901\\t139\\t1\\n1901\\t133\\t1\\n1901\\t128\\t1\\n1901\\t156\\t1\\n1901\\t122\\t1\\n1901\\t128\\t1\\n1901\\t150\\t1\\n1901\\t128\\t1\\n1901\\t122\\t1\\n1901\\t128\\t1\\n1901\\t106\\t1\\n1901\\t78\\t1\\n1901\\t139\\t1\\n1901\\t106\\t1\\n1901\\t106\\t1\\n1901\\t133\\t1\\n1901\\t122\\t1\\n1901\\t117\\t1\\n1901\\t133\\t1\\n1901\\t122\\t1\\n1901\\t122\\t1\\n1901\\t133\\t1\\n1901\\t128\\t1\\n1901\\t133\\t1\\n1901\\t122\\t1\\n1901\\t106\\t1\\n1901\\t89\\t1\\n1901\\t117\\t1\\n1901\\t122\\t1\\n1901\\t83\\t1\\n1901\\t83\\t1\\n1901\\t78\\t1\\n1901\\t83\\t1\\n1901\\t111\\t1\\n1901\\t106\\t1\\n1901\\t106\\t1\\n1901\\t117\\t1\\n1901\\t100\\t1\\n1901\\t100\\t1\\n1901\\t122\\t1\\n1901\\t106\\t1\\n1901\\t94\\t1\\n1901\\t111\\t1\\n1901\\t67\\t1\\n1901\\t50\\t1\\n1901\\t100\\t1\\n1901\\t50\\t1\\n1901\\t67\\t1\\n1901\\t94\\t1\\n1901\\t67\\t1\\n1901\\t72\\t1\\n1901\\t78\\t1\\n1901\\t72\\t1\\n1901\\t89\\t1\\n1901\\t106\\t1\\n1901\\t94\\t1\\n1901\\t94\\t1\\n1901\\t100\\t1\\n1901\\t94\\t1\\n1901\\t100\\t1\\n1901\\t100\\t1\\n1901\\t78\\t1\\n1901\\t89\\t1\\n1901\\t100\\t1\\n1901\\t83\\t1\\n1901\\t78\\t1\\n1901\\t83\\t1\\n1901\\t83\\t1\\n1901\\t100\\t1\\n1901\\t94\\t1\\n1901\\t78\\t1\\n1901\\t100\\t1\\n1901\\t100\\t1\\n1901\\t100\\t1\\n1901\\t94\\t1\\n1901\\t106\\t1\\n1901\\t61\\t1\\n1901\\t61\\t1\\n1901\\t94\\t1\\n1901\\t89\\t1\\n1901\\t89\\t1\\n1901\\t100\\t1\\n1901\\t89\\t1\\n1901\\t78\\t1\\n1901\\t83\\t1\\n1901\\t94\\t1\\n1901\\t83\\t1\\n1901\\t94\\t1\\n1901\\t83\\t1\\n1901\\t100\\t1\\n1901\\t111\\t1\\n1901\\t106\\t1\\n1901\\t78\\t1\\n1901\\t78\\t1\\n1901\\t72\\t1\\n1901\\t78\\t1\\n1901\\t67\\t1\\n1901\\t56\\t1\\n1901\\t39\\t1\\n1901\\t78\\t1\\n1901\\t83\\t1\\n1901\\t78\\t1\\n1901\\t78\\t1\\n1901\\t78\\t1\\n1901\\t72\\t1\\n1901\\t83\\t1\\n1901\\t78\\t1\\n1901\\t78\\t1\\n1901\\t89\\t1\\n1901\\t39\\t1\\n1901\\t-6\\t1\\n1901\\t17\\t1\\n1901\\t50\\t1\\n1901\\t61\\t1\\n1901\\t61\\t1\\n1901\\t50\\t1\\n1901\\t50\\t1\\n1901\\t72\\t1\\n1901\\t67\\t1\\n1901\\t50\\t1\\n1901\\t44\\t1\\n1901\\t44\\t1\\n1901\\t28\\t1\\n1901\\t11\\t1\\n1901\\t-17\\t1\\n1901\\t17\\t1\\n1901\\t17\\t1\\n1901\\t6\\t1\\n1901\\t28\\t1\\n1901\\t28\\t1\\n1901\\t11\\t1\\n1901\\t-39\\t1\\n1901\\t-44\\t1\\n1901\\t-28\\t1\\n1901\\t-17\\t1\\n1901\\t-17\\t1\\n1901\\t22\\t1\\n1901\\t-83\\t1\\n1901\\t-78\\t1\\n1901\\t-78\\t1\\n1901\\t-67\\t1\\n1901\\t-44\\t1\\n1901\\t-39\\t1\\n1901\\t-56\\t1\\n1901\\t-56\\t1\\n1901\\t-33\\t1\\n1901\\t-17\\t1\\n1901\\t-6\\t1\\n1901\\t6\\t1\\n1901\\t22\\t1\\n1901\\t11\\t1\\n1901\\t6\\t1\\n1901\\t0\\t1\\n1901\\t-17\\t1\\n1901\\t-22\\t1\\n1901\\t-61\\t1\\n1901\\t-17\\t1\\n1901\\t-22\\t1\\n1901\\t-11\\t1\\n1901\\t-11\\t1\\n1901\\t0\\t1\\n1901\\t0\\t1\\n1901\\t0\\t1\\n1901\\t-6\\t1\\n1901\\t0\\t1\\n1901\\t-39\\t1\\n1901\\t-72\\t1\\n1901\\t-44\\t1\\n1901\\t17\\t1\\n1901\\t33\\t1\\n1901\\t-22\\t1\\n1901\\t-22\\t1\\n1901\\t0\\t1\\n1901\\t11\\t1\\n1901\\t22\\t1\\n1901\\t44\\t1\\n1901\\t22\\t1\\n1901\\t0\\t1\\n1901\\t-44\\t1\\n1901\\t22\\t1\\n1901\\t22\\t1\\n1901\\t28\\t1\\n1901\\t17\\t1\\n1901\\t-6\\t1\\n1901\\t-17\\t1\\n1901\\t-28\\t1\\n1901\\t-28\\t1\\n1901\\t-39\\t1\\n1901\\t-72\\t1\\n1901\\t-83\\t1\\n1901\\t-89\\t1\\n1901\\t-94\\t1\\n1901\\t-67\\t1\\n1901\\t-61\\t1\\n1901\\t-28\\t1\\n1901\\t-6\\t1\\n1901\\t-6\\t1\\n1901\\t-28\\t1\\n1901\\t-39\\t1\\n1901\\t-50\\t1\\n1901\\t-72\\t1\\n1901\\t-72\\t1\\n1901\\t-17\\t1\\n1901\\t-17\\t1\\n1901\\t0\\t1\\n1901\\t-6\\t1\\n1901\\t17\\t1\\n1901\\t17\\t1\\n1901\\t6\\t1\\n1901\\t0\\t1\\n1901\\t17\\t1\\n1901\\t11\\t1\\n1901\\t11\\t1\\n1901\\t11\\t1\\n1901\\t-22\\t1\\n1901\\t-33\\t1\\n1901\\t-17\\t1\\n1901\\t-39\\t1\\n1901\\t-117\\t1\\n1901\\t-111\\t1\\n1901\\t-106\\t1\\n1901\\t-111\\t1\\n1901\\t-94\\t1\\n1901\\t-89\\t1\\n1901\\t-83\\t1\\n1901\\t-83\\t1\\n1901\\t-128\\t1\\n1901\\t-106\\t1\\n1901\\t-106\\t1\\n1901\\t-122\\t1\\n1901\\t-94\\t1\\n1901\\t-72\\t1\\n1901\\t-83\\t1\\n1901\\t-89\\t1\\n1901\\t-78\\t1\\n1901\\t-83\\t1\\n1901\\t-78\\t1\\n1901\\t-72\\t1\\n1901\\t-83\\t1\\n1901\\t-94\\t1\\n1901\\t-78\\t1\\n1901\\t-50\\t1\\n1901\\t-78\\t1\\n1901\\t-106\\t1\\n1901\\t-72\\t1\\n1901\\t-78\\t1\\n1901\\t-56\\t1\\n1901\\t-44\\t1\\n1901\\t-44\\t1\\n1901\\t-39\\t1\\n1901\\t-39\\t1\\n1901\\t-28\\t1\\n1901\\t-22\\t1\\n1901\\t-28\\t1\\n1901\\t-39\\t1\\n1901\\t-67\\t1\\n1901\\t-106\\t1\\n1901\\t-139\\t1\\n1901\\t-161\\t1\\n1901\\t-172\\t1\\n1901\\t-139\\t1\\n1901\\t-144\\t1\\n1901\\t-150\\t1\\n1901\\t-117\\t1\\n1901\\t-133\\t1\\n1901\\t-161\\t1\\n1901\\t-161\\t1\\n1901\\t-139\\t1\\n1901\\t-122\\t1\\n1901\\t-139\\t1\\n1901\\t117\\t1\\n1901\\t-100\\t1\\n1901\\t-100\\t1\\n1901\\t-100\\t1\\n1901\\t-89\\t1\\n1901\\t-67\\t1\\n1901\\t-44\\t1\\n1901\\t-28\\t1\\n1901\\t-17\\t1\\n1901\\t-11\\t1\\n1901\\t-6\\t1\\n1901\\t0\\t1\\n1901\\t6\\t1\\n1901\\t-6\\t1\\n1901\\t-178\\t1\\n1901\\t-144\\t1\\n1901\\t-117\\t1\\n1901\\t-83\\t1\\n1901\\t-56\\t1\\n1901\\t-39\\t1\\n1901\\t-33\\t1\\n1901\\t-39\\t1\\n1901\\t-39\\t1\\n1901\\t-33\\t1\\n1901\\t-17\\t1\\n1901\\t-17\\t1\\n1901\\t-17\\t1\\n1901\\t0\\t1\\n1901\\t6\\t1\\n1901\\t6\\t1\\n1901\\t6\\t1\\n1901\\t0\\t1\\n1901\\t-33\\t1\\n1901\\t-56\\t1\\n1901\\t-106\\t1\\n1901\\t-78\\t1\\n1901\\t-50\\t1\\n1901\\t-39\\t1\\n1901\\t-44\\t1\\n1901\\t-28\\t1\\n1901\\t-17\\t1\\n1901\\t-28\\t1\\n1901\\t-28\\t1\\n1901\\t-11\\t1\\n1901\\t-11\\t1\\n1901\\t-17\\t1\\n1901\\t-17\\t1\\n1901\\t-89\\t1\\n1901\\t-11\\t1\\n1901\\t-67\\t1\\n1901\\t-83\\t1\\n1901\\t-6\\t1\\n1901\\t-56\\t1\\n1901\\t-106\\t1\\n1901\\t-50\\t1\\n1901\\t-61\\t1\\n1901\\t-44\\t1\\n1901\\t-44\\t1\\n1901\\t-33\\t1\\n1901\\t-56\\t1\\n1901\\t-28\\t1\\n1901\\t-44\\t1\\n1901\\t-94\\t1\\n1901\\t-56\\t1\\n1901\\t-133\\t1\\n1901\\t-128\\t1\\n1901\\t-67\\t1\\n1901\\t-72\\t1\\n1901\\t-44\\t1\\n1901\\t0\\t1\\n1901\\t0\\t1\\n1901\\t0\\t1\\n1901\\t0\\t1\\n1901\\t0\\t1\\n1901\\t-28\\t1\\n1901\\t-33\\t1\\n1901\\t-33\\t1\\n1901\\t-33\\t1\\n1901\\t17\\t1\\n1901\\t11\\t1\\n1901\\t17\\t1\\n1901\\t17\\t1\\n1901\\t0\\t1\\n1901\\t17\\t1\\n1901\\t33\\t1\\n1901\\t-17\\t1\\n1901\\t6\\t1\\n1901\\t11\\t1\\n1901\\t11\\t1\\n1901\\t11\\t1\\n1901\\t6\\t1\\n1901\\t-17\\t1\\n1901\\t-39\\t1\\n1901\\t-6\\t1\\n1901\\t-28\\t1\\n1901\\t-28\\t1\\n1901\\t-33\\t1\\n1901\\t-33\\t1\\n1901\\t-44\\t1\\n1901\\t-33\\t1\\n1901\\t-39\\t1\\n1901\\t-67\\t1\\n1901\\t-83\\t1\\n1901\\t-89\\t1\\n1901\\t-50\\t1\\n1901\\t-22\\t1\\n1901\\t-67\\t1\\n1901\\t-72\\t1\\n1901\\t-44\\t1\\n1901\\t-17\\t1\\n1901\\t-33\\t1\\n1901\\t-61\\t1\\n1901\\t-61\\t1\\n1901\\t-94\\t1\\n1901\\t-61\\t1\\n1901\\t-72\\t1\\n1901\\t-44\\t1\\n1901\\t-22\\t1\\n1901\\t-50\\t1\\n1901\\t-50\\t1\\n1901\\t-22\\t1\\n1901\\t-39\\t1\\n1901\\t-150\\t1\\n1901\\t-72\\t1\\n1901\\t-72\\t1\\n1901\\t-56\\t1\\n1901\\t-44\\t1\\n1901\\t-44\\t1\\n1901\\t-50\\t1\\n1901\\t-56\\t1\\n1901\\t-133\\t1\\n1901\\t-28\\t1\\n1901\\t-6\\t1\\n1901\\t-150\\t1\\n1901\\t-228\\t1\\n1901\\t-111\\t1\\n1901\\t-172\\t1\\n1901\\t-172\\t1\\n1901\\t-167\\t1\\n1901\\t-167\\t1\\n1901\\t-194\\t1\\n1901\\t-133\\t1\\n1901\\t-183\\t1\\n1901\\t-211\\t1\\n1901\\t-133\\t1\\n1901\\t-200\\t1\\n1901\\t-222\\t1\\n1901\\t-161\\t1\\n1901\\t-222\\t1\\n1901\\t-239\\t1\\n1901\\t-206\\t1\\n1901\\t-256\\t1\\n1901\\t-128\\t1\\n1901\\t-67\\t1\\n1901\\t-94\\t1\\n1901\\t-89\\t1\\n1901\\t-94\\t1\\n1901\\t-106\\t1\\n1901\\t-172\\t1\\n1901\\t-100\\t1\\n1901\\t-117\\t1\\n1901\\t-111\\t1\\n1901\\t-100\\t1\\n1901\\t-111\\t1\\n1901\\t-122\\t1\\n1901\\t-78\\t1\\n1901\\t-94\\t1\\n1901\\t-89\\t1\\n1901\\t-39\\t1\\n1901\\t-56\\t1\\n1901\\t-117\\t1\\n1901\\t-106\\t1\\n1901\\t-117\\t1\\n1901\\t-44\\t1\\n1901\\t-22\\t1\\n1901\\t-117\\t1\\n1901\\t-172\\t1\\n1901\\t-150\\t1\\n1901\\t-161\\t1\\n1901\\t-222\\t1\\n1901\\t-44\\t1\\n1901\\t-61\\t1\\n1901\\t-133\\t1\\n1901\\t-78\\t1\\n1901\\t-111\\t1\\n1901\\t-44\\t1\\n1901\\t-17\\t1\\n1901\\t-6\\t1\\n1901\\t-44\\t1\\n1901\\t-56\\t1\\n1901\\t-89\\t1\\n1901\\t-189\\t1\\n1901\\t-89\\t1\\n1901\\t-167\\t1\\n1901\\t-272\\t1\\n1901\\t-106\\t1\\n1901\\t-222\\t1\\n1901\\t-206\\t1\\n1901\\t-83\\t1\\n1901\\t-72\\t1\\n1901\\t-61\\t1\\n1901\\t-6\\t1\\n1901\\t-33\\t1\\n1901\\t-33\\t1\\n1901\\t0\\t1\\n1901\\t-6\\t1\\n1901\\t6\\t1\\n1901\\t11\\t1\\n1901\\t-11\\t1\\n1901\\t-6\\t1\\n1901\\t22\\t1\\n1901\\t-11\\t1\\n1901\\t-44\\t1\\n1901\\t-33\\t1\\n1901\\t-133\\t1\\n1901\\t-72\\t1\\n1901\\t-17\\t1\\n1901\\t-17\\t1\\n1901\\t0\\t1\\n1901\\t39\\t1\\n1901\\t-6\\t1\\n1901\\t0\\t1\\n1901\\t11\\t1\\n1901\\t28\\t1\\n1901\\t-50\\t1\\n1901\\t17\\t1\\n1901\\t-39\\t1\\n1901\\t-111\\t1\\n1901\\t39\\t1\\n1901\\t6\\t1\\n1901\\t-106\\t1\\n1901\\t28\\t1\\n1901\\t-72\\t1\\n1901\\t-111\\t1\\n1901\\t17\\t1\\n1901\\t-56\\t1\\n1901\\t-78\\t1\\n1901\\t17\\t1\\n1901\\t-11\\t1\\n1901\\t0\\t1\\n1901\\t22\\t1\\n1901\\t6\\t1\\n1901\\t-94\\t1\\n1901\\t0\\t1\\n1901\\t-89\\t1\\n1901\\t-183\\t1\\n1901\\t-22\\t1\\n1901\\t-72\\t1\\n1901\\t-44\\t1\\n1901\\t-17\\t1\\n1901\\t-67\\t1\\n1901\\t-133\\t1\\n1901\\t-33\\t1\\n1901\\t-122\\t1\\n1901\\t-156\\t1\\n1901\\t22\\t1\\n1901\\t-72\\t1\\n1901\\t-128\\t1\\n1901\\t33\\t1\\n1901\\t6\\t1\\n1901\\t-22\\t1\\n1901\\t28\\t1\\n1901\\t-39\\t1\\n1901\\t-100\\t1\\n1901\\t-89\\t1\\n1901\\t-161\\t1\\n1901\\t-133\\t1\\n1901\\t-67\\t1\\n1901\\t-122\\t1\\n1901\\t-139\\t1\\n1901\\t-67\\t1\\n1901\\t-167\\t1\\n1901\\t-106\\t1\\n1901\\t-28\\t1\\n1901\\t-122\\t1\\n1901\\t-250\\t1\\n1901\\t-28\\t1\\n1901\\t-150\\t1\\n1901\\t-194\\t1\\n1901\\t-33\\t1\\n1901\\t-94\\t1\\n1901\\t-178\\t1\\n1901\\t-17\\t1\\n1901\\t-33\\t1\\n1901\\t11\\t1\\n1901\\t28\\t1\\n1901\\t22\\t1\\n1901\\t17\\t1\\n1901\\t44\\t1\\n1901\\t17\\t1\\n1901\\t0\\t1\\n1901\\t72\\t1\\n1901\\t11\\t1\\n1901\\t22\\t1\\n1901\\t39\\t1\\n1901\\t33\\t1\\n1901\\t11\\t1\\n1901\\t6\\t1\\n1901\\t11\\t1\\n1901\\t-17\\t1\\n1901\\t33\\t1\\n1901\\t-28\\t1\\n1901\\t-22\\t1\\n1901\\t44\\t1\\n1901\\t-11\\t1\\n1901\\t-39\\t1\\n1901\\t61\\t1\\n1901\\t0\\t1\\n1901\\t11\\t1\\n1901\\t33\\t1\\n1901\\t17\\t1\\n1901\\t17\\t1\\n1901\\t39\\t1\\n1901\\t17\\t1\\n1901\\t6\\t1\\n1901\\t56\\t1\\n1901\\t6\\t1\\n1901\\t6\\t1\\n1901\\t28\\t1\\n1901\\t0\\t1\\n1901\\t-6\\t1\\n1901\\t44\\t1\\n1901\\t11\\t1\\n1901\\t0\\t1\\n1901\\t22\\t1\\n1901\\t-6\\t1\\n1901\\t-33\\t1\\n1901\\t-6\\t1\\n1901\\t-28\\t1\\n1901\\t-28\\t1\\n1901\\t22\\t1\\n1901\\t-11\\t1\\n1901\\t11\\t1\\n1901\\t39\\t1\\n1901\\t11\\t1\\n1901\\t-6\\t1\\n1901\\t17\\t1\\n1901\\t-11\\t1\\n1901\\t0\\t1\\n1901\\t39\\t1\\n1901\\t0\\t1\\n1901\\t17\\t1\\n1901\\t56\\t1\\n1901\\t6\\t1\\n1901\\t22\\t1\\n1901\\t78\\t1\\n1901\\t28\\t1\\n1901\\t28\\t1\\n1901\\t72\\t1\\n1901\\t28\\t1\\n1901\\t22\\t1\\n1901\\t117\\t1\\n1901\\t56\\t1\\n1901\\t28\\t1\\n1901\\t83\\t1\\n1901\\t28\\t1\\n1901\\t28\\t1\\n1901\\t100\\t1\\n1901\\t56\\t1\\n1901\\t33\\t1\\n1901\\t128\\t1\\n1901\\t61\\t1\\n1901\\t67\\t1\\n1901\\t139\\t1\\n1901\\t50\\t1\\n1901\\t94\\t1\\n1901\\t167\\t1\\n1901\\t72\\t1\\n1901\\t67\\t1\\n1901\\t178\\t1\\n1901\\t94\\t1\\n1901\\t78\\t1\\n1901\\t172\\t1\\n1901\\t94\\t1\\n1901\\t83\\t1\\n1901\\t161\\t1\\n1901\\t83\\t1\\n1901\\t78\\t1\\n1901\\t172\\t1\\n1901\\t78\\t1\\n1901\\t67\\t1\\n1901\\t128\\t1\\n1901\\t50\\t1\\n1901\\t39\\t1\\n1901\\t33\\t1\\n1901\\t-6\\t1\\n1901\\t-17\\t1\\n1901\\t-6\\t1\\n1901\\t-22\\t1\\n1901\\t-6\\t1\\n1901\\t11\\t1\\n1901\\t-17\\t1\\n1901\\t-11\\t1\\n1901\\t22\\t1\\n1901\\t-17\\t1\\n1901\\t33\\t1\\n1901\\t83\\t1\\n1901\\t50\\t1\\n1901\\t56\\t1\\n1901\\t139\\t1\\n1901\\t100\\t1\\n1901\\t94\\t1\\n1901\\t189\\t1\\n1901\\t128\\t1\\n1901\\t150\\t1\\n1901\\t228\\t1\\n1901\\t133\\t1\\n1901\\t167\\t1\\n1901\\t217\\t1\\n1901\\t161\\t1\\n1901\\t144\\t1\\n1901\\t228\\t1\\n1901\\t133\\t1\\n1901\\t167\\t1\\n1901\\t239\\t1\\n1901\\t161\\t1\\n1901\\t133\\t1\\n1901\\t172\\t1\\n1901\\t133\\t1\\n1901\\t100\\t1\\n1901\\t128\\t1\\n1901\\t44\\t1\\n1901\\t72\\t1\\n1901\\t61\\t1\\n1901\\t33\\t1\\n1901\\t33\\t1\\n1901\\t67\\t1\\n1901\\t22\\t1\\n1901\\t61\\t1\\n1901\\t100\\t1\\n1901\\t6\\t1\\n1901\\t61\\t1\\n1901\\t100\\t1\\n1901\\t50\\t1\\n1901\\t83\\t1\\n1901\\t128\\t1\\n1901\\t67\\t1\\n1901\\t111\\t1\\n1901\\t167\\t1\\n1901\\t100\\t1\\n1901\\t128\\t1\\n1901\\t200\\t1\\n1901\\t106\\t1\\n1901\\t106\\t1\\n1901\\t133\\t1\\n1901\\t83\\t1\\n1901\\t128\\t1\\n1901\\t139\\t1\\n1901\\t94\\t1\\n1901\\t117\\t1\\n1901\\t133\\t1\\n1901\\t117\\t1\\n1901\\t111\\t1\\n1901\\t133\\t1\\n1901\\t94\\t1\\n1901\\t122\\t1\\n1901\\t178\\t1\\n1901\\t117\\t1\\n1901\\t106\\t1\\n1901\\t139\\t1\\n1901\\t94\\t1\\n1901\\t100\\t1\\n1901\\t133\\t1\\n1901\\t100\\t1\\n1901\\t72\\t1\\n1901\\t161\\t1\\n1901\\t111\\t1\\n1901\\t106\\t1\\n1901\\t161\\t1\\n1901\\t150\\t1\\n1901\\t156\\t1\\n1901\\t144\\t1\\n1901\\t106\\t1\\n1901\\t122\\t1\\n1901\\t178\\t1\\n1901\\t139\\t1\\n1901\\t139\\t1\\n1901\\t167\\t1\\n1901\\t133\\t1\\n1901\\t172\\t1\\n1901\\t217\\t1\\n1901\\t167\\t1\\n1901\\t178\\t1\\n1901\\t217\\t1\\n1901\\t133\\t1\\n1901\\t178\\t1\\n1901\\t239\\t1\\n1901\\t206\\t1\\n1901\\t206\\t1\\n1901\\t256\\t1\\n1901\\t211\\t1\\n1901\\t206\\t1\\n1901\\t267\\t1\\n1901\\t200\\t1\\n1901\\t217\\t1\\n1901\\t222\\t1\\n1901\\t144\\t1\\n1901\\t144\\t1\\n1901\\t217\\t1\\n1901\\t150\\t1\\n1901\\t100\\t1\\n1901\\t128\\t1\\n1901\\t94\\t1\\n1901\\t117\\t1\\n1901\\t144\\t1\\n1901\\t128\\t1\\n1901\\t72\\t1\\n1901\\t106\\t1\\n1901\\t89\\t1\\n1901\\t122\\t1\\n1901\\t183\\t1\\n1901\\t133\\t1\\n1901\\t156\\t1\\n1901\\t167\\t1\\n1901\\t122\\t1\\n1901\\t144\\t1\\n1901\\t161\\t1\\n1901\\t156\\t1\\n1901\\t161\\t1\\n1901\\t217\\t1\\n1901\\t161\\t1\\n1901\\t133\\t1\\n1901\\t206\\t1\\n1901\\t161\\t1\\n1901\\t144\\t1\\n1901\\t189\\t1\\n1901\\t167\\t1\\n1901\\t144\\t1\\n1901\\t228\\t1\\n1901\\t183\\t1\\n1901\\t172\\t1\\n1901\\t233\\t1\\n1901\\t194\\t1\\n1901\\t206\\t1\\n1901\\t267\\t1\\n1901\\t233\\t1\\n1901\\t222\\t1\\n1901\\t261\\t1\\n1901\\t233\\t1\\n1901\\t206\\t1\\n1901\\t239\\t1\\n1901\\t206\\t1\\n1901\\t217\\t1\\n1901\\t239\\t1\\n1901\\t161\\t1\\n1901\\t133\\t1\\n1901\\t178\\t1\\n1901\\t117\\t1\\n1901\\t128\\t1\\n1901\\t144\\t1\\n1901\\t128\\t1\\n1901\\t128\\t1\\n1901\\t178\\t1\\n1901\\t150\\t1\\n1901\\t139\\t1\\n1901\\t178\\t1\\n1901\\t139\\t1\\n1901\\t133\\t1\\n1901\\t167\\t1\\n1901\\t133\\t1\\n1901\\t139\\t1\\n1901\\t189\\t1\\n1901\\t144\\t1\\n1901\\t133\\t1\\n1901\\t167\\t1\\n1901\\t144\\t1\\n1901\\t122\\t1\\n1901\\t183\\t1\\n1901\\t156\\t1\\n1901\\t150\\t1\\n1901\\t206\\t1\\n1901\\t183\\t1\\n1901\\t161\\t1\\n1901\\t239\\t1\\n1901\\t161\\t1\\n1901\\t172\\t1\\n1901\\t256\\t1\\n1901\\t183\\t1\\n1901\\t156\\t1\\n1901\\t144\\t1\\n1901\\t150\\t1\\n1901\\t161\\t1\\n1901\\t233\\t1\\n1901\\t183\\t1\\n1901\\t183\\t1\\n1901\\t267\\t1\\n1901\\t206\\t1\\n1901\\t200\\t1\\n1901\\t283\\t1\\n1901\\t194\\t1\\n1901\\t200\\t1\\n1901\\t272\\t1\\n1901\\t206\\t1\\n1901\\t194\\t1\\n1901\\t267\\t1\\n1901\\t194\\t1\\n1901\\t183\\t1\\n1901\\t233\\t1\\n1901\\t194\\t1\\n1901\\t183\\t1\\n1901\\t244\\t1\\n1901\\t194\\t1\\n1901\\t211\\t1\\n1901\\t300\\t1\\n1901\\t189\\t1\\n1901\\t200\\t1\\n1901\\t228\\t1\\n1901\\t172\\t1\\n1901\\t144\\t1\\n1901\\t261\\t1\\n1901\\t194\\t1\\n1901\\t194\\t1\\n1901\\t267\\t1\\n1901\\t206\\t1\\n1901\\t217\\t1\\n1901\\t289\\t1\\n1901\\t233\\t1\\n1901\\t217\\t1\\n1901\\t306\\t1\\n1901\\t233\\t1\\n1901\\t228\\t1\\n1901\\t294\\t1\\n1901\\t239\\t1\\n1901\\t217\\t1\\n1901\\t283\\t1\\n1901\\t211\\t1\\n1901\\t206\\t1\\n1901\\t278\\t1\\n1901\\t206\\t1\\n1901\\t206\\t1\\n1901\\t289\\t1\\n1901\\t200\\t1\\n1901\\t194\\t1\\n1901\\t289\\t1\\n1901\\t194\\t1\\n1901\\t200\\t1\\n1901\\t267\\t1\\n1901\\t206\\t1\\n1901\\t200\\t1\\n1901\\t289\\t1\\n1901\\t222\\t1\\n1901\\t206\\t1\\n1901\\t278\\t1\\n1901\\t194\\t1\\n1901\\t211\\t1\\n1901\\t244\\t1\\n1901\\t178\\t1\\n1901\\t194\\t1\\n1901\\t233\\t1\\n1901\\t161\\t1\\n1901\\t144\\t1\\n1901\\t233\\t1\\n1901\\t172\\t1\\n1901\\t178\\t1\\n1901\\t256\\t1\\n1901\\t189\\t1\\n1901\\t161\\t1\\n1901\\t183\\t1\\n1901\\t128\\t1\\n1901\\t139\\t1\\n1901\\t222\\t1\\n1901\\t144\\t1\\n1901\\t161\\t1\\n1901\\t211\\t1\\n1901\\t156\\t1\\n1901\\t183\\t1\\n1901\\t200\\t1\\n1901\\t144\\t1\\n1901\\t128\\t1\\n1901\\t183\\t1\\n1901\\t144\\t1\\n1901\\t133\\t1\\n1901\\t200\\t1\\n1901\\t128\\t1\\n1901\\t144\\t1\\n1901\\t194\\t1\\n1901\\t133\\t1\\n1901\\t128\\t1\\n1901\\t239\\t1\\n1901\\t156\\t1\\n1901\\t156\\t1\\n1901\\t256\\t1\\n1901\\t167\\t1\\n1901\\t156\\t1\\n1901\\t267\\t1\\n1901\\t167\\t1\\n1901\\t194\\t1\\n1901\\t278\\t1\\n1901\\t194\\t1\\n1901\\t183\\t1\\n1901\\t261\\t1\\n1901\\t194\\t1\\n1901\\t178\\t1\\n1901\\t272\\t1\\n1901\\t206\\t1\\n1901\\t194\\t1\\n1901\\t272\\t1\\n1901\\t183\\t1\\n1901\\t183\\t1\\n1901\\t283\\t1\\n1901\\t183\\t1\\n1901\\t156\\t1\\n1901\\t211\\t1\\n1901\\t150\\t1\\n1901\\t133\\t1\\n1901\\t217\\t1\\n1901\\t133\\t1\\n1901\\t133\\t1\\n1901\\t183\\t1\\n1901\\t106\\t1\\n1901\\t111\\t1\\n1901\\t183\\t1\\n1901\\t122\\t1\\n1901\\t111\\t1\\n1901\\t183\\t1\\n1901\\t117\\t1\\n1901\\t156\\t1\\n1901\\t178\\t1\\n1901\\t83\\t1\\n1901\\t128\\t1\\n1901\\t144\\t1\\n1901\\t122\\t1\\n1901\\t122\\t1\\n1901\\t144\\t1\\n1901\\t78\\t1\\n1901\\t106\\t1\\n1901\\t172\\t1\\n1901\\t128\\t1\\n1901\\t144\\t1\\n1901\\t222\\t1\\n1901\\t161\\t1\\n1901\\t133\\t1\\n1901\\t156\\t1\\n1901\\t128\\t1\\n1901\\t117\\t1\\n1901\\t117\\t1\\n1901\\t111\\t1\\n1901\\t117\\t1\\n1901\\t139\\t1\\n1901\\t106\\t1\\n1901\\t44\\t1\\n1901\\t150\\t1\\n1901\\t72\\t1\\n1901\\t83\\t1\\n1901\\t100\\t1\\n1901\\t72\\t1\\n1901\\t50\\t1\\n1901\\t111\\t1\\n1901\\t50\\t1\\n1901\\t39\\t1\\n1901\\t117\\t1\\n1901\\t67\\t1\\n1901\\t39\\t1\\n1901\\t128\\t1\\n1901\\t67\\t1\\n1901\\t50\\t1\\n1901\\t128\\t1\\n1901\\t67\\t1\\n1901\\t22\\t1\\n1901\\t122\\t1\\n1901\\t44\\t1\\n1901\\t50\\t1\\n1901\\t144\\t1\\n1901\\t72\\t1\\n1901\\t22\\t1\\n1901\\t167\\t1\\n1901\\t72\\t1\\n1901\\t17\\t1\\n1901\\t172\\t1\\n1901\\t72\\t1\\n1901\\t33\\t1\\n1901\\t167\\t1\\n1901\\t67\\t1\\n1901\\t17\\t1\\n1901\\t167\\t1\\n1901\\t72\\t1\\n1901\\t17\\t1\\n1901\\t161\\t1\\n1901\\t61\\t1\\n1901\\t67\\t1\\n1901\\t128\\t1\\n1901\\t67\\t1\\n1901\\t17\\t1\\n1901\\t156\\t1\\n1901\\t89\\t1\\n1901\\t100\\t1\\n1901\\t122\\t1\\n1901\\t100\\t1\\n1901\\t111\\t1\\n1901\\t128\\t1\\n1901\\t106\\t1\\n1901\\t133\\t1\\n1901\\t172\\t1\\n1901\\t139\\t1\\n1901\\t128\\t1\\n1901\\t150\\t1\\n1901\\t133\\t1\\n1901\\t122\\t1\\n1901\\t150\\t1\\n1901\\t106\\t1\\n1901\\t117\\t1\\n1901\\t172\\t1\\n1901\\t72\\t1\\n1901\\t117\\t1\\n1901\\t172\\t1\\n1901\\t122\\t1\\n1901\\t122\\t1\\n1901\\t161\\t1\\n1901\\t89\\t1\\n1901\\t72\\t1\\n1901\\t183\\t1\\n1901\\t100\\t1\\n1901\\t83\\t1\\n1901\\t211\\t1\\n1901\\t111\\t1\\n1901\\t106\\t1\\n1901\\t200\\t1\\n1901\\t111\\t1\\n1901\\t106\\t1\\n1901\\t167\\t1\\n1901\\t72\\t1\\n1901\\t111\\t1\\n1901\\t189\\t1\\n1901\\t128\\t1\\n1901\\t111\\t1\\n1901\\t144\\t1\\n1901\\t144\\t1\\n1901\\t133\\t1\\n1901\\t150\\t1\\n1901\\t122\\t1\\n1901\\t117\\t1\\n1901\\t178\\t1\\n1901\\t106\\t1\\n1901\\t56\\t1\\n1901\\t156\\t1\\n1901\\t72\\t1\\n1901\\t17\\t1\\n1901\\t150\\t1\\n1901\\t67\\t1\\n1901\\t106\\t1\\n1901\\t139\\t1\\n1901\\t117\\t1\\n1901\\t111\\t1\\n1901\\t133\\t1\\n1901\\t117\\t1\\n1901\\t128\\t1\\n1901\\t156\\t1\\n1901\\t117\\t1\\n1901\\t139\\t1\\n1901\\t128\\t1\\n1901\\t100\\t1\\n1901\\t89\\t1\\n1901\\t106\\t1\\n1901\\t117\\t1\\n1901\\t72\\t1\\n1901\\t72\\t1\\n1901\\t61\\t1\\n1901\\t67\\t1\\n1901\\t106\\t1\\n1901\\t89\\t1\\n1901\\t50\\t1\\n1901\\t128\\t1\\n1901\\t56\\t1\\n1901\\t33\\t1\\n1901\\t117\\t1\\n1901\\t67\\t1\\n1901\\t50\\t1\\n1901\\t94\\t1\\n1901\\t61\\t1\\n1901\\t56\\t1\\n1901\\t94\\t1\\n1901\\t44\\t1\\n1901\\t67\\t1\\n1901\\t100\\t1\\n1901\\t67\\t1\\n1901\\t61\\t1\\n1901\\t67\\t1\\n1901\\t72\\t1\\n1901\\t83\\t1\\n1901\\t94\\t1\\n1901\\t89\\t1\\n1901\\t83\\t1\\n1901\\t94\\t1\\n1901\\t83\\t1\\n1901\\t94\\t1\\n1901\\t94\\t1\\n1901\\t83\\t1\\n1901\\t72\\t1\\n1901\\t83\\t1\\n1901\\t67\\t1\\n1901\\t50\\t1\\n1901\\t72\\t1\\n1901\\t67\\t1\\n1901\\t83\\t1\\n1901\\t83\\t1\\n1901\\t67\\t1\\n1901\\t78\\t1\\n1901\\t94\\t1\\n1901\\t78\\t1\\n1901\\t67\\t1\\n1901\\t94\\t1\\n1901\\t33\\t1\\n1901\\t39\\t1\\n1901\\t83\\t1\\n1901\\t78\\t1\\n1901\\t61\\t1\\n1901\\t100\\t1\\n1901\\t72\\t1\\n1901\\t67\\t1\\n1901\\t72\\t1\\n1901\\t67\\t1\\n1901\\t83\\t1\\n1901\\t89\\t1\\n1901\\t78\\t1\\n1901\\t89\\t1\\n1901\\t111\\t1\\n1901\\t111\\t1\\n1901\\t111\\t1\\n1901\\t67\\t1\\n1901\\t56\\t1\\n1901\\t44\\t1\\n1901\\t67\\t1\\n1901\\t17\\t1\\n1901\\t0\\t1\\n1901\\t56\\t1\\n1901\\t44\\t1\\n1901\\t22\\t1\\n1901\\t67\\t1\\n1901\\t17\\t1\\n1901\\t28\\t1\\n1901\\t78\\t1\\n1901\\t44\\t1\\n1901\\t44\\t1\\n1901\\t83\\t1\\n1901\\t28\\t1\\n1901\\t-28\\t1\\n1901\\t11\\t1\\n1901\\t6\\t1\\n1901\\t17\\t1\\n1901\\t56\\t1\\n1901\\t44\\t1\\n1901\\t39\\t1\\n1901\\t56\\t1\\n1901\\t28\\t1\\n1901\\t11\\t1\\n1901\\t17\\t1\\n1901\\t0\\t1\\n1901\\t6\\t1\\n1901\\t-22\\t1\\n1901\\t-61\\t1\\n1901\\t-28\\t1\\n1901\\t-11\\t1\\n1901\\t-44\\t1\\n1901\\t-17\\t1\\n1901\\t0\\t1\\n1901\\t-17\\t1\\n1901\\t-44\\t1\\n1901\\t-72\\t1\\n1901\\t-139\\t1\\n1901\\t-44\\t1\\n1901\\t-44\\t1\\n1901\\t-111\\t1\\n1901\\t-72\\t1\\n1901\\t-56\\t1\\n1901\\t-78\\t1\\n1901\\t-67\\t1\\n1901\\t-44\\t1\\n1901\\t-50\\t1\\n1901\\t-44\\t1\\n1901\\t-44\\t1\\n1901\\t-83\\t1\\n1901\\t-72\\t1\\n1901\\t-39\\t1\\n1901\\t-72\\t1\\n1901\\t-6\\t1\\n1901\\t-11\\t1\\n1901\\t-39\\t1\\n1901\\t-150\\t1\\n1901\\t-144\\t1\\n1901\\t-122\\t1\\n1901\\t-206\\t1\\n1901\\t-39\\t1\\n1901\\t-44\\t1\\n1901\\t-11\\t1\\n1901\\t-50\\t1\\n1901\\t-39\\t1\\n1901\\t-33\\t1\\n1901\\t-44\\t1\\n1901\\t-61\\t1\\n1901\\t-39\\t1\\n1901\\t-94\\t1\\n1901\\t-111\\t1\\n1901\\t-156\\t1\\n1901\\t-106\\t1\\n1901\\t-6\\t1\\n1901\\t-106\\t1\\n1901\\t-78\\t1\\n1901\\t-156\\t1\\n1901\\t-11\\t1\\n1901\\t6\\t1\\n1901\\t11\\t1\\n1901\\t17\\t1\\n1901\\t-28\\t1\\n1901\\t-44\\t1\\n1901\\t-6\\t1\\n1901\\t11\\t1\\n1901\\t6\\t1\\n1901\\t-28\\t1\\n1901\\t-17\\t1\\n1901\\t-83\\t1\\n1901\\t-78\\t1\\n1901\\t-56\\t1\\n1901\\t-94\\t1\\n1901\\t-161\\t1\\n1901\\t-150\\t1\\n1901\\t-217\\t1\\n1901\\t-183\\t1\\n1901\\t-133\\t1\\n1901\\t-100\\t1\\n1901\\t-178\\t1\\n1901\\t-56\\t1\\n1901\\t-17\\t1\\n1901\\t-44\\t1\\n1901\\t-50\\t1\\n1901\\t-78\\t1\\n1901\\t-100\\t1\\n1901\\t-128\\t1\\n1901\\t-167\\t1\\n1901\\t-44\\t1\\n1901\\t-22\\t1\\n1901\\t-11\\t1\\n1901\\t11\\t1\\n1901\\t11\\t1\\n1901\\t6\\t1\\n1901\\t-11\\t1\\n1901\\t11\\t1\\n1901\\t11\\t1\\n1901\\t11\\t1\\n1901\\t11\\t1\\n1901\\t6\\t1\\n1901\\t-22\\t1\\n1901\\t-22\\t1\\n1901\\t-56\\t1\\n1901\\t-117\\t1\\n1901\\t-111\\t1\\n1901\\t-122\\t1\\n1901\\t-133\\t1\\n1901\\t-106\\t1\\n1901\\t-111\\t1\\n1901\\t-106\\t1\\n1901\\t-117\\t1\\n1901\\t-183\\t1\\n1901\\t-139\\t1\\n1901\\t-139\\t1\\n1901\\t-150\\t1\\n1901\\t-156\\t1\\n1901\\t-117\\t1\\n1901\\t-106\\t1\\n1901\\t-100\\t1\\n1901\\t-89\\t1\\n1901\\t-83\\t1\\n1901\\t-83\\t1\\n1901\\t-83\\t1\\n1901\\t-94\\t1\\n1901\\t-106\\t1\\n1901\\t-94\\t1\\n1901\\t-106\\t1\\n1901\\t-194\\t1\\n1901\\t-128\\t1\\n1901\\t-100\\t1\\n1901\\t-89\\t1\\n1901\\t-56\\t1\\n1901\\t-44\\t1\\n1901\\t-44\\t1\\n1901\\t-39\\t1\\n1901\\t-39\\t1\\n1901\\t-33\\t1\\n1901\\t-28\\t1\\n1901\\t-33\\t1\\n1901\\t-33\\t1\\n1901\\t-56\\t1\\n1901\\t-117\\t1\\n1901\\t-222\\t1\\n1901\\t-178\\t1\\n1901\\t-239\\t1\\n1901\\t-172\\t1\\n1901\\t-178\\t1\\n1901\\t-156\\t1\\n1901\\t-128\\t1\\n1901\\t-133\\t1\\n1901\\t-161\\t1\\n1901\\t-156\\t1\\n1901\\t-150\\t1\\n1901\\t-144\\t1\\n1901\\t-150\\t1\\n1901\\t-106\\t1\\n1901\\t-106\\t1\\n1901\\t-111\\t1\\n1901\\t-111\\t1\\n1901\\t-106\\t1\\n1901\\t-83\\t1\\n1901\\t-56\\t1\\n1901\\t-39\\t1\\n1901\\t-33\\t1\\n1901\\t-17\\t1\\n1901\\t-17\\t1\\n1901\\t-11\\t1\\n1901\\t-6\\t1\\n1901\\t-17\\t1\\n1901\\t-206\\t1\\n1901\\t-156\\t1\\n1901\\t-139\\t1\\n1901\\t-78\\t1\\n1901\\t-39\\t1\\n1901\\t-33\\t1\\n1901\\t-39\\t1\\n1901\\t-33\\t1\\n1901\\t-39\\t1\\n1901\\t-33\\t1\\n1901\\t-17\\t1\\n1901\\t-17\\t1\\n1901\\t-11\\t1\\n1901\\t0\\t1\\n1901\\t0\\t1\\n1901\\t-11\\t1\\n1901\\t-11\\t1\\n1901\\t-11\\t1\\n1901\\t-11\\t1\\n1901\\t-33\\t1\\n1901\\t-83\\t1\\n1901\\t-56\\t1\\n1901\\t39\\t1\\n1901\\t-44\\t1\\n1901\\t-22\\t1\\n1901\\t-11\\t1\\n1901\\t-11\\t1\\n1901\\t-22\\t1\\n1901\\t-22\\t1\\n1901\\t-11\\t1\\n1901\\t-11\\t1\\n1901\\t-17\\t1\\n1901\\t-39\\t1\\n1901\\t-39\\t1\\n1901\\t-11\\t1\\n1901\\t-39\\t1\\n1901\\t-22\\t1\\n1901\\t-11\\t1\\n1901\\t-28\\t1\\n1901\\t-67\\t1\\n1901\\t-28\\t1\\n1901\\t-39\\t1\\n1901\\t-61\\t1\\n1901\\t-50\\t1\\n1901\\t-33\\t1\\n1901\\t-50\\t1\\n1901\\t-17\\t1\\n1901\\t-33\\t1\\n1901\\t-56\\t1\\n1901\\t-39\\t1\\n1901\\t-111\\t1\\n1901\\t-72\\t1\\n1901\\t-56\\t1\\n1901\\t-72\\t1\\n1901\\t-17\\t1\\n1901\\t6\\t1\\n1901\\t0\\t1\\n1901\\t0\\t1\\n1901\\t6\\t1\\n1901\\t6\\t1\\n1901\\t-22\\t1\\n1901\\t-22\\t1\\n1901\\t-50\\t1\\n1901\\t-17\\t1\\n1901\\t-22\\t1\\n1901\\t0\\t1\\n1901\\t17\\t1\\n1901\\t22\\t1\\n1901\\t11\\t1\\n1901\\t17\\t1\\n1901\\t33\\t1\\n1901\\t-6\\t1\\n1901\\t11\\t1\\n1901\\t6\\t1\\n1901\\t22\\t1\\n1901\\t11\\t1\\n1901\\t0\\t1\\n1901\\t-6\\t1\\n1901\\t-22\\t1\\n1901\\t-11\\t1\\n1901\\t-22\\t1\\n1901\\t-28\\t1\\n1901\\t-28\\t1\\n1901\\t-33\\t1\\n1901\\t-44\\t1\\n1901\\t-22\\t1\\n1901\\t-50\\t1\\n1901\\t-61\\t1\\n1901\\t-39\\t1\\n1901\\t-39\\t1\\n1901\\t-33\\t1\\n1901\\t-17\\t1\\n1901\\t-28\\t1\\n1901\\t-67\\t1\\n1901\\t-11\\t1\\n1901\\t-6\\t1\\n1901\\t-72\\t1\\n1901\\t-61\\t1\\n1901\\t-89\\t1\\n1901\\t-167\\t1\\n1901\\t-56\\t1\\n1901\\t-61\\t1\\n1901\\t-50\\t1\\n1901\\t-6\\t1\\n1901\\t-33\\t1\\n1901\\t-28\\t1\\n1901\\t-11\\t1\\n1901\\t0\\t1\\n1901\\t-28\\t1\\n1901\\t-67\\t1\\n1901\\t-56\\t1\\n1901\\t-83\\t1\\n1901\\t-56\\t1\\n1901\\t-44\\t1\\n1901\\t-28\\t1\\n1901\\t-28\\t1\\n1901\\t-89\\t1\\n1901\\t0\\t1\\n1901\\t-11\\t1\\n1901\\t-61\\t1\\n1901\\t-139\\t1\\n1901\\t-78\\t1\\n1901\\t-111\\t1\\n1901\\t-183\\t1\\n1901\\t-144\\t1\\n1901\\t-189\\t1\\n1901\\t-167\\t1\\n1901\\t-122\\t1\\n1901\\t-156\\t1\\n1901\\t-189\\t1\\n1901\\t-122\\t1\\n1901\\t-128\\t1\\n1901\\t-211\\t1\\n1901\\t-128\\t1\\n1901\\t-183\\t1\\n1901\\t-183\\t1\\n1901\\t-178\\t1\\n1901\\t-239\\t1\\n1901\\t-106\\t1\\n1901\\t-50\\t1\\n1901\\t-89\\t1\\n1901\\t-106\\t1\\n1901\\t-89\\t1\\n1901\\t-100\\t1\\n1901\\t-111\\t1\\n1901\\t-78\\t1\\n1901\\t-94\\t1\\n1901\\t-111\\t1\\n1901\\t-89\\t1\\n1901\\t-111\\t1\\n1901\\t-117\\t1\\n1901\\t-72\\t1\\n1901\\t-94\\t1\\n1901\\t-78\\t1\\n1901\\t-39\\t1\\n1901\\t-50\\t1\\n1901\\t-89\\t1\\n1901\\t-72\\t1\\n1901\\t-100\\t1\\n1901\\t-22\\t1\\n1901\\t-6\\t1\\n1901\\t-100\\t1\\n1901\\t-161\\t1\\n1901\\t-133\\t1\\n1901\\t-150\\t1\\n1901\\t-161\\t1\\n1901\\t-39\\t1\\n1901\\t-22\\t1\\n1901\\t-117\\t1\\n1901\\t-67\\t1\\n1901\\t-89\\t1\\n1901\\t-78\\t1\\n1901\\t6\\t1\\n1901\\t0\\t1\\n1901\\t6\\t1\\n1901\\t-39\\t1\\n1901\\t-67\\t1\\n1901\\t-133\\t1\\n1901\\t-78\\t1\\n1901\\t-156\\t1\\n1901\\t-194\\t1\\n1901\\t-94\\t1\\n1901\\t-139\\t1\\n1901\\t-189\\t1\\n1901\\t-94\\t1\\n1901\\t-89\\t1\\n1901\\t-39\\t1\\n1901\\t-6\\t1\\n1901\\t-28\\t1\\n1901\\t-22\\t1\\n1901\\t6\\t1\\n1901\\t-6\\t1\\n1901\\t6\\t1\\n1901\\t-6\\t1\\n1901\\t-11\\t1\\n1901\\t0\\t1\\n1901\\t11\\t1\\n1901\\t-11\\t1\\n1901\\t-39\\t1\\n1901\\t-22\\t1\\n1901\\t-39\\t1\\n1901\\t-61\\t1\\n1901\\t-11\\t1\\n1901\\t-17\\t1\\n1901\\t0\\t1\\n1901\\t28\\t1\\n1901\\t6\\t1\\n1901\\t11\\t1\\n1901\\t17\\t1\\n1901\\t11\\t1\\n1901\\t-39\\t1\\n1901\\t22\\t1\\n1901\\t-33\\t1\\n1901\\t-56\\t1\\n1901\\t28\\t1\\n1901\\t-11\\t1\\n1901\\t-17\\t1\\n1901\\t33\\t1\\n1901\\t-17\\t1\\n1901\\t-28\\t1\\n1901\\t33\\t1\\n1901\\t-33\\t1\\n1901\\t-44\\t1\\n1901\\t6\\t1\\n1901\\t-11\\t1\\n1901\\t0\\t1\\n1901\\t22\\t1\\n1901\\t6\\t1\\n1901\\t-11\\t1\\n1901\\t22\\t1\\n1901\\t-28\\t1\\n1901\\t-78\\t1\\n1901\\t6\\t1\\n1901\\t-61\\t1\\n1901\\t-17\\t1\\n1901\\t6\\t1\\n1901\\t-56\\t1\\n1901\\t-22\\t1\\n1901\\t-17\\t1\\n1901\\t-78\\t1\\n1901\\t-111\\t1\\n1901\\t22\\t1\\n1901\\t-44\\t1\\n1901\\t-50\\t1\\n1901\\t44\\t1\\n1901\\t-22\\t1\\n1901\\t-17\\t1\\n1901\\t11\\t1\\n1901\\t-6\\t1\\n1901\\t-83\\t1\\n1901\\t-83\\t1\\n1901\\t-133\\t1\\n1901\\t-89\\t1\\n1901\\t-56\\t1\\n1901\\t-122\\t1\\n1901\\t-100\\t1\\n1901\\t-50\\t1\\n1901\\t-83\\t1\\n1901\\t-67\\t1\\n1901\\t-22\\t1\\n1901\\t-89\\t1\\n1901\\t-117\\t1\\n1901\\t-17\\t1\\n1901\\t-89\\t1\\n1901\\t-111\\t1\\n1901\\t-22\\t1\\n1901\\t-78\\t1\\n1901\\t-61\\t1\\n1901\\t-28\\t1\\n1901\\t-17\\t1\\n1901\\t22\\t1\\n1901\\t28\\t1\\n1901\\t28\\t1\\n1901\\t11\\t1\\n1901\\t39\\t1\\n1901\\t11\\t1\\n1901\\t22\\t1\\n1901\\t61\\t1\\n1901\\t22\\t1\\n1901\\t22\\t1\\n1901\\t28\\t1\\n1901\\t33\\t1\\n1901\\t6\\t1\\n1901\\t6\\t1\\n1901\\t11\\t1\\n1901\\t22\\t1\\n1901\\t11\\t1\\n1901\\t-22\\t1\\n1901\\t-6\\t1\\n1901\\t50\\t1\\n1901\\t-11\\t1\\n1901\\t22\\t1\\n1901\\t56\\t1\\n1901\\t6\\t1\\n1901\\t11\\t1\\n1901\\t28\\t1\\n1901\\t22\\t1\\n1901\\t22\\t1\\n1901\\t44\\t1\\n1901\\t0\\t1\\n1901\\t22\\t1\\n1901\\t44\\t1\\n1901\\t-6\\t1\\n1901\\t17\\t1\\n1901\\t50\\t1\\n1901\\t-6\\t1\\n1901\\t-11\\t1\\n1901\\t39\\t1\\n1901\\t22\\t1\\n1901\\t22\\t1\\n1901\\t22\\t1\\n1901\\t0\\t1\\n1901\\t-28\\t1\\n1901\\t0\\t1\\n1901\\t-17\\t1\\n1901\\t-11\\t1\\n1901\\t-6\\t1\\n1901\\t17\\t1\\n1901\\t28\\t1\\n1901\\t44\\t1\\n1901\\t6\\t1\\n1901\\t-6\\t1\\n1901\\t28\\t1\\n1901\\t-11\\t1\\n1901\\t33\\t1\\n1901\\t50\\t1\\n1901\\t11\\t1\\n1901\\t44\\t1\\n1901\\t72\\t1\\n1901\\t6\\t1\\n1901\\t11\\t1\\n1901\\t67\\t1\\n1901\\t17\\t1\\n1901\\t-11\\t1\\n1901\\t56\\t1\\n1901\\t6\\t1\\n1901\\t33\\t1\\n1901\\t83\\t1\\n1901\\t33\\t1\\n1901\\t33\\t1\\n1901\\t100\\t1\\n1901\\t56\\t1\\n1901\\t50\\t1\\n1901\\t106\\t1\\n1901\\t50\\t1\\n1901\\t94\\t1\\n1901\\t133\\t1\\n1901\\t83\\t1\\n1901\\t100\\t1\\n1901\\t144\\t1\\n1901\\t117\\t1\\n1901\\t139\\t1\\n1901\\t172\\t1\\n1901\\t89\\t1\\n1901\\t144\\t1\\n1901\\t194\\t1\\n1901\\t106\\t1\\n1901\\t133\\t1\\n1901\\t194\\t1\\n1901\\t94\\t1\\n1901\\t106\\t1\\n1901\\t161\\t1\\n1901\\t78\\t1\\n1901\\t100\\t1\\n1901\\t150\\t1\\n1901\\t89\\t1\\n1901\\t94\\t1\\n1901\\t111\\t1\\n1901\\t67\\t1\\n1901\\t56\\t1\\n1901\\t61\\t1\\n1901\\t11\\t1\\n1901\\t6\\t1\\n1901\\t22\\t1\\n1901\\t-17\\t1\\n1901\\t22\\t1\\n1901\\t50\\t1\\n1901\\t-6\\t1\\n1901\\t28\\t1\\n1901\\t33\\t1\\n1901\\t-6\\t1\\n1901\\t50\\t1\\n1901\\t94\\t1\\n1901\\t44\\t1\\n1901\\t72\\t1\\n1901\\t139\\t1\\n1901\\t100\\t1\\n1901\\t117\\t1\\n1901\\t189\\t1\\n1901\\t128\\t1\\n1901\\t150\\t1\\n1901\\t233\\t1\\n1901\\t172\\t1\\n1901\\t200\\t1\\n1901\\t256\\t1\\n1901\\t133\\t1\\n1901\\t178\\t1\\n1901\\t206\\t1\\n1901\\t172\\t1\\n1901\\t183\\t1\\n1901\\t217\\t1\\n1901\\t161\\t1\\n1901\\t200\\t1\\n1901\\t178\\t1\\n1901\\t139\\t1\\n1901\\t144\\t1\\n1901\\t156\\t1\\n1901\\t83\\t1\\n1901\\t39\\t1\\n1901\\t67\\t1\\n1901\\t44\\t1\\n1901\\t33\\t1\\n1901\\t50\\t1\\n1901\\t28\\t1\\n1901\\t72\\t1\\n1901\\t122\\t1\\n1901\\t78\\t1\\n1901\\t106\\t1\\n1901\\t106\\t1\\n1901\\t61\\t1\\n1901\\t56\\t1\\n1901\\t139\\t1\\n1901\\t78\\t1\\n1901\\t117\\t1\\n1901\\t161\\t1\\n1901\\t100\\t1\\n1901\\t161\\t1\\n1901\\t206\\t1\\n1901\\t122\\t1\\n1901\\t117\\t1\\n1901\\t156\\t1\\n1901\\t89\\t1\\n1901\\t167\\t1\\n1901\\t172\\t1\\n1901\\t106\\t1\\n1901\\t150\\t1\\n1901\\t144\\t1\\n1901\\t111\\t1\\n1901\\t156\\t1\\n1901\\t156\\t1\\n1901\\t106\\t1\\n1901\\t156\\t1\\n1901\\t189\\t1\\n1901\\t128\\t1\\n1901\\t144\\t1\\n1901\\t189\\t1\\n1901\\t106\\t1\\n1901\\t144\\t1\\n1901\\t156\\t1\\n1901\\t106\\t1\\n1901\\t111\\t1\\n1901\\t161\\t1\\n1901\\t111\\t1\\n1901\\t122\\t1\\n1901\\t161\\t1\\n1901\\t122\\t1\\n1901\\t167\\t1\\n1901\\t144\\t1\\n1901\\t122\\t1\\n1901\\t133\\t1\\n1901\\t183\\t1\\n1901\\t128\\t1\\n1901\\t189\\t1\\n1901\\t200\\t1\\n1901\\t128\\t1\\n1901\\t206\\t1\\n1901\\t217\\t1\\n1901\\t172\\t1\\n1901\\t194\\t1\\n1901\\t228\\t1\\n1901\\t161\\t1\\n1901\\t189\\t1\\n1901\\t233\\t1\\n1901\\t206\\t1\\n1901\\t250\\t1\\n1901\\t250\\t1\\n1901\\t211\\t1\\n1901\\t206\\t1\\n1901\\t239\\t1\\n1901\\t211\\t1\\n1901\\t156\\t1\\n1901\\t211\\t1\\n1901\\t133\\t1\\n1901\\t144\\t1\\n1901\\t178\\t1\\n1901\\t133\\t1\\n1901\\t106\\t1\\n1901\\t128\\t1\\n1901\\t94\\t1\\n1901\\t106\\t1\\n1901\\t128\\t1\\n1901\\t106\\t1\\n1901\\t111\\t1\\n1901\\t111\\t1\\n1901\\t100\\t1\\n1901\\t150\\t1\\n1901\\t167\\t1\\n1901\\t117\\t1\\n1901\\t100\\t1\\n1901\\t133\\t1\\n1901\\t133\\t1\\n1901\\t194\\t1\\n1901\\t194\\t1\\n1901\\t150\\t1\\n1901\\t194\\t1\\n1901\\t211\\t1\\n1901\\t150\\t1\\n1901\\t167\\t1\\n1901\\t161\\t1\\n1901\\t122\\t1\\n1901\\t172\\t1\\n1901\\t167\\t1\\n1901\\t139\\t1\\n1901\\t172\\t1\\n1901\\t200\\t1\\n1901\\t178\\t1\\n1901\\t194\\t1\\n1901\\t239\\t1\\n1901\\t189\\t1\\n1901\\t189\\t1\\n1901\\t278\\t1\\n1901\\t211\\t1\\n1901\\t244\\t1\\n1901\\t267\\t1\\n1901\\t222\\t1\\n1901\\t228\\t1\\n1901\\t261\\t1\\n1901\\t206\\t1\\n1901\\t228\\t1\\n1901\\t239\\t1\\n1901\\t144\\t1\\n1901\\t139\\t1\\n1901\\t167\\t1\\n1901\\t117\\t1\\n1901\\t150\\t1\\n1901\\t172\\t1\\n1901\\t144\\t1\\n1901\\t178\\t1\\n1901\\t183\\t1\\n1901\\t161\\t1\\n1901\\t189\\t1\\n1901\\t183\\t1\\n1901\\t150\\t1\\n1901\\t150\\t1\\n1901\\t161\\t1\\n1901\\t139\\t1\\n1901\\t172\\t1\\n1901\\t189\\t1\\n1901\\t139\\t1\\n1901\\t156\\t1\\n1901\\t167\\t1\\n1901\\t144\\t1\\n1901\\t122\\t1\\n1901\\t194\\t1\\n1901\\t161\\t1\\n1901\\t183\\t1\\n1901\\t222\\t1\\n1901\\t183\\t1\\n1901\\t194\\t1\\n1901\\t256\\t1\\n1901\\t167\\t1\\n1901\\t217\\t1\\n1901\\t261\\t1\\n1901\\t211\\t1\\n1901\\t172\\t1\\n1901\\t178\\t1\\n1901\\t156\\t1\\n1901\\t156\\t1\\n1901\\t267\\t1\\n1901\\t183\\t1\\n1901\\t217\\t1\\n1901\\t283\\t1\\n1901\\t228\\t1\\n1901\\t250\\t1\\n1901\\t256\\t1\\n1901\\t183\\t1\\n1901\\t211\\t1\\n1901\\t289\\t1\\n1901\\t228\\t1\\n1901\\t233\\t1\\n1901\\t267\\t1\\n1901\\t194\\t1\\n1901\\t189\\t1\\n1901\\t250\\t1\\n1901\\t239\\t1\\n1901\\t211\\t1\\n1901\\t278\\t1\\n1901\\t206\\t1\\n1901\\t239\\t1\\n1901\\t278\\t1\\n1901\\t217\\t1\\n1901\\t183\\t1\\n1901\\t244\\t1\\n1901\\t183\\t1\\n1901\\t228\\t1\\n1901\\t278\\t1\\n1901\\t211\\t1\\n1901\\t239\\t1\\n1901\\t278\\t1\\n1901\\t233\\t1\\n1901\\t250\\t1\\n1901\\t311\\t1\\n1901\\t244\\t1\\n1901\\t256\\t1\\n1901\\t311\\t1\\n1901\\t256\\t1\\n1901\\t272\\t1\\n1901\\t317\\t1\\n1901\\t233\\t1\\n1901\\t250\\t1\\n1901\\t283\\t1\\n1901\\t222\\t1\\n1901\\t244\\t1\\n1901\\t244\\t1\\n1901\\t222\\t1\\n1901\\t250\\t1\\n1901\\t278\\t1\\n1901\\t222\\t1\\n1901\\t256\\t1\\n1901\\t278\\t1\\n1901\\t222\\t1\\n1901\\t239\\t1\\n1901\\t278\\t1\\n1901\\t222\\t1\\n1901\\t250\\t1\\n1901\\t300\\t1\\n1901\\t233\\t1\\n1901\\t239\\t1\\n1901\\t267\\t1\\n1901\\t211\\t1\\n1901\\t244\\t1\\n1901\\t261\\t1\\n1901\\t211\\t1\\n1901\\t217\\t1\\n1901\\t256\\t1\\n1901\\t178\\t1\\n1901\\t211\\t1\\n1901\\t256\\t1\\n1901\\t183\\t1\\n1901\\t228\\t1\\n1901\\t261\\t1\\n1901\\t206\\t1\\n1901\\t200\\t1\\n1901\\t211\\t1\\n1901\\t150\\t1\\n1901\\t194\\t1\\n1901\\t211\\t1\\n1901\\t189\\t1\\n1901\\t189\\t1\\n1901\\t200\\t1\\n1901\\t172\\t1\\n1901\\t178\\t1\\n1901\\t206\\t1\\n1901\\t161\\t1\\n1901\\t144\\t1\\n1901\\t200\\t1\\n1901\\t150\\t1\\n1901\\t161\\t1\\n1901\\t217\\t1\\n1901\\t172\\t1\\n1901\\t211\\t1\\n1901\\t183\\t1\\n1901\\t144\\t1\\n1901\\t189\\t1\\n1901\\t239\\t1\\n1901\\t178\\t1\\n1901\\t211\\t1\\n1901\\t239\\t1\\n1901\\t172\\t1\\n1901\\t217\\t1\\n1901\\t261\\t1\\n1901\\t194\\t1\\n1901\\t217\\t1\\n1901\\t283\\t1\\n1901\\t211\\t1\\n1901\\t233\\t1\\n1901\\t278\\t1\\n1901\\t206\\t1\\n1901\\t211\\t1\\n1901\\t267\\t1\\n1901\\t217\\t1\\n1901\\t217\\t1\\n1901\\t267\\t1\\n1901\\t206\\t1\\n1901\\t233\\t1\\n1901\\t267\\t1\\n1901\\t200\\t1\\n1901\\t183\\t1\\n1901\\t222\\t1\\n1901\\t167\\t1\\n1901\\t211\\t1\\n1901\\t211\\t1\\n1901\\t156\\t1\\n1901\\t183\\t1\\n1901\\t183\\t1\\n1901\\t128\\t1\\n1901\\t156\\t1\\n1901\\t206\\t1\\n1901\\t133\\t1\\n1901\\t172\\t1\\n1901\\t194\\t1\\n1901\\t139\\t1\\n1901\\t189\\t1\\n1901\\t156\\t1\\n1901\\t133\\t1\\n1901\\t161\\t1\\n1901\\t156\\t1\\n1901\\t122\\t1\\n1901\\t144\\t1\\n1901\\t161\\t1\\n1901\\t94\\t1\\n1901\\t144\\t1\\n1901\\t183\\t1\\n1901\\t150\\t1\\n1901\\t178\\t1\\n1901\\t211\\t1\\n1901\\t189\\t1\\n1901\\t172\\t1\\n1901\\t172\\t1\\n1901\\t133\\t1\\n1901\\t150\\t1\\n1901\\t156\\t1\\n1901\\t117\\t1\\n1901\\t128\\t1\\n1901\\t189\\t1\\n1901\\t128\\t1\\n1901\\t139\\t1\\n1901\\t172\\t1\\n1901\\t122\\t1\\n1901\\t78\\t1\\n1901\\t111\\t1\\n1901\\t83\\t1\\n1901\\t72\\t1\\n1901\\t117\\t1\\n1901\\t72\\t1\\n1901\\t78\\t1\\n1901\\t111\\t1\\n1901\\t78\\t1\\n1901\\t78\\t1\\n1901\\t128\\t1\\n1901\\t78\\t1\\n1901\\t67\\t1\\n1901\\t122\\t1\\n1901\\t94\\t1\\n1901\\t78\\t1\\n1901\\t139\\t1\\n1901\\t72\\t1\\n1901\\t78\\t1\\n1901\\t156\\t1\\n1901\\t83\\t1\\n1901\\t78\\t1\\n1901\\t161\\t1\\n1901\\t89\\t1\\n1901\\t100\\t1\\n1901\\t172\\t1\\n1901\\t100\\t1\\n1901\\t94\\t1\\n1901\\t172\\t1\\n1901\\t94\\t1\\n1901\\t117\\t1\\n1901\\t178\\t1\\n1901\\t94\\t1\\n1901\\t56\\t1\\n1901\\t172\\t1\\n1901\\t89\\t1\\n1901\\t56\\t1\\n1901\\t172\\t1\\n1901\\t106\\t1\\n1901\\t117\\t1\\n1901\\t161\\t1\\n1901\\t111\\t1\\n1901\\t117\\t1\\n1901\\t128\\t1\\n1901\\t117\\t1\\n1901\\t128\\t1\\n1901\\t133\\t1\\n1901\\t128\\t1\\n1901\\t133\\t1\\n1901\\t156\\t1\\n1901\\t144\\t1\\n1901\\t128\\t1\\n1901\\t144\\t1\\n1901\\t133\\t1\\n1901\\t128\\t1\\n1901\\t156\\t1\\n1901\\t117\\t1\\n1901\\t133\\t1\\n1901\\t172\\t1\\n1901\\t139\\t1\\n1901\\t139\\t1\\n1901\\t172\\t1\\n1901\\t139\\t1\\n1901\\t133\\t1\\n1901\\t172\\t1\\n1901\\t117\\t1\\n1901\\t111\\t1\\n1901\\t194\\t1\\n1901\\t128\\t1\\n1901\\t133\\t1\\n1901\\t211\\t1\\n1901\\t128\\t1\\n1901\\t144\\t1\\n1901\\t200\\t1\\n1901\\t117\\t1\\n1901\\t94\\t1\\n1901\\t172\\t1\\n1901\\t117\\t1\\n1901\\t83\\t1\\n1901\\t183\\t1\\n1901\\t133\\t1\\n1901\\t128\\t1\\n1901\\t167\\t1\\n1901\\t156\\t1\\n1901\\t161\\t1\\n1901\\t167\\t1\\n1901\\t133\\t1\\n1901\\t139\\t1\\n1901\\t172\\t1\\n1901\\t122\\t1\\n1901\\t83\\t1\\n1901\\t122\\t1\\n1901\\t111\\t1\\n1901\\t106\\t1\\n1901\\t128\\t1\\n1901\\t122\\t1\\n1901\\t128\\t1\\n1901\\t133\\t1\\n1901\\t128\\t1\\n1901\\t128\\t1\\n1901\\t144\\t1\\n1901\\t128\\t1\\n1901\\t122\\t1\\n1901\\t156\\t1\\n1901\\t128\\t1\\n1901\\t139\\t1\\n1901\\t128\\t1\\n1901\\t94\\t1\\n1901\\t111\\t1\\n1901\\t117\\t1\\n1901\\t94\\t1\\n1901\\t89\\t1\\n1901\\t89\\t1\\n1901\\t83\\t1\\n1901\\t78\\t1\\n1901\\t106\\t1\\n1901\\t100\\t1\\n1901\\t56\\t1\\n1901\\t122\\t1\\n1901\\t56\\t1\\n1901\\t89\\t1\\n1901\\t117\\t1\\n1901\\t83\\t1\\n1901\\t33\\t1\\n1901\\t94\\t1\\n1901\\t50\\t1\\n1901\\t44\\t1\\n1901\\t117\\t1\\n1901\\t56\\t1\\n1901\\t78\\t1\\n1901\\t83\\t1\\n1901\\t72\\t1\\n1901\\t78\\t1\\n1901\\t83\\t1\\n1901\\t83\\t1\\n1901\\t94\\t1\\n1901\\t106\\t1\\n1901\\t100\\t1\\n1901\\t89\\t1\\n1901\\t83\\t1\\n1901\\t94\\t1\\n1901\\t94\\t1\\n1901\\t94\\t1\\n1901\\t83\\t1\\n1901\\t89\\t1\\n1901\\t89\\t1\\n1901\\t72\\t1\\n1901\\t78\\t1\\n1901\\t78\\t1\\n1901\\t72\\t1\\n1901\\t94\\t1\\n1901\\t78\\t1\\n1901\\t89\\t1\\n1901\\t83\\t1\\n1901\\t94\\t1\\n1901\\t94\\t1\\n1901\\t78\\t1\\n1901\\t94\\t1\\n1901\\t44\\t1\\n1901\\t78\\t1\\n1901\\t89\\t1\\n1901\\t100\\t1\\n1901\\t83\\t1\\n1901\\t100\\t1\\n1901\\t89\\t1\\n1901\\t78\\t1\\n1901\\t83\\t1\\n1901\\t89\\t1\\n1901\\t83\\t1\\n1901\\t94\\t1\\n1901\\t89\\t1\\n1901\\t100\\t1\\n1901\\t106\\t1\\n1901\\t106\\t1\\n1901\\t111\\t1\\n1901\\t61\\t1\\n1901\\t61\\t1\\n1901\\t50\\t1\\n1901\\t61\\t1\\n1901\\t22\\t1\\n1901\\t72\\t1\\n1901\\t61\\t1\\n1901\\t56\\t1\\n1901\\t61\\t1\\n1901\\t89\\t1\\n1901\\t50\\t1\\n1901\\t50\\t1\\n1901\\t78\\t1\\n1901\\t50\\t1\\n1901\\t50\\t1\\n1901\\t78\\t1\\n1901\\t67\\t1\\n1901\\t-22\\t1\\n1901\\t28\\t1\\n1901\\t22\\t1\\n1901\\t44\\t1\\n1901\\t67\\t1\\n1901\\t50\\t1\\n1901\\t56\\t1\\n1901\\t56\\t1\\n1901\\t50\\t1\\n1901\\t22\\t1\\n1901\\t11\\t1\\n1901\\t0\\t1\\n1901\\t0\\t1\\n1901\\t-22\\t1\\n1901\\t-33\\t1\\n1901\\t-28\\t1\\n1901\\t-11\\t1\\n1901\\t-33\\t1\\n1901\\t-11\\t1\\n1901\\t17\\t1\\n1901\\t-6\\t1\\n1901\\t-28\\t1\\n1901\\t-56\\t1\\n1901\\t-117\\t1\\n1901\\t-67\\t1\\n1901\\t-28\\t1\\n1901\\t-94\\t1\\n1901\\t-106\\t1\\n1901\\t-67\\t1\\n1901\\t-89\\t1\\n1901\\t-67\\t1\\n1901\\t-39\\t1\\n1901\\t-44\\t1\\n1901\\t33\\t1\\n1901\\t-28\\t1\\n1901\\t-67\\t1\\n1901\\t-50\\t1\\n1901\\t-22\\t1\\n1901\\t-17\\t1\\n1901\\t0\\t1\\n1901\\t-6\\t1\\n1901\\t-11\\t1\\n1901\\t-39\\t1\\n1901\\t-28\\t1\\n1901\\t-100\\t1\\n1901\\t-106\\t1\\n1901\\t-11\\t1\\n1901\\t-17\\t1\\n1901\\t0\\t1\\n1901\\t-33\\t1\\n1901\\t-28\\t1\\n1901\\t-28\\t1\\n1901\\t-28\\t1\\n1901\\t-33\\t1\\n1901\\t-28\\t1\\n1901\\t-56\\t1\\n1901\\t-89\\t1\\n1901\\t-100\\t1\\n1901\\t-33\\t1\\n1901\\t11\\t1\\n1901\\t-33\\t1\\n1901\\t-61\\t1\\n1901\\t-117\\t1\\n1901\\t11\\t1\\n1901\\t6\\t1\\n1901\\t22\\t1\\n1901\\t22\\t1\\n1901\\t-6\\t1\\n1901\\t-56\\t1\\n1901\\t11\\t1\\n1901\\t17\\t1\\n1901\\t6\\t1\\n1901\\t-28\\t1\\n1901\\t-39\\t1\\n1901\\t-50\\t1\\n1901\\t-61\\t1\\n1901\\t-44\\t1\\n1901\\t-67\\t1\\n1901\\t-128\\t1\\n1901\\t-100\\t1\\n1901\\t-150\\t1\\n1901\\t-117\\t1\\n1901\\t-94\\t1\\n1901\\t-72\\t1\\n1901\\t-111\\t1\\n1901\\t-22\\t1\\n1901\\t-22\\t1\\n1901\\t-28\\t1\\n1901\\t-44\\t1\\n1901\\t-83\\t1\\n1901\\t-106\\t1\\n1901\\t-106\\t1\\n1901\\t-167\\t1\\n1901\\t-22\\t1\\n1901\\t-11\\t1\\n1901\\t-6\\t1\\n1901\\t11\\t1\\n1901\\t11\\t1\\n1901\\t11\\t1\\n1901\\t0\\t1\\n1901\\t28\\t1\\n1901\\t22\\t1\\n1901\\t17\\t1\\n1901\\t11\\t1\\n1901\\t6\\t1\\n1901\\t-6\\t1\\n1901\\t-6\\t1\\n1901\\t-39\\t1\\n1901\\t-100\\t1\\n1901\\t-111\\t1\\n1901\\t-122\\t1\\n1901\\t-139\\t1\\n1901\\t-111\\t1\\n1901\\t-100\\t1\\n1901\\t-100\\t1\\n1901\\t-100\\t1\\n1901\\t-150\\t1\\n1901\\t-139\\t1\\n1901\\t-133\\t1\\n1901\\t-161\\t1\\n1901\\t-111\\t1\\n1901\\t-122\\t1\\n1901\\t-144\\t1\\n1901\\t-89\\t1\\n1901\\t-89\\t1\\n1901\\t-83\\t1\\n1901\\t-83\\t1\\n1901\\t-67\\t1\\n1901\\t-78\\t1\\n1901\\t-100\\t1\\n1901\\t-67\\t1\\n1901\\t-89\\t1\\n1901\\t-117\\t1\\n1901\\t-78\\t1\\n1901\\t-50\\t1\\n1901\\t-39\\t1\\n1901\\t-28\\t1\\n1901\\t-17\\t1\\n1901\\t-11\\t1\\n1901\\t-11\\t1\\n1901\\t-17\\t1\\n1901\\t-28\\t1\\n1901\\t-33\\t1\\n1901\\t-89\\t1\\n1901\\t-156\\t1\\n1901\\t-172\\t1\\n1901\\t-206\\t1\\n1901\\t-206\\t1\\n1901\\t-122\\t1\\n1901\\t-156\\t1\\n1901\\t-106\\t1\\n1901\\t-122\\t1\\n1901\\t-122\\t1\\n1901\\t-128\\t1\\n1901\\t-106\\t1\\n1901\\t-94\\t1\\n1901\\t-139\\t1\\n1901\\t-94\\t1\\n1901\\t-111\\t1\\n1901\\t-111\\t1\\n1901\\t-122\\t1\\n1901\\t-111\\t1\\n1901\\t-61\\t1\\n1901\\t-39\\t1\\n1901\\t-22\\t1\\n1901\\t-11\\t1\\n1901\\t-17\\t1\\n1901\\t-6\\t1\\n1901\\t0\\t1\\n1901\\t0\\t1\\n1901\\t-6\\t1\\n1901\\t-106\\t1\\n1901\\t-72\\t1\\n1901\\t-83\\t1\\n1901\\t-50\\t1\\n1901\\t-22\\t1\\n1901\\t-11\\t1\\n1901\\t-22\\t1\\n1901\\t-22\\t1\\n1901\\t-22\\t1\\n1901\\t-17\\t1\\n1901\\t-17\\t1\\n1901\\t-17\\t1\\n1901\\t0\\t1\\n1901\\t11\\t1\\n1901\\t11\\t1\\n1901\\t0\\t1\\n1901\\t-6\\t1\\n1901\\t-6\\t1\\n1901\\t-11\\t1\\n1901\\t-6\\t1\\n1901\\t-6\\t1\\n1901\\t-11\\t1\\n1901\\t-17\\t1\\n1901\\t-17\\t1\\n1901\\t6\\t1\\n1901\\t6\\t1\\n1901\\t6\\t1\\n1901\\t6\\t1\\n1901\\t6\\t1\\n1901\\t11\\t1\\n1901\\t-11\\t1\\n1901\\t-22\\t1\\n1901\\t-11\\t1\\n1901\\t-11\\t1\\n1901\\t11\\t1\\n1901\\t11\\t1\\n1901\\t11\\t1\\n1901\\t6\\t1\\n1901\\t17\\t1\\n1901\\t6\\t1\\n1901\\t-6\\t1\\n1901\\t-28\\t1\\n1901\\t-11\\t1\\n1901\\t-22\\t1\\n1901\\t-17\\t1\\n1901\\t-11\\t1\\n1901\\t-6\\t1\\n1901\\t11\\t1\\n1901\\t0\\t1\\n1901\\t0\\t1\\n1901\\t0\\t1\\n1901\\t-22\\t1\\n1901\\t-28\\t1\\n1901\\t-11\\t1\\n1901\\t11\\t1\\n1901\\t11\\t1\\n1901\\t11\\t1\\n1901\\t11\\t1\\n1901\\t22\\t1\\n1901\\t6\\t1\\n1901\\t6\\t1\\n1901\\t-11\\t1\\n1901\\t0\\t1\\n1901\\t17\\t1\\n1901\\t39\\t1\\n1901\\t44\\t1\\n1901\\t28\\t1\\n1901\\t39\\t1\\n1901\\t28\\t1\\n1901\\t28\\t1\\n1901\\t22\\t1\\n1901\\t33\\t1\\n1901\\t11\\t1\\n1901\\t17\\t1\\n1901\\t28\\t1\\n1901\\t22\\t1\\n1901\\t22\\t1\\n1901\\t11\\t1\\n1901\\t-6\\t1\\n1901\\t-11\\t1\\n1901\\t-6\\t1\\n1901\\t-11\\t1\\n1901\\t-22\\t1\\n1901\\t-17\\t1\\n1901\\t-22\\t1\\n1901\\t-28\\t1\\n1901\\t-44\\t1\\n1901\\t-22\\t1\\n1901\\t-6\\t1\\n1901\\t-6\\t1\\n1901\\t-22\\t1\\n1901\\t-33\\t1\\n1901\\t-44\\t1\\n1901\\t-6\\t1\\n1901\\t17\\t1\\n1901\\t11\\t1\\n1901\\t-44\\t1\\n1901\\t-50\\t1\\n1901\\t-33\\t1\\n1901\\t-28\\t1\\n1901\\t-33\\t1\\n1901\\t0\\t1\\n1901\\t-6\\t1\\n1901\\t0\\t1\\n1901\\t6\\t1\\n1901\\t0\\t1\\n1901\\t17\\t1\\n1901\\t6\\t1\\n1901\\t-11\\t1\\n1901\\t-22\\t1\\n1901\\t-28\\t1\\n1901\\t-22\\t1\\n1901\\t-28\\t1\\n1901\\t-17\\t1\\n1901\\t-6\\t1\\n1901\\t0\\t1\\n1901\\t-6\\t1\\n1901\\t11\\t1\\n1901\\t0\\t1\\n1901\\t0\\t1\\n1901\\t-56\\t1\\n1901\\t-50\\t1\\n1901\\t-28\\t1\\n1901\\t-100\\t1\\n1901\\t-94\\t1\\n1901\\t-83\\t1\\n1901\\t-72\\t1\\n1901\\t-89\\t1\\n1901\\t-94\\t1\\n1901\\t-78\\t1\\n1901\\t-67\\t1\\n1901\\t-56\\t1\\n1901\\t-50\\t1\\n1901\\t-56\\t1\\n1901\\t-72\\t1\\n1901\\t-89\\t1\\n1901\\t-89\\t1\\n1901\\t-78\\t1\\n1901\\t-28\\t1\\n1901\\t-33\\t1\\n1901\\t-11\\t1\\n1901\\t-44\\t1\\n1901\\t-56\\t1\\n1901\\t-78\\t1\\n1901\\t-61\\t1\\n1901\\t-50\\t1\\n1901\\t-72\\t1\\n1901\\t-67\\t1\\n1901\\t-50\\t1\\n1901\\t-50\\t1\\n1901\\t-39\\t1\\n1901\\t-56\\t1\\n1901\\t-56\\t1\\n1901\\t-44\\t1\\n1901\\t-33\\t1\\n1901\\t-17\\t1\\n1901\\t-33\\t1\\n1901\\t-56\\t1\\n1901\\t-33\\t1\\n1901\\t-11\\t1\\n1901\\t0\\t1\\n1901\\t-83\\t1\\n1901\\t-89\\t1\\n1901\\t-78\\t1\\n1901\\t-78\\t1\\n1901\\t-94\\t1\\n1901\\t-33\\t1\\n1901\\t-11\\t1\\n1901\\t-39\\t1\\n1901\\t-6\\t1\\n1901\\t-17\\t1\\n1901\\t0\\t1\\n1901\\t6\\t1\\n1901\\t6\\t1\\n1901\\t-6\\t1\\n1901\\t-44\\t1\\n1901\\t-44\\t1\\n1901\\t-67\\t1\\n1901\\t-67\\t1\\n1901\\t-56\\t1\\n1901\\t-56\\t1\\n1901\\t-61\\t1\\n1901\\t-61\\t1\\n1901\\t-83\\t1\\n1901\\t-89\\t1\\n1901\\t-61\\t1\\n1901\\t-11\\t1\\n1901\\t-17\\t1\\n1901\\t-6\\t1\\n1901\\t0\\t1\\n1901\\t6\\t1\\n1901\\t11\\t1\\n1901\\t11\\t1\\n1901\\t6\\t1\\n1901\\t6\\t1\\n1901\\t-11\\t1\\n1901\\t17\\t1\\n1901\\t0\\t1\\n1901\\t-6\\t1\\n1901\\t-17\\t1\\n1901\\t-22\\t1\\n1901\\t-17\\t1\\n1901\\t-11\\t1\\n1901\\t0\\t1\\n1901\\t11\\t1\\n1901\\t17\\t1\\n1901\\t28\\t1\\n1901\\t17\\t1\\n1901\\t17\\t1\\n1901\\t22\\t1\\n1901\\t0\\t1\\n1901\\t6\\t1\\n1901\\t11\\t1\\n1901\\t6\\t1\\n1901\\t17\\t1\\n1901\\t11\\t1\\n1901\\t17\\t1\\n1901\\t22\\t1\\n1901\\t6\\t1\\n1901\\t0\\t1\\n1901\\t22\\t1\\n1901\\t11\\t1\\n1901\\t6\\t1\\n1901\\t17\\t1\\n1901\\t6\\t1\\n1901\\t6\\t1\\n1901\\t6\\t1\\n1901\\t-6\\t1\\n1901\\t-22\\t1\\n1901\\t-6\\t1\\n1901\\t-17\\t1\\n1901\\t-22\\t1\\n1901\\t-22\\t1\\n1901\\t-11\\t1\\n1901\\t-6\\t1\\n1901\\t-11\\t1\\n1901\\t-17\\t1\\n1901\\t-28\\t1\\n1901\\t-33\\t1\\n1901\\t-22\\t1\\n1901\\t-11\\t1\\n1901\\t0\\t1\\n1901\\t0\\t1\\n1901\\t6\\t1\\n1901\\t17\\t1\\n1901\\t33\\t1\\n1901\\t0\\t1\\n1901\\t6\\t1\\n1901\\t6\\t1\\n1901\\t-56\\t1\\n1901\\t-83\\t1\\n1901\\t-78\\t1\\n1901\\t-50\\t1\\n1901\\t-50\\t1\\n1901\\t-67\\t1\\n1901\\t-61\\t1\\n1901\\t-50\\t1\\n1901\\t-39\\t1\\n1901\\t-22\\t1\\n1901\\t-33\\t1\\n1901\\t-44\\t1\\n1901\\t-39\\t1\\n1901\\t-33\\t1\\n1901\\t-28\\t1\\n1901\\t-22\\t1\\n1901\\t-22\\t1\\n1901\\t-39\\t1\\n1901\\t-28\\t1\\n1901\\t-17\\t1\\n1901\\t11\\t1\\n1901\\t22\\t1\\n1901\\t28\\t1\\n1901\\t22\\t1\\n1901\\t17\\t1\\n1901\\t39\\t1\\n1901\\t28\\t1\\n1901\\t17\\t1\\n1901\\t22\\t1\\n1901\\t28\\t1\\n1901\\t28\\t1\\n1901\\t17\\t1\\n1901\\t28\\t1\\n1901\\t6\\t1\\n1901\\t22\\t1\\n1901\\t28\\t1\\n1901\\t0\\t1\\n1901\\t11\\t1\\n1901\\t-6\\t1\\n1901\\t11\\t1\\n1901\\t11\\t1\\n1901\\t28\\t1\\n1901\\t39\\t1\\n1901\\t28\\t1\\n1901\\t17\\t1\\n1901\\t11\\t1\\n1901\\t17\\t1\\n1901\\t28\\t1\\n1901\\t22\\t1\\n1901\\t33\\t1\\n1901\\t28\\t1\\n1901\\t28\\t1\\n1901\\t28\\t1\\n1901\\t28\\t1\\n1901\\t22\\t1\\n1901\\t28\\t1\\n1901\\t-11\\t1\\n1901\\t0\\t1\\n1901\\t6\\t1\\n1901\\t22\\t1\\n1901\\t6\\t1\\n1901\\t22\\t1\\n1901\\t11\\t1\\n1901\\t-17\\t1\\n1901\\t-17\\t1\\n1901\\t-11\\t1\\n1901\\t-6\\t1\\n1901\\t28\\t1\\n1901\\t17\\t1\\n1901\\t6\\t1\\n1901\\t6\\t1\\n1901\\t-6\\t1\\n1901\\t-6\\t1\\n1901\\t22\\t1\\n1901\\t17\\t1\\n1901\\t22\\t1\\n1901\\t44\\t1\\n1901\\t17\\t1\\n1901\\t39\\t1\\n1901\\t22\\t1\\n1901\\t39\\t1\\n1901\\t-6\\t1\\n1901\\t6\\t1\\n1901\\t-6\\t1\\n1901\\t-17\\t1\\n1901\\t28\\t1\\n1901\\t17\\t1\\n1901\\t33\\t1\\n1901\\t44\\t1\\n1901\\t39\\t1\\n1901\\t33\\t1\\n1901\\t22\\t1\\n1901\\t28\\t1\\n1901\\t28\\t1\\n1901\\t22\\t1\\n1901\\t28\\t1\\n1901\\t28\\t1\\n1901\\t33\\t1\\n1901\\t22\\t1\\n1901\\t28\\t1\\n1901\\t33\\t1\\n1901\\t44\\t1\\n1901\\t44\\t1\\n1901\\t44\\t1\\n1901\\t50\\t1\\n1901\\t50\\t1\\n1901\\t72\\t1\\n1901\\t94\\t1\\n1901\\t111\\t1\\n1901\\t56\\t1\\n1901\\t39\\t1\\n1901\\t44\\t1\\n1901\\t72\\t1\\n1901\\t56\\t1\\n1901\\t67\\t1\\n1901\\t167\\t1\\n1901\\t78\\t1\\n1901\\t50\\t1\\n1901\\t72\\t1\\n1901\\t44\\t1\\n1901\\t33\\t1\\n1901\\t17\\t1\\n1901\\t17\\t1\\n1901\\t6\\t1\\n1901\\t6\\t1\\n1901\\t-6\\t1\\n1901\\t28\\t1\\n1901\\t0\\t1\\n1901\\t6\\t1\\n1901\\t0\\t1\\n1901\\t6\\t1\\n1901\\t11\\t1\\n1901\\t22\\t1\\n1901\\t28\\t1\\n1901\\t33\\t1\\n1901\\t33\\t1\\n1901\\t39\\t1\\n1901\\t39\\t1\\n1901\\t44\\t1\\n1901\\t56\\t1\\n1901\\t56\\t1\\n1901\\t89\\t1\\n1901\\t89\\t1\\n1901\\t78\\t1\\n1901\\t89\\t1\\n1901\\t144\\t1\\n1901\\t94\\t1\\n1901\\t117\\t1\\n1901\\t117\\t1\\n1901\\t106\\t1\\n1901\\t111\\t1\\n1901\\t106\\t1\\n1901\\t100\\t1\\n1901\\t111\\t1\\n1901\\t122\\t1\\n1901\\t94\\t1\\n1901\\t67\\t1\\n1901\\t50\\t1\\n1901\\t56\\t1\\n1901\\t22\\t1\\n1901\\t28\\t1\\n1901\\t33\\t1\\n1901\\t22\\t1\\n1901\\t28\\t1\\n1901\\t22\\t1\\n1901\\t56\\t1\\n1901\\t67\\t1\\n1901\\t44\\t1\\n1901\\t50\\t1\\n1901\\t44\\t1\\n1901\\t44\\t1\\n1901\\t61\\t1\\n1901\\t78\\t1\\n1901\\t56\\t1\\n1901\\t67\\t1\\n1901\\t83\\t1\\n1901\\t83\\t1\\n1901\\t128\\t1\\n1901\\t106\\t1\\n1901\\t106\\t1\\n1901\\t72\\t1\\n1901\\t83\\t1\\n1901\\t67\\t1\\n1901\\t94\\t1\\n1901\\t94\\t1\\n1901\\t94\\t1\\n1901\\t111\\t1\\n1901\\t117\\t1\\n1901\\t106\\t1\\n1901\\t106\\t1\\n1901\\t89\\t1\\n1901\\t89\\t1\\n1901\\t94\\t1\\n1901\\t111\\t1\\n1901\\t94\\t1\\n1901\\t100\\t1\\n1901\\t78\\t1\\n1901\\t67\\t1\\n1901\\t78\\t1\\n1901\\t100\\t1\\n1901\\t78\\t1\\n1901\\t106\\t1\\n1901\\t106\\t1\\n1901\\t78\\t1\\n1901\\t106\\t1\\n1901\\t106\\t1\\n1901\\t83\\t1\\n1901\\t111\\t1\\n1901\\t94\\t1\\n1901\\t106\\t1\\n1901\\t89\\t1\\n1901\\t111\\t1\\n1901\\t100\\t1\\n1901\\t94\\t1\\n1901\\t111\\t1\\n1901\\t106\\t1\\n1901\\t89\\t1\\n1901\\t111\\t1\\n1901\\t111\\t1\\n1901\\t150\\t1\\n1901\\t189\\t1\\n1901\\t144\\t1\\n1901\\t133\\t1\\n1901\\t139\\t1\\n1901\\t128\\t1\\n1901\\t128\\t1\\n1901\\t133\\t1\\n1901\\t139\\t1\\n1901\\t167\\t1\\n1901\\t172\\t1\\n1901\\t133\\t1\\n1901\\t117\\t1\\n1901\\t117\\t1\\n1901\\t94\\t1\\n1901\\t111\\t1\\n1901\\t133\\t1\\n1901\\t111\\t1\\n1901\\t89\\t1\\n1901\\t94\\t1\\n1901\\t83\\t1\\n1901\\t94\\t1\\n1901\\t94\\t1\\n1901\\t78\\t1\\n1901\\t89\\t1\\n1901\\t78\\t1\\n1901\\t83\\t1\\n1901\\t94\\t1\\n1901\\t117\\t1\\n1901\\t94\\t1\\n1901\\t83\\t1\\n1901\\t111\\t1\\n1901\\t83\\t1\\n1901\\t106\\t1\\n1901\\t100\\t1\\n1901\\t89\\t1\\n1901\\t111\\t1\\n1901\\t122\\t1\\n1901\\t111\\t1\\n1901\\t106\\t1\\n1901\\t128\\t1\\n1901\\t94\\t1\\n1901\\t94\\t1\\n1901\\t117\\t1\\n1901\\t106\\t1\\n1901\\t94\\t1\\n1901\\t161\\t1\\n1901\\t133\\t1\\n1901\\t150\\t1\\n1901\\t150\\t1\\n1901\\t156\\t1\\n1901\\t156\\t1\\n1901\\t167\\t1\\n1901\\t178\\t1\\n1901\\t156\\t1\\n1901\\t150\\t1\\n1901\\t150\\t1\\n1901\\t156\\t1\\n1901\\t172\\t1\\n1901\\t156\\t1\\n1901\\t172\\t1\\n1901\\t161\\t1\\n1901\\t117\\t1\\n1901\\t128\\t1\\n1901\\t122\\t1\\n1901\\t106\\t1\\n1901\\t111\\t1\\n1901\\t156\\t1\\n1901\\t122\\t1\\n1901\\t156\\t1\\n1901\\t150\\t1\\n1901\\t144\\t1\\n1901\\t128\\t1\\n1901\\t150\\t1\\n1901\\t139\\t1\\n1901\\t133\\t1\\n1901\\t144\\t1\\n1901\\t133\\t1\\n1901\\t144\\t1\\n1901\\t144\\t1\\n1901\\t139\\t1\\n1901\\t128\\t1\\n1901\\t133\\t1\\n1901\\t128\\t1\\n1901\\t122\\t1\\n1901\\t133\\t1\\n1901\\t128\\t1\\n1901\\t133\\t1\\n1901\\t144\\t1\\n1901\\t139\\t1\\n1901\\t144\\t1\\n1901\\t167\\t1\\n1901\\t156\\t1\\n1901\\t156\\t1\\n1901\\t144\\t1\\n1901\\t161\\t1\\n1901\\t144\\t1\\n1901\\t156\\t1\\n1901\\t156\\t1\\n1901\\t150\\t1\\n1901\\t156\\t1\\n1901\\t156\\t1\\n1901\\t167\\t1\\n1901\\t183\\t1\\n1901\\t200\\t1\\n1901\\t178\\t1\\n1901\\t189\\t1\\n1901\\t167\\t1\\n1901\\t161\\t1\\n1901\\t183\\t1\\n1901\\t189\\t1\\n1901\\t194\\t1\\n1901\\t228\\t1\\n1901\\t183\\t1\\n1901\\t183\\t1\\n1901\\t178\\t1\\n1901\\t172\\t1\\n1901\\t144\\t1\\n1901\\t172\\t1\\n1901\\t178\\t1\\n1901\\t172\\t1\\n1901\\t172\\t1\\n1901\\t172\\t1\\n1901\\t183\\t1\\n1901\\t183\\t1\\n1901\\t172\\t1\\n1901\\t228\\t1\\n1901\\t250\\t1\\n1901\\t194\\t1\\n1901\\t222\\t1\\n1901\\t244\\t1\\n1901\\t217\\t1\\n1901\\t222\\t1\\n1901\\t294\\t1\\n1901\\t239\\t1\\n1901\\t233\\t1\\n1901\\t261\\t1\\n1901\\t228\\t1\\n1901\\t261\\t1\\n1901\\t272\\t1\\n1901\\t233\\t1\\n1901\\t250\\t1\\n1901\\t250\\t1\\n1901\\t222\\t1\\n1901\\t217\\t1\\n1901\\t222\\t1\\n1901\\t211\\t1\\n1901\\t217\\t1\\n1901\\t217\\t1\\n1901\\t206\\t1\\n1901\\t217\\t1\\n1901\\t211\\t1\\n1901\\t206\\t1\\n1901\\t244\\t1\\n1901\\t217\\t1\\n1901\\t217\\t1\\n1901\\t217\\t1\\n1901\\t222\\t1\\n1901\\t211\\t1\\n1901\\t222\\t1\\n1901\\t228\\t1\\n1901\\t206\\t1\\n1901\\t211\\t1\\n1901\\t211\\t1\\n1901\\t206\\t1\\n1901\\t217\\t1\\n1901\\t211\\t1\\n1901\\t189\\t1\\n1901\\t194\\t1\\n1901\\t189\\t1\\n1901\\t183\\t1\\n1901\\t211\\t1\\n1901\\t222\\t1\\n1901\\t200\\t1\\n1901\\t178\\t1\\n1901\\t200\\t1\\n1901\\t161\\t1\\n1901\\t183\\t1\\n1901\\t178\\t1\\n1901\\t189\\t1\\n1901\\t156\\t1\\n1901\\t183\\t1\\n1901\\t183\\t1\\n1901\\t161\\t1\\n1901\\t178\\t1\\n1901\\t172\\t1\\n1901\\t178\\t1\\n1901\\t206\\t1\\n1901\\t178\\t1\\n1901\\t183\\t1\\n1901\\t183\\t1\\n1901\\t167\\t1\\n1901\\t172\\t1\\n1901\\t178\\t1\\n1901\\t172\\t1\\n1901\\t183\\t1\\n1901\\t217\\t1\\n1901\\t178\\t1\\n1901\\t206\\t1\\n1901\\t217\\t1\\n1901\\t178\\t1\\n1901\\t228\\t1\\n1901\\t200\\t1\\n1901\\t194\\t1\\n1901\\t200\\t1\\n1901\\t206\\t1\\n1901\\t244\\t1\\n1901\\t200\\t1\\n1901\\t206\\t1\\n1901\\t206\\t1\\n1901\\t194\\t1\\n1901\\t206\\t1\\n1901\\t206\\t1\\n1901\\t211\\t1\\n1901\\t228\\t1\\n1901\\t200\\t1\\n1901\\t206\\t1\\n1901\\t228\\t1\\n1901\\t194\\t1\\n1901\\t183\\t1\\n1901\\t172\\t1\\n1901\\t183\\t1\\n1901\\t178\\t1\\n1901\\t189\\t1\\n1901\\t194\\t1\\n1901\\t228\\t1\\n1901\\t200\\t1\\n1901\\t172\\t1\\n1901\\t172\\t1\\n1901\\t172\\t1\\n1901\\t156\\t1\\n1901\\t178\\t1\\n1901\\t178\\t1\\n1901\\t178\\t1\\n1901\\t167\\t1\\n1901\\t156\\t1\\n1901\\t172\\t1\\n1901\\t150\\t1\\n1901\\t139\\t1\\n1901\\t144\\t1\\n1901\\t139\\t1\\n1901\\t139\\t1\\n1901\\t156\\t1\\n1901\\t161\\t1\\n1901\\t178\\t1\\n1901\\t167\\t1\\n1901\\t178\\t1\\n1901\\t178\\t1\\n1901\\t150\\t1\\n1901\\t156\\t1\\n1901\\t161\\t1\\n1901\\t156\\t1\\n1901\\t189\\t1\\n1901\\t172\\t1\\n1901\\t161\\t1\\n1901\\t144\\t1\\n1901\\t133\\t1\\n1901\\t156\\t1\\n1901\\t156\\t1\\n1901\\t144\\t1\\n1901\\t144\\t1\\n1901\\t133\\t1\\n1901\\t117\\t1\\n1901\\t111\\t1\\n1901\\t111\\t1\\n1901\\t100\\t1\\n1901\\t94\\t1\\n1901\\t100\\t1\\n1901\\t106\\t1\\n1901\\t94\\t1\\n1901\\t117\\t1\\n1901\\t122\\t1\\n1901\\t106\\t1\\n1901\\t117\\t1\\n1901\\t117\\t1\\n1901\\t117\\t1\\n1901\\t128\\t1\\n1901\\t117\\t1\\n1901\\t122\\t1\\n1901\\t139\\t1\\n1901\\t117\\t1\\n1901\\t128\\t1\\n1901\\t133\\t1\\n1901\\t128\\t1\\n1901\\t144\\t1\\n1901\\t172\\t1\\n1901\\t133\\t1\\n1901\\t144\\t1\\n1901\\t144\\t1\\n1901\\t128\\t1\\n1901\\t150\\t1\\n1901\\t144\\t1\\n1901\\t139\\t1\\n1901\\t150\\t1\\n1901\\t144\\t1\\n1901\\t139\\t1\\n1901\\t144\\t1\\n1901\\t161\\t1\\n1901\\t133\\t1\\n1901\\t133\\t1\\n1901\\t144\\t1\\n1901\\t139\\t1\\n1901\\t122\\t1\\n1901\\t117\\t1\\n1901\\t133\\t1\\n1901\\t133\\t1\\n1901\\t144\\t1\\n1901\\t150\\t1\\n1901\\t128\\t1\\n1901\\t128\\t1\\n1901\\t144\\t1\\n1901\\t144\\t1\\n1901\\t139\\t1\\n1901\\t128\\t1\\n1901\\t133\\t1\\n1901\\t161\\t1\\n1901\\t144\\t1\\n1901\\t144\\t1\\n1901\\t150\\t1\\n1901\\t150\\t1\\n1901\\t144\\t1\\n1901\\t150\\t1\\n1901\\t139\\t1\\n1901\\t144\\t1\\n1901\\t150\\t1\\n1901\\t144\\t1\\n1901\\t156\\t1\\n1901\\t156\\t1\\n1901\\t156\\t1\\n1901\\t172\\t1\\n1901\\t167\\t1\\n1901\\t150\\t1\\n1901\\t156\\t1\\n1901\\t161\\t1\\n1901\\t150\\t1\\n1901\\t144\\t1\\n1901\\t167\\t1\\n1901\\t144\\t1\\n1901\\t144\\t1\\n1901\\t150\\t1\\n1901\\t156\\t1\\n1901\\t139\\t1\\n1901\\t144\\t1\\n1901\\t161\\t1\\n1901\\t150\\t1\\n1901\\t156\\t1\\n1901\\t156\\t1\\n1901\\t156\\t1\\n1901\\t156\\t1\\n1901\\t144\\t1\\n1901\\t139\\t1\\n1901\\t139\\t1\\n1901\\t133\\t1\\n1901\\t139\\t1\\n1901\\t133\\t1\\n1901\\t133\\t1\\n1901\\t133\\t1\\n1901\\t139\\t1\\n1901\\t139\\t1\\n1901\\t139\\t1\\n1901\\t150\\t1\\n1901\\t144\\t1\\n1901\\t133\\t1\\n1901\\t144\\t1\\n1901\\t139\\t1\\n1901\\t133\\t1\\n1901\\t133\\t1\\n1901\\t122\\t1\\n1901\\t100\\t1\\n1901\\t133\\t1\\n1901\\t106\\t1\\n1901\\t100\\t1\\n1901\\t106\\t1\\n1901\\t117\\t1\\n1901\\t106\\t1\\n1901\\t100\\t1\\n1901\\t106\\t1\\n1901\\t106\\t1\\n1901\\t122\\t1\\n1901\\t100\\t1\\n1901\\t106\\t1\\n1901\\t117\\t1\\n1901\\t100\\t1\\n1901\\t111\\t1\\n1901\\t106\\t1\\n1901\\t89\\t1\\n1901\\t83\\t1\\n1901\\t100\\t1\\n1901\\t100\\t1\\n1901\\t100\\t1\\n1901\\t83\\t1\\n1901\\t100\\t1\\n1901\\t94\\t1\\n1901\\t100\\t1\\n1901\\t100\\t1\\n1901\\t100\\t1\\n1901\\t111\\t1\\n1901\\t106\\t1\\n1901\\t100\\t1\\n1901\\t106\\t1\\n1901\\t111\\t1\\n1901\\t100\\t1\\n1901\\t100\\t1\\n1901\\t100\\t1\\n1901\\t106\\t1\\n1901\\t100\\t1\\n1901\\t106\\t1\\n1901\\t100\\t1\\n1901\\t94\\t1\\n1901\\t94\\t1\\n1901\\t100\\t1\\n1901\\t100\\t1\\n1901\\t100\\t1\\n1901\\t106\\t1\\n1901\\t100\\t1\\n1901\\t106\\t1\\n1901\\t94\\t1\\n1901\\t89\\t1\\n1901\\t94\\t1\\n1901\\t100\\t1\\n1901\\t100\\t1\\n1901\\t100\\t1\\n1901\\t94\\t1\\n1901\\t100\\t1\\n1901\\t100\\t1\\n1901\\t89\\t1\\n1901\\t100\\t1\\n1901\\t100\\t1\\n1901\\t94\\t1\\n1901\\t94\\t1\\n1901\\t100\\t1\\n1901\\t100\\t1\\n1901\\t106\\t1\\n1901\\t100\\t1\\n1901\\t106\\t1\\n1901\\t61\\t1\\n1901\\t67\\t1\\n1901\\t78\\t1\\n1901\\t72\\t1\\n1901\\t61\\t1\\n1901\\t56\\t1\\n1901\\t61\\t1\\n1901\\t72\\t1\\n1901\\t72\\t1\\n1901\\t72\\t1\\n1901\\t67\\t1\\n1901\\t56\\t1\\n1901\\t67\\t1\\n1901\\t61\\t1\\n1901\\t67\\t1\\n1901\\t78\\t1\\n1901\\t72\\t1\\n1901\\t67\\t1\\n1901\\t61\\t1\\n1901\\t61\\t1\\n1901\\t50\\t1\\n1901\\t67\\t1\\n1901\\t56\\t1\\n1901\\t67\\t1\\n1901\\t72\\t1\\n1901\\t61\\t1\\n1901\\t44\\t1\\n1901\\t50\\t1\\n1901\\t44\\t1\\n1901\\t44\\t1\\n1901\\t-6\\t1\\n1901\\t11\\t1\\n1901\\t17\\t1\\n1901\\t22\\t1\\n1901\\t28\\t1\\n1901\\t33\\t1\\n1901\\t39\\t1\\n1901\\t33\\t1\\n1901\\t33\\t1\\n1901\\t-11\\t1\\n1901\\t-11\\t1\\n1901\\t-11\\t1\\n1901\\t0\\t1\\n1901\\t-6\\t1\\n1901\\t0\\t1\\n1901\\t-6\\t1\\n1901\\t-11\\t1\\n1901\\t0\\t1\\n1901\\t6\\t1\\n1901\\t-6\\t1\\n1901\\t17\\t1\\n1901\\t-6\\t1\\n1901\\t-11\\t1\\n1901\\t-28\\t1\\n1901\\t-28\\t1\\n1901\\t-6\\t1\\n1901\\t28\\t1\\n1901\\t22\\t1\\n1901\\t17\\t1\\n1901\\t0\\t1\\n1901\\t0\\t1\\n1901\\t0\\t1\\n1901\\t0\\t1\\n1901\\t11\\t1\\n1901\\t50\\t1\\n1901\\t28\\t1\\n1901\\t17\\t1\\n1901\\t0\\t1\\n1901\\t-11\\t1\\n1901\\t-11\\t1\\n1901\\t-11\\t1\\n1901\\t-17\\t1\\n1901\\t-11\\t1\\n1901\\t-6\\t1\\n1901\\t-17\\t1\\n1901\\t6\\t1\\n1901\\t17\\t1\\n1901\\t6\\t1\\n1901\\t0\\t1\\n1901\\t6\\t1\\n1901\\t28\\t1\\n1901\\t11\\t1\\n1901\\t33\\t1\\n1901\\t39\\t1\\n1901\\t33\\t1\\n1901\\t28\\t1\\n1901\\t28\\t1\\n1901\\t17\\t1\\n1901\\t28\\t1\\n1901\\t22\\t1\\n1901\\t17\\t1\\n1901\\t0\\t1\\n1901\\t-11\\t1\\n1901\\t-17\\t1\\n1901\\t-22\\t1\\n1901\\t-22\\t1\\n1901\\t-28\\t1\\n1901\\t-28\\t1\\n1901\\t-17\\t1\\n1901\\t-22\\t1\\n1901\\t-11\\t1\\n1901\\t-28\\t1\\n1901\\t17\\t1\\n1901\\t17\\t1\\n1901\\t11\\t1\\n1901\\t-6\\t1\\n1901\\t-22\\t1\\n1901\\t-33\\t1\\n1901\\t-28\\t1\\n1901\\t-28\\t1\\n1901\\t6\\t1\\n1901\\t17\\t1\\n1901\\t28\\t1\\n1901\\t28\\t1\\n1901\\t22\\t1\\n1901\\t17\\t1\\n1901\\t28\\t1\\n1901\\t33\\t1\\n1901\\t39\\t1\\n1901\\t28\\t1\\n1901\\t17\\t1\\n1901\\t9999\\t9\\n1901\\t11\\t1\\n1901\\t6\\t1\\n1901\\t0\\t1\\n1901\\t-33\\t1\\n1901\\t-33\\t1\\n1901\\t-50\\t1\\n1901\\t-56\\t1\\n1901\\t-61\\t1\\n1901\\t-61\\t1\\n1901\\t-44\\t1\\n1901\\t-33\\t1\\n1901\\t-33\\t1\\n1901\\t-33\\t1\\n1901\\t-39\\t1\\n1901\\t-39\\t1\\n1901\\t-56\\t1\\n1901\\t-44\\t1\\n1901\\t-61\\t1\\n1901\\t-44\\t1\\n1901\\t-56\\t1\\n1901\\t-56\\t1\\n1901\\t-56\\t1\\n1901\\t-50\\t1\\n1901\\t-33\\t1\\n1901\\t-72\\t1\\n1901\\t-67\\t1\\n1901\\t-28\\t1\\n1901\\t6\\t1\\n1901\\t0\\t1\\n1901\\t-28\\t1\\n1901\\t-22\\t1\\n1901\\t-6\\t1\\n1901\\t6\\t1\\n1901\\t0\\t1\\n1901\\t6\\t1\\n1901\\t11\\t1\\n1901\\t6\\t1\\n1901\\t11\\t1\\n1901\\t11\\t1\\n1901\\t0\\t1\\n1901\\t-6\\t1\\n1901\\t-6\\t1\\n1901\\t-28\\t1\\n1901\\t-28\\t1\\n1901\\t-33\\t1\\n1901\\t-56\\t1\\n1901\\t-67\\t1\\n1901\\t-78\\t1\\n1901\\t-67\\t1\\n1901\\t-67\\t1\\n1901\\t-67\\t1\\n1901\\t-72\\t1\\n1901\\t-61\\t1\\n1901\\t-50\\t1\\n1901\\t-50\\t1\\n1901\\t-33\\t1\\n1901\\t-28\\t1\\n1901\\t-44\\t1\\n1901\\t-44\\t1\\n1901\\t-22\\t1\\n1901\\t17\\t1\\n1901\\t17\\t1\\n1901\\t22\\t1\\n1901\\t17\\t1\\n1901\\t11\\t1\\n1901\\t22\\t1\\n1901\\t28\\t1\\n1901\\t28\\t1\\n1901\\t22\\t1\\n1901\\t-194\\t1\\n1901\\t-172\\t1\\n1901\\t-156\\t1\\n1901\\t-156\\t1\\n1901\\t-156\\t1\\n1901\\t-139\\t1\\n1901\\t-106\\t1\\n1901\\t-39\\t1\\n1901\\t-50\\t1\\n1901\\t-50\\t1\\n1901\\t-50\\t1\\n1901\\t-33\\t1\\n1901\\t-6\\t1\\n1901\\t-6\\t1\\n1901\\t6\\t1\\n1901\\t17\\t1\\n1901\\t11\\t1\\n1901\\t-22\\t1\\n1901\\t-50\\t1\\n1901\\t-83\\t1\\n1901\\t-67\\t1\\n1901\\t-50\\t1\\n1901\\t-72\\t1\\n1901\\t-89\\t1\\n1901\\t-72\\t1\\n1901\\t-78\\t1\\n1901\\t-78\\t1\\n1901\\t-50\\t1\\n1901\\t-33\\t1\\n1901\\t-22\\t1\\n1901\\t-17\\t1\\n1901\\t-22\\t1\\n1901\\t-33\\t1\\n1901\\t-17\\t1\\n1901\\t-56\\t1\\n1901\\t-78\\t1\\n1901\\t-11\\t1\\n1901\\t-72\\t1\\n1901\\t-28\\t1\\n1901\\t-44\\t1\\n1901\\t-89\\t1\\n1901\\t-89\\t1\\n1901\\t-50\\t1\\n1901\\t-50\\t1\\n1901\\t-44\\t1\\n1901\\t-6\\t1\\n1901\\t-6\\t1\\n1901\\t6\\t1\\n1901\\t-11\\t1\\n1901\\t-28\\t1\\n1901\\t-56\\t1\\n1901\\t-56\\t1\\n1901\\t-83\\t1\\n1901\\t-89\\t1\\n1901\\t-78\\t1\\n1901\\t-83\\t1\\n1901\\t-11\\t1\\n1901\\t-6\\t1\\n1901\\t-11\\t1\\n1901\\t-28\\t1\\n1901\\t-39\\t1\\n1901\\t-67\\t1\\n1901\\t-161\\t1\\n1901\\t-56\\t1\\n1901\\t-22\\t1\\n1901\\t-17\\t1\\n1901\\t-6\\t1\\n1901\\t6\\t1\\n1901\\t-28\\t1\\n1901\\t-17\\t1\\n1901\\t-17\\t1\\n1901\\t-44\\t1\\n1901\\t-22\\t1\\n1901\\t-6\\t1\\n1901\\t6\\t1\\n1901\\t11\\t1\\n1901\\t6\\t1\\n1901\\t-6\\t1\\n1901\\t-6\\t1\\n1901\\t-17\\t1\\n1901\\t-28\\t1\\n1901\\t-28\\t1\\n1901\\t-17\\t1\\n1901\\t0\\t1\\n1901\\t-11\\t1\\n1901\\t-28\\t1\\n1901\\t-72\\t1\\n1901\\t-67\\t1\\n1901\\t-100\\t1\\n1901\\t-78\\t1\\n1901\\t-33\\t1\\n1901\\t-33\\t1\\n1901\\t-39\\t1\\n1901\\t-61\\t1\\n1901\\t-83\\t1\\n1901\\t-33\\t1\\n1901\\t-33\\t1\\n1901\\t-83\\t1\\n1901\\t-100\\t1\\n1901\\t-83\\t1\\n1901\\t-122\\t1\\n1901\\t-94\\t1\\n1901\\t-72\\t1\\n1901\\t-67\\t1\\n1901\\t-50\\t1\\n1901\\t-22\\t1\\n1901\\t-44\\t1\\n1901\\t-33\\t1\\n1901\\t-22\\t1\\n1901\\t-61\\t1\\n1901\\t-106\\t1\\n1901\\t-67\\t1\\n1901\\t-161\\t1\\n1901\\t-117\\t1\\n1901\\t-100\\t1\\n1901\\t-144\\t1\\n1901\\t-200\\t1\\n1901\\t-33\\t1\\n1901\\t-106\\t1\\n1901\\t-206\\t1\\n1901\\t-133\\t1\\n1901\\t-256\\t1\\n1901\\t-233\\t1\\n1901\\t-183\\t1\\n1901\\t-206\\t1\\n1901\\t-244\\t1\\n1901\\t-167\\t1\\n1901\\t-206\\t1\\n1901\\t-206\\t1\\n1901\\t-167\\t1\\n1901\\t-250\\t1\\n1901\\t-328\\t1\\n1901\\t-183\\t1\\n1901\\t-167\\t1\\n1901\\t-167\\t1\\n1901\\t-150\\t1\\n1901\\t-267\\t1\\n1901\\t-333\\t1\\n1901\\t-161\\t1\\n1901\\t-178\\t1\\n1901\\t-228\\t1\\n1901\\t-133\\t1\\n1901\\t-117\\t1\\n1901\\t-156\\t1\\n1901\\t-117\\t1\\n1901\\t-233\\t1\\n1901\\t-167\\t1\\n1901\\t-139\\t1\\n1901\\t-139\\t1\\n1901\\t-161\\t1\\n1901\\t-139\\t1\\n1901\\t-139\\t1\\n1901\\t-117\\t1\\n1901\\t-78\\t1\\n1901\\t-106\\t1\\n1901\\t-67\\t1\\n1901\\t-100\\t1\\n1901\\t-128\\t1\\n1901\\t-161\\t1\\n1901\\t-128\\t1\\n1901\\t-139\\t1\\n1901\\t-106\\t1\\n1901\\t-72\\t1\\n1901\\t-128\\t1\\n1901\\t-211\\t1\\n1901\\t-167\\t1\\n1901\\t-178\\t1\\n1901\\t-133\\t1\\n1901\\t-117\\t1\\n1901\\t-172\\t1\\n1901\\t-133\\t1\\n1901\\t-61\\t1\\n1901\\t-72\\t1\\n1901\\t-83\\t1\\n1901\\t-61\\t1\\n1901\\t-117\\t1\\n1901\\t-200\\t1\\n1901\\t-94\\t1\\n1901\\t-133\\t1\\n1901\\t-150\\t1\\n1901\\t-78\\t1\\n1901\\t-106\\t1\\n1901\\t-67\\t1\\n1901\\t-22\\t1\\n1901\\t-28\\t1\\n1901\\t-33\\t1\\n1901\\t-22\\t1\\n1901\\t-56\\t1\\n1901\\t-72\\t1\\n1901\\t-56\\t1\\n1901\\t-44\\t1\\n1901\\t-78\\t1\\n1901\\t-44\\t1\\n1901\\t-67\\t1\\n1901\\t-128\\t1\\n1901\\t-56\\t1\\n1901\\t-133\\t1\\n1901\\t-189\\t1\\n1901\\t-67\\t1\\n1901\\t-172\\t1\\n1901\\t-194\\t1\\n1901\\t-50\\t1\\n1901\\t-89\\t1\\n1901\\t-17\\t1\\n1901\\t22\\t1\\n1901\\t-17\\t1\\n1901\\t-67\\t1\\n1901\\t11\\t1\\n1901\\t11\\t1\\n1901\\t-17\\t1\\n1901\\t0\\t1\\n1901\\t-50\\t1\\n1901\\t-100\\t1\\n1901\\t6\\t1\\n1901\\t33\\t1\\n1901\\t-72\\t1\\n1901\\t6\\t1\\n1901\\t-61\\t1\\n1901\\t-183\\t1\\n1901\\t11\\t1\\n1901\\t-61\\t1\\n1901\\t-133\\t1\\n1901\\t6\\t1\\n1901\\t-78\\t1\\n1901\\t-56\\t1\\n1901\\t-6\\t1\\n1901\\t-11\\t1\\n1901\\t-61\\t1\\n1901\\t6\\t1\\n1901\\t-100\\t1\\n1901\\t-167\\t1\\n1901\\t6\\t1\\n1901\\t-106\\t1\\n1901\\t-106\\t1\\n1901\\t-6\\t1\\n1901\\t-61\\t1\\n1901\\t-89\\t1\\n1901\\t-22\\t1\\n1901\\t-106\\t1\\n1901\\t-183\\t1\\n1901\\t0\\t1\\n1901\\t-94\\t1\\n1901\\t-144\\t1\\n1901\\t33\\t1\\n1901\\t-22\\t1\\n1901\\t-6\\t1\\n1901\\t50\\t1\\n1901\\t11\\t1\\n1901\\t-100\\t1\\n1901\\t-94\\t1\\n1901\\t-106\\t1\\n1901\\t-144\\t1\\n1901\\t-67\\t1\\n1901\\t-106\\t1\\n1901\\t-111\\t1\\n1901\\t-50\\t1\\n1901\\t-94\\t1\\n1901\\t-194\\t1\\n1901\\t-33\\t1\\n1901\\t-111\\t1\\n1901\\t-167\\t1\\n1901\\t-22\\t1\\n1901\\t-144\\t1\\n1901\\t-194\\t1\\n1901\\t-6\\t1\\n1901\\t-39\\t1\\n1901\\t-56\\t1\\n1901\\t-6\\t1\\n1901\\t-67\\t1\\n1901\\t-44\\t1\\n1901\\t6\\t1\\n1901\\t33\\t1\\n1901\\t28\\t1\\n1901\\t28\\t1\\n1901\\t22\\t1\\n1901\\t0\\t1\\n1901\\t28\\t1\\n1901\\t0\\t1\\n1901\\t0\\t1\\n1901\\t11\\t1\\n1901\\t11\\t1\\n1901\\t17\\t1\\n1901\\t17\\t1\\n1901\\t0\\t1\\n1901\\t0\\t1\\n1901\\t28\\t1\\n1901\\t11\\t1\\n1901\\t-17\\t1\\n1901\\t33\\t1\\n1901\\t-22\\t1\\n1901\\t-17\\t1\\n1901\\t33\\t1\\n1901\\t-28\\t1\\n1901\\t-28\\t1\\n1901\\t33\\t1\\n1901\\t-6\\t1\\n1901\\t0\\t1\\n1901\\t28\\t1\\n1901\\t22\\t1\\n1901\\t22\\t1\\n1901\\t39\\t1\\n1901\\t22\\t1\\n1901\\t17\\t1\\n1901\\t50\\t1\\n1901\\t11\\t1\\n1901\\t6\\t1\\n1901\\t33\\t1\\n1901\\t-6\\t1\\n1901\\t-33\\t1\\n1901\\t-11\\t1\\n1901\\t-33\\t1\\n1901\\t-44\\t1\\n1901\\t-33\\t1\\n1901\\t-33\\t1\\n1901\\t-33\\t1\\n1901\\t6\\t1\\n1901\\t-11\\t1\\n1901\\t33\\t1\\n1901\\t78\\t1\\n1901\\t61\\t1\\n1901\\t28\\t1\\n1901\\t100\\t1\\n1901\\t39\\t1\\n1901\\t6\\t1\\n1901\\t50\\t1\\n1901\\t17\\t1\\n1901\\t-6\\t1\\n1901\\t61\\t1\\n1901\\t11\\t1\\n1901\\t28\\t1\\n1901\\t67\\t1\\n1901\\t-6\\t1\\n1901\\t6\\t1\\n1901\\t67\\t1\\n1901\\t33\\t1\\n1901\\t22\\t1\\n1901\\t39\\t1\\n1901\\t22\\t1\\n1901\\t6\\t1\\n1901\\t22\\t1\\n1901\\t-22\\t1\\n1901\\t-17\\t1\\n1901\\t72\\t1\\n1901\\t17\\t1\\n1901\\t33\\t1\\n1901\\t106\\t1\\n1901\\t28\\t1\\n1901\\t39\\t1\\n1901\\t144\\t1\\n1901\\t56\\t1\\n1901\\t39\\t1\\n1901\\t172\\t1\\n1901\\t61\\t1\\n1901\\t67\\t1\\n1901\\t161\\t1\\n1901\\t72\\t1\\n1901\\t6\\t1\\n1901\\t78\\t1\\n1901\\t11\\t1\\n1901\\t22\\t1\\n1901\\t117\\t1\\n1901\\t44\\t1\\n1901\\t50\\t1\\n1901\\t172\\t1\\n1901\\t83\\t1\\n1901\\t78\\t1\\n1901\\t133\\t1\\n1901\\t78\\t1\\n1901\\t33\\t1\\n1901\\t22\\t1\\n1901\\t0\\t1\\n1901\\t-28\\t1\\n1901\\t-6\\t1\\n1901\\t-11\\t1\\n1901\\t-33\\t1\\n1901\\t-33\\t1\\n1901\\t-28\\t1\\n1901\\t-17\\t1\\n1901\\t-11\\t1\\n1901\\t-28\\t1\\n1901\\t-6\\t1\\n1901\\t39\\t1\\n1901\\t6\\t1\\n1901\\t28\\t1\\n1901\\t89\\t1\\n1901\\t33\\t1\\n1901\\t78\\t1\\n1901\\t150\\t1\\n1901\\t67\\t1\\n1901\\t94\\t1\\n1901\\t178\\t1\\n1901\\t94\\t1\\n1901\\t133\\t1\\n1901\\t222\\t1\\n1901\\t133\\t1\\n1901\\t144\\t1\\n1901\\t222\\t1\\n1901\\t172\\t1\\n1901\\t150\\t1\\n1901\\t222\\t1\\n1901\\t172\\t1\\n1901\\t117\\t1\\n1901\\t167\\t1\\n1901\\t122\\t1\\n1901\\t133\\t1\\n1901\\t167\\t1\\n1901\\t117\\t1\\n1901\\t94\\t1\\n1901\\t144\\t1\\n1901\\t89\\t1\\n1901\\t67\\t1\\n1901\\t94\\t1\\n1901\\t56\\t1\\n1901\\t44\\t1\\n1901\\t83\\t1\\n1901\\t61\\t1\\n1901\\t67\\t1\\n1901\\t100\\t1\\n1901\\t44\\t1\\n1901\\t50\\t1\\n1901\\t106\\t1\\n1901\\t56\\t1\\n1901\\t106\\t1\\n1901\\t167\\t1\\n1901\\t89\\t1\\n1901\\t128\\t1\\n1901\\t211\\t1\\n1901\\t106\\t1\\n1901\\t128\\t1\\n1901\\t133\\t1\\n1901\\t78\\t1\\n1901\\t78\\t1\\n1901\\t128\\t1\\n1901\\t72\\t1\\n1901\\t94\\t1\\n1901\\t133\\t1\\n1901\\t94\\t1\\n1901\\t50\\t1\\n1901\\t50\\t1\\n1901\\t33\\t1\\n1901\\t78\\t1\\n1901\\t122\\t1\\n1901\\t94\\t1\\n1901\\t117\\t1\\n1901\\t100\\t1\\n1901\\t33\\t1\\n1901\\t61\\t1\\n1901\\t89\\t1\\n1901\\t61\\t1\\n1901\\t67\\t1\\n1901\\t72\\t1\\n1901\\t56\\t1\\n1901\\t78\\t1\\n1901\\t83\\t1\\n1901\\t106\\t1\\n1901\\t156\\t1\\n1901\\t183\\t1\\n1901\\t133\\t1\\n1901\\t117\\t1\\n1901\\t156\\t1\\n1901\\t128\\t1\\n1901\\t156\\t1\\n1901\\t194\\t1\\n1901\\t133\\t1\\n1901\\t150\\t1\\n1901\\t211\\t1\\n1901\\t156\\t1\\n1901\\t161\\t1\\n1901\\t206\\t1\\n1901\\t139\\t1\\n1901\\t172\\t1\\n1901\\t222\\t1\\n1901\\t178\\t1\\n1901\\t194\\t1\\n1901\\t256\\t1\\n1901\\t167\\t1\\n1901\\t217\\t1\\n1901\\t250\\t1\\n1901\\t156\\t1\\n1901\\t206\\t1\\n1901\\t267\\t1\\n1901\\t161\\t1\\n1901\\t144\\t1\\n1901\\t239\\t1\\n1901\\t172\\t1\\n1901\\t167\\t1\\n1901\\t183\\t1\\n1901\\t122\\t1\\n1901\\t111\\t1\\n1901\\t133\\t1\\n1901\\t100\\t1\\n1901\\t106\\t1\\n1901\\t128\\t1\\n1901\\t89\\t1\\n1901\\t117\\t1\\n1901\\t133\\t1\\n1901\\t100\\t1\\n1901\\t133\\t1\\n1901\\t150\\t1\\n1901\\t106\\t1\\n1901\\t150\\t1\\n1901\\t206\\t1\\n1901\\t144\\t1\\n1901\\t183\\t1\\n1901\\t217\\t1\\n1901\\t161\\t1\\n1901\\t150\\t1\\n1901\\t217\\t1\\n1901\\t183\\t1\\n1901\\t183\\t1\\n1901\\t222\\t1\\n1901\\t167\\t1\\n1901\\t172\\t1\\n1901\\t217\\t1\\n1901\\t178\\t1\\n1901\\t194\\t1\\n1901\\t233\\t1\\n1901\\t189\\t1\\n1901\\t206\\t1\\n1901\\t250\\t1\\n1901\\t183\\t1\\n1901\\t211\\t1\\n1901\\t256\\t1\\n1901\\t183\\t1\\n1901\\t200\\t1\\n1901\\t244\\t1\\n1901\\t183\\t1\\n1901\\t206\\t1\\n1901\\t278\\t1\\n1901\\t211\\t1\\n1901\\t178\\t1\\n1901\\t194\\t1\\n1901\\t161\\t1\\n1901\\t161\\t1\\n1901\\t167\\t1\\n1901\\t139\\t1\\n1901\\t144\\t1\\n1901\\t167\\t1\\n1901\\t139\\t1\\n1901\\t122\\t1\\n1901\\t144\\t1\\n1901\\t133\\t1\\n1901\\t144\\t1\\n1901\\t156\\t1\\n1901\\t133\\t1\\n1901\\t150\\t1\\n1901\\t150\\t1\\n1901\\t122\\t1\\n1901\\t100\\t1\\n1901\\t106\\t1\\n1901\\t83\\t1\\n1901\\t72\\t1\\n1901\\t100\\t1\\n1901\\t94\\t1\\n1901\\t94\\t1\\n1901\\t106\\t1\\n1901\\t94\\t1\\n1901\\t106\\t1\\n1901\\t156\\t1\\n1901\\t122\\t1\\n1901\\t111\\t1\\n1901\\t172\\t1\\n1901\\t117\\t1\\n1901\\t150\\t1\\n1901\\t222\\t1\\n1901\\t144\\t1\\n1901\\t167\\t1\\n1901\\t200\\t1\\n1901\\t156\\t1\\n1901\\t150\\t1\\n1901\\t217\\t1\\n1901\\t172\\t1\\n1901\\t189\\t1\\n1901\\t261\\t1\\n1901\\t189\\t1\\n1901\\t194\\t1\\n1901\\t239\\t1\\n1901\\t178\\t1\\n1901\\t156\\t1\\n1901\\t233\\t1\\n1901\\t172\\t1\\n1901\\t178\\t1\\n1901\\t261\\t1\\n1901\\t172\\t1\\n1901\\t194\\t1\\n1901\\t267\\t1\\n1901\\t178\\t1\\n1901\\t189\\t1\\n1901\\t256\\t1\\n1901\\t183\\t1\\n1901\\t206\\t1\\n1901\\t278\\t1\\n1901\\t211\\t1\\n1901\\t228\\t1\\n1901\\t244\\t1\\n1901\\t200\\t1\\n1901\\t183\\t1\\n1901\\t256\\t1\\n1901\\t189\\t1\\n1901\\t189\\t1\\n1901\\t250\\t1\\n1901\\t183\\t1\\n1901\\t183\\t1\\n1901\\t272\\t1\\n1901\\t178\\t1\\n1901\\t150\\t1\\n1901\\t222\\t1\\n1901\\t144\\t1\\n1901\\t183\\t1\\n1901\\t256\\t1\\n1901\\t156\\t1\\n1901\\t183\\t1\\n1901\\t272\\t1\\n1901\\t172\\t1\\n1901\\t200\\t1\\n1901\\t283\\t1\\n1901\\t178\\t1\\n1901\\t211\\t1\\n1901\\t306\\t1\\n1901\\t183\\t1\\n1901\\t217\\t1\\n1901\\t306\\t1\\n1901\\t206\\t1\\n1901\\t206\\t1\\n1901\\t306\\t1\\n1901\\t211\\t1\\n1901\\t206\\t1\\n1901\\t294\\t1\\n1901\\t222\\t1\\n1901\\t217\\t1\\n1901\\t267\\t1\\n1901\\t194\\t1\\n1901\\t206\\t1\\n1901\\t267\\t1\\n1901\\t172\\t1\\n1901\\t150\\t1\\n1901\\t194\\t1\\n1901\\t133\\t1\\n1901\\t167\\t1\\n1901\\t233\\t1\\n1901\\t172\\t1\\n1901\\t172\\t1\\n1901\\t233\\t1\\n1901\\t133\\t1\\n1901\\t111\\t1\\n1901\\t200\\t1\\n1901\\t133\\t1\\n1901\\t144\\t1\\n1901\\t217\\t1\\n1901\\t172\\t1\\n1901\\t167\\t1\\n1901\\t178\\t1\\n1901\\t167\\t1\\n1901\\t156\\t1\\n1901\\t206\\t1\\n1901\\t161\\t1\\n1901\\t150\\t1\\n1901\\t156\\t1\\n1901\\t133\\t1\\n1901\\t122\\t1\\n1901\\t178\\t1\\n1901\\t133\\t1\\n1901\\t111\\t1\\n1901\\t172\\t1\\n1901\\t133\\t1\\n1901\\t133\\t1\\n1901\\t206\\t1\\n1901\\t128\\t1\\n1901\\t161\\t1\\n1901\\t256\\t1\\n1901\\t189\\t1\\n1901\\t167\\t1\\n1901\\t222\\t1\\n1901\\t133\\t1\\n1901\\t150\\t1\\n1901\\t250\\t1\\n1901\\t150\\t1\\n1901\\t161\\t1\\n1901\\t272\\t1\\n1901\\t150\\t1\\n1901\\t150\\t1\\n1901\\t278\\t1\\n1901\\t161\\t1\\n1901\\t156\\t1\\n1901\\t261\\t1\\n1901\\t172\\t1\\n1901\\t194\\t1\\n1901\\t272\\t1\\n1901\\t178\\t1\\n1901\\t172\\t1\\n1901\\t250\\t1\\n1901\\t183\\t1\\n1901\\t161\\t1\\n1901\\t189\\t1\\n1901\\t150\\t1\\n1901\\t106\\t1\\n1901\\t167\\t1\\n1901\\t100\\t1\\n1901\\t94\\t1\\n1901\\t167\\t1\\n1901\\t122\\t1\\n1901\\t122\\t1\\n1901\\t178\\t1\\n1901\\t133\\t1\\n1901\\t122\\t1\\n1901\\t178\\t1\\n1901\\t117\\t1\\n1901\\t122\\t1\\n1901\\t183\\t1\\n1901\\t133\\t1\\n1901\\t106\\t1\\n1901\\t183\\t1\\n1901\\t133\\t1\\n1901\\t133\\t1\\n1901\\t172\\t1\\n1901\\t133\\t1\\n1901\\t144\\t1\\n1901\\t194\\t1\\n1901\\t144\\t1\\n1901\\t117\\t1\\n1901\\t133\\t1\\n1901\\t83\\t1\\n1901\\t67\\t1\\n1901\\t150\\t1\\n1901\\t83\\t1\\n1901\\t67\\t1\\n1901\\t139\\t1\\n1901\\t56\\t1\\n1901\\t44\\t1\\n1901\\t106\\t1\\n1901\\t50\\t1\\n1901\\t50\\t1\\n1901\\t94\\t1\\n1901\\t50\\t1\\n1901\\t67\\t1\\n1901\\t94\\t1\\n1901\\t56\\t1\\n1901\\t50\\t1\\n1901\\t94\\t1\\n1901\\t44\\t1\\n1901\\t61\\t1\\n1901\\t106\\t1\\n1901\\t72\\t1\\n1901\\t17\\t1\\n1901\\t128\\t1\\n1901\\t106\\t1\\n1901\\t100\\t1\\n1901\\t167\\t1\\n1901\\t72\\t1\\n1901\\t61\\t1\\n1901\\t172\\t1\\n1901\\t78\\t1\\n1901\\t33\\t1\\n1901\\t178\\t1\\n1901\\t78\\t1\\n1901\\t33\\t1\\n1901\\t189\\t1\\n1901\\t50\\t1\\n1901\\t50\\t1\\n1901\\t172\\t1\\n1901\\t78\\t1\\n1901\\t22\\t1\\n1901\\t178\\t1\\n1901\\t67\\t1\\n1901\\t28\\t1\\n1901\\t156\\t1\\n1901\\t72\\t1\\n1901\\t72\\t1\\n1901\\t156\\t1\\n1901\\t67\\t1\\n1901\\t17\\t1\\n1901\\t172\\t1\\n1901\\t78\\t1\\n1901\\t100\\t1\\n1901\\t144\\t1\\n1901\\t111\\t1\\n1901\\t117\\t1\\n1901\\t133\\t1\\n1901\\t122\\t1\\n1901\\t117\\t1\\n1901\\t117\\t1\\n1901\\t122\\t1\\n1901\\t133\\t1\\n1901\\t144\\t1\\n1901\\t117\\t1\\n1901\\t100\\t1\\n1901\\t150\\t1\\n1901\\t117\\t1\\n1901\\t106\\t1\\n1901\\t161\\t1\\n1901\\t89\\t1\\n1901\\t33\\t1\\n1901\\t161\\t1\\n1901\\t67\\t1\\n1901\\t72\\t1\\n1901\\t172\\t1\\n1901\\t94\\t1\\n1901\\t72\\t1\\n1901\\t178\\t1\\n1901\\t94\\t1\\n1901\\t94\\t1\\n1901\\t206\\t1\\n1901\\t128\\t1\\n1901\\t117\\t1\\n1901\\t144\\t1\\n1901\\t117\\t1\\n1901\\t94\\t1\\n1901\\t167\\t1\\n1901\\t83\\t1\\n1901\\t106\\t1\\n1901\\t139\\t1\\n1901\\t117\\t1\\n1901\\t122\\t1\\n1901\\t144\\t1\\n1901\\t150\\t1\\n1901\\t94\\t1\\n1901\\t167\\t1\\n1901\\t144\\t1\\n1901\\t89\\t1\\n1901\\t144\\t1\\n1901\\t72\\t1\\n1901\\t22\\t1\\n1901\\t122\\t1\\n1901\\t22\\t1\\n1901\\t33\\t1\\n1901\\t111\\t1\\n1901\\t100\\t1\\n1901\\t94\\t1\\n1901\\t128\\t1\\n1901\\t94\\t1\\n1901\\t94\\t1\\n1901\\t122\\t1\\n1901\\t122\\t1\\n1901\\t106\\t1\\n1901\\t100\\t1\\n1901\\t117\\t1\\n1901\\t106\\t1\\n1901\\t128\\t1\\n1901\\t122\\t1\\n1901\\t83\\t1\\n1901\\t94\\t1\\n1901\\t94\\t1\\n1901\\t78\\t1\\n1901\\t122\\t1\\n1901\\t100\\t1\\n1901\\t50\\t1\\n1901\\t111\\t1\\n1901\\t44\\t1\\n1901\\t22\\t1\\n1901\\t128\\t1\\n1901\\t67\\t1\\n1901\\t44\\t1\\n1901\\t100\\t1\\n1901\\t6\\t1\\n1901\\t0\\t1\\n1901\\t94\\t1\\n1901\\t22\\t1\\n1901\\t17\\t1\\n1901\\t100\\t1\\n1901\\t33\\t1\\n1901\\t0\\t1\\n1901\\t94\\t1\\n1901\\t33\\t1\\n1901\\t22\\t1\\n1901\\t50\\t1\\n1901\\t44\\t1\\n1901\\t28\\t1\\n1901\\t44\\t1\\n1901\\t44\\t1\\n1901\\t72\\t1\\n1901\\t83\\t1\\n1901\\t56\\t1\\n1901\\t33\\t1\\n1901\\t67\\t1\\n1901\\t50\\t1\\n1901\\t11\\t1\\n1901\\t72\\t1\\n1901\\t50\\t1\\n1901\\t50\\t1\\n1901\\t83\\t1\\n1901\\t44\\t1\\n1901\\t50\\t1\\n1901\\t72\\t1\\n1901\\t78\\t1\\n1901\\t61\\t1\\n1901\\t83\\t1\\n1901\\t33\\t1\\n1901\\t-17\\t1\\n1901\\t61\\t1\\n1901\\t44\\t1\\n1901\\t56\\t1\\n1901\\t94\\t1\\n1901\\t61\\t1\\n1901\\t44\\t1\\n1901\\t72\\t1\\n1901\\t33\\t1\\n1901\\t33\\t1\\n1901\\t56\\t1\\n1901\\t72\\t1\\n1901\\t67\\t1\\n1901\\t89\\t1\\n1901\\t100\\t1\\n1901\\t67\\t1\\n1901\\t44\\t1\\n1901\\t44\\t1\\n1901\\t33\\t1\\n1901\\t44\\t1\\n1901\\t-6\\t1\\n1901\\t-33\\t1\\n1901\\t-6\\t1\\n1901\\t-28\\t1\\n1901\\t-17\\t1\\n1901\\t11\\t1\\n1901\\t0\\t1\\n1901\\t28\\t1\\n1901\\t39\\t1\\n1901\\t33\\t1\\n1901\\t33\\t1\\n1901\\t28\\t1\\n1901\\t-39\\t1\\n1901\\t-67\\t1\\n1901\\t-22\\t1\\n1901\\t-61\\t1\\n1901\\t-6\\t1\\n1901\\t44\\t1\\n1901\\t-6\\t1\\n1901\\t6\\t1\\n1901\\t22\\t1\\n1901\\t17\\t1\\n1901\\t22\\t1\\n1901\\t17\\t1\\n1901\\t0\\t1\\n1901\\t-50\\t1\\n1901\\t-17\\t1\\n1901\\t-11\\t1\\n1901\\t-39\\t1\\n1901\\t-6\\t1\\n1901\\t-39\\t1\\n1901\\t-111\\t1\\n1901\\t-78\\t1\\n1901\\t-156\\t1\\n1901\\t-117\\t1\\n1901\\t-83\\t1\\n1901\\t-117\\t1\\n1901\\t-83\\t1\\n1901\\t-33\\t1\\n1901\\t-50\\t1\\n1901\\t-61\\t1\\n1901\\t-44\\t1\\n1901\\t-67\\t1\\n1901\\t-72\\t1\\n1901\\t-72\\t1\\n1901\\t-72\\t1\\n1901\\t-72\\t1\\n1901\\t-22\\t1\\n1901\\t-11\\t1\\n1901\\t-72\\t1\\n1901\\t-78\\t1\\n1901\\t-61\\t1\\n1901\\t-78\\t1\\n1901\\t-6\\t1\\n1901\\t-22\\t1\\n1901\\t-89\\t1\\n1901\\t-72\\t1\\n1901\\t-50\\t1\\n1901\\t-122\\t1\\n1901\\t-122\\t1\\n1901\\t-150\\t1\\n1901\\t-89\\t1\\n1901\\t-78\\t1\\n1901\\t-78\\t1\\n1901\\t-117\\t1\\n1901\\t-83\\t1\\n1901\\t-78\\t1\\n1901\\t-67\\t1\\n1901\\t-78\\t1\\n1901\\t-94\\t1\\n1901\\t-117\\t1\\n1901\\t-156\\t1\\n1901\\t-150\\t1\\n1901\\t-144\\t1\\n1901\\t-139\\t1\\n1901\\t-189\\t1\\n1901\\t-128\\t1\\n1901\\t-28\\t1\\n1901\\t-17\\t1\\n1901\\t-6\\t1\\n1901\\t-50\\t1\\n1901\\t-56\\t1\\n1901\\t-78\\t1\\n1901\\t-28\\t1\\n1901\\t6\\t1\\n1901\\t0\\t1\\n1901\\t0\\t1\\n1901\\t-17\\t1\\n1901\\t-106\\t1\\n1901\\t-100\\t1\\n1901\\t-117\\t1\\n1901\\t-94\\t1\\n1901\\t-100\\t1\\n1901\\t-117\\t1\\n1901\\t-206\\t1\\n1901\\t-206\\t1\\n1901\\t-256\\t1\\n1901\\t-200\\t1\\n1901\\t-150\\t1\\n1901\\t-122\\t1\\n1901\\t-117\\t1\\n1901\\t-100\\t1\\n1901\\t-111\\t1\\n1901\\t-161\\t1\\n1901\\t-167\\t1\\n1901\\t-222\\t1\\n1901\\t-200\\t1\\n1901\\t-133\\t1\\n1901\\t-117\\t1\\n1901\\t-111\\t1\\n1901\\t-128\\t1\\n1901\\t-117\\t1\\n1901\\t-94\\t1\\n1901\\t-89\\t1\\n1901\\t-67\\t1\\n1901\\t-61\\t1\\n1901\\t-67\\t1\\n1901\\t-56\\t1\\n1901\\t-83\\t1\\n1901\\t-133\\t1\\n1901\\t-117\\t1\\n1901\\t-139\\t1\\n1901\\t-139\\t1\\n1901\\t-128\\t1\\n1901\\t-106\\t1\\n1901\\t-117\\t1\\n1901\\t-139\\t1\\n1901\\t-150\\t1\\n1901\\t-117\\t1\\n1901\\t-117\\t1\\n1901\\t-89\\t1\\n1901\\t-117\\t1\\n1901\\t-128\\t1\\n1901\\t-128\\t1\\n1901\\t-117\\t1\\n1901\\t-139\\t1\\n1901\\t-128\\t1\\n1901\\t-100\\t1\\n1901\\t-94\\t1\\n1901\\t-100\\t1\\n1901\\t-100\\t1\\n1901\\t-111\\t1\\n1901\\t-133\\t1\\n1901\\t-144\\t1\\n1901\\t-167\\t1\\n1901\\t-167\\t1\\n1901\\t-167\\t1\\n1901\\t-194\\t1\\n1901\\t-122\\t1\\n1901\\t-94\\t1\\n1901\\t-183\\t1\\n1901\\t-83\\t1\\n1901\\t-83\\t1\\n1901\\t-72\\t1\\n1901\\t-72\\t1\\n1901\\t-56\\t1\\n1901\\t-56\\t1\\n1901\\t-56\\t1\\n1901\\t-106\\t1\\n1901\\t-183\\t1\\n1901\\t-139\\t1\\n1901\\t-128\\t1\\n1901\\t-156\\t1\\n1901\\t-256\\t1\\n1901\\t-256\\t1\\n1901\\t-272\\t1\\n1901\\t-239\\t1\\n1901\\t-239\\t1\\n1901\\t-267\\t1\\n1901\\t-283\\t1\\n1901\\t-278\\t1\\n1901\\t-300\\t1\\n1901\\t-283\\t1\\n1901\\t-194\\t1\\n1901\\t-156\\t1\\n1901\\t-156\\t1\\n1901\\t-150\\t1\\n1901\\t-156\\t1\\n1901\\t-150\\t1\\n1901\\t-156\\t1\\n1901\\t-200\\t1\\n1901\\t-150\\t1\\n1901\\t-133\\t1\\n1901\\t-122\\t1\\n1901\\t-139\\t1\\n1901\\t-139\\t1\\n1901\\t-139\\t1\\n1902\\t-94\\t1\\n1902\\t-100\\t1\\n1902\\t-117\\t1\\n1902\\t-161\\t1\\n1902\\t-172\\t1\\n1902\\t-178\\t1\\n1902\\t-178\\t1\\n1902\\t-172\\t1\\n1902\\t-150\\t1\\n1902\\t-106\\t1\\n1902\\t-94\\t1\\n1902\\t-100\\t1\\n1902\\t-72\\t1\\n1902\\t-61\\t1\\n1902\\t-94\\t1\\n1902\\t-117\\t1\\n1902\\t-128\\t1\\n1902\\t-128\\t1\\n1902\\t-144\\t1\\n1902\\t-44\\t1\\n1902\\t-11\\t1\\n1902\\t-33\\t1\\n1902\\t-17\\t1\\n1902\\t-17\\t1\\n1902\\t-61\\t1\\n1902\\t-72\\t1\\n1902\\t-89\\t1\\n1902\\t-78\\t1\\n1902\\t-67\\t1\\n1902\\t-67\\t1\\n1902\\t-89\\t1\\n1902\\t-117\\t1\\n1902\\t-122\\t1\\n1902\\t-100\\t1\\n1902\\t-117\\t1\\n1902\\t-117\\t1\\n1902\\t-78\\t1\\n1902\\t-78\\t1\\n1902\\t-89\\t1\\n1902\\t-122\\t1\\n1902\\t-139\\t1\\n1902\\t-139\\t1\\n1902\\t-144\\t1\\n1902\\t-139\\t1\\n1902\\t-78\\t1\\n1902\\t-17\\t1\\n1902\\t-11\\t1\\n1902\\t-44\\t1\\n1902\\t-44\\t1\\n1902\\t-61\\t1\\n1902\\t-83\\t1\\n1902\\t-128\\t1\\n1902\\t-128\\t1\\n1902\\t-150\\t1\\n1902\\t-183\\t1\\n1902\\t-128\\t1\\n1902\\t-106\\t1\\n1902\\t-100\\t1\\n1902\\t-94\\t1\\n1902\\t-100\\t1\\n1902\\t-122\\t1\\n1902\\t-150\\t1\\n1902\\t-139\\t1\\n1902\\t-178\\t1\\n1902\\t-150\\t1\\n1902\\t-122\\t1\\n1902\\t-39\\t1\\n1902\\t-44\\t1\\n1902\\t-22\\t1\\n1902\\t-28\\t1\\n1902\\t-33\\t1\\n1902\\t-22\\t1\\n1902\\t11\\t1\\n1902\\t6\\t1\\n1902\\t11\\t1\\n1902\\t6\\t1\\n1902\\t11\\t1\\n1902\\t6\\t1\\n1902\\t-6\\t1\\n1902\\t-11\\t1\\n1902\\t-22\\t1\\n1902\\t-17\\t1\\n1902\\t-39\\t1\\n1902\\t-67\\t1\\n1902\\t-72\\t1\\n1902\\t-83\\t1\\n1902\\t-128\\t1\\n1902\\t-128\\t1\\n1902\\t-128\\t1\\n1902\\t-106\\t1\\n1902\\t-178\\t1\\n1902\\t-128\\t1\\n1902\\t-144\\t1\\n1902\\t-6\\t1\\n1902\\t11\\t1\\n1902\\t22\\t1\\n1902\\t17\\t1\\n1902\\t6\\t1\\n1902\\t6\\t1\\n1902\\t-67\\t1\\n1902\\t-78\\t1\\n1902\\t-89\\t1\\n1902\\t-139\\t1\\n1902\\t-144\\t1\\n1902\\t-161\\t1\\n1902\\t-178\\t1\\n1902\\t-161\\t1\\n1902\\t-178\\t1\\n1902\\t-161\\t1\\n1902\\t-111\\t1\\n1902\\t-94\\t1\\n1902\\t-111\\t1\\n1902\\t-111\\t1\\n1902\\t-128\\t1\\n1902\\t-167\\t1\\n1902\\t-156\\t1\\n1902\\t-172\\t1\\n1902\\t-167\\t1\\n1902\\t-161\\t1\\n1902\\t-194\\t1\\n1902\\t-211\\t1\\n1902\\t-189\\t1\\n1902\\t-183\\t1\\n1902\\t-261\\t1\\n1902\\t-228\\t1\\n1902\\t-217\\t1\\n1902\\t-156\\t1\\n1902\\t-117\\t1\\n1902\\t-83\\t1\\n1902\\t-111\\t1\\n1902\\t-139\\t1\\n1902\\t-178\\t1\\n1902\\t-161\\t1\\n1902\\t-117\\t1\\n1902\\t-100\\t1\\n1902\\t-150\\t1\\n1902\\t-128\\t1\\n1902\\t-133\\t1\\n1902\\t-56\\t1\\n1902\\t0\\t1\\n1902\\t-17\\t1\\n1902\\t-33\\t1\\n1902\\t-89\\t1\\n1902\\t-122\\t1\\n1902\\t-111\\t1\\n1902\\t-83\\t1\\n1902\\t-50\\t1\\n1902\\t-56\\t1\\n1902\\t-50\\t1\\n1902\\t-67\\t1\\n1902\\t-61\\t1\\n1902\\t-33\\t1\\n1902\\t-50\\t1\\n1902\\t-28\\t1\\n1902\\t-6\\t1\\n1902\\t-28\\t1\\n1902\\t-39\\t1\\n1902\\t-11\\t1\\n1902\\t-28\\t1\\n1902\\t-67\\t1\\n1902\\t-56\\t1\\n1902\\t-67\\t1\\n1902\\t-28\\t1\\n1902\\t-22\\t1\\n1902\\t-28\\t1\\n1902\\t-50\\t1\\n1902\\t-28\\t1\\n1902\\t-28\\t1\\n1902\\t-17\\t1\\n1902\\t-6\\t1\\n1902\\t-17\\t1\\n1902\\t-78\\t1\\n1902\\t-44\\t1\\n1902\\t-50\\t1\\n1902\\t-44\\t1\\n1902\\t-22\\t1\\n1902\\t-28\\t1\\n1902\\t-50\\t1\\n1902\\t-94\\t1\\n1902\\t-67\\t1\\n1902\\t-117\\t1\\n1902\\t-67\\t1\\n1902\\t-83\\t1\\n1902\\t-61\\t1\\n1902\\t-56\\t1\\n1902\\t-94\\t1\\n1902\\t-128\\t1\\n1902\\t-72\\t1\\n1902\\t-144\\t1\\n1902\\t-94\\t1\\n1902\\t-67\\t1\\n1902\\t-67\\t1\\n1902\\t-44\\t1\\n1902\\t-33\\t1\\n1902\\t-44\\t1\\n1902\\t-83\\t1\\n1902\\t-72\\t1\\n1902\\t-100\\t1\\n1902\\t-211\\t1\\n1902\\t-150\\t1\\n1902\\t-189\\t1\\n1902\\t-222\\t1\\n1902\\t-178\\t1\\n1902\\t-228\\t1\\n1902\\t-206\\t1\\n1902\\t-128\\t1\\n1902\\t-144\\t1\\n1902\\t-183\\t1\\n1902\\t-161\\t1\\n1902\\t-194\\t1\\n1902\\t-217\\t1\\n1902\\t-122\\t1\\n1902\\t-100\\t1\\n1902\\t-144\\t1\\n1902\\t-83\\t1\\n1902\\t-89\\t1\\n1902\\t-83\\t1\\n1902\\t-11\\t1\\n1902\\t-22\\t1\\n1902\\t-44\\t1\\n1902\\t-6\\t1\\n1902\\t-33\\t1\\n1902\\t-67\\t1\\n1902\\t-17\\t1\\n1902\\t-39\\t1\\n1902\\t-94\\t1\\n1902\\t-22\\t1\\n1902\\t-33\\t1\\n1902\\t-150\\t1\\n1902\\t-117\\t1\\n1902\\t-161\\t1\\n1902\\t-117\\t1\\n1902\\t-106\\t1\\n1902\\t-133\\t1\\n1902\\t-183\\t1\\n1902\\t-178\\t1\\n1902\\t-194\\t1\\n1902\\t-233\\t1\\n1902\\t-194\\t1\\n1902\\t-172\\t1\\n1902\\t-178\\t1\\n1902\\t-133\\t1\\n1902\\t-122\\t1\\n1902\\t-100\\t1\\n1902\\t-61\\t1\\n1902\\t-100\\t1\\n1902\\t-100\\t1\\n1902\\t-61\\t1\\n1902\\t-22\\t1\\n1902\\t17\\t1\\n1902\\t28\\t1\\n1902\\t17\\t1\\n1902\\t11\\t1\\n1902\\t6\\t1\\n1902\\t-11\\t1\\n1902\\t-61\\t1\\n1902\\t-33\\t1\\n1902\\t-39\\t1\\n1902\\t-72\\t1\\n1902\\t-50\\t1\\n1902\\t-44\\t1\\n1902\\t-44\\t1\\n1902\\t-11\\t1\\n1902\\t-28\\t1\\n1902\\t-44\\t1\\n1902\\t-44\\t1\\n1902\\t-117\\t1\\n1902\\t-83\\t1\\n1902\\t-50\\t1\\n1902\\t-117\\t1\\n1902\\t-150\\t1\\n1902\\t-78\\t1\\n1902\\t-111\\t1\\n1902\\t-56\\t1\\n1902\\t-44\\t1\\n1902\\t-50\\t1\\n1902\\t-78\\t1\\n1902\\t-72\\t1\\n1902\\t-139\\t1\\n1902\\t-50\\t1\\n1902\\t0\\t1\\n1902\\t-72\\t1\\n1902\\t-150\\t1\\n1902\\t-78\\t1\\n1902\\t-133\\t1\\n1902\\t-122\\t1\\n1902\\t-28\\t1\\n1902\\t-106\\t1\\n1902\\t-111\\t1\\n1902\\t-61\\t1\\n1902\\t-117\\t1\\n1902\\t-172\\t1\\n1902\\t-83\\t1\\n1902\\t-144\\t1\\n1902\\t-161\\t1\\n1902\\t-61\\t1\\n1902\\t-83\\t1\\n1902\\t-156\\t1\\n1902\\t-39\\t1\\n1902\\t-100\\t1\\n1902\\t-100\\t1\\n1902\\t-11\\t1\\n1902\\t-39\\t1\\n1902\\t-67\\t1\\n1902\\t17\\t1\\n1902\\t-33\\t1\\n1902\\t-11\\t1\\n1902\\t28\\t1\\n1902\\t0\\t1\\n1902\\t11\\t1\\n1902\\t28\\t1\\n1902\\t-28\\t1\\n1902\\t-44\\t1\\n1902\\t22\\t1\\n1902\\t-17\\t1\\n1902\\t-33\\t1\\n1902\\t17\\t1\\n1902\\t6\\t1\\n1902\\t6\\t1\\n1902\\t22\\t1\\n1902\\t-11\\t1\\n1902\\t-17\\t1\\n1902\\t39\\t1\\n1902\\t-6\\t1\\n1902\\t6\\t1\\n1902\\t39\\t1\\n1902\\t-6\\t1\\n1902\\t17\\t1\\n1902\\t11\\t1\\n1902\\t-6\\t1\\n1902\\t-22\\t1\\n1902\\t-28\\t1\\n1902\\t-56\\t1\\n1902\\t-22\\t1\\n1902\\t22\\t1\\n1902\\t-67\\t1\\n1902\\t-22\\t1\\n1902\\t17\\t1\\n1902\\t-11\\t1\\n1902\\t-11\\t1\\n1902\\t17\\t1\\n1902\\t-33\\t1\\n1902\\t-33\\t1\\n1902\\t0\\t1\\n1902\\t-44\\t1\\n1902\\t-17\\t1\\n1902\\t-11\\t1\\n1902\\t-67\\t1\\n1902\\t-100\\t1\\n1902\\t-56\\t1\\n1902\\t-100\\t1\\n1902\\t-94\\t1\\n1902\\t-22\\t1\\n1902\\t-72\\t1\\n1902\\t-56\\t1\\n1902\\t-6\\t1\\n1902\\t-61\\t1\\n1902\\t-72\\t1\\n1902\\t-17\\t1\\n1902\\t-56\\t1\\n1902\\t-78\\t1\\n1902\\t-22\\t1\\n1902\\t-39\\t1\\n1902\\t-17\\t1\\n1902\\t28\\t1\\n1902\\t-28\\t1\\n1902\\t6\\t1\\n1902\\t22\\t1\\n1902\\t6\\t1\\n1902\\t11\\t1\\n1902\\t17\\t1\\n1902\\t0\\t1\\n1902\\t-11\\t1\\n1902\\t11\\t1\\n1902\\t6\\t1\\n1902\\t-6\\t1\\n1902\\t-11\\t1\\n1902\\t-44\\t1\\n1902\\t-22\\t1\\n1902\\t6\\t1\\n1902\\t0\\t1\\n1902\\t-17\\t1\\n1902\\t11\\t1\\n1902\\t-11\\t1\\n1902\\t-28\\t1\\n1902\\t-6\\t1\\n1902\\t-6\\t1\\n1902\\t0\\t1\\n1902\\t6\\t1\\n1902\\t-6\\t1\\n1902\\t0\\t1\\n1902\\t17\\t1\\n1902\\t0\\t1\\n1902\\t0\\t1\\n1902\\t17\\t1\\n1902\\t-17\\t1\\n1902\\t-6\\t1\\n1902\\t11\\t1\\n1902\\t-6\\t1\\n1902\\t0\\t1\\n1902\\t33\\t1\\n1902\\t0\\t1\\n1902\\t6\\t1\\n1902\\t39\\t1\\n1902\\t39\\t1\\n1902\\t28\\t1\\n1902\\t67\\t1\\n1902\\t17\\t1\\n1902\\t11\\t1\\n1902\\t72\\t1\\n1902\\t28\\t1\\n1902\\t50\\t1\\n1902\\t72\\t1\\n1902\\t44\\t1\\n1902\\t44\\t1\\n1902\\t33\\t1\\n1902\\t28\\t1\\n1902\\t17\\t1\\n1902\\t33\\t1\\n1902\\t11\\t1\\n1902\\t22\\t1\\n1902\\t44\\t1\\n1902\\t22\\t1\\n1902\\t6\\t1\\n1902\\t33\\t1\\n1902\\t6\\t1\\n1902\\t-6\\t1\\n1902\\t33\\t1\\n1902\\t6\\t1\\n1902\\t22\\t1\\n1902\\t33\\t1\\n1902\\t22\\t1\\n1902\\t17\\t1\\n1902\\t33\\t1\\n1902\\t50\\t1\\n1902\\t22\\t1\\n1902\\t28\\t1\\n1902\\t17\\t1\\n1902\\t22\\t1\\n1902\\t33\\t1\\n1902\\t22\\t1\\n1902\\t44\\t1\\n1902\\t44\\t1\\n1902\\t44\\t1\\n1902\\t61\\t1\\n1902\\t61\\t1\\n1902\\t50\\t1\\n1902\\t22\\t1\\n1902\\t61\\t1\\n1902\\t44\\t1\\n1902\\t28\\t1\\n1902\\t39\\t1\\n1902\\t28\\t1\\n1902\\t22\\t1\\n1902\\t39\\t1\\n1902\\t17\\t1\\n1902\\t39\\t1\\n1902\\t44\\t1\\n1902\\t28\\t1\\n1902\\t39\\t1\\n1902\\t61\\t1\\n1902\\t33\\t1\\n1902\\t44\\t1\\n1902\\t44\\t1\\n1902\\t39\\t1\\n1902\\t33\\t1\\n1902\\t33\\t1\\n1902\\t28\\t1\\n1902\\t17\\t1\\n1902\\t28\\t1\\n1902\\t17\\t1\\n1902\\t33\\t1\\n1902\\t50\\t1\\n1902\\t33\\t1\\n1902\\t44\\t1\\n1902\\t50\\t1\\n1902\\t44\\t1\\n1902\\t56\\t1\\n1902\\t56\\t1\\n1902\\t61\\t1\\n1902\\t33\\t1\\n1902\\t28\\t1\\n1902\\t22\\t1\\n1902\\t33\\t1\\n1902\\t44\\t1\\n1902\\t33\\t1\\n1902\\t44\\t1\\n1902\\t50\\t1\\n1902\\t28\\t1\\n1902\\t67\\t1\\n1902\\t89\\t1\\n1902\\t61\\t1\\n1902\\t61\\t1\\n1902\\t67\\t1\\n1902\\t67\\t1\\n1902\\t61\\t1\\n1902\\t67\\t1\\n1902\\t56\\t1\\n1902\\t61\\t1\\n1902\\t61\\t1\\n1902\\t50\\t1\\n1902\\t39\\t1\\n1902\\t50\\t1\\n1902\\t44\\t1\\n1902\\t56\\t1\\n1902\\t100\\t1\\n1902\\t61\\t1\\n1902\\t89\\t1\\n1902\\t100\\t1\\n1902\\t56\\t1\\n1902\\t61\\t1\\n1902\\t56\\t1\\n1902\\t50\\t1\\n1902\\t67\\t1\\n1902\\t83\\t1\\n1902\\t78\\t1\\n1902\\t61\\t1\\n1902\\t83\\t1\\n1902\\t78\\t1\\n1902\\t72\\t1\\n1902\\t78\\t1\\n1902\\t67\\t1\\n1902\\t72\\t1\\n1902\\t72\\t1\\n1902\\t61\\t1\\n1902\\t72\\t1\\n1902\\t83\\t1\\n1902\\t78\\t1\\n1902\\t78\\t1\\n1902\\t111\\t1\\n1902\\t94\\t1\\n1902\\t78\\t1\\n1902\\t94\\t1\\n1902\\t72\\t1\\n1902\\t83\\t1\\n1902\\t78\\t1\\n1902\\t89\\t1\\n1902\\t83\\t1\\n1902\\t100\\t1\\n1902\\t78\\t1\\n1902\\t72\\t1\\n1902\\t89\\t1\\n1902\\t78\\t1\\n1902\\t83\\t1\\n1902\\t89\\t1\\n1902\\t67\\t1\\n1902\\t83\\t1\\n1902\\t94\\t1\\n1902\\t67\\t1\\n1902\\t72\\t1\\n1902\\t89\\t1\\n1902\\t94\\t1\\n1902\\t89\\t1\\n1902\\t100\\t1\\n1902\\t94\\t1\\n1902\\t128\\t1\\n1902\\t100\\t1\\n1902\\t94\\t1\\n1902\\t100\\t1\\n1902\\t100\\t1\\n1902\\t83\\t1\\n1902\\t78\\t1\\n1902\\t89\\t1\\n1902\\t78\\t1\\n1902\\t94\\t1\\n1902\\t89\\t1\\n1902\\t89\\t1\\n1902\\t89\\t1\\n1902\\t94\\t1\\n1902\\t89\\t1\\n1902\\t94\\t1\\n1902\\t89\\t1\\n1902\\t78\\t1\\n1902\\t83\\t1\\n1902\\t94\\t1\\n1902\\t94\\t1\\n1902\\t94\\t1\\n1902\\t94\\t1\\n1902\\t94\\t1\\n1902\\t94\\t1\\n1902\\t106\\t1\\n1902\\t89\\t1\\n1902\\t89\\t1\\n1902\\t100\\t1\\n1902\\t94\\t1\\n1902\\t89\\t1\\n1902\\t117\\t1\\n1902\\t122\\t1\\n1902\\t117\\t1\\n1902\\t128\\t1\\n1902\\t111\\t1\\n1902\\t111\\t1\\n1902\\t111\\t1\\n1902\\t106\\t1\\n1902\\t122\\t1\\n1902\\t150\\t1\\n1902\\t122\\t1\\n1902\\t111\\t1\\n1902\\t122\\t1\\n1902\\t117\\t1\\n1902\\t122\\t1\\n1902\\t83\\t1\\n1902\\t83\\t1\\n1902\\t89\\t1\\n1902\\t111\\t1\\n1902\\t78\\t1\\n1902\\t83\\t1\\n1902\\t100\\t1\\n1902\\t83\\t1\\n1902\\t83\\t1\\n1902\\t133\\t1\\n1902\\t78\\t1\\n1902\\t106\\t1\\n1902\\t150\\t1\\n1902\\t122\\t1\\n1902\\t122\\t1\\n1902\\t156\\t1\\n1902\\t117\\t1\\n1902\\t111\\t1\\n1902\\t144\\t1\\n1902\\t100\\t1\\n1902\\t94\\t1\\n1902\\t128\\t1\\n1902\\t111\\t1\\n1902\\t106\\t1\\n1902\\t133\\t1\\n1902\\t100\\t1\\n1902\\t100\\t1\\n1902\\t117\\t1\\n1902\\t100\\t1\\n1902\\t106\\t1\\n1902\\t111\\t1\\n1902\\t100\\t1\\n1902\\t100\\t1\\n1902\\t122\\t1\\n1902\\t106\\t1\\n1902\\t117\\t1\\n1902\\t128\\t1\\n1902\\t122\\t1\\n1902\\t117\\t1\\n1902\\t144\\t1\\n1902\\t117\\t1\\n1902\\t128\\t1\\n1902\\t150\\t1\\n1902\\t117\\t1\\n1902\\t128\\t1\\n1902\\t144\\t1\\n1902\\t133\\t1\\n1902\\t106\\t1\\n1902\\t133\\t1\\n1902\\t122\\t1\\n1902\\t117\\t1\\n1902\\t128\\t1\\n1902\\t122\\t1\\n1902\\t122\\t1\\n1902\\t139\\t1\\n1902\\t111\\t1\\n1902\\t122\\t1\\n1902\\t144\\t1\\n1902\\t122\\t1\\n1902\\t122\\t1\\n1902\\t150\\t1\\n1902\\t128\\t1\\n1902\\t122\\t1\\n1902\\t122\\t1\\n1902\\t111\\t1\\n1902\\t106\\t1\\n1902\\t139\\t1\\n1902\\t111\\t1\\n1902\\t122\\t1\\n1902\\t144\\t1\\n1902\\t122\\t1\\n1902\\t117\\t1\\n1902\\t128\\t1\\n1902\\t117\\t1\\n1902\\t117\\t1\\n1902\\t133\\t1\\n1902\\t100\\t1\\n1902\\t111\\t1\\n1902\\t106\\t1\\n1902\\t100\\t1\\n1902\\t94\\t1\\n1902\\t100\\t1\\n1902\\t89\\t1\\n1902\\t94\\t1\\n1902\\t100\\t1\\n1902\\t89\\t1\\n1902\\t100\\t1\\n1902\\t111\\t1\\n1902\\t100\\t1\\n1902\\t100\\t1\\n1902\\t117\\t1\\n1902\\t100\\t1\\n1902\\t111\\t1\\n1902\\t111\\t1\\n1902\\t117\\t1\\n1902\\t100\\t1\\n1902\\t106\\t1\\n1902\\t89\\t1\\n1902\\t83\\t1\\n1902\\t94\\t1\\n1902\\t94\\t1\\n1902\\t89\\t1\\n1902\\t100\\t1\\n1902\\t89\\t1\\n1902\\t83\\t1\\n1902\\t144\\t1\\n1902\\t106\\t1\\n1902\\t100\\t1\\n1902\\t100\\t1\\n1902\\t100\\t1\\n1902\\t106\\t1\\n1902\\t106\\t1\\n1902\\t106\\t1\\n1902\\t100\\t1\\n1902\\t122\\t1\\n1902\\t100\\t1\\n1902\\t100\\t1\\n1902\\t106\\t1\\n1902\\t100\\t1\\n1902\\t94\\t1\\n1902\\t94\\t1\\n1902\\t94\\t1\\n1902\\t100\\t1\\n1902\\t100\\t1\\n1902\\t94\\t1\\n1902\\t94\\t1\\n1902\\t100\\t1\\n1902\\t94\\t1\\n1902\\t72\\t1\\n1902\\t100\\t1\\n1902\\t78\\t1\\n1902\\t78\\t1\\n1902\\t100\\t1\\n1902\\t89\\t1\\n1902\\t89\\t1\\n1902\\t128\\t1\\n1902\\t106\\t1\\n1902\\t106\\t1\\n1902\\t117\\t1\\n1902\\t117\\t1\\n1902\\t106\\t1\\n1902\\t111\\t1\\n1902\\t94\\t1\\n1902\\t94\\t1\\n1902\\t117\\t1\\n1902\\t89\\t1\\n1902\\t100\\t1\\n1902\\t111\\t1\\n1902\\t100\\t1\\n1902\\t100\\t1\\n1902\\t106\\t1\\n1902\\t117\\t1\\n1902\\t111\\t1\\n1902\\t111\\t1\\n1902\\t106\\t1\\n1902\\t83\\t1\\n1902\\t89\\t1\\n1902\\t94\\t1\\n1902\\t72\\t1\\n1902\\t78\\t1\\n1902\\t72\\t1\\n1902\\t61\\t1\\n1902\\t83\\t1\\n1902\\t72\\t1\\n1902\\t72\\t1\\n1902\\t78\\t1\\n1902\\t89\\t1\\n1902\\t72\\t1\\n1902\\t78\\t1\\n1902\\t72\\t1\\n1902\\t67\\t1\\n1902\\t72\\t1\\n1902\\t67\\t1\\n1902\\t61\\t1\\n1902\\t89\\t1\\n1902\\t72\\t1\\n1902\\t67\\t1\\n1902\\t89\\t1\\n1902\\t89\\t1\\n1902\\t67\\t1\\n1902\\t61\\t1\\n1902\\t56\\t1\\n1902\\t39\\t1\\n1902\\t44\\t1\\n1902\\t44\\t1\\n1902\\t39\\t1\\n1902\\t39\\t1\\n1902\\t50\\t1\\n1902\\t44\\t1\\n1902\\t44\\t1\\n1902\\t56\\t1\\n1902\\t61\\t1\\n1902\\t78\\t1\\n1902\\t78\\t1\\n1902\\t61\\t1\\n1902\\t83\\t1\\n1902\\t78\\t1\\n1902\\t83\\t1\\n1902\\t106\\t1\\n1902\\t61\\t1\\n1902\\t61\\t1\\n1902\\t78\\t1\\n1902\\t61\\t1\\n1902\\t83\\t1\\n1902\\t83\\t1\\n1902\\t83\\t1\\n1902\\t72\\t1\\n1902\\t72\\t1\\n1902\\t72\\t1\\n1902\\t39\\t1\\n1902\\t56\\t1\\n1902\\t78\\t1\\n1902\\t72\\t1\\n1902\\t67\\t1\\n1902\\t44\\t1\\n1902\\t22\\t1\\n1902\\t22\\t1\\n1902\\t33\\t1\\n1902\\t22\\t1\\n1902\\t28\\t1\\n1902\\t39\\t1\\n1902\\t28\\t1\\n1902\\t44\\t1\\n1902\\t33\\t1\\n1902\\t67\\t1\\n1902\\t28\\t1\\n1902\\t28\\t1\\n1902\\t22\\t1\\n1902\\t33\\t1\\n1902\\t28\\t1\\n1902\\t28\\t1\\n1902\\t67\\t1\\n1902\\t56\\t1\\n1902\\t67\\t1\\n1902\\t78\\t1\\n1902\\t72\\t1\\n1902\\t56\\t1\\n1902\\t67\\t1\\n1902\\t67\\t1\\n1902\\t44\\t1\\n1902\\t33\\t1\\n1902\\t39\\t1\\n1902\\t22\\t1\\n1902\\t39\\t1\\n1902\\t56\\t1\\n1902\\t44\\t1\\n1902\\t50\\t1\\n1902\\t56\\t1\\n1902\\t44\\t1\\n1902\\t28\\t1\\n1902\\t28\\t1\\n1902\\t11\\t1\\n1902\\t17\\t1\\n1902\\t11\\t1\\n1902\\t0\\t1\\n1902\\t11\\t1\\n1902\\t6\\t1\\n1902\\t-6\\t1\\n1902\\t-6\\t1\\n1902\\t-11\\t1\\n1902\\t-33\\t1\\n1902\\t-17\\t1\\n1902\\t-22\\t1\\n1902\\t-44\\t1\\n1902\\t-17\\t1\\n1902\\t-33\\t1\\n1902\\t-28\\t1\\n1902\\t-6\\t1\\n1902\\t-6\\t1\\n1902\\t-22\\t1\\n1902\\t-11\\t1\\n1902\\t0\\t1\\n1902\\t0\\t1\\n1902\\t0\\t1\\n1902\\t0\\t1\\n1902\\t-6\\t1\\n1902\\t-17\\t1\\n1902\\t-28\\t1\\n1902\\t-33\\t1\\n1902\\t-28\\t1\\n1902\\t-28\\t1\\n1902\\t-50\\t1\\n1902\\t-50\\t1\\n1902\\t-56\\t1\\n1902\\t-78\\t1\\n1902\\t-50\\t1\\n1902\\t-39\\t1\\n1902\\t11\\t1\\n1902\\t50\\t1\\n1902\\t50\\t1\\n1902\\t33\\t1\\n1902\\t50\\t1\\n1902\\t39\\t1\\n1902\\t44\\t1\\n1902\\t50\\t1\\n1902\\t44\\t1\\n1902\\t44\\t1\\n1902\\t44\\t1\\n1902\\t44\\t1\\n1902\\t44\\t1\\n1902\\t44\\t1\\n1902\\t44\\t1\\n1902\\t44\\t1\\n1902\\t44\\t1\\n1902\\t44\\t1\\n1902\\t50\\t1\\n1902\\t50\\t1\\n1902\\t50\\t1\\n1902\\t33\\t1\\n1902\\t33\\t1\\n1902\\t28\\t1\\n1902\\t11\\t1\\n1902\\t33\\t1\\n1902\\t22\\t1\\n1902\\t6\\t1\\n1902\\t17\\t1\\n1902\\t22\\t1\\n1902\\t11\\t1\\n1902\\t22\\t1\\n1902\\t28\\t1\\n1902\\t17\\t1\\n1902\\t17\\t1\\n1902\\t-6\\t1\\n1902\\t-28\\t1\\n1902\\t-33\\t1\\n1902\\t-44\\t1\\n1902\\t-28\\t1\\n1902\\t-22\\t1\\n1902\\t-17\\t1\\n1902\\t17\\t1\\n1902\\t17\\t1\\n1902\\t6\\t1\\n1902\\t28\\t1\\n1902\\t28\\t1\\n1902\\t33\\t1\\n1902\\t28\\t1\\n1902\\t28\\t1\\n1902\\t22\\t1\\n1902\\t39\\t1\\n1902\\t44\\t1\\n1902\\t44\\t1\\n1902\\t39\\t1\\n1902\\t44\\t1\\n1902\\t44\\t1\\n1902\\t33\\t1\\n1902\\t33\\t1\\n1902\\t28\\t1\\n1902\\t33\\t1\\n1902\\t33\\t1\\n1902\\t33\\t1\\n1902\\t28\\t1\\n1902\\t22\\t1\\n1902\\t0\\t1\\n1902\\t6\\t1\\n1902\\t6\\t1\\n1902\\t28\\t1\\n1902\\t-28\\t1\\n1902\\t-17\\t1\\n1902\\t0\\t1\\n1902\\t22\\t1\\n1902\\t11\\t1\\n1902\\t11\\t1\\n1902\\t22\\t1\\n1902\\t28\\t1\\n1902\\t33\\t1\\n1902\\t33\\t1\\n1902\\t39\\t1\\n1902\\t33\\t1\\n1902\\t0\\t1\\n1902\\t33\\t1\\n1902\\t44\\t1\\n1902\\t-6\\t1\\n1902\\t-11\\t1\\n1902\\t-28\\t1\\n1902\\t33\\t1\\n1902\\t33\\t1\\n1902\\t44\\t1\\n1902\\t28\\t1\\n1902\\t28\\t1\\n1902\\t17\\t1\\n1902\\t-100\\t1\\n1902\\t-100\\t1\\n1902\\t-106\\t1\\n1902\\t-106\\t1\\n1902\\t-78\\t1\\n1902\\t-61\\t1\\n1902\\t-56\\t1\\n1902\\t-50\\t1\\n1902\\t-50\\t1\\n1902\\t6\\t1\\n1902\\t-6\\t1\\n1902\\t-44\\t1\\n1902\\t-56\\t1\\n1902\\t-56\\t1\\n1902\\t-67\\t1\\n1902\\t-44\\t1\\n1902\\t-28\\t1\\n1902\\t-28\\t1\\n1902\\t-67\\t1\\n1902\\t-83\\t1\\n1902\\t-78\\t1\\n1902\\t-100\\t1\\n1902\\t-94\\t1\\n1902\\t-94\\t1\\n1902\\t-117\\t1\\n1902\\t-122\\t1\\n1902\\t-128\\t1\\n1902\\t-117\\t1\\n1902\\t-94\\t1\\n1902\\t-67\\t1\\n1902\\t-78\\t1\\n1902\\t-61\\t1\\n1902\\t-56\\t1\\n1902\\t-22\\t1\\n1902\\t-17\\t1\\n1902\\t6\\t1\\n1902\\t17\\t1\\n1902\\t11\\t1\\n1902\\t6\\t1\\n1902\\t0\\t1\\n1902\\t0\\t1\\n1902\\t-6\\t1\\n1902\\t-6\\t1\\n1902\\t-6\\t1\\n1902\\t11\\t1\\n1902\\t0\\t1\\n1902\\t0\\t1\\n1902\\t-6\\t1\\n1902\\t0\\t1\\n1902\\t28\\t1\\n1902\\t28\\t1\\n1902\\t6\\t1\\n1902\\t22\\t1\\n1902\\t17\\t1\\n1902\\t11\\t1\\n1902\\t6\\t1\\n1902\\t0\\t1\\n1902\\t-28\\t1\\n1902\\t-17\\t1\\n1902\\t-33\\t1\\n1902\\t-17\\t1\\n1902\\t0\\t1\\n1902\\t0\\t1\\n1902\\t11\\t1\\n1902\\t11\\t1\\n1902\\t17\\t1\\n1902\\t17\\t1\\n1902\\t6\\t1\\n1902\\t0\\t1\\n1902\\t-22\\t1\\n1902\\t-33\\t1\\n1902\\t-33\\t1\\n1902\\t-28\\t1\\n1902\\t-22\\t1\\n1902\\t-11\\t1\\n1902\\t-17\\t1\\n1902\\t-33\\t1\\n1902\\t-33\\t1\\n1902\\t-28\\t1\\n1902\\t-28\\t1\\n1902\\t-44\\t1\\n1902\\t-50\\t1\\n1902\\t-22\\t1\\n1902\\t-28\\t1\\n1902\\t-28\\t1\\n1902\\t-22\\t1\\n1902\\t0\\t1\\n1902\\t11\\t1\\n1902\\t0\\t1\\n1902\\t11\\t1\\n1902\\t11\\t1\\n1902\\t0\\t1\\n1902\\t6\\t1\\n1902\\t0\\t1\\n1902\\t-11\\t1\\n1902\\t-28\\t1\\n1902\\t-28\\t1\\n1902\\t-39\\t1\\n1902\\t-67\\t1\\n1902\\t-72\\t1\\n1902\\t-22\\t1\\n1902\\t-61\\t1\\n1902\\t-117\\t1\\n1902\\t-111\\t1\\n1902\\t-111\\t1\\n1902\\t-128\\t1\\n1902\\t-100\\t1\\n1902\\t-78\\t1\\n1902\\t-83\\t1\\n1902\\t-106\\t1\\n1902\\t-22\\t1\\n1902\\t-28\\t1\\n1902\\t-44\\t1\\n1902\\t-78\\t1\\n1902\\t-94\\t1\\n1902\\t-111\\t1\\n1902\\t-128\\t1\\n1902\\t-144\\t1\\n1902\\t-139\\t1\\n1902\\t-117\\t1\\n1902\\t-6\\t1\\n1902\\t-6\\t1\\n1902\\t0\\t1\\n1902\\t0\\t1\\n1902\\t-39\\t1\\n1902\\t-100\\t1\\n1902\\t-117\\t1\\n1902\\t-139\\t1\\n1902\\t-89\\t1\\n1902\\t-11\\t1\\n1902\\t6\\t1\\n1902\\t6\\t1\\n1902\\t0\\t1\\n1902\\t22\\t1\\n1902\\t11\\t1\\n1902\\t0\\t1\\n1902\\t-39\\t1\\n1902\\t11\\t1\\n1902\\t11\\t1\\n1902\\t0\\t1\\n1902\\t-50\\t1\\n1902\\t-67\\t1\\n1902\\t-78\\t1\\n1902\\t-128\\t1\\n1902\\t-83\\t1\\n1902\\t-94\\t1\\n1902\\t-78\\t1\\n1902\\t-50\\t1\\n1902\\t-56\\t1\\n1902\\t-89\\t1\\n1902\\t-94\\t1\\n1902\\t-117\\t1\\n1902\\t-172\\t1\\n1902\\t-111\\t1\\n1902\\t-28\\t1\\n1902\\t11\\t1\\n1902\\t17\\t1\\n1902\\t-6\\t1\\n1902\\t-11\\t1\\n1902\\t-17\\t1\\n1902\\t-83\\t1\\n1902\\t-100\\t1\\n1902\\t-94\\t1\\n1902\\t-111\\t1\\n1902\\t-194\\t1\\n1902\\t-111\\t1\\n1902\\t-72\\t1\\n1902\\t6\\t1\\n1902\\t11\\t1\\n1902\\t11\\t1\\n1902\\t0\\t1\\n1902\\t-94\\t1\\n1902\\t-117\\t1\\n1902\\t-139\\t1\\n1902\\t-156\\t1\\n1902\\t-122\\t1\\n1902\\t-11\\t1\\n1902\\t-6\\t1\\n1902\\t-22\\t1\\n1902\\t-6\\t1\\n1902\\t0\\t1\\n1902\\t11\\t1\\n1902\\t6\\t1\\n1902\\t11\\t1\\n1902\\t6\\t1\\n1902\\t6\\t1\\n1902\\t11\\t1\\n1902\\t-11\\t1\\n1902\\t-28\\t1\\n1902\\t-6\\t1\\n1902\\t-11\\t1\\n1902\\t-22\\t1\\n1902\\t-39\\t1\\n1902\\t-94\\t1\\n1902\\t-56\\t1\\n1902\\t-50\\t1\\n1902\\t-67\\t1\\n1902\\t-111\\t1\\n1902\\t-117\\t1\\n1902\\t-133\\t1\\n1902\\t-111\\t1\\n1902\\t-78\\t1\\n1902\\t-111\\t1\\n1902\\t-6\\t1\\n1902\\t-6\\t1\\n1902\\t-11\\t1\\n1902\\t0\\t1\\n1902\\t0\\t1\\n1902\\t0\\t1\\n1902\\t-28\\t1\\n1902\\t-44\\t1\\n1902\\t-67\\t1\\n1902\\t-100\\t1\\n1902\\t-133\\t1\\n1902\\t-161\\t1\\n1902\\t-217\\t1\\n1902\\t-83\\t1\\n1902\\t-144\\t1\\n1902\\t-78\\t1\\n1902\\t-50\\t1\\n1902\\t-50\\t1\\n1902\\t-33\\t1\\n1902\\t-22\\t1\\n1902\\t-78\\t1\\n1902\\t-83\\t1\\n1902\\t-72\\t1\\n1902\\t-89\\t1\\n1902\\t-50\\t1\\n1902\\t-106\\t1\\n1902\\t-133\\t1\\n1902\\t-133\\t1\\n1902\\t-122\\t1\\n1902\\t-122\\t1\\n1902\\t-144\\t1\\n1902\\t-117\\t1\\n1902\\t-111\\t1\\n1902\\t-122\\t1\\n1902\\t-28\\t1\\n1902\\t-72\\t1\\n1902\\t-150\\t1\\n1902\\t-83\\t1\\n1902\\t-122\\t1\\n1902\\t-133\\t1\\n1902\\t-83\\t1\\n1902\\t-94\\t1\\n1902\\t-67\\t1\\n1902\\t-67\\t1\\n1902\\t-56\\t1\\n1902\\t-28\\t1\\n1902\\t6\\t1\\n1902\\t0\\t1\\n1902\\t6\\t1\\n1902\\t11\\t1\\n1902\\t-28\\t1\\n1902\\t-100\\t1\\n1902\\t-28\\t1\\n1902\\t-39\\t1\\n1902\\t-50\\t1\\n1902\\t-44\\t1\\n1902\\t-67\\t1\\n1902\\t-72\\t1\\n1902\\t-39\\t1\\n1902\\t-67\\t1\\n1902\\t-44\\t1\\n1902\\t-22\\t1\\n1902\\t-72\\t1\\n1902\\t-39\\t1\\n1902\\t0\\t1\\n1902\\t-28\\t1\\n1902\\t-28\\t1\\n1902\\t0\\t1\\n1902\\t-33\\t1\\n1902\\t-39\\t1\\n1902\\t0\\t1\\n1902\\t-50\\t1\\n1902\\t-89\\t1\\n1902\\t-6\\t1\\n1902\\t-28\\t1\\n1902\\t-50\\t1\\n1902\\t-28\\t1\\n1902\\t-78\\t1\\n1902\\t-72\\t1\\n1902\\t-22\\t1\\n1902\\t-39\\t1\\n1902\\t-22\\t1\\n1902\\t-17\\t1\\n1902\\t-22\\t1\\n1902\\t0\\t1\\n1902\\t6\\t1\\n1902\\t6\\t1\\n1902\\t0\\t1\\n1902\\t0\\t1\\n1902\\t-22\\t1\\n1902\\t-44\\t1\\n1902\\t-56\\t1\\n1902\\t-50\\t1\\n1902\\t-61\\t1\\n1902\\t-39\\t1\\n1902\\t-72\\t1\\n1902\\t-89\\t1\\n1902\\t-28\\t1\\n1902\\t-28\\t1\\n1902\\t0\\t1\\n1902\\t0\\t1\\n1902\\t-17\\t1\\n1902\\t0\\t1\\n1902\\t22\\t1\\n1902\\t-22\\t1\\n1902\\t-100\\t1\\n1902\\t-83\\t1\\n1902\\t-128\\t1\\n1902\\t-172\\t1\\n1902\\t-122\\t1\\n1902\\t-189\\t1\\n1902\\t-217\\t1\\n1902\\t-72\\t1\\n1902\\t-89\\t1\\n1902\\t-128\\t1\\n1902\\t-89\\t1\\n1902\\t-189\\t1\\n1902\\t-244\\t1\\n1902\\t-83\\t1\\n1902\\t-100\\t1\\n1902\\t-67\\t1\\n1902\\t-17\\t1\\n1902\\t-100\\t1\\n1902\\t-28\\t1\\n1902\\t-17\\t1\\n1902\\t-28\\t1\\n1902\\t-11\\t1\\n1902\\t-22\\t1\\n1902\\t-28\\t1\\n1902\\t-17\\t1\\n1902\\t17\\t1\\n1902\\t-6\\t1\\n1902\\t-61\\t1\\n1902\\t-28\\t1\\n1902\\t-50\\t1\\n1902\\t-78\\t1\\n1902\\t-56\\t1\\n1902\\t-78\\t1\\n1902\\t-44\\t1\\n1902\\t17\\t1\\n1902\\t-39\\t1\\n1902\\t-67\\t1\\n1902\\t-33\\t1\\n1902\\t-67\\t1\\n1902\\t-117\\t1\\n1902\\t-117\\t1\\n1902\\t-139\\t1\\n1902\\t-117\\t1\\n1902\\t-56\\t1\\n1902\\t-67\\t1\\n1902\\t-56\\t1\\n1902\\t-11\\t1\\n1902\\t-28\\t1\\n1902\\t-33\\t1\\n1902\\t22\\t1\\n1902\\t17\\t1\\n1902\\t6\\t1\\n1902\\t22\\t1\\n1902\\t11\\t1\\n1902\\t0\\t1\\n1902\\t6\\t1\\n1902\\t-17\\t1\\n1902\\t-22\\t1\\n1902\\t-11\\t1\\n1902\\t-33\\t1\\n1902\\t-61\\t1\\n1902\\t-39\\t1\\n1902\\t-50\\t1\\n1902\\t-50\\t1\\n1902\\t-11\\t1\\n1902\\t-72\\t1\\n1902\\t-94\\t1\\n1902\\t17\\t1\\n1902\\t-28\\t1\\n1902\\t-22\\t1\\n1902\\t-6\\t1\\n1902\\t-67\\t1\\n1902\\t-100\\t1\\n1902\\t-11\\t1\\n1902\\t-72\\t1\\n1902\\t-39\\t1\\n1902\\t0\\t1\\n1902\\t-28\\t1\\n1902\\t-50\\t1\\n1902\\t-22\\t1\\n1902\\t-61\\t1\\n1902\\t-56\\t1\\n1902\\t33\\t1\\n1902\\t-22\\t1\\n1902\\t-72\\t1\\n1902\\t-6\\t1\\n1902\\t-72\\t1\\n1902\\t-33\\t1\\n1902\\t0\\t1\\n1902\\t-56\\t1\\n1902\\t-83\\t1\\n1902\\t-28\\t1\\n1902\\t-83\\t1\\n1902\\t-117\\t1\\n1902\\t-33\\t1\\n1902\\t-89\\t1\\n1902\\t-128\\t1\\n1902\\t-28\\t1\\n1902\\t-100\\t1\\n1902\\t-128\\t1\\n1902\\t-22\\t1\\n1902\\t-83\\t1\\n1902\\t-72\\t1\\n1902\\t17\\t1\\n1902\\t-50\\t1\\n1902\\t-56\\t1\\n1902\\t0\\t1\\n1902\\t-44\\t1\\n1902\\t-89\\t1\\n1902\\t6\\t1\\n1902\\t-50\\t1\\n1902\\t-50\\t1\\n1902\\t11\\t1\\n1902\\t-28\\t1\\n1902\\t-44\\t1\\n1902\\t28\\t1\\n1902\\t-39\\t1\\n1902\\t-22\\t1\\n1902\\t28\\t1\\n1902\\t-11\\t1\\n1902\\t-17\\t1\\n1902\\t50\\t1\\n1902\\t-6\\t1\\n1902\\t6\\t1\\n1902\\t72\\t1\\n1902\\t0\\t1\\n1902\\t22\\t1\\n1902\\t22\\t1\\n1902\\t-22\\t1\\n1902\\t-6\\t1\\n1902\\t17\\t1\\n1902\\t-11\\t1\\n1902\\t-28\\t1\\n1902\\t17\\t1\\n1902\\t-6\\t1\\n1902\\t-11\\t1\\n1902\\t17\\t1\\n1902\\t-39\\t1\\n1902\\t-17\\t1\\n1902\\t28\\t1\\n1902\\t-22\\t1\\n1902\\t6\\t1\\n1902\\t17\\t1\\n1902\\t-17\\t1\\n1902\\t-11\\t1\\n1902\\t17\\t1\\n1902\\t-28\\t1\\n1902\\t-17\\t1\\n1902\\t17\\t1\\n1902\\t-39\\t1\\n1902\\t-50\\t1\\n1902\\t-6\\t1\\n1902\\t-61\\t1\\n1902\\t-50\\t1\\n1902\\t0\\t1\\n1902\\t-33\\t1\\n1902\\t-17\\t1\\n1902\\t6\\t1\\n1902\\t-33\\t1\\n1902\\t-6\\t1\\n1902\\t17\\t1\\n1902\\t-28\\t1\\n1902\\t-22\\t1\\n1902\\t17\\t1\\n1902\\t-22\\t1\\n1902\\t6\\t1\\n1902\\t33\\t1\\n1902\\t11\\t1\\n1902\\t22\\t1\\n1902\\t22\\t1\\n1902\\t11\\t1\\n1902\\t39\\t1\\n1902\\t72\\t1\\n1902\\t33\\t1\\n1902\\t44\\t1\\n1902\\t28\\t1\\n1902\\t28\\t1\\n1902\\t11\\t1\\n1902\\t39\\t1\\n1902\\t22\\t1\\n1902\\t6\\t1\\n1902\\t28\\t1\\n1902\\t0\\t1\\n1902\\t0\\t1\\n1902\\t28\\t1\\n1902\\t6\\t1\\n1902\\t11\\t1\\n1902\\t44\\t1\\n1902\\t17\\t1\\n1902\\t22\\t1\\n1902\\t67\\t1\\n1902\\t22\\t1\\n1902\\t17\\t1\\n1902\\t44\\t1\\n1902\\t17\\t1\\n1902\\t22\\t1\\n1902\\t28\\t1\\n1902\\t-6\\t1\\n1902\\t-6\\t1\\n1902\\t11\\t1\\n1902\\t-6\\t1\\n1902\\t11\\t1\\n1902\\t94\\t1\\n1902\\t61\\t1\\n1902\\t44\\t1\\n1902\\t78\\t1\\n1902\\t39\\t1\\n1902\\t33\\t1\\n1902\\t78\\t1\\n1902\\t39\\t1\\n1902\\t28\\t1\\n1902\\t44\\t1\\n1902\\t61\\t1\\n1902\\t72\\t1\\n1902\\t128\\t1\\n1902\\t83\\t1\\n1902\\t94\\t1\\n1902\\t128\\t1\\n1902\\t78\\t1\\n1902\\t72\\t1\\n1902\\t61\\t1\\n1902\\t56\\t1\\n1902\\t50\\t1\\n1902\\t61\\t1\\n1902\\t44\\t1\\n1902\\t72\\t1\\n1902\\t67\\t1\\n1902\\t44\\t1\\n1902\\t89\\t1\\n1902\\t78\\t1\\n1902\\t56\\t1\\n1902\\t72\\t1\\n1902\\t89\\t1\\n1902\\t56\\t1\\n1902\\t50\\t1\\n1902\\t100\\t1\\n1902\\t89\\t1\\n1902\\t61\\t1\\n1902\\t78\\t1\\n1902\\t56\\t1\\n1902\\t50\\t1\\n1902\\t83\\t1\\n1902\\t72\\t1\\n1902\\t56\\t1\\n1902\\t89\\t1\\n1902\\t83\\t1\\n1902\\t100\\t1\\n1902\\t128\\t1\\n1902\\t72\\t1\\n1902\\t72\\t1\\n1902\\t83\\t1\\n1902\\t61\\t1\\n1902\\t83\\t1\\n1902\\t117\\t1\\n1902\\t94\\t1\\n1902\\t56\\t1\\n1902\\t67\\t1\\n1902\\t67\\t1\\n1902\\t78\\t1\\n1902\\t89\\t1\\n1902\\t72\\t1\\n1902\\t67\\t1\\n1902\\t83\\t1\\n1902\\t67\\t1\\n1902\\t111\\t1\\n1902\\t144\\t1\\n1902\\t128\\t1\\n1902\\t72\\t1\\n1902\\t78\\t1\\n1902\\t72\\t1\\n1902\\t61\\t1\\n1902\\t72\\t1\\n1902\\t61\\t1\\n1902\\t50\\t1\\n1902\\t67\\t1\\n1902\\t72\\t1\\n1902\\t56\\t1\\n1902\\t89\\t1\\n1902\\t72\\t1\\n1902\\t100\\t1\\n1902\\t78\\t1\\n1902\\t61\\t1\\n1902\\t67\\t1\\n1902\\t56\\t1\\n1902\\t61\\t1\\n1902\\t61\\t1\\n1902\\t72\\t1\\n1902\\t56\\t1\\n1902\\t72\\t1\\n1902\\t56\\t1\\n1902\\t83\\t1\\n1902\\t100\\t1\\n1902\\t117\\t1\\n1902\\t117\\t1\\n1902\\t122\\t1\\n1902\\t117\\t1\\n1902\\t128\\t1\\n1902\\t100\\t1\\n1902\\t89\\t1\\n1902\\t78\\t1\\n1902\\t83\\t1\\n1902\\t83\\t1\\n1902\\t78\\t1\\n1902\\t67\\t1\\n1902\\t67\\t1\\n1902\\t50\\t1\\n1902\\t61\\t1\\n1902\\t100\\t1\\n1902\\t100\\t1\\n1902\\t106\\t1\\n1902\\t128\\t1\\n1902\\t100\\t1\\n1902\\t150\\t1\\n1902\\t100\\t1\\n1902\\t78\\t1\\n1902\\t78\\t1\\n1902\\t178\\t1\\n1902\\t117\\t1\\n1902\\t111\\t1\\n1902\\t128\\t1\\n1902\\t100\\t1\\n1902\\t100\\t1\\n1902\\t139\\t1\\n1902\\t100\\t1\\n1902\\t111\\t1\\n1902\\t94\\t1\\n1902\\t94\\t1\\n1902\\t100\\t1\\n1902\\t100\\t1\\n1902\\t106\\t1\\n1902\\t111\\t1\\n1902\\t122\\t1\\n1902\\t83\\t1\\n1902\\t94\\t1\\n1902\\t122\\t1\\n1902\\t100\\t1\\n1902\\t111\\t1\\n1902\\t150\\t1\\n1902\\t128\\t1\\n1902\\t94\\t1\\n1902\\t100\\t1\\n1902\\t89\\t1\\n1902\\t78\\t1\\n1902\\t100\\t1\\n1902\\t72\\t1\\n1902\\t128\\t1\\n1902\\t133\\t1\\n1902\\t72\\t1\\n1902\\t72\\t1\\n1902\\t89\\t1\\n1902\\t78\\t1\\n1902\\t78\\t1\\n1902\\t89\\t1\\n1902\\t83\\t1\\n1902\\t94\\t1\\n1902\\t156\\t1\\n1902\\t117\\t1\\n1902\\t106\\t1\\n1902\\t128\\t1\\n1902\\t100\\t1\\n1902\\t89\\t1\\n1902\\t111\\t1\\n1902\\t89\\t1\\n1902\\t100\\t1\\n1902\\t111\\t1\\n1902\\t94\\t1\\n1902\\t94\\t1\\n1902\\t100\\t1\\n1902\\t78\\t1\\n1902\\t100\\t1\\n1902\\t83\\t1\\n1902\\t78\\t1\\n1902\\t94\\t1\\n1902\\t117\\t1\\n1902\\t111\\t1\\n1902\\t106\\t1\\n1902\\t144\\t1\\n1902\\t106\\t1\\n1902\\t106\\t1\\n1902\\t106\\t1\\n1902\\t78\\t1\\n1902\\t83\\t1\\n1902\\t122\\t1\\n1902\\t94\\t1\\n1902\\t94\\t1\\n1902\\t83\\t1\\n1902\\t78\\t1\\n1902\\t89\\t1\\n1902\\t100\\t1\\n1902\\t89\\t1\\n1902\\t89\\t1\\n1902\\t111\\t1\\n1902\\t111\\t1\\n1902\\t100\\t1\\n1902\\t122\\t1\\n1902\\t100\\t1\\n1902\\t111\\t1\\n1902\\t161\\t1\\n1902\\t106\\t1\\n1902\\t111\\t1\\n1902\\t128\\t1\\n1902\\t111\\t1\\n1902\\t100\\t1\\n1902\\t117\\t1\\n1902\\t100\\t1\\n1902\\t111\\t1\\n1902\\t150\\t1\\n1902\\t111\\t1\\n1902\\t100\\t1\\n1902\\t122\\t1\\n1902\\t111\\t1\\n1902\\t117\\t1\\n1902\\t139\\t1\\n1902\\t106\\t1\\n1902\\t133\\t1\\n1902\\t139\\t1\\n1902\\t122\\t1\\n1902\\t133\\t1\\n1902\\t156\\t1\\n1902\\t133\\t1\\n1902\\t139\\t1\\n1902\\t150\\t1\\n1902\\t128\\t1\\n1902\\t128\\t1\\n1902\\t206\\t1\\n1902\\t139\\t1\\n1902\\t133\\t1\\n1902\\t178\\t1\\n1902\\t139\\t1\\n1902\\t122\\t1\\n1902\\t106\\t1\\n1902\\t122\\t1\\n1902\\t122\\t1\\n1902\\t156\\t1\\n1902\\t117\\t1\\n1902\\t128\\t1\\n1902\\t144\\t1\\n1902\\t117\\t1\\n1902\\t117\\t1\\n1902\\t139\\t1\\n1902\\t128\\t1\\n1902\\t133\\t1\\n1902\\t133\\t1\\n1902\\t128\\t1\\n1902\\t133\\t1\\n1902\\t156\\t1\\n1902\\t139\\t1\\n1902\\t150\\t1\\n1902\\t167\\t1\\n1902\\t128\\t1\\n1902\\t128\\t1\\n1902\\t172\\t1\\n1902\\t122\\t1\\n1902\\t122\\t1\\n1902\\t156\\t1\\n1902\\t128\\t1\\n1902\\t156\\t1\\n1902\\t150\\t1\\n1902\\t122\\t1\\n1902\\t133\\t1\\n1902\\t189\\t1\\n1902\\t122\\t1\\n1902\\t133\\t1\\n1902\\t183\\t1\\n1902\\t133\\t1\\n1902\\t139\\t1\\n1902\\t167\\t1\\n1902\\t122\\t1\\n1902\\t139\\t1\\n1902\\t128\\t1\\n1902\\t117\\t1\\n1902\\t122\\t1\\n1902\\t128\\t1\\n1902\\t122\\t1\\n1902\\t117\\t1\\n1902\\t139\\t1\\n1902\\t122\\t1\\n1902\\t139\\t1\\n1902\\t144\\t1\\n1902\\t128\\t1\\n1902\\t100\\t1\\n1902\\t133\\t1\\n1902\\t117\\t1\\n1902\\t117\\t1\\n1902\\t122\\t1\\n1902\\t111\\t1\\n1902\\t106\\t1\\n1902\\t122\\t1\\n1902\\t106\\t1\\n1902\\t128\\t1\\n1902\\t156\\t1\\n1902\\t133\\t1\\n1902\\t128\\t1\\n1902\\t178\\t1\\n1902\\t133\\t1\\n1902\\t133\\t1\\n1902\\t156\\t1\\n1902\\t133\\t1\\n1902\\t106\\t1\\n1902\\t122\\t1\\n1902\\t111\\t1\\n1902\\t89\\t1\\n1902\\t111\\t1\\n1902\\t111\\t1\\n1902\\t100\\t1\\n1902\\t111\\t1\\n1902\\t94\\t1\\n1902\\t117\\t1\\n1902\\t156\\t1\\n1902\\t122\\t1\\n1902\\t133\\t1\\n1902\\t150\\t1\\n1902\\t122\\t1\\n1902\\t122\\t1\\n1902\\t117\\t1\\n1902\\t117\\t1\\n1902\\t128\\t1\\n1902\\t133\\t1\\n1902\\t122\\t1\\n1902\\t128\\t1\\n1902\\t178\\t1\\n1902\\t128\\t1\\n1902\\t111\\t1\\n1902\\t167\\t1\\n1902\\t122\\t1\\n1902\\t94\\t1\\n1902\\t139\\t1\\n1902\\t111\\t1\\n1902\\t94\\t1\\n1902\\t150\\t1\\n1902\\t100\\t1\\n1902\\t94\\t1\\n1902\\t144\\t1\\n1902\\t100\\t1\\n1902\\t111\\t1\\n1902\\t117\\t1\\n1902\\t89\\t1\\n1902\\t78\\t1\\n1902\\t161\\t1\\n1902\\t133\\t1\\n1902\\t139\\t1\\n1902\\t150\\t1\\n1902\\t133\\t1\\n1902\\t128\\t1\\n1902\\t150\\t1\\n1902\\t128\\t1\\n1902\\t122\\t1\\n1902\\t128\\t1\\n1902\\t106\\t1\\n1902\\t106\\t1\\n1902\\t122\\t1\\n1902\\t100\\t1\\n1902\\t106\\t1\\n1902\\t150\\t1\\n1902\\t133\\t1\\n1902\\t128\\t1\\n1902\\t150\\t1\\n1902\\t122\\t1\\n1902\\t106\\t1\\n1902\\t106\\t1\\n1902\\t111\\t1\\n1902\\t89\\t1\\n1902\\t106\\t1\\n1902\\t72\\t1\\n1902\\t94\\t1\\n1902\\t122\\t1\\n1902\\t78\\t1\\n1902\\t78\\t1\\n1902\\t83\\t1\\n1902\\t67\\t1\\n1902\\t72\\t1\\n1902\\t67\\t1\\n1902\\t50\\t1\\n1902\\t67\\t1\\n1902\\t100\\t1\\n1902\\t94\\t1\\n1902\\t89\\t1\\n1902\\t83\\t1\\n1902\\t94\\t1\\n1902\\t106\\t1\\n1902\\t128\\t1\\n1902\\t94\\t1\\n1902\\t89\\t1\\n1902\\t111\\t1\\n1902\\t78\\t1\\n1902\\t56\\t1\\n1902\\t67\\t1\\n1902\\t50\\t1\\n1902\\t56\\t1\\n1902\\t56\\t1\\n1902\\t44\\t1\\n1902\\t50\\t1\\n1902\\t67\\t1\\n1902\\t56\\t1\\n1902\\t67\\t1\\n1902\\t94\\t1\\n1902\\t100\\t1\\n1902\\t72\\t1\\n1902\\t100\\t1\\n1902\\t78\\t1\\n1902\\t94\\t1\\n1902\\t117\\t1\\n1902\\t100\\t1\\n1902\\t94\\t1\\n1902\\t122\\t1\\n1902\\t94\\t1\\n1902\\t83\\t1\\n1902\\t100\\t1\\n1902\\t78\\t1\\n1902\\t83\\t1\\n1902\\t78\\t1\\n1902\\t72\\t1\\n1902\\t67\\t1\\n1902\\t67\\t1\\n1902\\t72\\t1\\n1902\\t78\\t1\\n1902\\t100\\t1\\n1902\\t72\\t1\\n1902\\t33\\t1\\n1902\\t44\\t1\\n1902\\t22\\t1\\n1902\\t22\\t1\\n1902\\t50\\t1\\n1902\\t22\\t1\\n1902\\t33\\t1\\n1902\\t56\\t1\\n1902\\t67\\t1\\n1902\\t72\\t1\\n1902\\t89\\t1\\n1902\\t39\\t1\\n1902\\t17\\t1\\n1902\\t39\\t1\\n1902\\t50\\t1\\n1902\\t50\\t1\\n1902\\t67\\t1\\n1902\\t78\\t1\\n1902\\t67\\t1\\n1902\\t83\\t1\\n1902\\t56\\t1\\n1902\\t67\\t1\\n1902\\t83\\t1\\n1902\\t67\\t1\\n1902\\t50\\t1\\n1902\\t61\\t1\\n1902\\t28\\t1\\n1902\\t6\\t1\\n1902\\t50\\t1\\n1902\\t50\\t1\\n1902\\t61\\t1\\n1902\\t67\\t1\\n1902\\t61\\t1\\n1902\\t28\\t1\\n1902\\t50\\t1\\n1902\\t44\\t1\\n1902\\t39\\t1\\n1902\\t50\\t1\\n1902\\t28\\t1\\n1902\\t22\\t1\\n1902\\t44\\t1\\n1902\\t28\\t1\\n1902\\t61\\t1\\n1902\\t44\\t1\\n1902\\t28\\t1\\n1902\\t11\\t1\\n1902\\t11\\t1\\n1902\\t-44\\t1\\n1902\\t-67\\t1\\n1902\\t0\\t1\\n1902\\t0\\t1\\n1902\\t17\\t1\\n1902\\t28\\t1\\n1902\\t44\\t1\\n1902\\t33\\t1\\n1902\\t33\\t1\\n1902\\t22\\t1\\n1902\\t0\\t1\\n1902\\t17\\t1\\n1902\\t11\\t1\\n1902\\t6\\t1\\n1902\\t11\\t1\\n1902\\t6\\t1\\n1902\\t0\\t1\\n1902\\t33\\t1\\n1902\\t28\\t1\\n1902\\t6\\t1\\n1902\\t6\\t1\\n1902\\t-22\\t1\\n1902\\t-44\\t1\\n1902\\t-11\\t1\\n1902\\t-6\\t1\\n1902\\t56\\t1\\n1902\\t78\\t1\\n1902\\t61\\t1\\n1902\\t50\\t1\\n1902\\t50\\t1\\n1902\\t56\\t1\\n1902\\t50\\t1\\n1902\\t56\\t1\\n1902\\t50\\t1\\n1902\\t50\\t1\\n1902\\t56\\t1\\n1902\\t44\\t1\\n1902\\t44\\t1\\n1902\\t61\\t1\\n1902\\t50\\t1\\n1902\\t56\\t1\\n1902\\t72\\t1\\n1902\\t67\\t1\\n1902\\t56\\t1\\n1902\\t56\\t1\\n1902\\t56\\t1\\n1902\\t50\\t1\\n1902\\t44\\t1\\n1902\\t33\\t1\\n1902\\t50\\t1\\n1902\\t61\\t1\\n1902\\t67\\t1\\n1902\\t39\\t1\\n1902\\t39\\t1\\n1902\\t39\\t1\\n1902\\t28\\t1\\n1902\\t44\\t1\\n1902\\t50\\t1\\n1902\\t44\\t1\\n1902\\t44\\t1\\n1902\\t28\\t1\\n1902\\t-6\\t1\\n1902\\t-11\\t1\\n1902\\t-44\\t1\\n1902\\t-89\\t1\\n1902\\t-44\\t1\\n1902\\t-39\\t1\\n1902\\t11\\t1\\n1902\\t33\\t1\\n1902\\t33\\t1\\n1902\\t39\\t1\\n1902\\t44\\t1\\n1902\\t39\\t1\\n1902\\t22\\t1\\n1902\\t28\\t1\\n1902\\t28\\t1\\n1902\\t50\\t1\\n1902\\t50\\t1\\n1902\\t39\\t1\\n1902\\t50\\t1\\n1902\\t50\\t1\\n1902\\t50\\t1\\n1902\\t33\\t1\\n1902\\t50\\t1\\n1902\\t22\\t1\\n1902\\t44\\t1\\n1902\\t44\\t1\\n1902\\t50\\t1\\n1902\\t44\\t1\\n1902\\t50\\t1\\n1902\\t39\\t1\\n1902\\t22\\t1\\n1902\\t17\\t1\\n1902\\t11\\t1\\n1902\\t-50\\t1\\n1902\\t-44\\t1\\n1902\\t-50\\t1\\n1902\\t-11\\t1\\n1902\\t22\\t1\\n1902\\t17\\t1\\n1902\\t6\\t1\\n1902\\t11\\t1\\n1902\\t22\\t1\\n1902\\t28\\t1\\n1902\\t39\\t1\\n1902\\t28\\t1\\n1902\\t28\\t1\\n1902\\t33\\t1\\n1902\\t39\\t1\\n1902\\t11\\t1\\n1902\\t0\\t1\\n1902\\t-33\\t1\\n1902\\t28\\t1\\n1902\\t28\\t1\\n1902\\t28\\t1\\n1902\\t33\\t1\\n1902\\t39\\t1\\n1902\\t33\\t1\\n1902\\t22\\t1\\n1902\\t-6\\t1\\n1902\\t-72\\t1\\n1902\\t-106\\t1\\n1902\\t-89\\t1\\n1902\\t-94\\t1\\n1902\\t-100\\t1\\n1902\\t-72\\t1\\n1902\\t-61\\t1\\n1902\\t11\\t1\\n1902\\t17\\t1\\n1902\\t6\\t1\\n1902\\t-56\\t1\\n1902\\t-44\\t1\\n1902\\t-50\\t1\\n1902\\t-100\\t1\\n1902\\t-89\\t1\\n1902\\t-100\\t1\\n1902\\t-50\\t1\\n1902\\t-100\\t1\\n1902\\t-122\\t1\\n1902\\t-122\\t1\\n1902\\t-122\\t1\\n1902\\t-111\\t1\\n1902\\t-122\\t1\\n1902\\t-144\\t1\\n1902\\t-156\\t1\\n1902\\t-144\\t1\\n1902\\t-144\\t1\\n1902\\t-161\\t1\\n1902\\t-139\\t1\\n1902\\t-94\\t1\\n1902\\t-67\\t1\\n1902\\t-22\\t1\\n1902\\t-6\\t1\\n1902\\t-6\\t1\\n1902\\t6\\t1\\n1902\\t11\\t1\\n1902\\t6\\t1\\n1902\\t0\\t1\\n1902\\t-17\\t1\\n1902\\t0\\t1\\n1902\\t-6\\t1\\n1902\\t-17\\t1\\n1902\\t6\\t1\\n1902\\t6\\t1\\n1902\\t-11\\t1\\n1902\\t-33\\t1\\n1902\\t0\\t1\\n1902\\t6\\t1\\n1902\\t17\\t1\\n1902\\t22\\t1\\n1902\\t17\\t1\\n1902\\t17\\t1\\n1902\\t6\\t1\\n1902\\t6\\t1\\n1902\\t-33\\t1\\n1902\\t-22\\t1\\n1902\\t-50\\t1\\n1902\\t-44\\t1\\n1902\\t0\\t1\\n1902\\t6\\t1\\n1902\\t0\\t1\\n1902\\t0\\t1\\n1902\\t17\\t1\\n1902\\t11\\t1\\n1902\\t0\\t1\\n1902\\t-6\\t1\\n1902\\t-6\\t1\\n1902\\t0\\t1\\n1902\\t0\\t1\\n1902\\t-17\\t1\\n1902\\t-39\\t1\\n1902\\t-28\\t1\\n1902\\t-28\\t1\\n1902\\t-33\\t1\\n1902\\t-33\\t1\\n1902\\t-44\\t1\\n1902\\t-28\\t1\\n1902\\t-22\\t1\\n1902\\t-39\\t1\\n1902\\t-61\\t1\\n1902\\t-67\\t1\\n1902\\t-56\\t1\\n1902\\t-50\\t1\\n1902\\t-44\\t1\\n1902\\t-72\\t1\\n1902\\t0\\t1\\n1902\\t0\\t1\\n1902\\t6\\t1\\n1902\\t28\\t1\\n1902\\t17\\t1\\n1902\\t6\\t1\\n1902\\t22\\t1\\n1902\\t11\\t1\\n1902\\t6\\t1\\n1902\\t-39\\t1\\n1902\\t-17\\t1\\n1902\\t0\\t1\\n1902\\t-11\\t1\\n1902\\t-28\\t1\\n1902\\t-39\\t1\\n1902\\t-17\\t1\\n1902\\t-22\\t1\\n1902\\t-39\\t1\\n1902\\t-56\\t1\\n1902\\t-67\\t1\\n1902\\t-89\\t1\\n1902\\t-94\\t1\\n1902\\t-94\\t1\\n1902\\t-111\\t1\\n1902\\t-133\\t1\\n1902\\t-111\\t1\\n1902\\t-128\\t1\\n1902\\t-28\\t1\\n1902\\t-33\\t1\\n1902\\t-56\\t1\\n1902\\t-89\\t1\\n1902\\t-106\\t1\\n1902\\t-128\\t1\\n1902\\t-167\\t1\\n1902\\t-200\\t1\\n1902\\t-267\\t1\\n1902\\t-156\\t1\\n1902\\t-44\\t1\\n1902\\t-6\\t1\\n1902\\t6\\t1\\n1902\\t0\\t1\\n1902\\t-11\\t1\\n1902\\t-133\\t1\\n1902\\t-150\\t1\\n1902\\t-167\\t1\\n1902\\t-78\\t1\\n1902\\t-17\\t1\\n1902\\t-17\\t1\\n1902\\t-17\\t1\\n1902\\t-6\\t1\\n1902\\t-6\\t1\\n1902\\t6\\t1\\n1902\\t0\\t1\\n1902\\t-117\\t1\\n1902\\t6\\t1\\n1902\\t17\\t1\\n1902\\t11\\t1\\n1902\\t-33\\t1\\n1902\\t-94\\t1\\n1902\\t-133\\t1\\n1902\\t-139\\t1\\n1902\\t-111\\t1\\n1902\\t-150\\t1\\n1902\\t-72\\t1\\n1902\\t-61\\t1\\n1902\\t-78\\t1\\n1902\\t-106\\t1\\n1902\\t-111\\t1\\n1902\\t-194\\t1\\n1902\\t-300\\t1\\n1902\\t-189\\t1\\n1902\\t-61\\t1\\n1902\\t-6\\t1\\n1902\\t17\\t1\\n1902\\t-33\\t1\\n1902\\t-28\\t1\\n1902\\t-50\\t1\\n1902\\t-150\\t1\\n1902\\t-156\\t1\\n1902\\t-144\\t1\\n1902\\t-150\\t1\\n1902\\t-289\\t1\\n1902\\t-156\\t1\\n1902\\t-106\\t1\\n1902\\t-44\\t1\\n1902\\t17\\t1\\n1902\\t0\\t1\\n1902\\t-11\\t1\\n1902\\t-78\\t1\\n1902\\t-133\\t1\\n1902\\t-178\\t1\\n1902\\t-194\\t1\\n1902\\t-139\\t1\\n1902\\t-33\\t1\\n1902\\t-28\\t1\\n1902\\t-17\\t1\\n1902\\t17\\t1\\n1902\\t22\\t1\\n1902\\t22\\t1\\n1902\\t11\\t1\\n1902\\t11\\t1\\n1902\\t11\\t1\\n1902\\t6\\t1\\n1902\\t11\\t1\\n1902\\t6\\t1\\n1902\\t-6\\t1\\n1902\\t6\\t1\\n1902\\t-11\\t1\\n1902\\t-11\\t1\\n1902\\t-33\\t1\\n1902\\t-100\\t1\\n1902\\t-33\\t1\\n1902\\t-61\\t1\\n1902\\t-56\\t1\\n1902\\t-67\\t1\\n1902\\t-94\\t1\\n1902\\t-156\\t1\\n1902\\t-178\\t1\\n1902\\t-139\\t1\\n1902\\t-228\\t1\\n1902\\t-78\\t1\\n1902\\t-11\\t1\\n1902\\t-17\\t1\\n1902\\t-28\\t1\\n1902\\t-11\\t1\\n1902\\t-89\\t1\\n1902\\t-11\\t1\\n1902\\t-50\\t1\\n1902\\t-122\\t1\\n1902\\t-133\\t1\\n1902\\t-133\\t1\\n1902\\t-194\\t1\\n1902\\t-300\\t1\\n1902\\t-189\\t1\\n1902\\t-217\\t1\\n1902\\t-128\\t1\\n1902\\t-100\\t1\\n1902\\t-67\\t1\\n1902\\t-100\\t1\\n1902\\t-89\\t1\\n1902\\t-78\\t1\\n1902\\t-89\\t1\\n1902\\t-72\\t1\\n1902\\t-78\\t1\\n1902\\t-56\\t1\\n1902\\t-44\\t1\\n1902\\t-178\\t1\\n1902\\t-156\\t1\\n1902\\t-117\\t1\\n1902\\t-133\\t1\\n1902\\t-133\\t1\\n1902\\t-89\\t1\\n1902\\t-106\\t1\\n1902\\t-122\\t1\\n1902\\t-56\\t1\\n1902\\t-83\\t1\\n1902\\t-156\\t1\\n1902\\t-67\\t1\\n1902\\t-106\\t1\\n1902\\t-167\\t1\\n1902\\t-94\\t1\\n1902\\t-144\\t1\\n1902\\t-122\\t1\\n1902\\t-56\\t1\\n1902\\t-89\\t1\\n1902\\t-22\\t1\\n1902\\t11\\t1\\n1902\\t6\\t1\\n1902\\t11\\t1\\n1902\\t22\\t1\\n1902\\t-39\\t1\\n1902\\t-100\\t1\\n1902\\t-44\\t1\\n1902\\t-67\\t1\\n1902\\t-56\\t1\\n1902\\t-56\\t1\\n1902\\t-106\\t1\\n1902\\t-144\\t1\\n1902\\t-56\\t1\\n1902\\t-67\\t1\\n1902\\t-61\\t1\\n1902\\t-22\\t1\\n1902\\t-78\\t1\\n1902\\t-50\\t1\\n1902\\t-6\\t1\\n1902\\t-22\\t1\\n1902\\t-22\\t1\\n1902\\t0\\t1\\n1902\\t-28\\t1\\n1902\\t-44\\t1\\n1902\\t-11\\t1\\n1902\\t-28\\t1\\n1902\\t-44\\t1\\n1902\\t-6\\t1\\n1902\\t-22\\t1\\n1902\\t-56\\t1\\n1902\\t-33\\t1\\n1902\\t-83\\t1\\n1902\\t-78\\t1\\n1902\\t-28\\t1\\n1902\\t-39\\t1\\n1902\\t-33\\t1\\n1902\\t-22\\t1\\n1902\\t-22\\t1\\n1902\\t-6\\t1\\n1902\\t17\\t1\\n1902\\t6\\t1\\n1902\\t6\\t1\\n1902\\t22\\t1\\n1902\\t-6\\t1\\n1902\\t-44\\t1\\n1902\\t-33\\t1\\n1902\\t-67\\t1\\n1902\\t-78\\t1\\n1902\\t-56\\t1\\n1902\\t-67\\t1\\n1902\\t-89\\t1\\n1902\\t-44\\t1\\n1902\\t-44\\t1\\n1902\\t0\\t1\\n1902\\t17\\t1\\n1902\\t-6\\t1\\n1902\\t6\\t1\\n1902\\t22\\t1\\n1902\\t-17\\t1\\n1902\\t-100\\t1\\n1902\\t-111\\t1\\n1902\\t-139\\t1\\n1902\\t-156\\t1\\n1902\\t-106\\t1\\n1902\\t-161\\t1\\n1902\\t-278\\t1\\n1902\\t-72\\t1\\n1902\\t-150\\t1\\n1902\\t-106\\t1\\n1902\\t-83\\t1\\n1902\\t-172\\t1\\n1902\\t-328\\t1\\n1902\\t-100\\t1\\n1902\\t-156\\t1\\n1902\\t-106\\t1\\n1902\\t-22\\t1\\n1902\\t-94\\t1\\n1902\\t-56\\t1\\n1902\\t-17\\t1\\n1902\\t-22\\t1\\n1902\\t-17\\t1\\n1902\\t11\\t1\\n1902\\t-6\\t1\\n1902\\t-11\\t1\\n1902\\t11\\t1\\n1902\\t0\\t1\\n1902\\t-56\\t1\\n1902\\t-33\\t1\\n1902\\t-67\\t1\\n1902\\t-39\\t1\\n1902\\t-28\\t1\\n1902\\t-72\\t1\\n1902\\t-56\\t1\\n1902\\t17\\t1\\n1902\\t17\\t1\\n1902\\t-22\\t1\\n1902\\t-6\\t1\\n1902\\t-67\\t1\\n1902\\t-94\\t1\\n1902\\t-111\\t1\\n1902\\t-128\\t1\\n1902\\t-111\\t1\\n1902\\t-61\\t1\\n1902\\t-72\\t1\\n1902\\t-67\\t1\\n1902\\t-6\\t1\\n1902\\t-50\\t1\\n1902\\t-44\\t1\\n1902\\t22\\t1\\n1902\\t17\\t1\\n1902\\t17\\t1\\n1902\\t22\\t1\\n1902\\t17\\t1\\n1902\\t-6\\t1\\n1902\\t0\\t1\\n1902\\t-11\\t1\\n1902\\t-17\\t1\\n1902\\t17\\t1\\n1902\\t-22\\t1\\n1902\\t-28\\t1\\n1902\\t-17\\t1\\n1902\\t-39\\t1\\n1902\\t-44\\t1\\n1902\\t-11\\t1\\n1902\\t-44\\t1\\n1902\\t-106\\t1\\n1902\\t28\\t1\\n1902\\t-89\\t1\\n1902\\t-161\\t1\\n1902\\t6\\t1\\n1902\\t-72\\t1\\n1902\\t-128\\t1\\n1902\\t11\\t1\\n1902\\t-83\\t1\\n1902\\t-56\\t1\\n1902\\t11\\t1\\n1902\\t-28\\t1\\n1902\\t-44\\t1\\n1902\\t-11\\t1\\n1902\\t-94\\t1\\n1902\\t-39\\t1\\n1902\\t33\\t1\\n1902\\t-11\\t1\\n1902\\t-72\\t1\\n1902\\t-11\\t1\\n1902\\t-67\\t1\\n1902\\t-44\\t1\\n1902\\t17\\t1\\n1902\\t-44\\t1\\n1902\\t-111\\t1\\n1902\\t-17\\t1\\n1902\\t-78\\t1\\n1902\\t-172\\t1\\n1902\\t-28\\t1\\n1902\\t-89\\t1\\n1902\\t-183\\t1\\n1902\\t-28\\t1\\n1902\\t-117\\t1\\n1902\\t-183\\t1\\n1902\\t-17\\t1\\n1902\\t-94\\t1\\n1902\\t-150\\t1\\n1902\\t28\\t1\\n1902\\t-67\\t1\\n1902\\t-83\\t1\\n1902\\t50\\t1\\n1902\\t-33\\t1\\n1902\\t-94\\t1\\n1902\\t83\\t1\\n1902\\t0\\t1\\n1902\\t11\\t1\\n1902\\t72\\t1\\n1902\\t6\\t1\\n1902\\t-44\\t1\\n1902\\t67\\t1\\n1902\\t-11\\t1\\n1902\\t-6\\t1\\n1902\\t61\\t1\\n1902\\t6\\t1\\n1902\\t-11\\t1\\n1902\\t72\\t1\\n1902\\t-6\\t1\\n1902\\t22\\t1\\n1902\\t67\\t1\\n1902\\t28\\t1\\n1902\\t33\\t1\\n1902\\t39\\t1\\n1902\\t17\\t1\\n1902\\t-6\\t1\\n1902\\t56\\t1\\n1902\\t22\\t1\\n1902\\t11\\t1\\n1902\\t67\\t1\\n1902\\t28\\t1\\n1902\\t-11\\t1\\n1902\\t33\\t1\\n1902\\t-11\\t1\\n1902\\t-22\\t1\\n1902\\t67\\t1\\n1902\\t-6\\t1\\n1902\\t11\\t1\\n1902\\t67\\t1\\n1902\\t-6\\t1\\n1902\\t28\\t1\\n1902\\t56\\t1\\n1902\\t-6\\t1\\n1902\\t-6\\t1\\n1902\\t17\\t1\\n1902\\t-28\\t1\\n1902\\t-33\\t1\\n1902\\t6\\t1\\n1902\\t-28\\t1\\n1902\\t-22\\t1\\n1902\\t22\\t1\\n1902\\t-22\\t1\\n1902\\t-22\\t1\\n1902\\t44\\t1\\n1902\\t-6\\t1\\n1902\\t6\\t1\\n1902\\t56\\t1\\n1902\\t11\\t1\\n1902\\t17\\t1\\n1902\\t61\\t1\\n1902\\t6\\t1\\n1902\\t0\\t1\\n1902\\t28\\t1\\n1902\\t22\\t1\\n1902\\t28\\t1\\n1902\\t78\\t1\\n1902\\t33\\t1\\n1902\\t39\\t1\\n1902\\t117\\t1\\n1902\\t67\\t1\\n1902\\t72\\t1\\n1902\\t122\\t1\\n1902\\t56\\t1\\n1902\\t50\\t1\\n1902\\t117\\t1\\n1902\\t50\\t1\\n1902\\t44\\t1\\n1902\\t33\\t1\\n1902\\t17\\t1\\n1902\\t11\\t1\\n1902\\t17\\t1\\n1902\\t6\\t1\\n1902\\t0\\t1\\n1902\\t33\\t1\\n1902\\t11\\t1\\n1902\\t22\\t1\\n1902\\t44\\t1\\n1902\\t17\\t1\\n1902\\t22\\t1\\n1902\\t67\\t1\\n1902\\t33\\t1\\n1902\\t33\\t1\\n1902\\t78\\t1\\n1902\\t33\\t1\\n1902\\t-17\\t1\\n1902\\t78\\t1\\n1902\\t44\\t1\\n1902\\t83\\t1\\n1902\\t111\\t1\\n1902\\t67\\t1\\n1902\\t61\\t1\\n1902\\t106\\t1\\n1902\\t67\\t1\\n1902\\t83\\t1\\n1902\\t78\\t1\\n1902\\t44\\t1\\n1902\\t28\\t1\\n1902\\t78\\t1\\n1902\\t61\\t1\\n1902\\t89\\t1\\n1902\\t111\\t1\\n1902\\t100\\t1\\n1902\\t100\\t1\\n1902\\t117\\t1\\n1902\\t72\\t1\\n1902\\t78\\t1\\n1902\\t117\\t1\\n1902\\t78\\t1\\n1902\\t122\\t1\\n1902\\t144\\t1\\n1902\\t67\\t1\\n1902\\t83\\t1\\n1902\\t144\\t1\\n1902\\t94\\t1\\n1902\\t100\\t1\\n1902\\t122\\t1\\n1902\\t83\\t1\\n1902\\t111\\t1\\n1902\\t122\\t1\\n1902\\t89\\t1\\n1902\\t106\\t1\\n1902\\t172\\t1\\n1902\\t111\\t1\\n1902\\t72\\t1\\n1902\\t133\\t1\\n1902\\t78\\t1\\n1902\\t100\\t1\\n1902\\t128\\t1\\n1902\\t83\\t1\\n1902\\t83\\t1\\n1902\\t150\\t1\\n1902\\t100\\t1\\n1902\\t122\\t1\\n1902\\t167\\t1\\n1902\\t133\\t1\\n1902\\t144\\t1\\n1902\\t167\\t1\\n1902\\t100\\t1\\n1902\\t106\\t1\\n1902\\t133\\t1\\n1902\\t122\\t1\\n1902\\t78\\t1\\n1902\\t83\\t1\\n1902\\t100\\t1\\n1902\\t89\\t1\\n1902\\t133\\t1\\n1902\\t94\\t1\\n1902\\t133\\t1\\n1902\\t156\\t1\\n1902\\t117\\t1\\n1902\\t133\\t1\\n1902\\t200\\t1\\n1902\\t150\\t1\\n1902\\t128\\t1\\n1902\\t139\\t1\\n1902\\t83\\t1\\n1902\\t78\\t1\\n1902\\t111\\t1\\n1902\\t67\\t1\\n1902\\t67\\t1\\n1902\\t106\\t1\\n1902\\t72\\t1\\n1902\\t83\\t1\\n1902\\t133\\t1\\n1902\\t83\\t1\\n1902\\t106\\t1\\n1902\\t72\\t1\\n1902\\t67\\t1\\n1902\\t78\\t1\\n1902\\t89\\t1\\n1902\\t56\\t1\\n1902\\t61\\t1\\n1902\\t67\\t1\\n1902\\t67\\t1\\n1902\\t89\\t1\\n1902\\t150\\t1\\n1902\\t106\\t1\\n1902\\t128\\t1\\n1902\\t178\\t1\\n1902\\t144\\t1\\n1902\\t156\\t1\\n1902\\t144\\t1\\n1902\\t117\\t1\\n1902\\t106\\t1\\n1902\\t150\\t1\\n1902\\t122\\t1\\n1902\\t117\\t1\\n1902\\t133\\t1\\n1902\\t117\\t1\\n1902\\t94\\t1\\n1902\\t89\\t1\\n1902\\t94\\t1\\n1902\\t89\\t1\\n1902\\t150\\t1\\n1902\\t139\\t1\\n1902\\t122\\t1\\n1902\\t189\\t1\\n1902\\t172\\t1\\n1902\\t150\\t1\\n1902\\t189\\t1\\n1902\\t167\\t1\\n1902\\t150\\t1\\n1902\\t167\\t1\\n1902\\t128\\t1\\n1902\\t144\\t1\\n1902\\t139\\t1\\n1902\\t117\\t1\\n1902\\t117\\t1\\n1902\\t167\\t1\\n1902\\t128\\t1\\n1902\\t122\\t1\\n1902\\t161\\t1\\n1902\\t156\\t1\\n1902\\t133\\t1\\n1902\\t206\\t1\\n1902\\t144\\t1\\n1902\\t117\\t1\\n1902\\t183\\t1\\n1902\\t111\\t1\\n1902\\t122\\t1\\n1902\\t144\\t1\\n1902\\t111\\t1\\n1902\\t139\\t1\\n1902\\t200\\t1\\n1902\\t161\\t1\\n1902\\t128\\t1\\n1902\\t167\\t1\\n1902\\t106\\t1\\n1902\\t106\\t1\\n1902\\t128\\t1\\n1902\\t94\\t1\\n1902\\t144\\t1\\n1902\\t183\\t1\\n1902\\t94\\t1\\n1902\\t89\\t1\\n1902\\t150\\t1\\n1902\\t111\\t1\\n1902\\t111\\t1\\n1902\\t156\\t1\\n1902\\t94\\t1\\n1902\\t122\\t1\\n1902\\t172\\t1\\n1902\\t139\\t1\\n1902\\t128\\t1\\n1902\\t133\\t1\\n1902\\t106\\t1\\n1902\\t117\\t1\\n1902\\t172\\t1\\n1902\\t139\\t1\\n1902\\t117\\t1\\n1902\\t161\\t1\\n1902\\t117\\t1\\n1902\\t100\\t1\\n1902\\t156\\t1\\n1902\\t111\\t1\\n1902\\t111\\t1\\n1902\\t128\\t1\\n1902\\t111\\t1\\n1902\\t117\\t1\\n1902\\t167\\t1\\n1902\\t111\\t1\\n1902\\t122\\t1\\n1902\\t144\\t1\\n1902\\t111\\t1\\n1902\\t117\\t1\\n1902\\t144\\t1\\n1902\\t128\\t1\\n1902\\t106\\t1\\n1902\\t161\\t1\\n1902\\t117\\t1\\n1902\\t111\\t1\\n1902\\t133\\t1\\n1902\\t117\\t1\\n1902\\t106\\t1\\n1902\\t178\\t1\\n1902\\t133\\t1\\n1902\\t100\\t1\\n1902\\t178\\t1\\n1902\\t111\\t1\\n1902\\t122\\t1\\n1902\\t150\\t1\\n1902\\t139\\t1\\n1902\\t144\\t1\\n1902\\t194\\t1\\n1902\\t161\\t1\\n1902\\t172\\t1\\n1902\\t200\\t1\\n1902\\t150\\t1\\n1902\\t122\\t1\\n1902\\t167\\t1\\n1902\\t122\\t1\\n1902\\t139\\t1\\n1902\\t172\\t1\\n1902\\t128\\t1\\n1902\\t139\\t1\\n1902\\t156\\t1\\n1902\\t128\\t1\\n1902\\t111\\t1\\n1902\\t194\\t1\\n1902\\t133\\t1\\n1902\\t111\\t1\\n1902\\t194\\t1\\n1902\\t128\\t1\\n1902\\t128\\t1\\n1902\\t178\\t1\\n1902\\t128\\t1\\n1902\\t139\\t1\\n1902\\t178\\t1\\n1902\\t106\\t1\\n1902\\t128\\t1\\n1902\\t183\\t1\\n1902\\t139\\t1\\n1902\\t156\\t1\\n1902\\t167\\t1\\n1902\\t128\\t1\\n1902\\t117\\t1\\n1902\\t144\\t1\\n1902\\t117\\t1\\n1902\\t122\\t1\\n1902\\t172\\t1\\n1902\\t122\\t1\\n1902\\t117\\t1\\n1902\\t139\\t1\\n1902\\t111\\t1\\n1902\\t122\\t1\\n1902\\t156\\t1\\n1902\\t117\\t1\\n1902\\t122\\t1\\n1902\\t172\\t1\\n1902\\t117\\t1\\n1902\\t122\\t1\\n1902\\t189\\t1\\n1902\\t139\\t1\\n1902\\t144\\t1\\n1902\\t200\\t1\\n1902\\t122\\t1\\n1902\\t133\\t1\\n1902\\t150\\t1\\n1902\\t117\\t1\\n1902\\t117\\t1\\n1902\\t156\\t1\\n1902\\t117\\t1\\n1902\\t117\\t1\\n1902\\t178\\t1\\n1902\\t111\\t1\\n1902\\t122\\t1\\n1902\\t172\\t1\\n1902\\t117\\t1\\n1902\\t117\\t1\\n1902\\t183\\t1\\n1902\\t122\\t1\\n1902\\t133\\t1\\n1902\\t167\\t1\\n1902\\t106\\t1\\n1902\\t122\\t1\\n1902\\t128\\t1\\n1902\\t89\\t1\\n1902\\t122\\t1\\n1902\\t139\\t1\\n1902\\t117\\t1\\n1902\\t122\\t1\\n1902\\t150\\t1\\n1902\\t117\\t1\\n1902\\t117\\t1\\n1902\\t156\\t1\\n1902\\t100\\t1\\n1902\\t72\\t1\\n1902\\t133\\t1\\n1902\\t106\\t1\\n1902\\t106\\t1\\n1902\\t122\\t1\\n1902\\t100\\t1\\n1902\\t117\\t1\\n1902\\t150\\t1\\n1902\\t72\\t1\\n1902\\t78\\t1\\n1902\\t150\\t1\\n1902\\t100\\t1\\n1902\\t144\\t1\\n1902\\t178\\t1\\n1902\\t128\\t1\\n1902\\t133\\t1\\n1902\\t167\\t1\\n1902\\t111\\t1\\n1902\\t117\\t1\\n1902\\t144\\t1\\n1902\\t72\\t1\\n1902\\t100\\t1\\n1902\\t122\\t1\\n1902\\t72\\t1\\n1902\\t100\\t1\\n1902\\t133\\t1\\n1902\\t56\\t1\\n1902\\t83\\t1\\n1902\\t178\\t1\\n1902\\t78\\t1\\n1902\\t106\\t1\\n1902\\t156\\t1\\n1902\\t117\\t1\\n1902\\t111\\t1\\n1902\\t156\\t1\\n1902\\t122\\t1\\n1902\\t122\\t1\\n1902\\t172\\t1\\n1902\\t128\\t1\\n1902\\t133\\t1\\n1902\\t183\\t1\\n1902\\t106\\t1\\n1902\\t111\\t1\\n1902\\t144\\t1\\n1902\\t106\\t1\\n1902\\t94\\t1\\n1902\\t144\\t1\\n1902\\t72\\t1\\n1902\\t78\\t1\\n1902\\t139\\t1\\n1902\\t94\\t1\\n1902\\t89\\t1\\n1902\\t106\\t1\\n1902\\t106\\t1\\n1902\\t100\\t1\\n1902\\t150\\t1\\n1902\\t89\\t1\\n1902\\t72\\t1\\n1902\\t167\\t1\\n1902\\t122\\t1\\n1902\\t139\\t1\\n1902\\t156\\t1\\n1902\\t144\\t1\\n1902\\t128\\t1\\n1902\\t167\\t1\\n1902\\t133\\t1\\n1902\\t122\\t1\\n1902\\t161\\t1\\n1902\\t106\\t1\\n1902\\t61\\t1\\n1902\\t178\\t1\\n1902\\t106\\t1\\n1902\\t89\\t1\\n1902\\t167\\t1\\n1902\\t128\\t1\\n1902\\t128\\t1\\n1902\\t150\\t1\\n1902\\t89\\t1\\n1902\\t89\\t1\\n1902\\t89\\t1\\n1902\\t78\\t1\\n1902\\t72\\t1\\n1902\\t100\\t1\\n1902\\t44\\t1\\n1902\\t56\\t1\\n1902\\t122\\t1\\n1902\\t83\\t1\\n1902\\t89\\t1\\n1902\\t94\\t1\\n1902\\t50\\t1\\n1902\\t44\\t1\\n1902\\t67\\t1\\n1902\\t50\\t1\\n1902\\t56\\t1\\n1902\\t83\\t1\\n1902\\t83\\t1\\n1902\\t67\\t1\\n1902\\t83\\t1\\n1902\\t94\\t1\\n1902\\t106\\t1\\n1902\\t122\\t1\\n1902\\t72\\t1\\n1902\\t83\\t1\\n1902\\t94\\t1\\n1902\\t78\\t1\\n1902\\t39\\t1\\n1902\\t61\\t1\\n1902\\t17\\t1\\n1902\\t11\\t1\\n1902\\t61\\t1\\n1902\\t0\\t1\\n1902\\t-6\\t1\\n1902\\t72\\t1\\n1902\\t0\\t1\\n1902\\t-28\\t1\\n1902\\t100\\t1\\n1902\\t56\\t1\\n1902\\t17\\t1\\n1902\\t111\\t1\\n1902\\t61\\t1\\n1902\\t44\\t1\\n1902\\t111\\t1\\n1902\\t83\\t1\\n1902\\t56\\t1\\n1902\\t133\\t1\\n1902\\t67\\t1\\n1902\\t67\\t1\\n1902\\t83\\t1\\n1902\\t67\\t1\\n1902\\t78\\t1\\n1902\\t83\\t1\\n1902\\t61\\t1\\n1902\\t61\\t1\\n1902\\t67\\t1\\n1902\\t22\\t1\\n1902\\t50\\t1\\n1902\\t106\\t1\\n1902\\t56\\t1\\n1902\\t11\\t1\\n1902\\t33\\t1\\n1902\\t-6\\t1\\n1902\\t-33\\t1\\n1902\\t28\\t1\\n1902\\t6\\t1\\n1902\\t0\\t1\\n1902\\t50\\t1\\n1902\\t33\\t1\\n1902\\t61\\t1\\n1902\\t94\\t1\\n1902\\t17\\t1\\n1902\\t22\\t1\\n1902\\t22\\t1\\n1902\\t6\\t1\\n1902\\t22\\t1\\n1902\\t56\\t1\\n1902\\t50\\t1\\n1902\\t17\\t1\\n1902\\t106\\t1\\n1902\\t28\\t1\\n1902\\t33\\t1\\n1902\\t89\\t1\\n1902\\t44\\t1\\n1902\\t22\\t1\\n1902\\t67\\t1\\n1902\\t17\\t1\\n1902\\t-44\\t1\\n1902\\t44\\t1\\n1902\\t-28\\t1\\n1902\\t28\\t1\\n1902\\t56\\t1\\n1902\\t28\\t1\\n1902\\t11\\t1\\n1902\\t44\\t1\\n1902\\t17\\t1\\n1902\\t17\\t1\\n1902\\t39\\t1\\n1902\\t0\\t1\\n1902\\t-11\\t1\\n1902\\t39\\t1\\n1902\\t-17\\t1\\n1902\\t33\\t1\\n1902\\t44\\t1\\n1902\\t22\\t1\\n1902\\t0\\t1\\n1902\\t-11\\t1\\n1902\\t-56\\t1\\n1902\\t-61\\t1\\n1902\\t-6\\t1\\n1902\\t-11\\t1\\n1902\\t11\\t1\\n1902\\t39\\t1\\n1902\\t39\\t1\\n1902\\t50\\t1\\n1902\\t67\\t1\\n1902\\t22\\t1\\n1902\\t11\\t1\\n1902\\t6\\t1\\n1902\\t-6\\t1\\n1902\\t-6\\t1\\n1902\\t6\\t1\\n1902\\t0\\t1\\n1902\\t6\\t1\\n1902\\t28\\t1\\n1902\\t17\\t1\\n1902\\t-11\\t1\\n1902\\t-11\\t1\\n1902\\t-50\\t1\\n1902\\t-61\\t1\\n1902\\t-28\\t1\\n1902\\t-50\\t1\\n1902\\t33\\t1\\n1902\\t72\\t1\\n1902\\t67\\t1\\n1902\\t6\\t1\\n1902\\t50\\t1\\n1902\\t28\\t1\\n1902\\t17\\t1\\n1902\\t61\\t1\\n1902\\t22\\t1\\n1902\\t44\\t1\\n1902\\t50\\t1\\n1902\\t6\\t1\\n1902\\t-11\\t1\\n1902\\t44\\t1\\n1902\\t28\\t1\\n1902\\t56\\t1\\n1902\\t78\\t1\\n1902\\t72\\t1\\n1902\\t56\\t1\\n1902\\t56\\t1\\n1902\\t50\\t1\\n1902\\t33\\t1\\n1902\\t39\\t1\\n1902\\t6\\t1\\n1902\\t28\\t1\\n1902\\t83\\t1\\n1902\\t44\\t1\\n1902\\t33\\t1\\n1902\\t17\\t1\\n1902\\t22\\t1\\n1902\\t-17\\t1\\n1902\\t39\\t1\\n1902\\t39\\t1\\n1902\\t6\\t1\\n1902\\t28\\t1\\n1902\\t11\\t1\\n1902\\t0\\t1\\n1902\\t-17\\t1\\n1902\\t-56\\t1\\n1902\\t-100\\t1\\n1902\\t-50\\t1\\n1902\\t-83\\t1\\n1902\\t-28\\t1\\n1902\\t22\\t1\\n1902\\t17\\t1\\n1902\\t28\\t1\\n1902\\t39\\t1\\n1902\\t11\\t1\\n1902\\t11\\t1\\n1902\\t22\\t1\\n1902\\t22\\t1\\n1902\\t44\\t1\\n1902\\t39\\t1\\n1902\\t50\\t1\\n1902\\t44\\t1\\n1902\\t56\\t1\\n1902\\t33\\t1\\n1902\\t-28\\t1\\n1902\\t6\\t1\\n1902\\t-6\\t1\\n1902\\t33\\t1\\n1902\\t44\\t1\\n1902\\t50\\t1\\n1902\\t44\\t1\\n1902\\t50\\t1\\n1902\\t33\\t1\\n1902\\t11\\t1\\n1902\\t6\\t1\\n1902\\t-17\\t1\\n1902\\t-78\\t1\\n1902\\t-50\\t1\\n1902\\t-61\\t1\\n1902\\t-78\\t1\\n1902\\t-11\\t1\\n1902\\t-33\\t1\\n1902\\t-11\\t1\\n1902\\t6\\t1\\n1902\\t6\\t1\\n1902\\t11\\t1\\n1902\\t17\\t1\\n1902\\t-28\\t1\\n1902\\t-50\\t1\\n1902\\t22\\t1\\n1902\\t11\\t1\\n1902\\t-22\\t1\\n1902\\t-28\\t1\\n1902\\t-83\\t1\\n1902\\t-28\\t1\\n1902\\t22\\t1\\n1902\\t6\\t1\\n1902\\t-6\\t1\\n1902\\t22\\t1\\n1902\\t0\\t1\\n1902\\t0\\t1\\n1902\\t-11\\t1\\n1902\\t-89\\t1\\n1902\\t-156\\t1\\n1902\\t-122\\t1\\n1902\\t-144\\t1\\n1902\\t-178\\t1\\n1902\\t-128\\t1\\n1902\\t-100\\t1\\n1902\\t-44\\t1\\n1902\\t-6\\t1\\n1902\\t-6\\t1\\n1902\\t-61\\t1\\n1902\\t-61\\t1\\n1902\\t-72\\t1\\n1902\\t-111\\t1\\n1902\\t-111\\t1\\n1902\\t-156\\t1\\n1902\\t-128\\t1\\n1902\\t-128\\t1\\n1902\\t-156\\t1\\n1902\\t-156\\t1\\n1902\\t-167\\t1\\n1902\\t-128\\t1\\n1902\\t-139\\t1\\n1902\\t-178\\t1\\n1902\\t-206\\t1\\n1902\\t-206\\t1\\n1902\\t-183\\t1\\n1902\\t-250\\t1\\n1902\\t-267\\t1\\n1902\\t-211\\t1\\n1902\\t-144\\t1\\n1902\\t-100\\t1\\n1902\\t-94\\t1\\n1902\\t-106\\t1\\n1902\\t-39\\t1\\n1902\\t-17\\t1\\n1902\\t-72\\t1\\n1902\\t-94\\t1\\n1902\\t-67\\t1\\n1902\\t-22\\t1\\n1902\\t-17\\t1\\n1902\\t-22\\t1\\n1902\\t-33\\t1\\n1902\\t-117\\t1\\n1902\\t-83\\t1\\n1902\\t-161\\t1\\n1902\\t-144\\t1\\n1902\\t-17\\t1\\n1902\\t-6\\t1\\n1902\\t-11\\t1\\n1902\\t0\\t1\\n1902\\t-61\\t1\\n1902\\t-28\\t1\\n1902\\t-6\\t1\\n1902\\t-11\\t1\\n1902\\t-67\\t1\\n1902\\t-94\\t1\\n1902\\t-111\\t1\\n1902\\t-6\\t1\\n1902\\t0\\t1\\n1902\\t-6\\t1\\n1902\\t6\\t1\\n1902\\t17\\t1\\n1902\\t17\\t1\\n1902\\t6\\t1\\n1902\\t-17\\t1\\n1902\\t-28\\t1\\n1902\\t-22\\t1\\n1902\\t-22\\t1\\n1902\\t-44\\t1\\n1902\\t-56\\t1\\n1902\\t-44\\t1\\n1902\\t-50\\t1\\n1902\\t-56\\t1\\n1902\\t-56\\t1\\n1902\\t-67\\t1\\n1902\\t-61\\t1\\n1902\\t-44\\t1\\n1902\\t-56\\t1\\n1902\\t-89\\t1\\n1902\\t-94\\t1\\n1902\\t-89\\t1\\n1902\\t-83\\t1\\n1902\\t-128\\t1\\n1902\\t-178\\t1\\n1902\\t-28\\t1\\n1902\\t-17\\t1\\n1902\\t0\\t1\\n1902\\t22\\t1\\n1902\\t11\\t1\\n1902\\t-22\\t1\\n1902\\t22\\t1\\n1902\\t11\\t1\\n1902\\t-22\\t1\\n1902\\t-44\\t1\\n1902\\t-83\\t1\\n1902\\t-17\\t1\\n1902\\t-33\\t1\\n1902\\t-44\\t1\\n1902\\t-56\\t1\\n1902\\t-44\\t1\\n1902\\t-33\\t1\\n1902\\t-44\\t1\\n1902\\t-56\\t1\\n1902\\t-78\\t1\\n1902\\t-89\\t1\\n1902\\t-100\\t1\\n1902\\t-100\\t1\\n1902\\t-117\\t1\\n1902\\t-117\\t1\\n1902\\t-122\\t1\\n1902\\t-200\\t1\\n1902\\t-11\\t1\\n1902\\t-6\\t1\\n1902\\t-17\\t1\\n1902\\t-67\\t1\\n1902\\t-78\\t1\\n1902\\t-106\\t1\\n1902\\t-139\\t1\\n1902\\t-183\\t1\\n1902\\t-211\\t1\\n1902\\t-67\\t1\\n1902\\t6\\t1\\n1902\\t-11\\t1\\n1902\\t11\\t1\\n1902\\t-6\\t1\\n1902\\t-33\\t1\\n1902\\t-111\\t1\\n1902\\t-94\\t1\\n1902\\t-106\\t1\\n1902\\t-72\\t1\\n1902\\t-11\\t1\\n1902\\t-33\\t1\\n1902\\t-17\\t1\\n1902\\t0\\t1\\n1902\\t-17\\t1\\n1902\\t-11\\t1\\n1902\\t-11\\t1\\n1902\\t-50\\t1\\n1902\\t11\\t1\\n1902\\t17\\t1\\n1902\\t-6\\t1\\n1902\\t-72\\t1\\n1902\\t-50\\t1\\n1902\\t-94\\t1\\n1902\\t-111\\t1\\n1902\\t-83\\t1\\n1902\\t-106\\t1\\n1902\\t-50\\t1\\n1902\\t-50\\t1\\n1902\\t-50\\t1\\n1902\\t-72\\t1\\n1902\\t-94\\t1\\n1902\\t-150\\t1\\n1902\\t-228\\t1\\n1902\\t-139\\t1\\n1902\\t-33\\t1\\n1902\\t6\\t1\\n1902\\t17\\t1\\n1902\\t-17\\t1\\n1902\\t-17\\t1\\n1902\\t-33\\t1\\n1902\\t-106\\t1\\n1902\\t-111\\t1\\n1902\\t-133\\t1\\n1902\\t-144\\t1\\n1902\\t-206\\t1\\n1902\\t-133\\t1\\n1902\\t-72\\t1\\n1902\\t11\\t1\\n1902\\t22\\t1\\n1902\\t11\\t1\\n1902\\t-11\\t1\\n1902\\t-39\\t1\\n1902\\t-128\\t1\\n1902\\t-122\\t1\\n1902\\t-172\\t1\\n1902\\t-133\\t1\\n1902\\t-17\\t1\\n1902\\t-33\\t1\\n1902\\t-11\\t1\\n1902\\t17\\t1\\n1902\\t28\\t1\\n1902\\t22\\t1\\n1902\\t17\\t1\\n1902\\t17\\t1\\n1902\\t6\\t1\\n1902\\t17\\t1\\n1902\\t6\\t1\\n1902\\t6\\t1\\n1902\\t0\\t1\\n1902\\t-11\\t1\\n1902\\t-11\\t1\\n1902\\t-11\\t1\\n1902\\t-39\\t1\\n1902\\t-61\\t1\\n1902\\t-28\\t1\\n1902\\t-33\\t1\\n1902\\t-44\\t1\\n1902\\t-67\\t1\\n1902\\t-67\\t1\\n1902\\t-111\\t1\\n1902\\t-150\\t1\\n1902\\t-78\\t1\\n1902\\t-161\\t1\\n1902\\t-83\\t1\\n1902\\t-6\\t1\\n1902\\t-28\\t1\\n1902\\t-44\\t1\\n1902\\t0\\t1\\n1902\\t-50\\t1\\n1902\\t-11\\t1\\n1902\\t-33\\t1\\n1902\\t-100\\t1\\n1902\\t-67\\t1\\n1902\\t-72\\t1\\n1902\\t-161\\t1\\n1902\\t-261\\t1\\n1902\\t-128\\t1\\n1902\\t-150\\t1\\n1902\\t-122\\t1\\n1902\\t-44\\t1\\n1902\\t-56\\t1\\n1902\\t-83\\t1\\n1902\\t-72\\t1\\n1902\\t-39\\t1\\n1902\\t-50\\t1\\n1902\\t-22\\t1\\n1902\\t-39\\t1\\n1902\\t-56\\t1\\n1902\\t-56\\t1\\n1902\\t-139\\t1\\n1902\\t-144\\t1\\n1902\\t-111\\t1\\n1902\\t-150\\t1\\n1902\\t-128\\t1\\n1902\\t-72\\t1\\n1902\\t-133\\t1\\n1902\\t-94\\t1\\n1902\\t-39\\t1\\n1902\\t-67\\t1\\n1902\\t-100\\t1\\n1902\\t-39\\t1\\n1902\\t-83\\t1\\n1902\\t-150\\t1\\n1902\\t-128\\t1\\n1902\\t-111\\t1\\n1902\\t-111\\t1\\n1902\\t-61\\t1\\n1902\\t-44\\t1\\n1902\\t-11\\t1\\n1902\\t6\\t1\\n1902\\t-11\\t1\\n1902\\t-11\\t1\\n1902\\t11\\t1\\n1902\\t6\\t1\\n1902\\t-89\\t1\\n1902\\t-33\\t1\\n1902\\t-56\\t1\\n1902\\t-61\\t1\\n1902\\t-56\\t1\\n1902\\t-56\\t1\\n1902\\t-133\\t1\\n1902\\t-39\\t1\\n1902\\t-50\\t1\\n1902\\t-11\\t1\\n1902\\t-11\\t1\\n1902\\t-50\\t1\\n1902\\t-61\\t1\\n1902\\t-22\\t1\\n1902\\t-22\\t1\\n1902\\t-61\\t1\\n1902\\t-11\\t1\\n1902\\t-22\\t1\\n1902\\t-33\\t1\\n1902\\t-17\\t1\\n1902\\t-39\\t1\\n1902\\t-28\\t1\\n1902\\t0\\t1\\n1902\\t-39\\t1\\n1902\\t-111\\t1\\n1902\\t6\\t1\\n1902\\t-44\\t1\\n1902\\t-61\\t1\\n1902\\t-28\\t1\\n1902\\t-33\\t1\\n1902\\t-22\\t1\\n1902\\t-11\\t1\\n1902\\t-11\\t1\\n1902\\t0\\t1\\n1902\\t6\\t1\\n1902\\t0\\t1\\n1902\\t6\\t1\\n1902\\t11\\t1\\n1902\\t6\\t1\\n1902\\t-28\\t1\\n1902\\t-28\\t1\\n1902\\t-61\\t1\\n1902\\t-78\\t1\\n1902\\t-67\\t1\\n1902\\t-67\\t1\\n1902\\t-61\\t1\\n1902\\t-39\\t1\\n1902\\t-33\\t1\\n1902\\t6\\t1\\n1902\\t11\\t1\\n1902\\t6\\t1\\n1902\\t6\\t1\\n1902\\t11\\t1\\n1902\\t0\\t1\\n1902\\t-89\\t1\\n1902\\t-78\\t1\\n1902\\t-111\\t1\\n1902\\t-150\\t1\\n1902\\t-117\\t1\\n1902\\t-133\\t1\\n1902\\t-200\\t1\\n1902\\t-83\\t1\\n1902\\t-122\\t1\\n1902\\t-89\\t1\\n1902\\t-78\\t1\\n1902\\t-139\\t1\\n1902\\t-211\\t1\\n1902\\t-111\\t1\\n1902\\t-161\\t1\\n1902\\t-83\\t1\\n1902\\t-28\\t1\\n1902\\t-89\\t1\\n1902\\t-22\\t1\\n1902\\t-11\\t1\\n1902\\t-17\\t1\\n1902\\t-6\\t1\\n1902\\t6\\t1\\n1902\\t0\\t1\\n1902\\t-11\\t1\\n1902\\t6\\t1\\n1902\\t0\\t1\\n1902\\t-39\\t1\\n1902\\t-17\\t1\\n1902\\t-39\\t1\\n1902\\t-28\\t1\\n1902\\t0\\t1\\n1902\\t-72\\t1\\n1902\\t-28\\t1\\n1902\\t11\\t1\\n1902\\t11\\t1\\n1902\\t11\\t1\\n1902\\t11\\t1\\n1902\\t11\\t1\\n1902\\t0\\t1\\n1902\\t-22\\t1\\n1902\\t-67\\t1\\n1902\\t-50\\t1\\n1902\\t-33\\t1\\n1902\\t-44\\t1\\n1902\\t-50\\t1\\n1902\\t11\\t1\\n1902\\t-17\\t1\\n1902\\t-17\\t1\\n1902\\t22\\t1\\n1902\\t33\\t1\\n1902\\t22\\t1\\n1902\\t28\\t1\\n1902\\t22\\t1\\n1902\\t-6\\t1\\n1902\\t0\\t1\\n1902\\t-11\\t1\\n1902\\t-17\\t1\\n1902\\t22\\t1\\n1902\\t-6\\t1\\n1902\\t-17\\t1\\n1902\\t0\\t1\\n1902\\t-39\\t1\\n1902\\t-39\\t1\\n1902\\t-11\\t1\\n1902\\t-72\\t1\\n1902\\t-33\\t1\\n1902\\t17\\t1\\n1902\\t-44\\t1\\n1902\\t-50\\t1\\n1902\\t11\\t1\\n1902\\t-33\\t1\\n1902\\t-61\\t1\\n1902\\t22\\t1\\n1902\\t-22\\t1\\n1902\\t-11\\t1\\n1902\\t28\\t1\\n1902\\t-17\\t1\\n1902\\t-17\\t1\\n1902\\t-11\\t1\\n1902\\t-61\\t1\\n1902\\t-22\\t1\\n1902\\t22\\t1\\n1902\\t-33\\t1\\n1902\\t-67\\t1\\n1902\\t-11\\t1\\n1902\\t-33\\t1\\n1902\\t-17\\t1\\n1902\\t17\\t1\\n1902\\t-22\\t1\\n1902\\t-17\\t1\\n1902\\t6\\t1\\n1902\\t-56\\t1\\n1902\\t-50\\t1\\n1902\\t-17\\t1\\n1902\\t-72\\t1\\n1902\\t-83\\t1\\n1902\\t-17\\t1\\n1902\\t-67\\t1\\n1902\\t-61\\t1\\n1902\\t0\\t1\\n1902\\t-56\\t1\\n1902\\t-28\\t1\\n1902\\t22\\t1\\n1902\\t-44\\t1\\n1902\\t-28\\t1\\n1902\\t33\\t1\\n1902\\t-11\\t1\\n1902\\t-17\\t1\\n1902\\t67\\t1\\n1902\\t17\\t1\\n1902\\t61\\t1\\n1902\\t67\\t1\\n1902\\t-6\\t1\\n1902\\t28\\t1\\n1902\\t33\\t1\\n1902\\t-17\\t1\\n1902\\t28\\t1\\n1902\\t56\\t1\\n1902\\t0\\t1\\n1902\\t33\\t1\\n1902\\t72\\t1\\n1902\\t28\\t1\\n1902\\t61\\t1\\n1902\\t83\\t1\\n1902\\t67\\t1\\n1902\\t22\\t1\\n1902\\t33\\t1\\n1902\\t6\\t1\\n1902\\t28\\t1\\n1902\\t72\\t1\\n1902\\t28\\t1\\n1902\\t50\\t1\\n1902\\t83\\t1\\n1902\\t33\\t1\\n1902\\t22\\t1\\n1902\\t39\\t1\\n1902\\t6\\t1\\n1902\\t28\\t1\\n1902\\t67\\t1\\n1902\\t6\\t1\\n1902\\t11\\t1\\n1902\\t61\\t1\\n1902\\t17\\t1\\n1902\\t50\\t1\\n1902\\t72\\t1\\n1902\\t11\\t1\\n1902\\t6\\t1\\n1902\\t28\\t1\\n1902\\t-11\\t1\\n1902\\t-17\\t1\\n1902\\t17\\t1\\n1902\\t-17\\t1\\n1902\\t11\\t1\\n1902\\t33\\t1\\n1902\\t-17\\t1\\n1902\\t28\\t1\\n1902\\t44\\t1\\n1902\\t-6\\t1\\n1902\\t28\\t1\\n1902\\t56\\t1\\n1902\\t11\\t1\\n1902\\t50\\t1\\n1902\\t72\\t1\\n1902\\t11\\t1\\n1902\\t17\\t1\\n1902\\t72\\t1\\n1902\\t39\\t1\\n1902\\t39\\t1\\n1902\\t83\\t1\\n1902\\t17\\t1\\n1902\\t56\\t1\\n1902\\t122\\t1\\n1902\\t67\\t1\\n1902\\t50\\t1\\n1902\\t122\\t1\\n1902\\t50\\t1\\n1902\\t50\\t1\\n1902\\t72\\t1\\n1902\\t56\\t1\\n1902\\t33\\t1\\n1902\\t56\\t1\\n1902\\t22\\t1\\n1902\\t11\\t1\\n1902\\t22\\t1\\n1902\\t6\\t1\\n1902\\t33\\t1\\n1902\\t44\\t1\\n1902\\t11\\t1\\n1902\\t28\\t1\\n1902\\t56\\t1\\n1902\\t33\\t1\\n1902\\t72\\t1\\n1902\\t50\\t1\\n1902\\t39\\t1\\n1902\\t50\\t1\\n1902\\t67\\t1\\n1902\\t39\\t1\\n1902\\t44\\t1\\n1902\\t89\\t1\\n1902\\t33\\t1\\n1902\\t94\\t1\\n1902\\t94\\t1\\n1902\\t44\\t1\\n1902\\t56\\t1\\n1902\\t94\\t1\\n1902\\t78\\t1\\n1902\\t33\\t1\\n1902\\t72\\t1\\n1902\\t33\\t1\\n1902\\t50\\t1\\n1902\\t94\\t1\\n1902\\t83\\t1\\n1902\\t122\\t1\\n1902\\t117\\t1\\n1902\\t117\\t1\\n1902\\t122\\t1\\n1902\\t150\\t1\\n1902\\t78\\t1\\n1902\\t89\\t1\\n1902\\t106\\t1\\n1902\\t72\\t1\\n1902\\t61\\t1\\n1902\\t150\\t1\\n1902\\t89\\t1\\n1902\\t150\\t1\\n1902\\t156\\t1\\n1902\\t94\\t1\\n1902\\t122\\t1\\n1902\\t133\\t1\\n1902\\t100\\t1\\n1902\\t111\\t1\\n1902\\t117\\t1\\n1902\\t83\\t1\\n1902\\t144\\t1\\n1902\\t150\\t1\\n1902\\t83\\t1\\n1902\\t67\\t1\\n1902\\t122\\t1\\n1902\\t67\\t1\\n1902\\t122\\t1\\n1902\\t139\\t1\\n1902\\t72\\t1\\n1902\\t117\\t1\\n1902\\t122\\t1\\n1902\\t89\\t1\\n1902\\t106\\t1\\n1902\\t156\\t1\\n1902\\t106\\t1\\n1902\\t161\\t1\\n1902\\t167\\t1\\n1902\\t133\\t1\\n1902\\t111\\t1\\n1902\\t211\\t1\\n1902\\t139\\t1\\n1902\\t150\\t1\\n1902\\t72\\t1\\n1902\\t89\\t1\\n1902\\t111\\t1\\n1902\\t156\\t1\\n1902\\t100\\t1\\n1902\\t144\\t1\\n1902\\t183\\t1\\n1902\\t117\\t1\\n1902\\t200\\t1\\n1902\\t189\\t1\\n1902\\t133\\t1\\n1902\\t144\\t1\\n1902\\t161\\t1\\n1902\\t117\\t1\\n1902\\t150\\t1\\n1902\\t139\\t1\\n1902\\t100\\t1\\n1902\\t94\\t1\\n1902\\t106\\t1\\n1902\\t78\\t1\\n1902\\t94\\t1\\n1902\\t150\\t1\\n1902\\t111\\t1\\n1902\\t106\\t1\\n1902\\t67\\t1\\n1902\\t78\\t1\\n1902\\t72\\t1\\n1902\\t78\\t1\\n1902\\t67\\t1\\n1902\\t56\\t1\\n1902\\t83\\t1\\n1902\\t61\\t1\\n1902\\t111\\t1\\n1902\\t144\\t1\\n1902\\t100\\t1\\n1902\\t150\\t1\\n1902\\t172\\t1\\n1902\\t128\\t1\\n1902\\t150\\t1\\n1902\\t133\\t1\\n1902\\t111\\t1\\n1902\\t139\\t1\\n1902\\t128\\t1\\n1902\\t106\\t1\\n1902\\t106\\t1\\n1902\\t89\\t1\\n1902\\t106\\t1\\n1902\\t106\\t1\\n1902\\t89\\t1\\n1902\\t89\\t1\\n1902\\t128\\t1\\n1902\\t150\\t1\\n1902\\t100\\t1\\n1902\\t156\\t1\\n1902\\t172\\t1\\n1902\\t133\\t1\\n1902\\t172\\t1\\n1902\\t206\\t1\\n1902\\t161\\t1\\n1902\\t172\\t1\\n1902\\t178\\t1\\n1902\\t139\\t1\\n1902\\t150\\t1\\n1902\\t183\\t1\\n1902\\t133\\t1\\n1902\\t100\\t1\\n1902\\t178\\t1\\n1902\\t139\\t1\\n1902\\t172\\t1\\n1902\\t172\\t1\\n1902\\t139\\t1\\n1902\\t172\\t1\\n1902\\t189\\t1\\n1902\\t133\\t1\\n1902\\t161\\t1\\n1902\\t200\\t1\\n1902\\t144\\t1\\n1902\\t128\\t1\\n1902\\t167\\t1\\n1902\\t133\\t1\\n1902\\t161\\t1\\n1902\\t228\\t1\\n1902\\t172\\t1\\n1902\\t150\\t1\\n1902\\t172\\t1\\n1902\\t122\\t1\\n1902\\t150\\t1\\n1902\\t150\\t1\\n1902\\t106\\t1\\n1902\\t161\\t1\\n1902\\t139\\t1\\n1902\\t128\\t1\\n1902\\t89\\t1\\n1902\\t161\\t1\\n1902\\t111\\t1\\n1902\\t150\\t1\\n1902\\t150\\t1\\n1902\\t94\\t1\\n1902\\t161\\t1\\n1902\\t189\\t1\\n1902\\t128\\t1\\n1902\\t122\\t1\\n1902\\t122\\t1\\n1902\\t111\\t1\\n1902\\t128\\t1\\n1902\\t178\\t1\\n1902\\t133\\t1\\n1902\\t139\\t1\\n1902\\t172\\t1\\n1902\\t117\\t1\\n1902\\t122\\t1\\n1902\\t183\\t1\\n1902\\t94\\t1\\n1902\\t106\\t1\\n1902\\t144\\t1\\n1902\\t111\\t1\\n1902\\t156\\t1\\n1902\\t144\\t1\\n1902\\t117\\t1\\n1902\\t122\\t1\\n1902\\t117\\t1\\n1902\\t122\\t1\\n1902\\t122\\t1\\n1902\\t133\\t1\\n1902\\t122\\t1\\n1902\\t122\\t1\\n1902\\t156\\t1\\n1902\\t117\\t1\\n1902\\t111\\t1\\n1902\\t122\\t1\\n1902\\t111\\t1\\n1902\\t122\\t1\\n1902\\t183\\t1\\n1902\\t122\\t1\\n1902\\t139\\t1\\n1902\\t194\\t1\\n1902\\t117\\t1\\n1902\\t122\\t1\\n1902\\t172\\t1\\n1902\\t133\\t1\\n1902\\t133\\t1\\n1902\\t217\\t1\\n1902\\t150\\t1\\n1902\\t167\\t1\\n1902\\t217\\t1\\n1902\\t139\\t1\\n1902\\t167\\t1\\n1902\\t133\\t1\\n1902\\t128\\t1\\n1902\\t133\\t1\\n1902\\t156\\t1\\n1902\\t122\\t1\\n1902\\t144\\t1\\n1902\\t194\\t1\\n1902\\t144\\t1\\n1902\\t139\\t1\\n1902\\t183\\t1\\n1902\\t133\\t1\\n1902\\t133\\t1\\n1902\\t172\\t1\\n1902\\t122\\t1\\n1902\\t133\\t1\\n1902\\t183\\t1\\n1902\\t133\\t1\\n1902\\t183\\t1\\n1902\\t178\\t1\\n1902\\t128\\t1\\n1902\\t167\\t1\\n1902\\t150\\t1\\n1902\\t156\\t1\\n1902\\t156\\t1\\n1902\\t167\\t1\\n1902\\t128\\t1\\n1902\\t139\\t1\\n1902\\t144\\t1\\n1902\\t117\\t1\\n1902\\t161\\t1\\n1902\\t161\\t1\\n1902\\t117\\t1\\n1902\\t122\\t1\\n1902\\t167\\t1\\n1902\\t128\\t1\\n1902\\t139\\t1\\n1902\\t156\\t1\\n1902\\t128\\t1\\n1902\\t167\\t1\\n1902\\t200\\t1\\n1902\\t122\\t1\\n1902\\t172\\t1\\n1902\\t206\\t1\\n1902\\t161\\t1\\n1902\\t144\\t1\\n1902\\t178\\t1\\n1902\\t128\\t1\\n1902\\t161\\t1\\n1902\\t172\\t1\\n1902\\t117\\t1\\n1902\\t128\\t1\\n1902\\t178\\t1\\n1902\\t128\\t1\\n1902\\t139\\t1\\n1902\\t183\\t1\\n1902\\t122\\t1\\n1902\\t156\\t1\\n1902\\t194\\t1\\n1902\\t133\\t1\\n1902\\t172\\t1\\n1902\\t178\\t1\\n1902\\t133\\t1\\n1902\\t161\\t1\\n1902\\t144\\t1\\n1902\\t128\\t1\\n1902\\t139\\t1\\n1902\\t128\\t1\\n1902\\t117\\t1\\n1902\\t128\\t1\\n1902\\t144\\t1\\n1902\\t111\\t1\\n1902\\t133\\t1\\n1902\\t133\\t1\\n1902\\t106\\t1\\n1902\\t144\\t1\\n1902\\t161\\t1\\n1902\\t106\\t1\\n1902\\t106\\t1\\n1902\\t156\\t1\\n1902\\t122\\t1\\n1902\\t139\\t1\\n1902\\t133\\t1\\n1902\\t117\\t1\\n1902\\t139\\t1\\n1902\\t156\\t1\\n1902\\t89\\t1\\n1902\\t144\\t1\\n1902\\t161\\t1\\n1902\\t117\\t1\\n1902\\t156\\t1\\n1902\\t183\\t1\\n1902\\t144\\t1\\n1902\\t139\\t1\\n1902\\t156\\t1\\n1902\\t117\\t1\\n1902\\t133\\t1\\n1902\\t156\\t1\\n1902\\t89\\t1\\n1902\\t122\\t1\\n1902\\t122\\t1\\n1902\\t111\\t1\\n1902\\t106\\t1\\n1902\\t139\\t1\\n1902\\t78\\t1\\n1902\\t156\\t1\\n1902\\t172\\t1\\n1902\\t106\\t1\\n1902\\t128\\t1\\n1902\\t156\\t1\\n1902\\t133\\t1\\n1902\\t128\\t1\\n1902\\t128\\t1\\n1902\\t128\\t1\\n1902\\t133\\t1\\n1902\\t172\\t1\\n1902\\t128\\t1\\n1902\\t150\\t1\\n1902\\t172\\t1\\n1902\\t133\\t1\\n1902\\t128\\t1\\n1902\\t122\\t1\\n1902\\t106\\t1\\n1902\\t89\\t1\\n1902\\t128\\t1\\n1902\\t89\\t1\\n1902\\t106\\t1\\n1902\\t150\\t1\\n1902\\t100\\t1\\n1902\\t106\\t1\\n1902\\t144\\t1\\n1902\\t111\\t1\\n1902\\t111\\t1\\n1902\\t161\\t1\\n1902\\t83\\t1\\n1902\\t72\\t1\\n1902\\t161\\t1\\n1902\\t133\\t1\\n1902\\t156\\t1\\n1902\\t150\\t1\\n1902\\t144\\t1\\n1902\\t156\\t1\\n1902\\t172\\t1\\n1902\\t139\\t1\\n1902\\t122\\t1\\n1902\\t183\\t1\\n1902\\t117\\t1\\n1902\\t106\\t1\\n1902\\t167\\t1\\n1902\\t100\\t1\\n1902\\t106\\t1\\n1902\\t156\\t1\\n1902\\t122\\t1\\n1902\\t133\\t1\\n1902\\t183\\t1\\n1902\\t117\\t1\\n1902\\t106\\t1\\n1902\\t100\\t1\\n1902\\t89\\t1\\n1902\\t83\\t1\\n1902\\t117\\t1\\n1902\\t50\\t1\\n1902\\t122\\t1\\n1902\\t111\\t1\\n1902\\t106\\t1\\n1902\\t111\\t1\\n1902\\t100\\t1\\n1902\\t72\\t1\\n1902\\t61\\t1\\n1902\\t67\\t1\\n1902\\t67\\t1\\n1902\\t72\\t1\\n1902\\t100\\t1\\n1902\\t94\\t1\\n1902\\t89\\t1\\n1902\\t111\\t1\\n1902\\t117\\t1\\n1902\\t111\\t1\\n1902\\t128\\t1\\n1902\\t94\\t1\\n1902\\t100\\t1\\n1902\\t100\\t1\\n1902\\t78\\t1\\n1902\\t67\\t1\\n1902\\t72\\t1\\n1902\\t50\\t1\\n1902\\t22\\t1\\n1902\\t50\\t1\\n1902\\t11\\t1\\n1902\\t22\\t1\\n1902\\t72\\t1\\n1902\\t11\\t1\\n1902\\t11\\t1\\n1902\\t100\\t1\\n1902\\t67\\t1\\n1902\\t78\\t1\\n1902\\t122\\t1\\n1902\\t83\\t1\\n1902\\t83\\t1\\n1902\\t122\\t1\\n1902\\t94\\t1\\n1902\\t56\\t1\\n1902\\t139\\t1\\n1902\\t72\\t1\\n1902\\t89\\t1\\n1902\\t111\\t1\\n1902\\t89\\t1\\n1902\\t94\\t1\\n1902\\t100\\t1\\n1902\\t50\\t1\\n1902\\t67\\t1\\n1902\\t78\\t1\\n1902\\t28\\t1\\n1902\\t72\\t1\\n1902\\t111\\t1\\n1902\\t72\\t1\\n1902\\t22\\t1\\n1902\\t44\\t1\\n1902\\t11\\t1\\n1902\\t-6\\t1\\n1902\\t33\\t1\\n1902\\t-6\\t1\\n1902\\t-17\\t1\\n1902\\t50\\t1\\n1902\\t39\\t1\\n1902\\t61\\t1\\n1902\\t83\\t1\\n1902\\t44\\t1\\n1902\\t-6\\t1\\n1902\\t28\\t1\\n1902\\t-11\\t1\\n1902\\t6\\t1\\n1902\\t72\\t1\\n1902\\t56\\t1\\n1902\\t56\\t1\\n1902\\t100\\t1\\n1902\\t39\\t1\\n1902\\t56\\t1\\n1902\\t89\\t1\\n1902\\t28\\t1\\n1902\\t33\\t1\\n1902\\t72\\t1\\n1902\\t6\\t1\\n1902\\t-11\\t1\\n1902\\t50\\t1\\n1902\\t-17\\t1\\n1902\\t39\\t1\\n1902\\t67\\t1\\n1902\\t61\\t1\\n1902\\t33\\t1\\n1902\\t61\\t1\\n1902\\t39\\t1\\n1902\\t28\\t1\\n1902\\t56\\t1\\n1902\\t0\\t1\\n1902\\t6\\t1\\n1902\\t56\\t1\\n1902\\t0\\t1\\n1902\\t67\\t1\\n1902\\t56\\t1\\n1902\\t39\\t1\\n1902\\t11\\t1\\n1902\\t-11\\t1\\n1902\\t-28\\t1\\n1902\\t-61\\t1\\n1902\\t-17\\t1\\n1902\\t6\\t1\\n1902\\t33\\t1\\n1902\\t22\\t1\\n1902\\t67\\t1\\n1902\\t67\\t1\\n1902\\t83\\t1\\n1902\\t56\\t1\\n1902\\t33\\t1\\n1902\\t33\\t1\\n1902\\t6\\t1\\n1902\\t0\\t1\\n1902\\t17\\t1\\n1902\\t6\\t1\\n1902\\t11\\t1\\n1902\\t33\\t1\\n1902\\t22\\t1\\n1902\\t11\\t1\\n1902\\t0\\t1\\n1902\\t-17\\t1\\n1902\\t-61\\t1\\n1902\\t-50\\t1\\n1902\\t-39\\t1\\n1902\\t56\\t1\\n1902\\t78\\t1\\n1902\\t83\\t1\\n1902\\t28\\t1\\n1902\\t61\\t1\\n1902\\t39\\t1\\n1902\\t22\\t1\\n1902\\t67\\t1\\n1902\\t28\\t1\\n1902\\t33\\t1\\n1902\\t56\\t1\\n1902\\t44\\t1\\n1902\\t-11\\t1\\n1902\\t44\\t1\\n1902\\t28\\t1\\n1902\\t61\\t1\\n1902\\t72\\t1\\n1902\\t72\\t1\\n1902\\t61\\t1\\n1902\\t61\\t1\\n1902\\t56\\t1\\n1902\\t56\\t1\\n1902\\t50\\t1\\n1902\\t28\\t1\\n1902\\t39\\t1\\n1902\\t83\\t1\\n1902\\t56\\t1\\n1902\\t33\\t1\\n1902\\t33\\t1\\n1902\\t33\\t1\\n1902\\t0\\t1\\n1902\\t44\\t1\\n1902\\t50\\t1\\n1902\\t22\\t1\\n1902\\t39\\t1\\n1902\\t17\\t1\\n1902\\t0\\t1\\n1902\\t-11\\t1\\n1902\\t-50\\t1\\n1902\\t-33\\t1\\n1902\\t-39\\t1\\n1902\\t-67\\t1\\n1902\\t6\\t1\\n1902\\t28\\t1\\n1902\\t33\\t1\\n1902\\t33\\t1\\n1902\\t33\\t1\\n1902\\t22\\t1\\n1902\\t22\\t1\\n1902\\t33\\t1\\n1902\\t44\\t1\\n1902\\t44\\t1\\n1902\\t50\\t1\\n1902\\t56\\t1\\n1902\\t56\\t1\\n1902\\t56\\t1\\n1902\\t33\\t1\\n1902\\t-17\\t1\\n1902\\t33\\t1\\n1902\\t22\\t1\\n1902\\t44\\t1\\n1902\\t50\\t1\\n1902\\t50\\t1\\n1902\\t50\\t1\\n1902\\t56\\t1\\n1902\\t44\\t1\\n1902\\t17\\t1\\n1902\\t39\\t1\\n1902\\t-6\\t1\\n1902\\t-78\\t1\\n1902\\t-39\\t1\\n1902\\t-67\\t1\\n1902\\t-78\\t1\\n1902\\t11\\t1\\n1902\\t0\\t1\\n1902\\t-6\\t1\\n1902\\t6\\t1\\n1902\\t0\\t1\\n1902\\t22\\t1\\n1902\\t22\\t1\\n1902\\t0\\t1\\n1902\\t-44\\t1\\n1902\\t22\\t1\\n1902\\t11\\t1\\n1902\\t-6\\t1\\n1902\\t-6\\t1\\n1902\\t-67\\t1\\n1902\\t6\\t1\\n1902\\t17\\t1\\n1902\\t11\\t1\\n1902\\t6\\t1\\n1902\\t28\\t1\\n1902\\t0\\t1\\n1902\\t-6\\t1\\n1902\\t0\\t1\\n1902\\t-44\\t1\\n1902\\t-111\\t1\\n1902\\t-94\\t1\\n1902\\t-128\\t1\\n1902\\t-156\\t1\\n1902\\t-106\\t1\\n1902\\t-83\\t1\\n1902\\t-6\\t1\\n1902\\t11\\t1\\n1902\\t0\\t1\\n1902\\t-17\\t1\\n1902\\t-61\\t1\\n1902\\t-67\\t1\\n1902\\t-83\\t1\\n1902\\t-106\\t1\\n1902\\t-111\\t1\\n1902\\t-133\\t1\\n1902\\t-111\\t1\\n1902\\t-161\\t1\\n1902\\t-161\\t1\\n1902\\t-167\\t1\\n1902\\t-167\\t1\\n1902\\t-183\\t1\\n1902\\t-178\\t1\\n1902\\t-206\\t1\\n1902\\t-211\\t1\\n1902\\t-183\\t1\\n1902\\t-222\\t1\\n1902\\t-228\\t1\\n1902\\t-189\\t1\\n1902\\t-217\\t1\\n1902\\t-117\\t1\\n1902\\t-67\\t1\\n1902\\t-83\\t1\\n1902\\t-67\\t1\\n1902\\t-39\\t1\\n1902\\t-50\\t1\\n1902\\t-67\\t1\\n1902\\t-39\\t1\\n1902\\t-22\\t1\\n1902\\t-6\\t1\\n1902\\t-11\\t1\\n1902\\t-39\\t1\\n1902\\t-72\\t1\\n1902\\t-50\\t1\\n1902\\t-89\\t1\\n1902\\t-83\\t1\\n1902\\t-28\\t1\\n1902\\t-28\\t1\\n1902\\t-22\\t1\\n1902\\t-11\\t1\\n1902\\t-44\\t1\\n1902\\t-33\\t1\\n1902\\t-17\\t1\\n1902\\t-28\\t1\\n1902\\t-61\\t1\\n1902\\t-56\\t1\\n1902\\t-39\\t1\\n1902\\t6\\t1\\n1902\\t11\\t1\\n1902\\t0\\t1\\n1902\\t11\\t1\\n1902\\t22\\t1\\n1902\\t22\\t1\\n1902\\t0\\t1\\n1902\\t-11\\t1\\n1902\\t-22\\t1\\n1902\\t0\\t1\\n1902\\t-6\\t1\\n1902\\t-28\\t1\\n1902\\t-44\\t1\\n1902\\t-44\\t1\\n1902\\t-44\\t1\\n1902\\t-56\\t1\\n1902\\t-56\\t1\\n1902\\t-72\\t1\\n1902\\t-44\\t1\\n1902\\t-33\\t1\\n1902\\t-50\\t1\\n1902\\t-83\\t1\\n1902\\t-89\\t1\\n1902\\t-89\\t1\\n1902\\t-67\\t1\\n1902\\t-89\\t1\\n1902\\t-144\\t1\\n1902\\t-6\\t1\\n1902\\t-6\\t1\\n1902\\t-6\\t1\\n1902\\t0\\t1\\n1902\\t0\\t1\\n1902\\t-17\\t1\\n1902\\t28\\t1\\n1902\\t22\\t1\\n1902\\t0\\t1\\n1902\\t-39\\t1\\n1902\\t-50\\t1\\n1902\\t-22\\t1\\n1902\\t-33\\t1\\n1902\\t-33\\t1\\n1902\\t-67\\t1\\n1902\\t-33\\t1\\n1902\\t-33\\t1\\n1902\\t-33\\t1\\n1902\\t-33\\t1\\n1902\\t-50\\t1\\n1902\\t-78\\t1\\n1902\\t-72\\t1\\n1902\\t-28\\t1\\n1902\\t-78\\t1\\n1902\\t-100\\t1\\n1902\\t-83\\t1\\n1902\\t-106\\t1\\n1902\\t28\\t1\\n1902\\t28\\t1\\n1902\\t6\\t1\\n1902\\t11\\t1\\n1902\\t6\\t1\\n1902\\t-11\\t1\\n1902\\t-61\\t1\\n1902\\t-78\\t1\\n1902\\t-83\\t1\\n1902\\t-6\\t1\\n1902\\t28\\t1\\n1902\\t28\\t1\\n1902\\t22\\t1\\n1902\\t17\\t1\\n1902\\t11\\t1\\n1902\\t0\\t1\\n1902\\t11\\t1\\n1902\\t6\\t1\\n1902\\t-6\\t1\\n1902\\t17\\t1\\n1902\\t28\\t1\\n1902\\t22\\t1\\n1902\\t28\\t1\\n1902\\t28\\t1\\n1902\\t22\\t1\\n1902\\t28\\t1\\n1902\\t28\\t1\\n1902\\t22\\t1\\n1902\\t33\\t1\\n1902\\t22\\t1\\n1902\\t6\\t1\\n1902\\t6\\t1\\n1902\\t-17\\t1\\n1902\\t-17\\t1\\n1902\\t-17\\t1\\n1902\\t-11\\t1\\n1902\\t-6\\t1\\n1902\\t-33\\t1\\n1902\\t-28\\t1\\n1902\\t-22\\t1\\n1902\\t-50\\t1\\n1902\\t-56\\t1\\n1902\\t-39\\t1\\n1902\\t-28\\t1\\n1902\\t-11\\t1\\n1902\\t28\\t1\\n1902\\t28\\t1\\n1902\\t-17\\t1\\n1902\\t0\\t1\\n1902\\t0\\t1\\n1902\\t-17\\t1\\n1902\\t-17\\t1\\n1902\\t-67\\t1\\n1902\\t-67\\t1\\n1902\\t-61\\t1\\n1902\\t-50\\t1\\n1902\\t-6\\t1\\n1902\\t22\\t1\\n1902\\t22\\t1\\n1902\\t22\\t1\\n1902\\t6\\t1\\n1902\\t6\\t1\\n1902\\t11\\t1\\n1902\\t-22\\t1\\n1902\\t-56\\t1\\n1902\\t-6\\t1\\n1902\\t6\\t1\\n1902\\t6\\t1\\n1902\\t6\\t1\\n1902\\t22\\t1\\n1902\\t22\\t1\\n1902\\t22\\t1\\n1902\\t22\\t1\\n1902\\t22\\t1\\n1902\\t11\\t1\\n1902\\t17\\t1\\n1902\\t11\\t1\\n1902\\t11\\t1\\n1902\\t0\\t1\\n1902\\t0\\t1\\n1902\\t11\\t1\\n1902\\t-6\\t1\\n1902\\t-22\\t1\\n1902\\t-11\\t1\\n1902\\t-6\\t1\\n1902\\t-6\\t1\\n1902\\t-11\\t1\\n1902\\t-44\\t1\\n1902\\t-50\\t1\\n1902\\t-33\\t1\\n1902\\t-22\\t1\\n1902\\t-17\\t1\\n1902\\t-33\\t1\\n1902\\t-11\\t1\\n1902\\t-6\\t1\\n1902\\t6\\t1\\n1902\\t0\\t1\\n1902\\t0\\t1\\n1902\\t0\\t1\\n1902\\t-6\\t1\\n1902\\t-17\\t1\\n1902\\t-17\\t1\\n1902\\t-17\\t1\\n1902\\t-33\\t1\\n1902\\t-67\\t1\\n1902\\t-78\\t1\\n1902\\t-56\\t1\\n1902\\t-50\\t1\\n1902\\t-11\\t1\\n1902\\t-11\\t1\\n1902\\t-11\\t1\\n1902\\t-11\\t1\\n1902\\t-22\\t1\\n1902\\t-28\\t1\\n1902\\t-28\\t1\\n1902\\t-17\\t1\\n1902\\t0\\t1\\n1902\\t-50\\t1\\n1902\\t-50\\t1\\n1902\\t-72\\t1\\n1902\\t-67\\t1\\n1902\\t-33\\t1\\n1902\\t-28\\t1\\n1902\\t-67\\t1\\n1902\\t-61\\t1\\n1902\\t-67\\t1\\n1902\\t0\\t1\\n1902\\t-11\\t1\\n1902\\t-11\\t1\\n1902\\t-11\\t1\\n1902\\t-17\\t1\\n1902\\t-50\\t1\\n1902\\t-78\\t1\\n1902\\t-44\\t1\\n1902\\t-33\\t1\\n1902\\t-50\\t1\\n1902\\t-28\\t1\\n1902\\t-6\\t1\\n1902\\t6\\t1\\n1902\\t6\\t1\\n1902\\t6\\t1\\n1902\\t0\\t1\\n1902\\t6\\t1\\n1902\\t0\\t1\\n1902\\t-6\\t1\\n1902\\t0\\t1\\n1902\\t-28\\t1\\n1902\\t-28\\t1\\n1902\\t-33\\t1\\n1902\\t-33\\t1\\n1902\\t-39\\t1\\n1902\\t-33\\t1\\n1902\\t-22\\t1\\n1902\\t-6\\t1\\n1902\\t-6\\t1\\n1902\\t-11\\t1\\n1902\\t-33\\t1\\n1902\\t-22\\t1\\n1902\\t-17\\t1\\n1902\\t-28\\t1\\n1902\\t-17\\t1\\n1902\\t-28\\t1\\n1902\\t-28\\t1\\n1902\\t-28\\t1\\n1902\\t-33\\t1\\n1902\\t-28\\t1\\n1902\\t-17\\t1\\n1902\\t-11\\t1\\n1902\\t-11\\t1\\n1902\\t-22\\t1\\n1902\\t-28\\t1\\n1902\\t-17\\t1\\n1902\\t-6\\t1\\n1902\\t-6\\t1\\n1902\\t-6\\t1\\n1902\\t0\\t1\\n1902\\t6\\t1\\n1902\\t6\\t1\\n1902\\t6\\t1\\n1902\\t6\\t1\\n1902\\t-6\\t1\\n1902\\t-6\\t1\\n1902\\t-6\\t1\\n1902\\t-6\\t1\\n1902\\t-11\\t1\\n1902\\t-28\\t1\\n1902\\t-44\\t1\\n1902\\t-56\\t1\\n1902\\t-56\\t1\\n1902\\t-17\\t1\\n1902\\t0\\t1\\n1902\\t6\\t1\\n1902\\t6\\t1\\n1902\\t6\\t1\\n1902\\t11\\t1\\n1902\\t6\\t1\\n1902\\t0\\t1\\n1902\\t-22\\t1\\n1902\\t-44\\t1\\n1902\\t-72\\t1\\n1902\\t-83\\t1\\n1902\\t-106\\t1\\n1902\\t-117\\t1\\n1902\\t-94\\t1\\n1902\\t-100\\t1\\n1902\\t-78\\t1\\n1902\\t-28\\t1\\n1902\\t-17\\t1\\n1902\\t-72\\t1\\n1902\\t-83\\t1\\n1902\\t-122\\t1\\n1902\\t-111\\t1\\n1902\\t-100\\t1\\n1902\\t-50\\t1\\n1902\\t-17\\t1\\n1902\\t-17\\t1\\n1902\\t-28\\t1\\n1902\\t-6\\t1\\n1902\\t-6\\t1\\n1902\\t0\\t1\\n1902\\t6\\t1\\n1902\\t-6\\t1\\n1902\\t6\\t1\\n1902\\t11\\t1\\n1902\\t6\\t1\\n1902\\t-11\\t1\\n1902\\t-17\\t1\\n1902\\t6\\t1\\n1902\\t-28\\t1\\n1902\\t-28\\t1\\n1902\\t-33\\t1\\n1902\\t0\\t1\\n1902\\t17\\t1\\n1902\\t17\\t1\\n1902\\t11\\t1\\n1902\\t6\\t1\\n1902\\t17\\t1\\n1902\\t-22\\t1\\n1902\\t-50\\t1\\n1902\\t-78\\t1\\n1902\\t-28\\t1\\n1902\\t-11\\t1\\n1902\\t-28\\t1\\n1902\\t-33\\t1\\n1902\\t-6\\t1\\n1902\\t-11\\t1\\n1902\\t-6\\t1\\n1902\\t22\\t1\\n1902\\t11\\t1\\n1902\\t0\\t1\\n1902\\t11\\t1\\n1902\\t6\\t1\\n1902\\t-17\\t1\\n1902\\t17\\t1\\n1902\\t-17\\t1\\n1902\\t-22\\t1\\n1902\\t-6\\t1\\n1902\\t-17\\t1\\n1902\\t-22\\t1\\n1902\\t-33\\t1\\n1902\\t-44\\t1\\n1902\\t-44\\t1\\n1902\\t-22\\t1\\n1902\\t-17\\t1\\n1902\\t-6\\t1\\n1902\\t-6\\t1\\n1902\\t-17\\t1\\n1902\\t-33\\t1\\n1902\\t-22\\t1\\n1902\\t-17\\t1\\n1902\\t-22\\t1\\n1902\\t-11\\t1\\n1902\\t-28\\t1\\n1902\\t-17\\t1\\n1902\\t-11\\t1\\n1902\\t-17\\t1\\n1902\\t-28\\t1\\n1902\\t-22\\t1\\n1902\\t-11\\t1\\n1902\\t-6\\t1\\n1902\\t-11\\t1\\n1902\\t-28\\t1\\n1902\\t-33\\t1\\n1902\\t-17\\t1\\n1902\\t-17\\t1\\n1902\\t-11\\t1\\n1902\\t0\\t1\\n1902\\t17\\t1\\n1902\\t-11\\t1\\n1902\\t0\\t1\\n1902\\t-17\\t1\\n1902\\t-22\\t1\\n1902\\t-28\\t1\\n1902\\t-39\\t1\\n1902\\t-22\\t1\\n1902\\t6\\t1\\n1902\\t-17\\t1\\n1902\\t0\\t1\\n1902\\t17\\t1\\n1902\\t-6\\t1\\n1902\\t22\\t1\\n1902\\t22\\t1\\n1902\\t-6\\t1\\n1902\\t6\\t1\\n1902\\t33\\t1\\n1902\\t-11\\t1\\n1902\\t6\\t1\\n1902\\t11\\t1\\n1902\\t17\\t1\\n1902\\t11\\t1\\n1902\\t28\\t1\\n1902\\t22\\t1\\n1902\\t22\\t1\\n1902\\t50\\t1\\n1902\\t6\\t1\\n1902\\t22\\t1\\n1902\\t44\\t1\\n1902\\t22\\t1\\n1902\\t28\\t1\\n1902\\t33\\t1\\n1902\\t28\\t1\\n1902\\t28\\t1\\n1902\\t33\\t1\\n1902\\t22\\t1\\n1902\\t17\\t1\\n1902\\t28\\t1\\n1902\\t50\\t1\\n1902\\t22\\t1\\n1902\\t22\\t1\\n1902\\t17\\t1\\n1902\\t11\\t1\\n1902\\t22\\t1\\n1902\\t22\\t1\\n1902\\t17\\t1\\n1902\\t6\\t1\\n1902\\t11\\t1\\n1902\\t22\\t1\\n1902\\t22\\t1\\n1902\\t11\\t1\\n1902\\t17\\t1\\n1902\\t44\\t1\\n1902\\t11\\t1\\n1902\\t11\\t1\\n1902\\t22\\t1\\n1902\\t17\\t1\\n1902\\t6\\t1\\n1902\\t11\\t1\\n1902\\t6\\t1\\n1902\\t-6\\t1\\n1902\\t-6\\t1\\n1902\\t-17\\t1\\n1902\\t6\\t1\\n1902\\t28\\t1\\n1902\\t-6\\t1\\n1902\\t22\\t1\\n1902\\t33\\t1\\n1902\\t6\\t1\\n1902\\t28\\t1\\n1902\\t50\\t1\\n1902\\t0\\t1\\n1902\\t17\\t1\\n1902\\t22\\t1\\n1902\\t11\\t1\\n1902\\t44\\t1\\n1902\\t50\\t1\\n1902\\t28\\t1\\n1902\\t17\\t1\\n1902\\t22\\t1\\n1902\\t28\\t1\\n1902\\t11\\t1\\n1902\\t28\\t1\\n1902\\t11\\t1\\n1902\\t33\\t1\\n1902\\t22\\t1\\n1902\\t44\\t1\\n1902\\t33\\t1\\n1902\\t50\\t1\\n1902\\t33\\t1\\n1902\\t33\\t1\\n1902\\t33\\t1\\n1902\\t17\\t1\\n1902\\t0\\t1\\n1902\\t6\\t1\\n1902\\t6\\t1\\n1902\\t11\\t1\\n1902\\t22\\t1\\n1902\\t17\\t1\\n1902\\t11\\t1\\n1902\\t22\\t1\\n1902\\t22\\t1\\n1902\\t17\\t1\\n1902\\t28\\t1\\n1902\\t17\\t1\\n1902\\t11\\t1\\n1902\\t28\\t1\\n1902\\t22\\t1\\n1902\\t28\\t1\\n1902\\t67\\t1\\n1902\\t17\\t1\\n1902\\t33\\t1\\n1902\\t39\\t1\\n1902\\t39\\t1\\n1902\\t28\\t1\\n1902\\t50\\t1\\n1902\\t39\\t1\\n1902\\t39\\t1\\n1902\\t44\\t1\\n1902\\t17\\t1\\n1902\\t28\\t1\\n1902\\t33\\t1\\n1902\\t33\\t1\\n1902\\t44\\t1\\n1902\\t50\\t1\\n1902\\t50\\t1\\n1902\\t33\\t1\\n1902\\t33\\t1\\n1902\\t33\\t1\\n1902\\t17\\t1\\n1902\\t28\\t1\\n1902\\t50\\t1\\n1902\\t44\\t1\\n1902\\t61\\t1\\n1902\\t56\\t1\\n1902\\t61\\t1\\n1902\\t78\\t1\\n1902\\t50\\t1\\n1902\\t44\\t1\\n1902\\t50\\t1\\n1902\\t61\\t1\\n1902\\t50\\t1\\n1902\\t56\\t1\\n1902\\t56\\t1\\n1902\\t122\\t1\\n1902\\t67\\t1\\n1902\\t56\\t1\\n1902\\t67\\t1\\n1902\\t56\\t1\\n1902\\t61\\t1\\n1902\\t61\\t1\\n1902\\t67\\t1\\n1902\\t61\\t1\\n1902\\t67\\t1\\n1902\\t72\\t1\\n1902\\t67\\t1\\n1902\\t78\\t1\\n1902\\t89\\t1\\n1902\\t67\\t1\\n1902\\t122\\t1\\n1902\\t111\\t1\\n1902\\t78\\t1\\n1902\\t72\\t1\\n1902\\t72\\t1\\n1902\\t100\\t1\\n1902\\t56\\t1\\n1902\\t56\\t1\\n1902\\t50\\t1\\n1902\\t67\\t1\\n1902\\t83\\t1\\n1902\\t89\\t1\\n1902\\t72\\t1\\n1902\\t72\\t1\\n1902\\t78\\t1\\n1902\\t133\\t1\\n1902\\t106\\t1\\n1902\\t100\\t1\\n1902\\t94\\t1\\n1902\\t78\\t1\\n1902\\t100\\t1\\n1902\\t67\\t1\\n1902\\t67\\t1\\n1902\\t56\\t1\\n1902\\t72\\t1\\n1902\\t72\\t1\\n1902\\t61\\t1\\n1902\\t61\\t1\\n1902\\t67\\t1\\n1902\\t72\\t1\\n1902\\t67\\t1\\n1902\\t56\\t1\\n1902\\t50\\t1\\n1902\\t50\\t1\\n1902\\t72\\t1\\n1902\\t67\\t1\\n1902\\t61\\t1\\n1902\\t61\\t1\\n1902\\t67\\t1\\n1902\\t56\\t1\\n1902\\t83\\t1\\n1902\\t83\\t1\\n1902\\t106\\t1\\n1902\\t111\\t1\\n1902\\t94\\t1\\n1902\\t89\\t1\\n1902\\t100\\t1\\n1902\\t89\\t1\\n1902\\t78\\t1\\n1902\\t78\\t1\\n1902\\t61\\t1\\n1902\\t61\\t1\\n1902\\t72\\t1\\n1902\\t67\\t1\\n1902\\t67\\t1\\n1902\\t67\\t1\\n1902\\t67\\t1\\n1902\\t72\\t1\\n1902\\t89\\t1\\n1902\\t89\\t1\\n1902\\t111\\t1\\n1902\\t133\\t1\\n1902\\t111\\t1\\n1902\\t89\\t1\\n1902\\t94\\t1\\n1902\\t122\\t1\\n1902\\t106\\t1\\n1902\\t100\\t1\\n1902\\t100\\t1\\n1902\\t78\\t1\\n1902\\t94\\t1\\n1902\\t94\\t1\\n1902\\t78\\t1\\n1902\\t94\\t1\\n1902\\t100\\t1\\n1902\\t78\\t1\\n1902\\t111\\t1\\n1902\\t100\\t1\\n1902\\t100\\t1\\n1902\\t106\\t1\\n1902\\t100\\t1\\n1902\\t111\\t1\\n1902\\t111\\t1\\n1902\\t117\\t1\\n1902\\t106\\t1\\n1902\\t111\\t1\\n1902\\t100\\t1\\n1902\\t144\\t1\\n1902\\t144\\t1\\n1902\\t144\\t1\\n1902\\t100\\t1\\n1902\\t106\\t1\\n1902\\t106\\t1\\n1902\\t89\\t1\\n1902\\t100\\t1\\n1902\\t100\\t1\\n1902\\t128\\t1\\n1902\\t122\\t1\\n1902\\t83\\t1\\n1902\\t94\\t1\\n1902\\t94\\t1\\n1902\\t89\\t1\\n1902\\t128\\t1\\n1902\\t100\\t1\\n1902\\t94\\t1\\n1902\\t111\\t1\\n1902\\t128\\t1\\n1902\\t117\\t1\\n1902\\t106\\t1\\n1902\\t106\\t1\\n1902\\t83\\t1\\n1902\\t78\\t1\\n1902\\t106\\t1\\n1902\\t83\\t1\\n1902\\t100\\t1\\n1902\\t122\\t1\\n1902\\t106\\t1\\n1902\\t89\\t1\\n1902\\t111\\t1\\n1902\\t100\\t1\\n1902\\t89\\t1\\n1902\\t83\\t1\\n1902\\t106\\t1\\n1902\\t111\\t1\\n1902\\t111\\t1\\n1902\\t106\\t1\\n1902\\t100\\t1\\n1902\\t111\\t1\\n1902\\t106\\t1\\n1902\\t106\\t1\\n1902\\t89\\t1\\n1902\\t83\\t1\\n1902\\t100\\t1\\n1902\\t122\\t1\\n1902\\t106\\t1\\n1902\\t106\\t1\\n1902\\t94\\t1\\n1902\\t94\\t1\\n1902\\t100\\t1\\n1902\\t100\\t1\\n1902\\t100\\t1\\n1902\\t111\\t1\\n1902\\t122\\t1\\n1902\\t133\\t1\\n1902\\t128\\t1\\n1902\\t122\\t1\\n1902\\t117\\t1\\n1902\\t150\\t1\\n1902\\t133\\t1\\n1902\\t128\\t1\\n1902\\t128\\t1\\n1902\\t133\\t1\\n1902\\t100\\t1\\n1902\\t106\\t1\\n1902\\t117\\t1\\n1902\\t128\\t1\\n1902\\t133\\t1\\n1902\\t133\\t1\\n1902\\t128\\t1\\n1902\\t128\\t1\\n1902\\t161\\t1\\n1902\\t100\\t1\\n1902\\t117\\t1\\n1902\\t139\\t1\\n1902\\t117\\t1\\n1902\\t150\\t1\\n1902\\t128\\t1\\n1902\\t133\\t1\\n1902\\t133\\t1\\n1902\\t156\\t1\\n1902\\t133\\t1\\n1902\\t122\\t1\\n1902\\t133\\t1\\n1902\\t133\\t1\\n1902\\t150\\t1\\n1902\\t150\\t1\\n1902\\t144\\t1\\n1902\\t150\\t1\\n1902\\t144\\t1\\n1902\\t128\\t1\\n1902\\t106\\t1\\n1902\\t117\\t1\\n1902\\t111\\t1\\n1902\\t122\\t1\\n1902\\t128\\t1\\n1902\\t122\\t1\\n1902\\t111\\t1\\n1902\\t133\\t1\\n1902\\t117\\t1\\n1902\\t150\\t1\\n1902\\t128\\t1\\n1902\\t122\\t1\\n1902\\t128\\t1\\n1902\\t122\\t1\\n1902\\t122\\t1\\n1902\\t150\\t1\\n1902\\t144\\t1\\n1902\\t128\\t1\\n1902\\t133\\t1\\n1902\\t144\\t1\\n1902\\t122\\t1\\n1902\\t133\\t1\\n1902\\t144\\t1\\n1902\\t128\\t1\\n1902\\t156\\t1\\n1902\\t133\\t1\\n1902\\t133\\t1\\n1902\\t128\\t1\\n1902\\t156\\t1\\n1902\\t128\\t1\\n1902\\t156\\t1\\n1902\\t172\\t1\\n1902\\t133\\t1\\n1902\\t156\\t1\\n1902\\t150\\t1\\n1902\\t133\\t1\\n1902\\t144\\t1\\n1902\\t128\\t1\\n1902\\t128\\t1\\n1902\\t133\\t1\\n1902\\t128\\t1\\n1902\\t122\\t1\\n1902\\t128\\t1\\n1902\\t133\\t1\\n1902\\t122\\t1\\n1902\\t128\\t1\\n1902\\t172\\t1\\n1902\\t122\\t1\\n1902\\t128\\t1\\n1902\\t133\\t1\\n1902\\t128\\t1\\n1902\\t139\\t1\\n1902\\t128\\t1\\n1902\\t122\\t1\\n1902\\t122\\t1\\n1902\\t122\\t1\\n1902\\t133\\t1\\n1902\\t128\\t1\\n1902\\t122\\t1\\n1902\\t122\\t1\\n1902\\t133\\t1\\n1902\\t150\\t1\\n1902\\t133\\t1\\n1902\\t133\\t1\\n1902\\t144\\t1\\n1902\\t133\\t1\\n1902\\t144\\t1\\n1902\\t133\\t1\\n1902\\t133\\t1\\n1902\\t128\\t1\\n1902\\t122\\t1\\n1902\\t122\\t1\\n1902\\t106\\t1\\n1902\\t122\\t1\\n1902\\t128\\t1\\n1902\\t106\\t1\\n1902\\t111\\t1\\n1902\\t133\\t1\\n1902\\t144\\t1\\n1902\\t133\\t1\\n1902\\t128\\t1\\n1902\\t133\\t1\\n1902\\t144\\t1\\n1902\\t144\\t1\\n1902\\t133\\t1\\n1902\\t139\\t1\\n1902\\t133\\t1\\n1902\\t122\\t1\\n1902\\t128\\t1\\n1902\\t122\\t1\\n1902\\t133\\t1\\n1902\\t133\\t1\\n1902\\t133\\t1\\n1902\\t128\\t1\\n1902\\t133\\t1\\n1902\\t122\\t1\\n1902\\t117\\t1\\n1902\\t106\\t1\\n1902\\t122\\t1\\n1902\\t133\\t1\\n1902\\t128\\t1\\n1902\\t117\\t1\\n1902\\t128\\t1\\n1902\\t128\\t1\\n1902\\t133\\t1\\n1902\\t150\\t1\\n1902\\t117\\t1\\n1902\\t133\\t1\\n1902\\t139\\t1\\n1902\\t139\\t1\\n1902\\t150\\t1\\n1902\\t150\\t1\\n1902\\t133\\t1\\n1902\\t139\\t1\\n1902\\t150\\t1\\n1902\\t144\\t1\\n1902\\t122\\t1\\n1902\\t128\\t1\\n1902\\t106\\t1\\n1902\\t100\\t1\\n1902\\t133\\t1\\n1902\\t106\\t1\\n1902\\t94\\t1\\n1902\\t117\\t1\\n1902\\t128\\t1\\n1902\\t128\\t1\\n1902\\t133\\t1\\n1902\\t128\\t1\\n1902\\t111\\t1\\n1902\\t106\\t1\\n1902\\t117\\t1\\n1902\\t89\\t1\\n1902\\t94\\t1\\n1902\\t94\\t1\\n1902\\t111\\t1\\n1902\\t94\\t1\\n1902\\t111\\t1\\n1902\\t83\\t1\\n1902\\t78\\t1\\n1902\\t72\\t1\\n1902\\t50\\t1\\n1902\\t78\\t1\\n1902\\t89\\t1\\n1902\\t83\\t1\\n1902\\t100\\t1\\n1902\\t100\\t1\\n1902\\t100\\t1\\n1902\\t106\\t1\\n1902\\t106\\t1\\n1902\\t100\\t1\\n1902\\t117\\t1\\n1902\\t94\\t1\\n1902\\t94\\t1\\n1902\\t72\\t1\\n1902\\t78\\t1\\n1902\\t72\\t1\\n1902\\t61\\t1\\n1902\\t61\\t1\\n1902\\t61\\t1\\n1902\\t61\\t1\\n1902\\t50\\t1\\n1902\\t61\\t1\\n1902\\t67\\t1\\n1902\\t56\\t1\\n1902\\t100\\t1\\n1902\\t83\\t1\\n1902\\t89\\t1\\n1902\\t89\\t1\\n1902\\t100\\t1\\n1902\\t100\\t1\\n1902\\t94\\t1\\n1902\\t100\\t1\\n1902\\t94\\t1\\n1902\\t94\\t1\\n1902\\t78\\t1\\n1902\\t83\\t1\\n1902\\t72\\t1\\n1902\\t94\\t1\\n1902\\t94\\t1\\n1902\\t94\\t1\\n1902\\t83\\t1\\n1902\\t83\\t1\\n1902\\t83\\t1\\n1902\\t72\\t1\\n1902\\t67\\t1\\n1902\\t72\\t1\\n1902\\t89\\t1\\n1902\\t106\\t1\\n1902\\t72\\t1\\n1902\\t50\\t1\\n1902\\t44\\t1\\n1902\\t33\\t1\\n1902\\t44\\t1\\n1902\\t28\\t1\\n1902\\t33\\t1\\n1902\\t67\\t1\\n1902\\t50\\t1\\n1902\\t50\\t1\\n1902\\t78\\t1\\n1902\\t78\\t1\\n1902\\t33\\t1\\n1902\\t33\\t1\\n1902\\t39\\t1\\n1902\\t50\\t1\\n1902\\t61\\t1\\n1902\\t67\\t1\\n1902\\t61\\t1\\n1902\\t78\\t1\\n1902\\t67\\t1\\n1902\\t78\\t1\\n1902\\t94\\t1\\n1902\\t67\\t1\\n1902\\t67\\t1\\n1902\\t67\\t1\\n1902\\t61\\t1\\n1902\\t33\\t1\\n1902\\t50\\t1\\n1902\\t39\\t1\\n1902\\t50\\t1\\n1902\\t72\\t1\\n1902\\t72\\t1\\n1902\\t78\\t1\\n1902\\t56\\t1\\n1902\\t61\\t1\\n1902\\t50\\t1\\n1902\\t56\\t1\\n1902\\t56\\t1\\n1902\\t50\\t1\\n1902\\t56\\t1\\n1902\\t61\\t1\\n1902\\t72\\t1\\n1902\\t78\\t1\\n1902\\t72\\t1\\n1902\\t67\\t1\\n1902\\t22\\t1\\n1902\\t6\\t1\\n1902\\t17\\t1\\n1902\\t44\\t1\\n1902\\t67\\t1\\n1902\\t78\\t1\\n1902\\t78\\t1\\n1902\\t83\\t1\\n1902\\t78\\t1\\n1902\\t78\\t1\\n1902\\t78\\t1\\n1902\\t56\\t1\\n1902\\t44\\t1\\n1902\\t39\\t1\\n1902\\t28\\t1\\n1902\\t39\\t1\\n1902\\t28\\t1\\n1902\\t33\\t1\\n1902\\t61\\t1\\n1902\\t72\\t1\\n1902\\t61\\t1\\n1902\\t56\\t1\\n1902\\t28\\t1\\n1902\\t22\\t1\\n1902\\t33\\t1\\n1902\\t50\\t1\\n1902\\t72\\t1\\n1902\\t89\\t1\\n1902\\t89\\t1\\n1902\\t56\\t1\\n1902\\t67\\t1\\n1902\\t56\\t1\\n1902\\t50\\t1\\n1902\\t67\\t1\\n1902\\t61\\t1\\n1902\\t61\\t1\\n1902\\t72\\t1\\n1902\\t67\\t1\\n1902\\t50\\t1\\n1902\\t72\\t1\\n1902\\t56\\t1\\n1902\\t61\\t1\\n1902\\t67\\t1\\n1902\\t72\\t1\\n1902\\t61\\t1\\n1902\\t67\\t1\\n1902\\t61\\t1\\n1902\\t61\\t1\\n1902\\t56\\t1\\n1902\\t50\\t1\\n1902\\t67\\t1\\n1902\\t94\\t1\\n1902\\t83\\t1\\n1902\\t61\\t1\\n1902\\t61\\t1\\n1902\\t56\\t1\\n1902\\t39\\t1\\n1902\\t50\\t1\\n1902\\t61\\t1\\n1902\\t44\\t1\\n1902\\t39\\t1\\n1902\\t39\\t1\\n1902\\t33\\t1\\n1902\\t28\\t1\\n1902\\t0\\t1\\n1902\\t-33\\t1\\n1902\\t0\\t1\\n1902\\t0\\t1\\n1902\\t28\\t1\\n1902\\t39\\t1\\n1902\\t39\\t1\\n1902\\t50\\t1\\n1902\\t44\\t1\\n1902\\t44\\t1\\n1902\\t56\\t1\\n1902\\t61\\t1\\n1902\\t56\\t1\\n1902\\t50\\t1\\n1902\\t61\\t1\\n1902\\t56\\t1\\n1902\\t61\\t1\\n1902\\t61\\t1\\n1902\\t50\\t1\\n1902\\t44\\t1\\n1902\\t28\\t1\\n1902\\t28\\t1\\n1902\\t33\\t1\\n1902\\t56\\t1\\n1902\\t56\\t1\\n1902\\t50\\t1\\n1902\\t56\\t1\\n1902\\t56\\t1\\n1902\\t44\\t1\\n1902\\t50\\t1\\n1902\\t28\\t1\\n1902\\t-6\\t1\\n1902\\t17\\t1\\n1902\\t6\\t1\\n1902\\t11\\t1\\n1902\\t33\\t1\\n1902\\t17\\t1\\n1902\\t17\\t1\\n1902\\t17\\t1\\n1902\\t11\\t1\\n1902\\t-11\\t1\\n1902\\t33\\t1\\n1902\\t33\\t1\\n1902\\t28\\t1\\n1902\\t22\\t1\\n1902\\t28\\t1\\n1902\\t33\\t1\\n1902\\t28\\t1\\n1902\\t6\\t1\\n1902\\t22\\t1\\n1902\\t11\\t1\\n1902\\t6\\t1\\n1902\\t17\\t1\\n1902\\t17\\t1\\n1902\\t11\\t1\\n1902\\t0\\t1\\n1902\\t0\\t1\\n1902\\t22\\t1\\n1902\\t11\\t1\\n1902\\t-17\\t1\\n1902\\t-22\\t1\\n1902\\t-22\\t1\\n1902\\t-28\\t1\\n1902\\t11\\t1\\n1902\\t17\\t1\\n1902\\t22\\t1\\n1902\\t28\\t1\\n1902\\t11\\t1\\n1902\\t-17\\t1\\n1902\\t-22\\t1\\n1902\\t-33\\t1\\n1902\\t-44\\t1\\n1902\\t-50\\t1\\n1902\\t-44\\t1\\n1902\\t-50\\t1\\n1902\\t-67\\t1\\n1902\\t-89\\t1\\n1902\\t-94\\t1\\n1902\\t-94\\t1\\n1902\\t-94\\t1\\n1902\\t-78\\t1\\n1902\\t-89\\t1\\n1902\\t-94\\t1\\n1902\\t-83\\t1\\n1902\\t-56\\t1\\n1902\\t-44\\t1\\n1902\\t-39\\t1\\n1902\\t-33\\t1\\n1902\\t-28\\t1\\n1902\\t-33\\t1\\n1902\\t-17\\t1\\n1902\\t-6\\t1\\n1902\\t11\\t1\\n1902\\t6\\t1\\n1902\\t0\\t1\\n1902\\t0\\t1\\n1902\\t6\\t1\\n1902\\t6\\t1\\n1902\\t0\\t1\\n1902\\t0\\t1\\n1902\\t17\\t1\\n1902\\t0\\t1\\n1902\\t6\\t1\\n1902\\t6\\t1\\n1902\\t0\\t1\\n1902\\t0\\t1\\n1902\\t17\\t1\\n1902\\t11\\t1\\n1902\\t11\\t1\\n1902\\t6\\t1\\n1902\\t-17\\t1\\n1902\\t-11\\t1\\n1902\\t11\\t1\\n1902\\t22\\t1\\n1902\\t28\\t1\\n1902\\t22\\t1\\n1902\\t17\\t1\\n1902\\t17\\t1\\n1902\\t28\\t1\\n1902\\t28\\t1\\n1902\\t28\\t1\\n1902\\t17\\t1\\n1902\\t17\\t1\\n1902\\t6\\t1\\n1902\\t28\\t1\\n1902\\t22\\t1\\n1902\\t17\\t1\\n1902\\t11\\t1\\n1902\\t6\\t1\\n1902\\t11\\t1\\n1902\\t-17\\t1\\n1902\\t-17\\t1\\n1902\\t6\\t1\\n1902\\t11\\t1\\n1902\\t0\\t1\\n1902\\t6\\t1\\n1902\\t0\\t1\\n1902\\t11\\t1\\n1902\\t-6\\t1\\n1902\\t0\\t1\\n1902\\t-22\\t1\\n1902\\t-22\\t1\\n1902\\t17\\t1\\n1902\\t6\\t1\\n1902\\t28\\t1\\n1902\\t22\\t1\\n1902\\t17\\t1\\n1902\\t22\\t1\\n1902\\t50\\t1\\n1902\\t6\\t1\\n1902\\t6\\t1\\n1902\\t0\\t1\\n1902\\t-22\\t1\\n1902\\t-17\\t1\\n1902\\t-33\\t1\\n1902\\t-6\\t1\\n1902\\t0\\t1\\n1902\\t-11\\t1\\n1902\\t0\\t1\\n1902\\t6\\t1\\n1902\\t-22\\t1\\n1902\\t-22\\t1\\n1902\\t-17\\t1\\n1902\\t-28\\t1\\n1902\\t-44\\t1\\n1902\\t-22\\t1\\n1902\\t-28\\t1\\n1902\\t-33\\t1\\n1902\\t-28\\t1\\n1902\\t-156\\t1\\n1902\\t-183\\t1\\n1902\\t-183\\t1\\n1902\\t-189\\t1\\n1902\\t-222\\t1\\n1902\\t-250\\t1\\n1902\\t-256\\t1\\n1902\\t-250\\t1\\n1902\\t-278\\t1\\n1902\\t-311\\t1\\n1902\\t-228\\t1\\n1902\\t-183\\t1\\n1902\\t-150\\t1\\n1902\\t-117\\t1\\n1902\\t-128\\t1\\n1902\\t-167\\t1\\n1902\\t-167\\t1\\n1902\\t-150\\t1\\n1902\\t-150\\t1\\n1902\\t-139\\t1\\n1902\\t-83\\t1\\n1902\\t-33\\t1\\n1902\\t-56\\t1\\n1902\\t-83\\t1\\n1902\\t-50\\t1\\n1902\\t-67\\t1\\n1902\\t-122\\t1\\n1902\\t-167\\t1\\n1902\\t-56\\t1\\n1902\\t-61\\t1\\n1902\\t-83\\t1\\n1902\\t-100\\t1\\n1902\\t-100\\t1\\n1902\\t-189\\t1\\n1902\\t-200\\t1\\n1902\\t-267\\t1\\n1902\\t-178\\t1\\n1902\\t-139\\t1\\n1902\\t-178\\t1\\n1902\\t-222\\t1\\n1902\\t-200\\t1\\n1902\\t-233\\t1\\n1902\\t-239\\t1\\n1902\\t-244\\t1\\n1902\\t-283\\t1\\n1902\\t-144\\t1\\n1902\\t-172\\t1\\n1902\\t-144\\t1\\n1902\\t-133\\t1\\n1902\\t-117\\t1\\n1902\\t-117\\t1\\n1902\\t-133\\t1\\n1902\\t-106\\t1\\n1902\\t-133\\t1\\n1902\\t-211\\t1\\n1902\\t-194\\t1\\n1902\\t-294\\t1\\n1902\\t-211\\t1\\n1902\\t-156\\t1\\n1902\\t-150\\t1\\n1902\\t-167\\t1\\n1902\\t-194\\t1\\n1902\\t-217\\t1\\n1902\\t-233\\t1\\n1902\\t-217\\t1\\n1902\\t-311\\t1\\n1902\\t-200\\t1\\n1902\\t-122\\t1\\n1902\\t-61\\t1\\n1902\\t-61\\t1\\n1902\\t-22\\t1\\n1902\\t-28\\t1\\n1902\\t6\\t1\\n1902\\t11\\t1\\n1902\\t11\\t1\\n1902\\t6\\t1\\n1902\\t0\\t1\\n1902\\t0\\t1\\n1902\\t6\\t1\\n1902\\t0\\t1\\n1902\\t-17\\t1\\n1902\\t-28\\t1\\n1902\\t-33\\t1\\n1902\\t-11\\t1\\n1902\\t-33\\t1\\n1902\\t-50\\t1\\n1902\\t-67\\t1\\n1902\\t-78\\t1\\n1902\\t-67\\t1\\n1902\\t-78\\t1\\n1902\\t-150\\t1\\n1902\\t-139\\t1\\n1902\\t-222\\t1\\n1902\\t-250\\t1\\n1902\\t-72\\t1\\n1902\\t-50\\t1\\n1902\\t0\\t1\\n1902\\t17\\t1\\n1902\\t-50\\t1\\n1902\\t-67\\t1\\n1902\\t-83\\t1\\n1902\\t-172\\t1\\n1902\\t-217\\t1\\n1902\\t-156\\t1\\n1902\\t-161\\t1\\n1902\\t-194\\t1\\n1902\\t-189\\t1\\n1902\\t-256\\t1\\n1902\\t-300\\t1\\n1902\\t-233\\t1\\n1902\\t-228\\t1\\n1902\\t-183\\t1\\n1902\\t-106\\t1\\n1902\\t-106\\t1\\n1902\\t-94\\t1\\n1902\\t-78\\t1\\n1902\\t-111\\t1\\n1902\\t-128\\t1\\n1902\\t-72\\t1\\n1902\\t-67\\t1\\n1902\\t-111\\t1\\n1902\\t-150\\t1\\n1902\\t-178\\t1\\n1902\\t-167\\t1\\n1902\\t-128\\t1\\n1902\\t-156\\t1\\n1902\\t-111\\t1\\n1902\\t-78\\t1\\n1902\\t-100\\t1\\n1902\\t-61\\t1\\n1902\\t-67\\t1\\n1902\\t-94\\t1\\n1902\\t-111\\t1\\n1902\\t-106\\t1\\n1902\\t-133\\t1\\n1902\\t-222\\t1\\n1902\\t-133\\t1\\n1902\\t-228\\t1\\n1902\\t-150\\t1\\n1902\\t-11\\t1\\n1902\\t0\\t1\\n1902\\t17\\t1\\n1902\\t-6\\t1\\n1902\\t-117\\t1\\n1902\\t-244\\t1\\n1902\\t-100\\t1\\n1902\\t-111\\t1\\n1902\\t117\\t1\\n1902\\t-106\\t1\\n1902\\t-161\\t1\\n1902\\t-178\\t1\\n1902\\t-122\\t1\\n1902\\t-167\\t1\\n1902\\t-67\\t1\\n1902\\t-17\\t1\\n1902\\t-83\\t1\\n1902\\t-61\\t1\\n1902\\t-44\\t1\\n1902\\t-33\\t1\\n1902\\t-28\\t1\\n1902\\t-6\\t1\\n1902\\t-44\\t1\\n1902\\t-28\\t1\\n1902\\t-17\\t1\\n1902\\t-28\\t1\\n1902\\t-33\\t1\\n1902\\t-39\\t1\\n1902\\t-44\\t1\\n1902\\t-44\\t1\\n1902\\t-17\\t1\\n1902\\t-33\\t1\\n1902\\t-78\\t1\\n1902\\t-61\\t1\\n1902\\t-78\\t1\\n1902\\t-106\\t1\\n1902\\t-78\\t1\\n1902\\t-56\\t1\\n1902\\t-33\\t1\\n1902\\t-6\\t1\\n1902\\t-22\\t1\\n1902\\t-22\\t1\\n1902\\t0\\t1\\n1902\\t-17\\t1\\n1902\\t-67\\t1\\n1902\\t-44\\t1\\n1902\\t-117\\t1\\n1902\\t-189\\t1\\n1902\\t-67\\t1\\n1902\\t-78\\t1\\n1902\\t-261\\t1\\n1902\\t-83\\t1\\n1902\\t-172\\t1\\n1902\\t-156\\t1\\n1902\\t-83\\t1\\n1902\\t-72\\t1\\n1902\\t-100\\t1\\n1902\\t-78\\t1\\n1902\\t-150\\t1\\n1902\\t-228\\t1\\n1902\\t-122\\t1\\n1902\\t-178\\t1\\n1902\\t-217\\t1\\n1902\\t-111\\t1\\n1902\\t-189\\t1\\n1902\\t-272\\t1\\n1902\\t-128\\t1\\n1902\\t-156\\t1\\n1902\\t-194\\t1\\n1902\\t-144\\t1\\n1902\\t-222\\t1\\n1902\\t-322\\t1\\n1902\\t-128\\t1\\n1902\\t-222\\t1\\n1902\\t-150\\t1\\n1902\\t-128\\t1\\n1902\\t-222\\t1\\n1902\\t-139\\t1\\n1902\\t-50\\t1\\n1902\\t-22\\t1\\n1902\\t-22\\t1\\n1902\\t-11\\t1\\n1902\\t-6\\t1\\n1902\\t0\\t1\\n1902\\t6\\t1\\n1902\\t-6\\t1\\n1902\\t-28\\t1\\n1902\\t6\\t1\\n1902\\t-33\\t1\\n1902\\t-122\\t1\\n1902\\t-67\\t1\\n1902\\t-139\\t1\\n1902\\t-222\\t1\\n1902\\t-122\\t1\\n1902\\t-128\\t1\\n1902\\t-139\\t1\\n1902\\t-122\\t1\\n1902\\t-200\\t1\\n1902\\t-189\\t1\\n1902\\t-144\\t1\\n1902\\t-161\\t1\\n1902\\t-167\\t1\\n1902\\t-100\\t1\\n1902\\t-111\\t1\\n1902\\t-89\\t1\\n1902\\t-22\\t1\\n1902\\t-111\\t1\\n1902\\t-106\\t1\\n1902\\t44\\t1\\n1902\\t-6\\t1\\n1902\\t6\\t1\\n1902\\t33\\t1\\n1902\\t22\\t1\\n1902\\t6\\t1\\n1902\\t22\\t1\\n1902\\t6\\t1\\n1902\\t11\\t1\\n1902\\t17\\t1\\n1902\\t17\\t1\\n1902\\t0\\t1\\n1902\\t28\\t1\\n1902\\t-17\\t1\\n1902\\t6\\t1\\n1902\\t17\\t1\\n1902\\t6\\t1\\n1902\\t-33\\t1\\n1902\\t0\\t1\\n1902\\t-83\\t1\\n1902\\t-72\\t1\\n1902\\t-17\\t1\\n1902\\t-33\\t1\\n1902\\t-22\\t1\\n1902\\t17\\t1\\n1902\\t-6\\t1\\n1902\\t-6\\t1\\n1902\\t11\\t1\\n1902\\t-28\\t1\\n1902\\t-33\\t1\\n1902\\t11\\t1\\n1902\\t-33\\t1\\n1902\\t-100\\t1\\n1902\\t-6\\t1\\n1902\\t-100\\t1\\n1902\\t-89\\t1\\n1902\\t-22\\t1\\n1902\\t-56\\t1\\n1902\\t-89\\t1\\n1902\\t-17\\t1\\n1902\\t-72\\t1\\n1902\\t-78\\t1\\n1902\\t-22\\t1\\n1902\\t-67\\t1\\n1902\\t-111\\t1\\n1902\\t-17\\t1\\n1902\\t-28\\t1\\n1902\\t-44\\t1\\n1902\\t-11\\t1\\n1902\\t-33\\t1\\n1902\\t-44\\t1\\n1902\\t-17\\t1\\n1902\\t-44\\t1\\n1902\\t-83\\t1\\n1902\\t11\\t1\\n1902\\t-44\\t1\\n1902\\t-33\\t1\\n1902\\t22\\t1\\n1902\\t-22\\t1\\n1902\\t-67\\t1\\n1902\\t22\\t1\\n1902\\t-28\\t1\\n1902\\t-72\\t1\\n1902\\t33\\t1\\n1902\\t-39\\t1\\n1902\\t-50\\t1\\n1902\\t67\\t1\\n1902\\t-17\\t1\\n1902\\t0\\t1\\n1902\\t72\\t1\\n1902\\t17\\t1\\n1902\\t6\\t1\\n1902\\t83\\t1\\n1902\\t6\\t1\\n1902\\t-11\\t1\\n1902\\t83\\t1\\n1902\\t17\\t1\\n1902\\t22\\t1\\n1902\\t50\\t1\\n1902\\t22\\t1\\n1902\\t22\\t1\\n1902\\t56\\t1\\n1902\\t44\\t1\\n1902\\t28\\t1\\n1902\\t33\\t1\\n1902\\t-33\\t1\\n1902\\t-56\\t1\\n1902\\t11\\t1\\n1902\\t-22\\t1\\n1902\\t-44\\t1\\n1902\\t33\\t1\\n1902\\t-22\\t1\\n1902\\t-11\\t1\\n1902\\t56\\t1\\n1902\\t0\\t1\\n1902\\t-50\\t1\\n1902\\t6\\t1\\n1902\\t-39\\t1\\n1902\\t-67\\t1\\n1902\\t6\\t1\\n1902\\t-33\\t1\\n1902\\t-78\\t1\\n1902\\t-17\\t1\\n1902\\t-67\\t1\\n1902\\t-94\\t1\\n1902\\t-22\\t1\\n1902\\t-56\\t1\\n1902\\t-100\\t1\\n1902\\t-22\\t1\\n1902\\t-50\\t1\\n1902\\t-67\\t1\\n1902\\t-28\\t1\\n1902\\t-28\\t1\\n1902\\t-44\\t1\\n1902\\t11\\t1\\n1902\\t0\\t1\\n1902\\t6\\t1\\n1902\\t44\\t1\\n1902\\t22\\t1\\n1902\\t39\\t1\\n1902\\t89\\t1\\n1902\\t50\\t1\\n1902\\t72\\t1\\n1902\\t122\\t1\\n1902\\t50\\t1\\n1902\\t33\\t1\\n1902\\t44\\t1\\n1902\\t22\\t1\\n1902\\t22\\t1\\n1902\\t61\\t1\\n1902\\t22\\t1\\n1902\\t28\\t1\\n1902\\t44\\t1\\n1902\\t28\\t1\\n1902\\t28\\t1\\n1902\\t39\\t1\\n1902\\t11\\t1\\n1902\\t0\\t1\\n1902\\t56\\t1\\n1902\\t0\\t1\\n1902\\t6\\t1\\n1902\\t39\\t1\\n1902\\t22\\t1\\n1902\\t6\\t1\\n1902\\t61\\t1\\n1902\\t6\\t1\\n1902\\t0\\t1\\n1902\\t72\\t1\\n1902\\t28\\t1\\n1902\\t39\\t1\\n1902\\t78\\t1\\n1902\\t56\\t1\\n1902\\t39\\t1\\n1902\\t89\\t1\\n1902\\t28\\t1\\n1902\\t67\\t1\\n1902\\t133\\t1\\n1902\\t44\\t1\\n1902\\t100\\t1\\n1902\\t128\\t1\\n1902\\t94\\t1\\n1902\\t111\\t1\\n1902\\t178\\t1\\n1902\\t117\\t1\\n1902\\t117\\t1\\n1902\\t178\\t1\\n1902\\t94\\t1\\n1902\\t83\\t1\\n1902\\t106\\t1\\n1902\\t22\\t1\\n1902\\t56\\t1\\n1902\\t128\\t1\\n1902\\t67\\t1\\n1902\\t72\\t1\\n1902\\t133\\t1\\n1902\\t67\\t1\\n1902\\t83\\t1\\n1902\\t161\\t1\\n1902\\t83\\t1\\n1902\\t61\\t1\\n1902\\t67\\t1\\n1902\\t72\\t1\\n1902\\t50\\t1\\n1902\\t61\\t1\\n1902\\t61\\t1\\n1902\\t94\\t1\\n1902\\t128\\t1\\n1902\\t94\\t1\\n1902\\t89\\t1\\n1902\\t111\\t1\\n1902\\t100\\t1\\n1902\\t94\\t1\\n1902\\t156\\t1\\n1902\\t100\\t1\\n1902\\t94\\t1\\n1902\\t83\\t1\\n1902\\t89\\t1\\n1902\\t67\\t1\\n1902\\t183\\t1\\n1902\\t144\\t1\\n1902\\t167\\t1\\n1902\\t200\\t1\\n1902\\t156\\t1\\n1902\\t111\\t1\\n1902\\t106\\t1\\n1902\\t94\\t1\\n1902\\t78\\t1\\n1902\\t67\\t1\\n1902\\t50\\t1\\n1902\\t67\\t1\\n1902\\t100\\t1\\n1902\\t50\\t1\\n1902\\t106\\t1\\n1902\\t150\\t1\\n1902\\t106\\t1\\n1902\\t83\\t1\\n1902\\t144\\t1\\n1902\\t100\\t1\\n1902\\t100\\t1\\n1902\\t100\\t1\\n1902\\t72\\t1\\n1902\\t44\\t1\\n1902\\t50\\t1\\n1902\\t33\\t1\\n1902\\t56\\t1\\n1902\\t83\\t1\\n1902\\t56\\t1\\n1902\\t89\\t1\\n1902\\t100\\t1\\n1902\\t28\\t1\\n1902\\t100\\t1\\n1902\\t122\\t1\\n1902\\t100\\t1\\n1902\\t106\\t1\\n1902\\t139\\t1\\n1902\\t94\\t1\\n1902\\t83\\t1\\n1902\\t144\\t1\\n1902\\t117\\t1\\n1902\\t83\\t1\\n1902\\t144\\t1\\n1902\\t100\\t1\\n1902\\t122\\t1\\n1902\\t194\\t1\\n1902\\t122\\t1\\n1902\\t161\\t1\\n1902\\t206\\t1\\n1902\\t144\\t1\\n1902\\t144\\t1\\n1902\\t206\\t1\\n1902\\t183\\t1\\n1902\\t172\\t1\\n1902\\t239\\t1\\n1902\\t189\\t1\\n1902\\t167\\t1\\n1902\\t111\\t1\\n1902\\t161\\t1\\n1902\\t72\\t1\\n1902\\t94\\t1\\n1902\\t83\\t1\\n1902\\t78\\t1\\n1902\\t161\\t1\\n1902\\t144\\t1\\n1902\\t122\\t1\\n1902\\t200\\t1\\n1902\\t161\\t1\\n1902\\t144\\t1\\n1902\\t222\\t1\\n1902\\t167\\t1\\n1902\\t172\\t1\\n1902\\t167\\t1\\n1902\\t100\\t1\\n1902\\t111\\t1\\n1902\\t167\\t1\\n1902\\t117\\t1\\n1902\\t100\\t1\\n1902\\t139\\t1\\n1902\\t94\\t1\\n1902\\t78\\t1\\n1902\\t111\\t1\\n1902\\t94\\t1\\n1902\\t72\\t1\\n1902\\t122\\t1\\n1902\\t94\\t1\\n1902\\t94\\t1\\n1902\\t156\\t1\\n1902\\t128\\t1\\n1902\\t128\\t1\\n1902\\t122\\t1\\n1902\\t106\\t1\\n1902\\t117\\t1\\n1902\\t122\\t1\\n1902\\t106\\t1\\n1902\\t94\\t1\\n1902\\t106\\t1\\n1902\\t72\\t1\\n1902\\t94\\t1\\n1902\\t156\\t1\\n1902\\t122\\t1\\n1902\\t122\\t1\\n1902\\t133\\t1\\n1902\\t106\\t1\\n1902\\t128\\t1\\n1902\\t161\\t1\\n1902\\t161\\t1\\n1902\\t128\\t1\\n1902\\t183\\t1\\n1902\\t161\\t1\\n1902\\t122\\t1\\n1902\\t156\\t1\\n1902\\t122\\t1\\n1902\\t150\\t1\\n1902\\t194\\t1\\n1902\\t161\\t1\\n1902\\t139\\t1\\n1902\\t150\\t1\\n1902\\t128\\t1\\n1902\\t94\\t1\\n1902\\t89\\t1\\n1902\\t56\\t1\\n1902\\t56\\t1\\n1902\\t67\\t1\\n1902\\t72\\t1\\n1902\\t72\\t1\\n1902\\t122\\t1\\n1902\\t106\\t1\\n1902\\t100\\t1\\n1902\\t144\\t1\\n1902\\t106\\t1\\n1902\\t128\\t1\\n1902\\t150\\t1\\n1902\\t128\\t1\\n1902\\t122\\t1\\n1902\\t150\\t1\\n1902\\t128\\t1\\n1902\\t133\\t1\\n1902\\t200\\t1\\n1902\\t133\\t1\\n1902\\t150\\t1\\n1902\\t178\\t1\\n1902\\t172\\t1\\n1902\\t150\\t1\\n1902\\t217\\t1\\n1902\\t161\\t1\\n1902\\t161\\t1\\n1902\\t217\\t1\\n1902\\t150\\t1\\n1902\\t183\\t1\\n1902\\t244\\t1\\n1902\\t156\\t1\\n1902\\t144\\t1\\n1902\\t156\\t1\\n1902\\t150\\t1\\n1902\\t133\\t1\\n1902\\t172\\t1\\n1902\\t122\\t1\\n1902\\t128\\t1\\n1902\\t172\\t1\\n1902\\t133\\t1\\n1902\\t133\\t1\\n1902\\t167\\t1\\n1902\\t150\\t1\\n1902\\t128\\t1\\n1902\\t144\\t1\\n1902\\t128\\t1\\n1902\\t133\\t1\\n1902\\t194\\t1\\n1902\\t156\\t1\\n1902\\t139\\t1\\n1902\\t139\\t1\\n1902\\t122\\t1\\n1902\\t139\\t1\\n1902\\t200\\t1\\n1902\\t139\\t1\\n1902\\t139\\t1\\n1902\\t194\\t1\\n1902\\t128\\t1\\n1902\\t133\\t1\\n1902\\t200\\t1\\n1902\\t156\\t1\\n1902\\t133\\t1\\n1902\\t172\\t1\\n1902\\t111\\t1\\n1902\\t122\\t1\\n1902\\t150\\t1\\n1902\\t122\\t1\\n1902\\t122\\t1\\n1902\\t122\\t1\\n1902\\t111\\t1\\n1902\\t111\\t1\\n1902\\t172\\t1\\n1902\\t128\\t1\\n1902\\t117\\t1\\n1902\\t150\\t1\\n1902\\t144\\t1\\n1902\\t150\\t1\\n1902\\t178\\t1\\n1902\\t139\\t1\\n1902\\t128\\t1\\n1902\\t150\\t1\\n1902\\t128\\t1\\n1902\\t133\\t1\\n1902\\t167\\t1\\n1902\\t133\\t1\\n1902\\t133\\t1\\n1902\\t189\\t1\\n1902\\t133\\t1\\n1902\\t150\\t1\\n1902\\t150\\t1\\n1902\\t133\\t1\\n1902\\t128\\t1\\n1902\\t172\\t1\\n1902\\t128\\t1\\n1902\\t122\\t1\\n1902\\t200\\t1\\n1902\\t133\\t1\\n1902\\t139\\t1\\n1902\\t156\\t1\\n1902\\t139\\t1\\n1902\\t144\\t1\\n1902\\t167\\t1\\n1902\\t111\\t1\\n1902\\t133\\t1\\n1902\\t172\\t1\\n1902\\t133\\t1\\n1902\\t139\\t1\\n1902\\t150\\t1\\n1902\\t133\\t1\\n1902\\t133\\t1\\n1902\\t167\\t1\\n1902\\t150\\t1\\n1902\\t150\\t1\\n1902\\t156\\t1\\n1902\\t133\\t1\\n1902\\t111\\t1\\n1902\\t139\\t1\\n1902\\t117\\t1\\n1902\\t117\\t1\\n1902\\t139\\t1\\n1902\\t106\\t1\\n1902\\t111\\t1\\n1902\\t178\\t1\\n1902\\t100\\t1\\n1902\\t83\\t1\\n1902\\t189\\t1\\n1902\\t106\\t1\\n1902\\t122\\t1\\n1902\\t150\\t1\\n1902\\t122\\t1\\n1902\\t139\\t1\\n1902\\t150\\t1\\n1902\\t139\\t1\\n1902\\t100\\t1\\n1902\\t106\\t1\\n1902\\t100\\t1\\n1902\\t89\\t1\\n1902\\t100\\t1\\n1902\\t100\\t1\\n1902\\t111\\t1\\n1902\\t133\\t1\\n1902\\t122\\t1\\n1902\\t78\\t1\\n1902\\t183\\t1\\n1902\\t106\\t1\\n1902\\t106\\t1\\n1902\\t144\\t1\\n1902\\t117\\t1\\n1902\\t117\\t1\\n1902\\t150\\t1\\n1902\\t106\\t1\\n1902\\t94\\t1\\n1902\\t150\\t1\\n1902\\t94\\t1\\n1902\\t83\\t1\\n1902\\t106\\t1\\n1902\\t89\\t1\\n1902\\t83\\t1\\n1902\\t117\\t1\\n1902\\t78\\t1\\n1902\\t50\\t1\\n1902\\t94\\t1\\n1902\\t67\\t1\\n1902\\t61\\t1\\n1902\\t94\\t1\\n1902\\t67\\t1\\n1902\\t67\\t1\\n1902\\t100\\t1\\n1902\\t78\\t1\\n1902\\t72\\t1\\n1902\\t128\\t1\\n1902\\t89\\t1\\n1902\\t94\\t1\\n1902\\t133\\t1\\n1902\\t133\\t1\\n1902\\t144\\t1\\n1902\\t178\\t1\\n1902\\t133\\t1\\n1902\\t111\\t1\\n1902\\t128\\t1\\n1902\\t83\\t1\\n1902\\t72\\t1\\n1902\\t100\\t1\\n1902\\t89\\t1\\n1902\\t56\\t1\\n1902\\t117\\t1\\n1902\\t133\\t1\\n1902\\t122\\t1\\n1902\\t156\\t1\\n1902\\t106\\t1\\n1902\\t83\\t1\\n1902\\t106\\t1\\n1902\\t61\\t1\\n1902\\t78\\t1\\n1902\\t83\\t1\\n1902\\t39\\t1\\n1902\\t44\\t1\\n1902\\t100\\t1\\n1902\\t67\\t1\\n1902\\t83\\t1\\n1902\\t111\\t1\\n1902\\t122\\t1\\n1902\\t83\\t1\\n1902\\t89\\t1\\n1902\\t78\\t1\\n1902\\t61\\t1\\n1902\\t72\\t1\\n1902\\t78\\t1\\n1902\\t72\\t1\\n1902\\t117\\t1\\n1902\\t72\\t1\\n1902\\t106\\t1\\n1902\\t117\\t1\\n1902\\t111\\t1\\n1902\\t94\\t1\\n1902\\t117\\t1\\n1902\\t89\\t1\\n1902\\t72\\t1\\n1902\\t67\\t1\\n1902\\t50\\t1\\n1902\\t22\\t1\\n1902\\t28\\t1\\n1902\\t6\\t1\\n1902\\t6\\t1\\n1902\\t33\\t1\\n1902\\t6\\t1\\n1902\\t-17\\t1\\n1902\\t78\\t1\\n1902\\t33\\t1\\n1902\\t11\\t1\\n1902\\t56\\t1\\n1902\\t6\\t1\\n1902\\t-28\\t1\\n1902\\t50\\t1\\n1902\\t39\\t1\\n1902\\t72\\t1\\n1902\\t94\\t1\\n1902\\t67\\t1\\n1902\\t72\\t1\\n1902\\t94\\t1\\n1902\\t78\\t1\\n1902\\t67\\t1\\n1902\\t78\\t1\\n1902\\t67\\t1\\n1902\\t67\\t1\\n1902\\t89\\t1\\n1902\\t67\\t1\\n1902\\t28\\t1\\n1902\\t72\\t1\\n1902\\t22\\t1\\n1902\\t-6\\t1\\n1902\\t22\\t1\\n1902\\t-22\\t1\\n1902\\t-33\\t1\\n1902\\t22\\t1\\n1902\\t-33\\t1\\n1902\\t-17\\t1\\n1902\\t22\\t1\\n1902\\t22\\t1\\n1902\\t22\\t1\\n1902\\t50\\t1\\n1902\\t33\\t1\\n1902\\t-33\\t1\\n1902\\t0\\t1\\n1902\\t-6\\t1\\n1902\\t-33\\t1\\n1902\\t-33\\t1\\n1902\\t-44\\t1\\n1902\\t6\\t1\\n1902\\t67\\t1\\n1902\\t28\\t1\\n1902\\t39\\t1\\n1902\\t78\\t1\\n1902\\t50\\t1\\n1902\\t17\\t1\\n1902\\t22\\t1\\n1902\\t11\\t1\\n1902\\t-22\\t1\\n1902\\t6\\t1\\n1902\\t-44\\t1\\n1902\\t17\\t1\\n1902\\t44\\t1\\n1902\\t22\\t1\\n1902\\t22\\t1\\n1902\\t11\\t1\\n1902\\t6\\t1\\n1902\\t-6\\t1\\n1902\\t-6\\t1\\n1902\\t-33\\t1\\n1902\\t-50\\t1\\n1902\\t-6\\t1\\n1902\\t-6\\t1\\n1902\\t-94\\t1\\n1902\\t-17\\t1\\n1902\\t-28\\t1\\n1902\\t-78\\t1\\n1902\\t-33\\t1\\n1902\\t-83\\t1\\n1902\\t-100\\t1\\n1902\\t-11\\t1\\n1902\\t-122\\t1\\n1902\\t-39\\t1\\n1902\\t6\\t1\\n1902\\t0\\t1\\n1902\\t33\\t1\\n1902\\t50\\t1\\n1902\\t39\\t1\\n1902\\t6\\t1\\n1902\\t6\\t1\\n1902\\t-22\\t1\\n1902\\t-33\\t1\\n1902\\t-22\\t1\\n1902\\t-133\\t1\\n1902\\t-100\\t1\\n1902\\t-67\\t1\\n1902\\t-94\\t1\\n1902\\t-94\\t1\\n1902\\t-67\\t1\\n1902\\t-83\\t1\\n1902\\t-122\\t1\\n1902\\t-78\\t1\\n1902\\t-100\\t1\\n1902\\t-133\\t1\\n1902\\t-50\\t1\\n1902\\t11\\t1\\n1902\\t17\\t1\\n1902\\t28\\t1\\n1902\\t11\\t1\\n1902\\t-17\\t1\\n1902\\t22\\t1\\n1902\\t-33\\t1\\n1902\\t-6\\t1\\n1902\\t11\\t1\\n1902\\t-17\\t1\\n1902\\t0\\t1\\n1902\\t17\\t1\\n1902\\t17\\t1\\n1902\\t17\\t1\\n1902\\t28\\t1\\n1902\\t50\\t1\\n1902\\t50\\t1\\n1902\\t44\\t1\\n1902\\t44\\t1\\n1902\\t44\\t1\\n1902\\t50\\t1\\n1902\\t22\\t1\\n1902\\t0\\t1\\n1902\\t11\\t1\\n1902\\t22\\t1\\n1902\\t22\\t1\\n1902\\t0\\t1\\n1902\\t0\\t1\\n1902\\t-22\\t1\\n1902\\t-6\\t1\\n1902\\t-50\\t1\\n1902\\t0\\t1\\n1902\\t0\\t1\\n1902\\t-11\\t1\\n1902\\t-39\\t1\\n1902\\t-78\\t1\\n1902\\t-117\\t1\\n1902\\t-144\\t1\\n1902\\t-89\\t1\\n1902\\t-128\\t1\\n1902\\t-106\\t1\\n1902\\t-44\\t1\\n1902\\t-11\\t1\\n1902\\t6\\t1\\n1902\\t6\\t1\\n1902\\t6\\t1\\n1902\\t0\\t1\\n1902\\t-17\\t1\\n1902\\t-17\\t1\\n1902\\t0\\t1\\n1902\\t17\\t1\\n1902\\t17\\t1\\n1902\\t28\\t1\\n1902\\t33\\t1\\n1902\\t44\\t1\\n1902\\t22\\t1\\n1902\\t11\\t1\\n1902\\t-6\\t1\\n1902\\t-6\\t1\\n1902\\t6\\t1\\n1902\\t28\\t1\\n1902\\t17\\t1\\n1902\\t-11\\t1\\n1902\\t-44\\t1\\n1902\\t-83\\t1\\n1902\\t-78\\t1\\n1902\\t-83\\t1\\n1902\\t-150\\t1\\n1902\\t-89\\t1\\n1902\\t-94\\t1\\n1902\\t-122\\t1\\n1902\\t-44\\t1\\n1902\\t-28\\t1\\n1902\\t-17\\t1\\n1902\\t-6\\t1\\n1902\\t0\\t1\\n1902\\t-6\\t1\\n1902\\t0\\t1\\n1902\\t6\\t1\\n1902\\t-78\\t1\\n1902\\t-56\\t1\\n1902\\t-44\\t1\\n1902\\t-56\\t1\\n1902\\t-50\\t1\\n1902\\t-100\\t1\\n1902\\t-139\\t1\\n1902\\t-67\\t1\\n1902\\t-6\\t1\\n1902\\t-39\\t1\\n1902\\t-17\\t1\\n1902\\t-11\\t1\\n1902\\t-78\\t1\\n1902\\t-50\\t1\\n1902\\t-233\\t1\\n1902\\t-250\\t1\\n1902\\t-206\\t1\\n1902\\t-250\\t1\\n1902\\t-256\\t1\\n1902\\t-178\\t1\\n1902\\t-206\\t1\\n1902\\t-139\\t1\\n1902\\t-83\\t1\\n1902\\t-61\\t1\\n1902\\t-56\\t1\\n1902\\t-44\\t1\\n1902\\t-50\\t1\\n1902\\t-61\\t1\\n1902\\t-100\\t1\\n1902\\t-117\\t1\\n1902\\t-133\\t1\\n1902\\t-161\\t1\\n1902\\t-167\\t1\\n1902\\t-183\\t1\\n1902\\t-200\\t1\\n1902\\t-217\\t1\\n1902\\t-228\\t1\\n1902\\t-228\\t1\\n1902\\t-250\\t1\\n1902\\t-250\\t1\\n1902\\t-233\\t1\\n1902\\t-283\\t1\\n1902\\t-256\\t1\\n1902\\t-178\\t1\\n1902\\t-150\\t1\\n1902\\t-150\\t1\\n1902\\t-144\\t1\\n1902\\t-128\\t1\\n1902\\t-67\\t1\\n1902\\t-33\\t1\\n1902\\t-67\\t1\\n1902\\t-128\\t1\\n1902\\t-94\\t1\\n1902\\t-133\\t1\\n1902\\t-156\\t1\\n1902\\t-144\\t1\\n1902\\t-117\\t1\\n1902\\t-83\\t1\\n1902\\t-56\\t1\\n1902\\t-106\\t1\\n1902\\t-156\\t1\\n1902\\t-67\\t1\\n1902\\t-61\\t1\\n1902\\t-17\\t1\\n1902\\t-6\\t1\\n1902\\t-28\\t1\\n1902\\t-56\\t1\\n1902\\t-39\\t1\\n1902\\t-67\\t1\\n1902\\t-56\\t1\\n1902\\t-78\\t1\\n1902\\t-150\\t1\\n1902\\t-50\\t1\\n1902\\t-44\\t1\\n1902\\t-61\\t1\\n1902\\t-50\\t1\\n1902\\t-22\\t1\\n1902\\t-28\\t1\\n1902\\t-33\\t1\\n1902\\t-50\\t1\\n1902\\t-83\\t1\\n1902\\t-133\\t1\\n1902\\t-117\\t1\\n1902\\t-111\\t1\\n1902\\t-156\\t1\\n1902\\t-144\\t1\\n1902\\t-183\\t1\\n1902\\t-167\\t1\\n1902\\t-156\\t1\\n1902\\t-206\\t1\\n1902\\t-156\\t1\\n1902\\t-150\\t1\\n1902\\t-167\\t1\\n1902\\t-194\\t1\\n1902\\t-206\\t1\\n1902\\t-189\\t1\\n1902\\t-161\\t1\\n1902\\t-172\\t1\\n1902\\t-200\\t1\\n1902\\t-161\\t1\\n1902\\t-78\\t1\\n1902\\t-28\\t1\\n1902\\t-11\\t1\\n1902\\t-28\\t1\\n1902\\t-50\\t1\\n1902\\t-28\\t1\\n1902\\t-22\\t1\\n1902\\t-33\\t1\\n1902\\t-89\\t1\\n1902\\t-89\\t1\\n1902\\t-133\\t1\\n1902\\t-111\\t1\\n1902\\t-106\\t1\\n1902\\t-117\\t1\\n1902\\t-117\\t1\\n1902\\t-89\\t1\\n1902\\t-106\\t1\\n1902\\t-128\\t1\\n1902\\t-122\\t1\\n1902\\t-144\\t1\\n1902\\t-156\\t1\\n1902\\t-156\\t1\\n1902\\t-150\\t1\\n1902\\t-117\\t1\\n1902\\t-128\\t1\\n1902\\t-183\\t1\\n\\n'}"
      ]
     },
     "execution_count": 23,
     "metadata": {
      "tags": []
     },
     "output_type": "execute_result"
    }
   ],
   "source": [
    "files.upload()"
   ]
  },
  {
   "cell_type": "code",
   "execution_count": 0,
   "metadata": {
    "colab": {
     "base_uri": "https://localhost:8080/",
     "height": 34
    },
    "colab_type": "code",
    "id": "gWLMivVp5azJ",
    "outputId": "e6dfc5be-7dc9-4152-cf65-1fdcf1c00d12"
   },
   "outputs": [
    {
     "name": "stdout",
     "output_type": "stream",
     "text": [
      "temp_data.txt\n"
     ]
    }
   ],
   "source": [
    "!ls temp_data.txt"
   ]
  },
  {
   "cell_type": "code",
   "execution_count": 0,
   "metadata": {
    "colab": {},
    "colab_type": "code",
    "id": "ggoy8NwM3n-_"
   },
   "outputs": [],
   "source": [
    "rdd2 = sc.textFile(\"temp_data.txt\") "
   ]
  },
  {
   "cell_type": "code",
   "execution_count": 0,
   "metadata": {
    "colab": {
     "base_uri": "https://localhost:8080/",
     "height": 34
    },
    "colab_type": "code",
    "id": "ImGiOUCw5jlN",
    "outputId": "5a3c7cd0-dfc2-4488-d94c-c294ba790137"
   },
   "outputs": [
    {
     "data": {
      "text/plain": [
       "['1901\\t-78\\t1', '1901\\t-72\\t1', '1901\\t-94\\t1']"
      ]
     },
     "execution_count": 27,
     "metadata": {
      "tags": []
     },
     "output_type": "execute_result"
    }
   ],
   "source": [
    "rdd2.take(3)"
   ]
  },
  {
   "cell_type": "code",
   "execution_count": 0,
   "metadata": {
    "colab": {},
    "colab_type": "code",
    "id": "_fIGCaFM5nXT"
   },
   "outputs": [],
   "source": [
    "rdd3 = rdd2.map(lambda s : s.split('\\t'))"
   ]
  },
  {
   "cell_type": "code",
   "execution_count": 0,
   "metadata": {
    "colab": {
     "base_uri": "https://localhost:8080/",
     "height": 34
    },
    "colab_type": "code",
    "id": "BFkmnGE85u_K",
    "outputId": "00a8acdb-25a0-4a8a-d856-a29e91e798a4"
   },
   "outputs": [
    {
     "data": {
      "text/plain": [
       "[['1901', '-78', '1'], ['1901', '-72', '1'], ['1901', '-94', '1']]"
      ]
     },
     "execution_count": 29,
     "metadata": {
      "tags": []
     },
     "output_type": "execute_result"
    }
   ],
   "source": [
    "rdd3.take(3)"
   ]
  },
  {
   "cell_type": "code",
   "execution_count": 0,
   "metadata": {
    "colab": {
     "base_uri": "https://localhost:8080/",
     "height": 34
    },
    "colab_type": "code",
    "id": "p_qU65155wa4",
    "outputId": "343b003a-c709-4cee-9aa6-ef928b11fb5e"
   },
   "outputs": [
    {
     "data": {
      "text/plain": [
       "2"
      ]
     },
     "execution_count": 30,
     "metadata": {
      "tags": []
     },
     "output_type": "execute_result"
    }
   ],
   "source": [
    "rdd3.getNumPartitions()"
   ]
  },
  {
   "cell_type": "markdown",
   "metadata": {
    "colab_type": "text",
    "id": "Y_tVi1wrKLaG"
   },
   "source": [
    "## RDDs support two types of operations:"
   ]
  },
  {
   "cell_type": "markdown",
   "metadata": {
    "colab_type": "text",
    "id": "tiBJTjbiKOew"
   },
   "source": [
    "* Transformations are operations (such as map, filter, join, union, and so on) that are performed on an RDD and which yield a new RDD containing the result\n",
    "* Actions are operations (such as reduce, count, first, and so on) that return a value after running a computation on an RDD\n",
    "* Transformations in Spark are “lazy”, meaning that they do not compute their results right away\n",
    "* They just “remember” the operation to be performed and the dataset (e.g., file) to which the operation is to be performed.\n",
    "* The transformations are only actually computed when an action is called and the result is returned to the driver program.\n",
    "* This design enables Spark to run more efficiently. For example, if a big file was transformed in various ways and passed to first action, Spark would only process and return the result for the first line, rather than do the work for the entire file."
   ]
  },
  {
   "cell_type": "code",
   "execution_count": 0,
   "metadata": {
    "colab": {},
    "colab_type": "code",
    "id": "zpQ9tHNuKcXO"
   },
   "outputs": [],
   "source": []
  },
  {
   "cell_type": "markdown",
   "metadata": {
    "colab_type": "text",
    "id": "vHAzSaoFKdPK"
   },
   "source": [
    "## Transformations"
   ]
  },
  {
   "cell_type": "code",
   "execution_count": 0,
   "metadata": {
    "colab": {},
    "colab_type": "code",
    "id": "sHJPdty8Kg1y"
   },
   "outputs": [],
   "source": []
  },
  {
   "cell_type": "markdown",
   "metadata": {
    "colab_type": "text",
    "id": "0wYcCx92KiSA"
   },
   "source": [
    "* coalesce() - Return a new RDD that is reduced into numPartitions partitions.\n",
    "* glom() - Return an RDD created by coalescing all elements within each partition into an array"
   ]
  },
  {
   "cell_type": "code",
   "execution_count": 0,
   "metadata": {
    "colab": {},
    "colab_type": "code",
    "id": "jCGpcE0LKqV4"
   },
   "outputs": [],
   "source": [
    "RDD = sc.parallelize(range(30), 5)"
   ]
  },
  {
   "cell_type": "code",
   "execution_count": 12,
   "metadata": {
    "colab": {
     "base_uri": "https://localhost:8080/",
     "height": 104
    },
    "colab_type": "code",
    "id": "GR41X4M0Kuyk",
    "outputId": "188f8096-b2df-44be-ed73-0eb252113615"
   },
   "outputs": [
    {
     "data": {
      "text/plain": [
       "[[0, 1, 2, 3, 4, 5],\n",
       " [6, 7, 8, 9, 10, 11],\n",
       " [12, 13, 14, 15, 16, 17],\n",
       " [18, 19, 20, 21, 22, 23],\n",
       " [24, 25, 26, 27, 28, 29]]"
      ]
     },
     "execution_count": 12,
     "metadata": {
      "tags": []
     },
     "output_type": "execute_result"
    }
   ],
   "source": [
    "RDD.glom().collect()"
   ]
  },
  {
   "cell_type": "code",
   "execution_count": 0,
   "metadata": {
    "colab": {
     "base_uri": "https://localhost:8080/",
     "height": 34
    },
    "colab_type": "code",
    "id": "3OAGGys4Kwtu",
    "outputId": "b8370b33-a6db-4feb-fcf2-1b8dfa83f4a7"
   },
   "outputs": [
    {
     "data": {
      "text/plain": [
       "5"
      ]
     },
     "execution_count": 33,
     "metadata": {
      "tags": []
     },
     "output_type": "execute_result"
    }
   ],
   "source": [
    "RDD.getNumPartitions()"
   ]
  },
  {
   "cell_type": "code",
   "execution_count": 0,
   "metadata": {
    "colab": {},
    "colab_type": "code",
    "id": "LvxjatF0K1u7"
   },
   "outputs": [],
   "source": [
    "RDD = RDD.coalesce(2)"
   ]
  },
  {
   "cell_type": "code",
   "execution_count": 14,
   "metadata": {
    "colab": {
     "base_uri": "https://localhost:8080/",
     "height": 52
    },
    "colab_type": "code",
    "id": "TqP8Jv1aK3FA",
    "outputId": "25bddc1f-a7b4-44b2-fdb3-617733dc1752"
   },
   "outputs": [
    {
     "data": {
      "text/plain": [
       "[[0, 1, 2, 3, 4, 5, 6, 7, 8, 9, 10, 11],\n",
       " [12, 13, 14, 15, 16, 17, 18, 19, 20, 21, 22, 23, 24, 25, 26, 27, 28, 29]]"
      ]
     },
     "execution_count": 14,
     "metadata": {
      "tags": []
     },
     "output_type": "execute_result"
    }
   ],
   "source": [
    "RDD.glom().collect()"
   ]
  },
  {
   "cell_type": "code",
   "execution_count": 0,
   "metadata": {
    "colab": {},
    "colab_type": "code",
    "id": "SMwX_YtgK5AM"
   },
   "outputs": [],
   "source": [
    "RDD_par = RDD.repartition(20)"
   ]
  },
  {
   "cell_type": "code",
   "execution_count": 20,
   "metadata": {
    "colab": {
     "base_uri": "https://localhost:8080/",
     "height": 363
    },
    "colab_type": "code",
    "id": "7vgluD4FLGGa",
    "outputId": "18611c36-7734-4d5c-af69-e15ed3575d17"
   },
   "outputs": [
    {
     "data": {
      "text/plain": [
       "[[],\n",
       " [0, 1, 2, 3, 4, 5],\n",
       " [18, 19, 20, 21, 22, 23],\n",
       " [],\n",
       " [],\n",
       " [],\n",
       " [],\n",
       " [],\n",
       " [],\n",
       " [],\n",
       " [],\n",
       " [],\n",
       " [12, 13, 14, 15, 16, 17],\n",
       " [6, 7, 8, 9, 10, 11],\n",
       " [24, 25, 26, 27, 28, 29],\n",
       " [],\n",
       " [],\n",
       " [],\n",
       " [],\n",
       " []]"
      ]
     },
     "execution_count": 20,
     "metadata": {
      "tags": []
     },
     "output_type": "execute_result"
    }
   ],
   "source": [
    "RDD_par.glom().collect()"
   ]
  },
  {
   "cell_type": "code",
   "execution_count": 0,
   "metadata": {
    "colab": {},
    "colab_type": "code",
    "id": "c_gWizM_LIru"
   },
   "outputs": [],
   "source": []
  },
  {
   "cell_type": "markdown",
   "metadata": {
    "colab_type": "text",
    "id": "sU5aepejLMOH"
   },
   "source": [
    "* Note : Internally, repartition uses a shuffle to redistribute data. If you are decreasing the number of partitions in this RDD, consider using coalesce, which can avoid performing a shuffle."
   ]
  },
  {
   "cell_type": "code",
   "execution_count": 0,
   "metadata": {
    "colab": {},
    "colab_type": "code",
    "id": "ONeHQ9BNLOaV"
   },
   "outputs": [],
   "source": [
    "intRdd = sc.parallelize([10, 20, 30, 40, 50])"
   ]
  },
  {
   "cell_type": "markdown",
   "metadata": {
    "colab_type": "text",
    "id": "do3OzrRwMLQz"
   },
   "source": [
    "* Map Transformation"
   ]
  },
  {
   "cell_type": "code",
   "execution_count": 0,
   "metadata": {
    "colab": {
     "base_uri": "https://localhost:8080/",
     "height": 34
    },
    "colab_type": "code",
    "id": "HD1vqkXyMC7R",
    "outputId": "667a34b7-a06a-44da-fad3-b36f74ff196f"
   },
   "outputs": [
    {
     "data": {
      "text/plain": [
       "[100, 400, 900, 1600, 2500]"
      ]
     },
     "execution_count": 39,
     "metadata": {
      "tags": []
     },
     "output_type": "execute_result"
    }
   ],
   "source": [
    "mapRDD = intRdd.map(lambda x : x**2)\n",
    "mapRDD.collect()"
   ]
  },
  {
   "cell_type": "code",
   "execution_count": 0,
   "metadata": {
    "colab": {},
    "colab_type": "code",
    "id": "gz9KgR_MMGZx"
   },
   "outputs": [],
   "source": []
  },
  {
   "cell_type": "markdown",
   "metadata": {
    "colab_type": "text",
    "id": "pf_WW1U_MOMm"
   },
   "source": [
    "* Filter(Transformation):\n",
    "\n",
    "* The filter operation evaluates a Boolean function for each data item of the RDD and puts the items for which the function returned true into the resulting RDD. Filter is a Transformation. Collect is an Action."
   ]
  },
  {
   "cell_type": "code",
   "execution_count": 0,
   "metadata": {
    "colab": {
     "base_uri": "https://localhost:8080/",
     "height": 34
    },
    "colab_type": "code",
    "id": "_zBghnfkMTTx",
    "outputId": "da69ed25-f020-461d-8bd3-68133df03df8"
   },
   "outputs": [
    {
     "data": {
      "text/plain": [
       "[11, 13, 15, 17]"
      ]
     },
     "execution_count": 40,
     "metadata": {
      "tags": []
     },
     "output_type": "execute_result"
    }
   ],
   "source": [
    "numRdd = sc.parallelize([11,12,13,14,15,16,17,18])\n",
    "filterRdd1 = numRdd.filter(lambda x : x%2 == 1)\n",
    "filterRdd1.collect()"
   ]
  },
  {
   "cell_type": "code",
   "execution_count": 0,
   "metadata": {
    "colab": {
     "base_uri": "https://localhost:8080/",
     "height": 34
    },
    "colab_type": "code",
    "id": "_s1PMnTzMW5B",
    "outputId": "3fffcb1e-33fc-452f-a3c0-3c2c04ae4bdf"
   },
   "outputs": [
    {
     "data": {
      "text/plain": [
       "[12, 14, 16, 18]"
      ]
     },
     "execution_count": 41,
     "metadata": {
      "tags": []
     },
     "output_type": "execute_result"
    }
   ],
   "source": [
    "filterRdd2 = numRdd.filter(lambda x : x%2 == 0)\n",
    "filterRdd2.collect()\n"
   ]
  },
  {
   "cell_type": "code",
   "execution_count": 0,
   "metadata": {
    "colab": {},
    "colab_type": "code",
    "id": "OF96yybkMa_v"
   },
   "outputs": [],
   "source": []
  },
  {
   "cell_type": "markdown",
   "metadata": {
    "colab_type": "text",
    "id": "hoD554yxMioL"
   },
   "source": [
    "* ReduceByKey (Transformation):\n",
    "* Spark RDD reduceByKey function merges the values for each key using an associative reduce function. Basically reduceByKey function works only for RDDs which contains key and value pairs kind of elements (i.e. RDDs having tuple or Map as a data element)."
   ]
  },
  {
   "cell_type": "code",
   "execution_count": 0,
   "metadata": {
    "colab": {},
    "colab_type": "code",
    "id": "TsxA_k6zMkhe"
   },
   "outputs": [],
   "source": [
    "x = sc.parallelize([(\"comp\", 2), (\"tab\", 1), (\"comp\", 1), (\"comp\", 1),\n",
    "(\"tab\", 1), (\"tab\", 1), (\"tab\", 1), (\"tab\", 1)])"
   ]
  },
  {
   "cell_type": "code",
   "execution_count": 22,
   "metadata": {
    "colab": {
     "base_uri": "https://localhost:8080/",
     "height": 155
    },
    "colab_type": "code",
    "id": "swDCPJUoMnZu",
    "outputId": "d79783c6-f58b-4d03-b4fc-83332168ee11"
   },
   "outputs": [
    {
     "data": {
      "text/plain": [
       "[('comp', 2),\n",
       " ('tab', 1),\n",
       " ('comp', 1),\n",
       " ('comp', 1),\n",
       " ('tab', 1),\n",
       " ('tab', 1),\n",
       " ('tab', 1),\n",
       " ('tab', 1)]"
      ]
     },
     "execution_count": 22,
     "metadata": {
      "tags": []
     },
     "output_type": "execute_result"
    }
   ],
   "source": [
    "x.collect()"
   ]
  },
  {
   "cell_type": "code",
   "execution_count": 23,
   "metadata": {
    "colab": {
     "base_uri": "https://localhost:8080/",
     "height": 35
    },
    "colab_type": "code",
    "id": "Kt2tgqiAMtmx",
    "outputId": "244f7691-4aad-4c77-da6f-8cd7b2084073"
   },
   "outputs": [
    {
     "data": {
      "text/plain": [
       "[('comp', 4), ('tab', 5)]"
      ]
     },
     "execution_count": 23,
     "metadata": {
      "tags": []
     },
     "output_type": "execute_result"
    }
   ],
   "source": [
    "x.reduceByKey(lambda a, b: a + b).collect()"
   ]
  },
  {
   "cell_type": "code",
   "execution_count": 0,
   "metadata": {
    "colab": {},
    "colab_type": "code",
    "id": "UT0E5FB6Mx9r"
   },
   "outputs": [],
   "source": [
    "y = x.reduceByKey(lambda a, b: a + b)"
   ]
  },
  {
   "cell_type": "code",
   "execution_count": 0,
   "metadata": {
    "colab": {
     "base_uri": "https://localhost:8080/",
     "height": 34
    },
    "colab_type": "code",
    "id": "hx5wyyNaMz6L",
    "outputId": "2e63915c-db63-4a4f-f0b7-b0bffca8d782"
   },
   "outputs": [
    {
     "data": {
      "text/plain": [
       "[('comp', 4), ('tab', 5)]"
      ]
     },
     "execution_count": 46,
     "metadata": {
      "tags": []
     },
     "output_type": "execute_result"
    }
   ],
   "source": [
    "y.collect()"
   ]
  },
  {
   "cell_type": "code",
   "execution_count": 0,
   "metadata": {
    "colab": {},
    "colab_type": "code",
    "id": "OBTbt0cMM02J"
   },
   "outputs": [],
   "source": []
  },
  {
   "cell_type": "markdown",
   "metadata": {
    "colab_type": "text",
    "id": "ox1xnTWRM5D_"
   },
   "source": [
    "* flatMap (Transformation) :\n",
    "* Spark flatMap function returns a new RDD by first applying a function to all elements of this RDD, and then flattening the results."
   ]
  },
  {
   "cell_type": "code",
   "execution_count": 0,
   "metadata": {
    "colab": {
     "base_uri": "https://localhost:8080/",
     "height": 34
    },
    "colab_type": "code",
    "id": "Y6yycOVdM8D2",
    "outputId": "dfb66592-62ad-44e6-dbd0-a9a6c9fec0ca"
   },
   "outputs": [
    {
     "data": {
      "text/plain": [
       "[range(1, 3), range(1, 4), range(1, 5)]"
      ]
     },
     "execution_count": 47,
     "metadata": {
      "tags": []
     },
     "output_type": "execute_result"
    }
   ],
   "source": [
    "sc.parallelize([3,4,5]).map(lambda x: range(1,x)).collect()"
   ]
  },
  {
   "cell_type": "code",
   "execution_count": 0,
   "metadata": {
    "colab": {
     "base_uri": "https://localhost:8080/",
     "height": 34
    },
    "colab_type": "code",
    "id": "X82AbBTZNAYD",
    "outputId": "1eb7fb06-4c26-44a3-bab5-fc857e98ef1b"
   },
   "outputs": [
    {
     "data": {
      "text/plain": [
       "[1, 2, 1, 2, 3, 1, 2, 3, 4]"
      ]
     },
     "execution_count": 48,
     "metadata": {
      "tags": []
     },
     "output_type": "execute_result"
    }
   ],
   "source": [
    "sc.parallelize([3,4,5]).flatMap(lambda x: range(1,x)).collect()"
   ]
  },
  {
   "cell_type": "code",
   "execution_count": 0,
   "metadata": {
    "colab": {},
    "colab_type": "code",
    "id": "p8j-AC6wNCNL"
   },
   "outputs": [],
   "source": [
    "sentRdd = sc.parallelize([\"Hello TO BE Data Scientists at INSOFE\", \"Welcome to Big Data Training.\", \"We are doing pySpark Activity\"])"
   ]
  },
  {
   "cell_type": "code",
   "execution_count": 0,
   "metadata": {
    "colab": {
     "base_uri": "https://localhost:8080/",
     "height": 68
    },
    "colab_type": "code",
    "id": "gJTVX5_aNErV",
    "outputId": "a300fa89-a996-4c7e-dd13-768e1acfbcf8"
   },
   "outputs": [
    {
     "data": {
      "text/plain": [
       "['Hello TO BE Data Scientists at INSOFE',\n",
       " 'Welcome to Big Data Training.',\n",
       " 'We are doing pySpark Activity']"
      ]
     },
     "execution_count": 50,
     "metadata": {
      "tags": []
     },
     "output_type": "execute_result"
    }
   ],
   "source": [
    "sentRdd.collect()"
   ]
  },
  {
   "cell_type": "code",
   "execution_count": 0,
   "metadata": {
    "colab": {
     "base_uri": "https://localhost:8080/",
     "height": 68
    },
    "colab_type": "code",
    "id": "AAbYryOJNGO1",
    "outputId": "c3c7840a-74c7-4b5e-90c9-f9310f3f08da"
   },
   "outputs": [
    {
     "data": {
      "text/plain": [
       "[['Hello', 'TO', 'BE', 'Data', 'Scientists', 'at', 'INSOFE'],\n",
       " ['Welcome', 'to', 'Big', 'Data', 'Training.'],\n",
       " ['We', 'are', 'doing', 'pySpark', 'Activity']]"
      ]
     },
     "execution_count": 51,
     "metadata": {
      "tags": []
     },
     "output_type": "execute_result"
    }
   ],
   "source": [
    "sentRdd.map(lambda x: x.split(' ')).collect()"
   ]
  },
  {
   "cell_type": "code",
   "execution_count": 0,
   "metadata": {
    "colab": {},
    "colab_type": "code",
    "id": "5HSQjPB-NKw-"
   },
   "outputs": [],
   "source": [
    "wordlist = sentRdd.flatMap(lambda x: x.split(' ')).collect()"
   ]
  },
  {
   "cell_type": "code",
   "execution_count": 0,
   "metadata": {
    "colab": {
     "base_uri": "https://localhost:8080/",
     "height": 306
    },
    "colab_type": "code",
    "id": "PVeoXU9PNM7z",
    "outputId": "ce18f9cb-5ebf-4ea4-b4f9-48df6bce7ddb"
   },
   "outputs": [
    {
     "data": {
      "text/plain": [
       "['Hello',\n",
       " 'TO',\n",
       " 'BE',\n",
       " 'Data',\n",
       " 'Scientists',\n",
       " 'at',\n",
       " 'INSOFE',\n",
       " 'Welcome',\n",
       " 'to',\n",
       " 'Big',\n",
       " 'Data',\n",
       " 'Training.',\n",
       " 'We',\n",
       " 'are',\n",
       " 'doing',\n",
       " 'pySpark',\n",
       " 'Activity']"
      ]
     },
     "execution_count": 53,
     "metadata": {
      "tags": []
     },
     "output_type": "execute_result"
    }
   ],
   "source": [
    "wordlist\n"
   ]
  },
  {
   "cell_type": "code",
   "execution_count": 0,
   "metadata": {
    "colab": {},
    "colab_type": "code",
    "id": "o-U2YzNqNOZw"
   },
   "outputs": [],
   "source": []
  },
  {
   "cell_type": "markdown",
   "metadata": {
    "colab_type": "text",
    "id": "racJIFvTNSoE"
   },
   "source": [
    "* groupByKey(Transformation):\n",
    "* Spark groupByKey function returns a new RDD. The returned RDD gives back an object which allows to iterate over the results. The results of groupByKey returns a list by calling list() on values."
   ]
  },
  {
   "cell_type": "code",
   "execution_count": 0,
   "metadata": {
    "colab": {},
    "colab_type": "code",
    "id": "KSEZ74-vNUxM"
   },
   "outputs": [],
   "source": [
    "example = sc.parallelize([('x',1), ('x',1), ('y', 1), ('z', 1)])"
   ]
  },
  {
   "cell_type": "code",
   "execution_count": 0,
   "metadata": {
    "colab": {
     "base_uri": "https://localhost:8080/",
     "height": 68
    },
    "colab_type": "code",
    "id": "PO5RPjJ4NXK6",
    "outputId": "25778614-8edb-4f1e-c3cb-af4279b90649"
   },
   "outputs": [
    {
     "data": {
      "text/plain": [
       "[('y', <pyspark.resultiterable.ResultIterable at 0x7f801f540710>),\n",
       " ('x', <pyspark.resultiterable.ResultIterable at 0x7f801f540780>),\n",
       " ('z', <pyspark.resultiterable.ResultIterable at 0x7f801f5407b8>)]"
      ]
     },
     "execution_count": 55,
     "metadata": {
      "tags": []
     },
     "output_type": "execute_result"
    }
   ],
   "source": [
    "example.groupByKey().collect()"
   ]
  },
  {
   "cell_type": "code",
   "execution_count": 0,
   "metadata": {
    "colab": {},
    "colab_type": "code",
    "id": "dYF_WpCFNaE1"
   },
   "outputs": [],
   "source": [
    "itRdd = example.groupByKey()"
   ]
  },
  {
   "cell_type": "code",
   "execution_count": 0,
   "metadata": {
    "colab": {
     "base_uri": "https://localhost:8080/",
     "height": 34
    },
    "colab_type": "code",
    "id": "P1BoQgHTNeZQ",
    "outputId": "9cb10b2d-78c5-4fd0-8a20-076d06e49a25"
   },
   "outputs": [
    {
     "data": {
      "text/plain": [
       "[('y', [1]), ('x', [1, 1]), ('z', [1])]"
      ]
     },
     "execution_count": 57,
     "metadata": {
      "tags": []
     },
     "output_type": "execute_result"
    }
   ],
   "source": [
    "itRdd.map(lambda x :(x[0], list(x[1]))).collect()"
   ]
  },
  {
   "cell_type": "code",
   "execution_count": 0,
   "metadata": {
    "colab": {},
    "colab_type": "code",
    "id": "s3uRnObZNgS3"
   },
   "outputs": [],
   "source": []
  },
  {
   "cell_type": "markdown",
   "metadata": {
    "colab_type": "text",
    "id": "jrZKlyUHNpHC"
   },
   "source": [
    "* groupBy (Transformation) :\n",
    "* groupBy function returns an RDD of grouped items. This operation will return the new RDD which basically is made up with a KEY (which is a group) and list of items of that group (in a form of Iterator). Order of element within the group may not same when you apply the same operation on the same RDD over and over."
   ]
  },
  {
   "cell_type": "code",
   "execution_count": 0,
   "metadata": {
    "colab": {},
    "colab_type": "code",
    "id": "GeuBDkIxNrEi"
   },
   "outputs": [],
   "source": [
    "namesRdd = sc.parallelize([\"Joseph\", \"Jimmy\", \"Tina\",\"Thomas\",\"James\",\"Cory\",\"Christine\", \"Jackeline\", \"Juan\"])"
   ]
  },
  {
   "cell_type": "code",
   "execution_count": 0,
   "metadata": {
    "colab": {
     "base_uri": "https://localhost:8080/",
     "height": 170
    },
    "colab_type": "code",
    "id": "PLcM1RsZNtjW",
    "outputId": "e9aff67b-668e-4129-a352-e0f3d9c283d8"
   },
   "outputs": [
    {
     "data": {
      "text/plain": [
       "['Joseph',\n",
       " 'Jimmy',\n",
       " 'Tina',\n",
       " 'Thomas',\n",
       " 'James',\n",
       " 'Cory',\n",
       " 'Christine',\n",
       " 'Jackeline',\n",
       " 'Juan']"
      ]
     },
     "execution_count": 59,
     "metadata": {
      "tags": []
     },
     "output_type": "execute_result"
    }
   ],
   "source": [
    "namesRdd.collect()"
   ]
  },
  {
   "cell_type": "code",
   "execution_count": 0,
   "metadata": {
    "colab": {},
    "colab_type": "code",
    "id": "zOZTY17ENvHZ"
   },
   "outputs": [],
   "source": [
    "result =namesRdd.groupBy(lambda word: word[0]).collect()"
   ]
  },
  {
   "cell_type": "code",
   "execution_count": 0,
   "metadata": {
    "colab": {
     "base_uri": "https://localhost:8080/",
     "height": 68
    },
    "colab_type": "code",
    "id": "Xtnhu-zsNydm",
    "outputId": "6ccc5fdf-2b98-409a-db19-c69513d1209c"
   },
   "outputs": [
    {
     "name": "stdout",
     "output_type": "stream",
     "text": [
      "('J', ['Jackeline', 'James', 'Jimmy', 'Joseph', 'Juan'])\n",
      "('C', ['Christine', 'Cory'])\n",
      "('T', ['Thomas', 'Tina'])\n"
     ]
    }
   ],
   "source": [
    "for x in result:\n",
    "    x = (x[0],sorted(x[1]))\n",
    "    print(x)"
   ]
  },
  {
   "cell_type": "code",
   "execution_count": 0,
   "metadata": {
    "colab": {
     "base_uri": "https://localhost:8080/",
     "height": 68
    },
    "colab_type": "code",
    "id": "v_o8QAZrN0T6",
    "outputId": "8cdb137e-ab98-482d-807c-6eb6452f7a99"
   },
   "outputs": [
    {
     "data": {
      "text/plain": [
       "[('J', ['Jackeline', 'James', 'Jimmy', 'Joseph', 'Juan']),\n",
       " ('C', ['Christine', 'Cory']),\n",
       " ('T', ['Thomas', 'Tina'])]"
      ]
     },
     "execution_count": 62,
     "metadata": {
      "tags": []
     },
     "output_type": "execute_result"
    }
   ],
   "source": [
    "[(x, sorted(y)) for (x, y) in result]"
   ]
  },
  {
   "cell_type": "code",
   "execution_count": 0,
   "metadata": {
    "colab": {},
    "colab_type": "code",
    "id": "AWyTNm4wN38C"
   },
   "outputs": [],
   "source": []
  },
  {
   "cell_type": "markdown",
   "metadata": {
    "colab_type": "text",
    "id": "I7IxJ4CcN8uq"
   },
   "source": [
    "* mapValues (Transformation) :\n",
    "* Apply a function to each value of a pair RDD without changing the key."
   ]
  },
  {
   "cell_type": "code",
   "execution_count": 0,
   "metadata": {
    "colab": {},
    "colab_type": "code",
    "id": "PTad-EZCPm_J"
   },
   "outputs": [],
   "source": [
    "namesRdd = sc.parallelize([\"dog\", \"tiger\", \"lion\", \"cat\", \"panther\",\"eagle\"])\n",
    "pairRdd = namesRdd.map(lambda x :(len(x), x))"
   ]
  },
  {
   "cell_type": "code",
   "execution_count": 0,
   "metadata": {
    "colab": {
     "base_uri": "https://localhost:8080/",
     "height": 34
    },
    "colab_type": "code",
    "id": "32X3A8xQP20W",
    "outputId": "11046895-58c2-46b7-9ef2-3b5d936ce986"
   },
   "outputs": [
    {
     "data": {
      "text/plain": [
       "['dog', 'tiger', 'lion', 'cat', 'panther', 'eagle']"
      ]
     },
     "execution_count": 71,
     "metadata": {
      "tags": []
     },
     "output_type": "execute_result"
    }
   ],
   "source": [
    "namesRdd.collect()"
   ]
  },
  {
   "cell_type": "code",
   "execution_count": 0,
   "metadata": {
    "colab": {
     "base_uri": "https://localhost:8080/",
     "height": 119
    },
    "colab_type": "code",
    "id": "F1OMNaWaP5uh",
    "outputId": "11f2e66f-e90c-46d8-a266-964330311878"
   },
   "outputs": [
    {
     "data": {
      "text/plain": [
       "[(3, 'dog'),\n",
       " (5, 'tiger'),\n",
       " (4, 'lion'),\n",
       " (3, 'cat'),\n",
       " (7, 'panther'),\n",
       " (5, 'eagle')]"
      ]
     },
     "execution_count": 72,
     "metadata": {
      "tags": []
     },
     "output_type": "execute_result"
    }
   ],
   "source": [
    "pairRdd.collect()"
   ]
  },
  {
   "cell_type": "code",
   "execution_count": 0,
   "metadata": {
    "colab": {
     "base_uri": "https://localhost:8080/",
     "height": 119
    },
    "colab_type": "code",
    "id": "wL4sGjGzP7SF",
    "outputId": "cd51738e-420b-44db-d95d-699f30439d37"
   },
   "outputs": [
    {
     "data": {
      "text/plain": [
       "[(3, 'Animal name is dog'),\n",
       " (5, 'Animal name is tiger'),\n",
       " (4, 'Animal name is lion'),\n",
       " (3, 'Animal name is cat'),\n",
       " (7, 'Animal name is panther'),\n",
       " (5, 'Animal name is eagle')]"
      ]
     },
     "execution_count": 73,
     "metadata": {
      "tags": []
     },
     "output_type": "execute_result"
    }
   ],
   "source": [
    "result = pairRdd.mapValues(lambda y: \"Animal name is \" + y)\n",
    "result.collect()"
   ]
  },
  {
   "cell_type": "code",
   "execution_count": 0,
   "metadata": {
    "colab": {},
    "colab_type": "code",
    "id": "8kkBfCYxP-Ps"
   },
   "outputs": [],
   "source": [
    "rdd1 = sc.parallelize([(\"red\",20),(\"red\",30),(\"blue\", 100)])\n",
    "rdd2 = sc.parallelize([(\"red\",40),(\"red\",50),(\"yellow\", 10000)])"
   ]
  },
  {
   "cell_type": "code",
   "execution_count": 0,
   "metadata": {
    "colab": {
     "base_uri": "https://localhost:8080/",
     "height": 34
    },
    "colab_type": "code",
    "id": "QweD3GmlQMu_",
    "outputId": "543027f5-4a74-4b3b-ef80-53046536f8b8"
   },
   "outputs": [
    {
     "data": {
      "text/plain": [
       "[('red', (20, 40)), ('red', (20, 50)), ('red', (30, 40)), ('red', (30, 50))]"
      ]
     },
     "execution_count": 75,
     "metadata": {
      "tags": []
     },
     "output_type": "execute_result"
    }
   ],
   "source": [
    "rdd1.join(rdd2).collect()"
   ]
  },
  {
   "cell_type": "code",
   "execution_count": 0,
   "metadata": {
    "colab": {},
    "colab_type": "code",
    "id": "BqHZIsGFQOO5"
   },
   "outputs": [],
   "source": [
    "rdd1 = sc.parallelize([(\"Mercedes\", \"E-Class\"), (\"Toyota\", \"Corolla\"),(\"Renault\", \"Duster\")])\n",
    "rdd2 = sc.parallelize([(\"Mercedes\", \"C-Class\"), (\"Toyota\", \"Prius\"),(\"Toyota\", \"Etios\"),(\"Volkswagen\", \"Polo\")])"
   ]
  },
  {
   "cell_type": "code",
   "execution_count": 0,
   "metadata": {
    "colab": {
     "base_uri": "https://localhost:8080/",
     "height": 68
    },
    "colab_type": "code",
    "id": "8Bko9-sdQRgf",
    "outputId": "8380b70e-9d03-4767-ea69-9b3aa1c752c1"
   },
   "outputs": [
    {
     "data": {
      "text/plain": [
       "[('Mercedes', ('E-Class', 'C-Class')),\n",
       " ('Toyota', ('Corolla', 'Prius')),\n",
       " ('Toyota', ('Corolla', 'Etios'))]"
      ]
     },
     "execution_count": 77,
     "metadata": {
      "tags": []
     },
     "output_type": "execute_result"
    }
   ],
   "source": [
    "innerJoinRdd = rdd1.join(rdd2)\n",
    "innerJoinRdd.collect()"
   ]
  },
  {
   "cell_type": "code",
   "execution_count": 0,
   "metadata": {
    "colab": {
     "base_uri": "https://localhost:8080/",
     "height": 85
    },
    "colab_type": "code",
    "id": "dlHFM5UrQTTx",
    "outputId": "7d26e867-cd85-4102-b5b5-6c4410ea1719"
   },
   "outputs": [
    {
     "data": {
      "text/plain": [
       "[('Mercedes', ('E-Class', 'C-Class')),\n",
       " ('Renault', ('Duster', None)),\n",
       " ('Toyota', ('Corolla', 'Prius')),\n",
       " ('Toyota', ('Corolla', 'Etios'))]"
      ]
     },
     "execution_count": 78,
     "metadata": {
      "tags": []
     },
     "output_type": "execute_result"
    }
   ],
   "source": [
    "outerJoinRdd = rdd1.leftOuterJoin(rdd2)\n",
    "outerJoinRdd.collect()"
   ]
  },
  {
   "cell_type": "code",
   "execution_count": 0,
   "metadata": {
    "colab": {
     "base_uri": "https://localhost:8080/",
     "height": 85
    },
    "colab_type": "code",
    "id": "FJ-tVhQjQhO1",
    "outputId": "73be883c-6098-4e62-9fd6-9dee28a4609c"
   },
   "outputs": [
    {
     "data": {
      "text/plain": [
       "[('Volkswagen', (None, 'Polo')),\n",
       " ('Mercedes', ('E-Class', 'C-Class')),\n",
       " ('Toyota', ('Corolla', 'Prius')),\n",
       " ('Toyota', ('Corolla', 'Etios'))]"
      ]
     },
     "execution_count": 79,
     "metadata": {
      "tags": []
     },
     "output_type": "execute_result"
    }
   ],
   "source": [
    "rdd1.rightOuterJoin(rdd2).collect()"
   ]
  },
  {
   "cell_type": "code",
   "execution_count": 0,
   "metadata": {
    "colab": {
     "base_uri": "https://localhost:8080/",
     "height": 102
    },
    "colab_type": "code",
    "id": "aVK-IvYjTBL2",
    "outputId": "e25a0521-132f-4514-9de7-90156fcc11d9"
   },
   "outputs": [
    {
     "data": {
      "text/plain": [
       "[('Volkswagen', (None, 'Polo')),\n",
       " ('Mercedes', ('E-Class', 'C-Class')),\n",
       " ('Renault', ('Duster', None)),\n",
       " ('Toyota', ('Corolla', 'Prius')),\n",
       " ('Toyota', ('Corolla', 'Etios'))]"
      ]
     },
     "execution_count": 80,
     "metadata": {
      "tags": []
     },
     "output_type": "execute_result"
    }
   ],
   "source": [
    "rdd1.fullOuterJoin(rdd2).collect()"
   ]
  },
  {
   "cell_type": "code",
   "execution_count": 0,
   "metadata": {
    "colab": {},
    "colab_type": "code",
    "id": "SyoYC0EfTEPT"
   },
   "outputs": [],
   "source": [
    "d1= [('k1', 1), ('k2', 2), ('k3', 5)]\n",
    "d2= [('k1', 3), ('k2',4), ('k4', 8)]\n"
   ]
  },
  {
   "cell_type": "code",
   "execution_count": 0,
   "metadata": {
    "colab": {},
    "colab_type": "code",
    "id": "Jwby6pJzTISJ"
   },
   "outputs": [],
   "source": [
    "d1_RDD = sc.parallelize(d1)\n",
    "d2_RDD = sc.parallelize(d2)"
   ]
  },
  {
   "cell_type": "code",
   "execution_count": 0,
   "metadata": {
    "colab": {
     "base_uri": "https://localhost:8080/",
     "height": 34
    },
    "colab_type": "code",
    "id": "H4ovoiabTKg3",
    "outputId": "d14f4f6f-3880-431e-a7ef-ba3686a89aeb"
   },
   "outputs": [
    {
     "data": {
      "text/plain": [
       "[('k1', 1), ('k2', 2), ('k3', 5), ('k1', 3), ('k2', 4), ('k4', 8)]"
      ]
     },
     "execution_count": 83,
     "metadata": {
      "tags": []
     },
     "output_type": "execute_result"
    }
   ],
   "source": [
    "d1_RDD.union(d2_RDD).collect()"
   ]
  },
  {
   "cell_type": "code",
   "execution_count": 0,
   "metadata": {
    "colab": {
     "base_uri": "https://localhost:8080/",
     "height": 111,
     "resources": {
      "http://localhost:8080/nbextensions/google.colab/files.js": {
       "data": "Ly8gQ29weXJpZ2h0IDIwMTcgR29vZ2xlIExMQwovLwovLyBMaWNlbnNlZCB1bmRlciB0aGUgQXBhY2hlIExpY2Vuc2UsIFZlcnNpb24gMi4wICh0aGUgIkxpY2Vuc2UiKTsKLy8geW91IG1heSBub3QgdXNlIHRoaXMgZmlsZSBleGNlcHQgaW4gY29tcGxpYW5jZSB3aXRoIHRoZSBMaWNlbnNlLgovLyBZb3UgbWF5IG9idGFpbiBhIGNvcHkgb2YgdGhlIExpY2Vuc2UgYXQKLy8KLy8gICAgICBodHRwOi8vd3d3LmFwYWNoZS5vcmcvbGljZW5zZXMvTElDRU5TRS0yLjAKLy8KLy8gVW5sZXNzIHJlcXVpcmVkIGJ5IGFwcGxpY2FibGUgbGF3IG9yIGFncmVlZCB0byBpbiB3cml0aW5nLCBzb2Z0d2FyZQovLyBkaXN0cmlidXRlZCB1bmRlciB0aGUgTGljZW5zZSBpcyBkaXN0cmlidXRlZCBvbiBhbiAiQVMgSVMiIEJBU0lTLAovLyBXSVRIT1VUIFdBUlJBTlRJRVMgT1IgQ09ORElUSU9OUyBPRiBBTlkgS0lORCwgZWl0aGVyIGV4cHJlc3Mgb3IgaW1wbGllZC4KLy8gU2VlIHRoZSBMaWNlbnNlIGZvciB0aGUgc3BlY2lmaWMgbGFuZ3VhZ2UgZ292ZXJuaW5nIHBlcm1pc3Npb25zIGFuZAovLyBsaW1pdGF0aW9ucyB1bmRlciB0aGUgTGljZW5zZS4KCi8qKgogKiBAZmlsZW92ZXJ2aWV3IEhlbHBlcnMgZm9yIGdvb2dsZS5jb2xhYiBQeXRob24gbW9kdWxlLgogKi8KKGZ1bmN0aW9uKHNjb3BlKSB7CmZ1bmN0aW9uIHNwYW4odGV4dCwgc3R5bGVBdHRyaWJ1dGVzID0ge30pIHsKICBjb25zdCBlbGVtZW50ID0gZG9jdW1lbnQuY3JlYXRlRWxlbWVudCgnc3BhbicpOwogIGVsZW1lbnQudGV4dENvbnRlbnQgPSB0ZXh0OwogIGZvciAoY29uc3Qga2V5IG9mIE9iamVjdC5rZXlzKHN0eWxlQXR0cmlidXRlcykpIHsKICAgIGVsZW1lbnQuc3R5bGVba2V5XSA9IHN0eWxlQXR0cmlidXRlc1trZXldOwogIH0KICByZXR1cm4gZWxlbWVudDsKfQoKLy8gTWF4IG51bWJlciBvZiBieXRlcyB3aGljaCB3aWxsIGJlIHVwbG9hZGVkIGF0IGEgdGltZS4KY29uc3QgTUFYX1BBWUxPQURfU0laRSA9IDEwMCAqIDEwMjQ7Ci8vIE1heCBhbW91bnQgb2YgdGltZSB0byBibG9jayB3YWl0aW5nIGZvciB0aGUgdXNlci4KY29uc3QgRklMRV9DSEFOR0VfVElNRU9VVF9NUyA9IDMwICogMTAwMDsKCmZ1bmN0aW9uIF91cGxvYWRGaWxlcyhpbnB1dElkLCBvdXRwdXRJZCkgewogIGNvbnN0IHN0ZXBzID0gdXBsb2FkRmlsZXNTdGVwKGlucHV0SWQsIG91dHB1dElkKTsKICBjb25zdCBvdXRwdXRFbGVtZW50ID0gZG9jdW1lbnQuZ2V0RWxlbWVudEJ5SWQob3V0cHV0SWQpOwogIC8vIENhY2hlIHN0ZXBzIG9uIHRoZSBvdXRwdXRFbGVtZW50IHRvIG1ha2UgaXQgYXZhaWxhYmxlIGZvciB0aGUgbmV4dCBjYWxsCiAgLy8gdG8gdXBsb2FkRmlsZXNDb250aW51ZSBmcm9tIFB5dGhvbi4KICBvdXRwdXRFbGVtZW50LnN0ZXBzID0gc3RlcHM7CgogIHJldHVybiBfdXBsb2FkRmlsZXNDb250aW51ZShvdXRwdXRJZCk7Cn0KCi8vIFRoaXMgaXMgcm91Z2hseSBhbiBhc3luYyBnZW5lcmF0b3IgKG5vdCBzdXBwb3J0ZWQgaW4gdGhlIGJyb3dzZXIgeWV0KSwKLy8gd2hlcmUgdGhlcmUgYXJlIG11bHRpcGxlIGFzeW5jaHJvbm91cyBzdGVwcyBhbmQgdGhlIFB5dGhvbiBzaWRlIGlzIGdvaW5nCi8vIHRvIHBvbGwgZm9yIGNvbXBsZXRpb24gb2YgZWFjaCBzdGVwLgovLyBUaGlzIHVzZXMgYSBQcm9taXNlIHRvIGJsb2NrIHRoZSBweXRob24gc2lkZSBvbiBjb21wbGV0aW9uIG9mIGVhY2ggc3RlcCwKLy8gdGhlbiBwYXNzZXMgdGhlIHJlc3VsdCBvZiB0aGUgcHJldmlvdXMgc3RlcCBhcyB0aGUgaW5wdXQgdG8gdGhlIG5leHQgc3RlcC4KZnVuY3Rpb24gX3VwbG9hZEZpbGVzQ29udGludWUob3V0cHV0SWQpIHsKICBjb25zdCBvdXRwdXRFbGVtZW50ID0gZG9jdW1lbnQuZ2V0RWxlbWVudEJ5SWQob3V0cHV0SWQpOwogIGNvbnN0IHN0ZXBzID0gb3V0cHV0RWxlbWVudC5zdGVwczsKCiAgY29uc3QgbmV4dCA9IHN0ZXBzLm5leHQob3V0cHV0RWxlbWVudC5sYXN0UHJvbWlzZVZhbHVlKTsKICByZXR1cm4gUHJvbWlzZS5yZXNvbHZlKG5leHQudmFsdWUucHJvbWlzZSkudGhlbigodmFsdWUpID0+IHsKICAgIC8vIENhY2hlIHRoZSBsYXN0IHByb21pc2UgdmFsdWUgdG8gbWFrZSBpdCBhdmFpbGFibGUgdG8gdGhlIG5leHQKICAgIC8vIHN0ZXAgb2YgdGhlIGdlbmVyYXRvci4KICAgIG91dHB1dEVsZW1lbnQubGFzdFByb21pc2VWYWx1ZSA9IHZhbHVlOwogICAgcmV0dXJuIG5leHQudmFsdWUucmVzcG9uc2U7CiAgfSk7Cn0KCi8qKgogKiBHZW5lcmF0b3IgZnVuY3Rpb24gd2hpY2ggaXMgY2FsbGVkIGJldHdlZW4gZWFjaCBhc3luYyBzdGVwIG9mIHRoZSB1cGxvYWQKICogcHJvY2Vzcy4KICogQHBhcmFtIHtzdHJpbmd9IGlucHV0SWQgRWxlbWVudCBJRCBvZiB0aGUgaW5wdXQgZmlsZSBwaWNrZXIgZWxlbWVudC4KICogQHBhcmFtIHtzdHJpbmd9IG91dHB1dElkIEVsZW1lbnQgSUQgb2YgdGhlIG91dHB1dCBkaXNwbGF5LgogKiBAcmV0dXJuIHshSXRlcmFibGU8IU9iamVjdD59IEl0ZXJhYmxlIG9mIG5leHQgc3RlcHMuCiAqLwpmdW5jdGlvbiogdXBsb2FkRmlsZXNTdGVwKGlucHV0SWQsIG91dHB1dElkKSB7CiAgY29uc3QgaW5wdXRFbGVtZW50ID0gZG9jdW1lbnQuZ2V0RWxlbWVudEJ5SWQoaW5wdXRJZCk7CiAgaW5wdXRFbGVtZW50LmRpc2FibGVkID0gZmFsc2U7CgogIGNvbnN0IG91dHB1dEVsZW1lbnQgPSBkb2N1bWVudC5nZXRFbGVtZW50QnlJZChvdXRwdXRJZCk7CiAgb3V0cHV0RWxlbWVudC5pbm5lckhUTUwgPSAnJzsKCiAgY29uc3QgcGlja2VkUHJvbWlzZSA9IG5ldyBQcm9taXNlKChyZXNvbHZlKSA9PiB7CiAgICBpbnB1dEVsZW1lbnQuYWRkRXZlbnRMaXN0ZW5lcignY2hhbmdlJywgKGUpID0+IHsKICAgICAgcmVzb2x2ZShlLnRhcmdldC5maWxlcyk7CiAgICB9KTsKICB9KTsKCiAgY29uc3QgY2FuY2VsID0gZG9jdW1lbnQuY3JlYXRlRWxlbWVudCgnYnV0dG9uJyk7CiAgaW5wdXRFbGVtZW50LnBhcmVudEVsZW1lbnQuYXBwZW5kQ2hpbGQoY2FuY2VsKTsKICBjYW5jZWwudGV4dENvbnRlbnQgPSAnQ2FuY2VsIHVwbG9hZCc7CiAgY29uc3QgY2FuY2VsUHJvbWlzZSA9IG5ldyBQcm9taXNlKChyZXNvbHZlKSA9PiB7CiAgICBjYW5jZWwub25jbGljayA9ICgpID0+IHsKICAgICAgcmVzb2x2ZShudWxsKTsKICAgIH07CiAgfSk7CgogIC8vIENhbmNlbCB1cGxvYWQgaWYgdXNlciBoYXNuJ3QgcGlja2VkIGFueXRoaW5nIGluIHRpbWVvdXQuCiAgY29uc3QgdGltZW91dFByb21pc2UgPSBuZXcgUHJvbWlzZSgocmVzb2x2ZSkgPT4gewogICAgc2V0VGltZW91dCgoKSA9PiB7CiAgICAgIHJlc29sdmUobnVsbCk7CiAgICB9LCBGSUxFX0NIQU5HRV9USU1FT1VUX01TKTsKICB9KTsKCiAgLy8gV2FpdCBmb3IgdGhlIHVzZXIgdG8gcGljayB0aGUgZmlsZXMuCiAgY29uc3QgZmlsZXMgPSB5aWVsZCB7CiAgICBwcm9taXNlOiBQcm9taXNlLnJhY2UoW3BpY2tlZFByb21pc2UsIHRpbWVvdXRQcm9taXNlLCBjYW5jZWxQcm9taXNlXSksCiAgICByZXNwb25zZTogewogICAgICBhY3Rpb246ICdzdGFydGluZycsCiAgICB9CiAgfTsKCiAgaWYgKCFmaWxlcykgewogICAgcmV0dXJuIHsKICAgICAgcmVzcG9uc2U6IHsKICAgICAgICBhY3Rpb246ICdjb21wbGV0ZScsCiAgICAgIH0KICAgIH07CiAgfQoKICBjYW5jZWwucmVtb3ZlKCk7CgogIC8vIERpc2FibGUgdGhlIGlucHV0IGVsZW1lbnQgc2luY2UgZnVydGhlciBwaWNrcyBhcmUgbm90IGFsbG93ZWQuCiAgaW5wdXRFbGVtZW50LmRpc2FibGVkID0gdHJ1ZTsKCiAgZm9yIChjb25zdCBmaWxlIG9mIGZpbGVzKSB7CiAgICBjb25zdCBsaSA9IGRvY3VtZW50LmNyZWF0ZUVsZW1lbnQoJ2xpJyk7CiAgICBsaS5hcHBlbmQoc3BhbihmaWxlLm5hbWUsIHtmb250V2VpZ2h0OiAnYm9sZCd9KSk7CiAgICBsaS5hcHBlbmQoc3BhbigKICAgICAgICBgKCR7ZmlsZS50eXBlIHx8ICduL2EnfSkgLSAke2ZpbGUuc2l6ZX0gYnl0ZXMsIGAgKwogICAgICAgIGBsYXN0IG1vZGlmaWVkOiAkewogICAgICAgICAgICBmaWxlLmxhc3RNb2RpZmllZERhdGUgPyBmaWxlLmxhc3RNb2RpZmllZERhdGUudG9Mb2NhbGVEYXRlU3RyaW5nKCkgOgogICAgICAgICAgICAgICAgICAgICAgICAgICAgICAgICAgICAnbi9hJ30gLSBgKSk7CiAgICBjb25zdCBwZXJjZW50ID0gc3BhbignMCUgZG9uZScpOwogICAgbGkuYXBwZW5kQ2hpbGQocGVyY2VudCk7CgogICAgb3V0cHV0RWxlbWVudC5hcHBlbmRDaGlsZChsaSk7CgogICAgY29uc3QgZmlsZURhdGFQcm9taXNlID0gbmV3IFByb21pc2UoKHJlc29sdmUpID0+IHsKICAgICAgY29uc3QgcmVhZGVyID0gbmV3IEZpbGVSZWFkZXIoKTsKICAgICAgcmVhZGVyLm9ubG9hZCA9IChlKSA9PiB7CiAgICAgICAgcmVzb2x2ZShlLnRhcmdldC5yZXN1bHQpOwogICAgICB9OwogICAgICByZWFkZXIucmVhZEFzQXJyYXlCdWZmZXIoZmlsZSk7CiAgICB9KTsKICAgIC8vIFdhaXQgZm9yIHRoZSBkYXRhIHRvIGJlIHJlYWR5LgogICAgbGV0IGZpbGVEYXRhID0geWllbGQgewogICAgICBwcm9taXNlOiBmaWxlRGF0YVByb21pc2UsCiAgICAgIHJlc3BvbnNlOiB7CiAgICAgICAgYWN0aW9uOiAnY29udGludWUnLAogICAgICB9CiAgICB9OwoKICAgIC8vIFVzZSBhIGNodW5rZWQgc2VuZGluZyB0byBhdm9pZCBtZXNzYWdlIHNpemUgbGltaXRzLiBTZWUgYi82MjExNTY2MC4KICAgIGxldCBwb3NpdGlvbiA9IDA7CiAgICB3aGlsZSAocG9zaXRpb24gPCBmaWxlRGF0YS5ieXRlTGVuZ3RoKSB7CiAgICAgIGNvbnN0IGxlbmd0aCA9IE1hdGgubWluKGZpbGVEYXRhLmJ5dGVMZW5ndGggLSBwb3NpdGlvbiwgTUFYX1BBWUxPQURfU0laRSk7CiAgICAgIGNvbnN0IGNodW5rID0gbmV3IFVpbnQ4QXJyYXkoZmlsZURhdGEsIHBvc2l0aW9uLCBsZW5ndGgpOwogICAgICBwb3NpdGlvbiArPSBsZW5ndGg7CgogICAgICBjb25zdCBiYXNlNjQgPSBidG9hKFN0cmluZy5mcm9tQ2hhckNvZGUuYXBwbHkobnVsbCwgY2h1bmspKTsKICAgICAgeWllbGQgewogICAgICAgIHJlc3BvbnNlOiB7CiAgICAgICAgICBhY3Rpb246ICdhcHBlbmQnLAogICAgICAgICAgZmlsZTogZmlsZS5uYW1lLAogICAgICAgICAgZGF0YTogYmFzZTY0LAogICAgICAgIH0sCiAgICAgIH07CiAgICAgIHBlcmNlbnQudGV4dENvbnRlbnQgPQogICAgICAgICAgYCR7TWF0aC5yb3VuZCgocG9zaXRpb24gLyBmaWxlRGF0YS5ieXRlTGVuZ3RoKSAqIDEwMCl9JSBkb25lYDsKICAgIH0KICB9CgogIC8vIEFsbCBkb25lLgogIHlpZWxkIHsKICAgIHJlc3BvbnNlOiB7CiAgICAgIGFjdGlvbjogJ2NvbXBsZXRlJywKICAgIH0KICB9Owp9CgpzY29wZS5nb29nbGUgPSBzY29wZS5nb29nbGUgfHwge307CnNjb3BlLmdvb2dsZS5jb2xhYiA9IHNjb3BlLmdvb2dsZS5jb2xhYiB8fCB7fTsKc2NvcGUuZ29vZ2xlLmNvbGFiLl9maWxlcyA9IHsKICBfdXBsb2FkRmlsZXMsCiAgX3VwbG9hZEZpbGVzQ29udGludWUsCn07Cn0pKHNlbGYpOwo=",
       "headers": [
        [
         "content-type",
         "application/javascript"
        ]
       ],
       "ok": true,
       "status": 200,
       "status_text": ""
      }
     }
    },
    "colab_type": "code",
    "id": "-tvZVMiW5hQF",
    "outputId": "41b7a244-4c36-4528-af02-98e7cd8e4f15"
   },
   "outputs": [
    {
     "data": {
      "text/html": [
       "\n",
       "     <input type=\"file\" id=\"files-0760dd04-7657-462d-affa-093722504486\" name=\"files[]\" multiple disabled />\n",
       "     <output id=\"result-0760dd04-7657-462d-affa-093722504486\">\n",
       "      Upload widget is only available when the cell has been executed in the\n",
       "      current browser session. Please rerun this cell to enable.\n",
       "      </output>\n",
       "      <script src=\"/nbextensions/google.colab/files.js\"></script> "
      ],
      "text/plain": [
       "<IPython.core.display.HTML object>"
      ]
     },
     "metadata": {
      "tags": []
     },
     "output_type": "display_data"
    },
    {
     "name": "stdout",
     "output_type": "stream",
     "text": [
      "Saving input.txt to input.txt\n"
     ]
    },
    {
     "data": {
      "text/plain": [
       "{'input.txt': b'2.3.0\\nOverview\\nProgramming Guides\\nAPI Docs\\nDeploying\\nMore\\nSpark Overview\\nApache Spark is a fast and general-purpose cluster computing system. It provides high-level APIs in Java, Scala, Python and R, and an optimized engine that supports general execution graphs. It also supports a rich set of higher-level tools including Spark SQL for SQL and structured data processing, MLlib for machine learning, GraphX for graph processing, and Spark Streaming.\\n\\nDownloading\\nGet Spark from the downloads page of the project website. This documentation is for Spark version 2.3.0. Spark uses Hadoop\\xe2\\x80\\x99s client libraries for HDFS and YARN. Downloads are pre-packaged for a handful of popular Hadoop versions. Users can also download a \\xe2\\x80\\x9cHadoop free\\xe2\\x80\\x9d binary and run Spark with any Hadoop version by augmenting Spark\\xe2\\x80\\x99s classpath. Scala and Java users can include Spark in their projects using its Maven coordinates and in the future Python users can also install Spark from PyPI.\\n\\nIf you\\xe2\\x80\\x99d like to build Spark from source, visit Building Spark.\\n\\nSpark runs on both Windows and UNIX-like systems (e.g. Linux, Mac OS). It\\xe2\\x80\\x99s easy to run locally on one machine \\xe2\\x80\\x94 all you need is to have java installed on your system PATH, or the JAVA_HOME environment variable pointing to a Java installation.\\n\\nSpark runs on Java 8+, Python 2.7+/3.4+ and R 3.1+. For the Scala API, Spark 2.3.0 uses Scala 2.11. You will need to use a compatible Scala version (2.11.x).\\n\\nNote that support for Java 7, Python 2.6 and old Hadoop versions before 2.6.5 were removed as of Spark 2.2.0. Support for Scala 2.10 was removed as of 2.3.0.\\n\\nRunning the Examples and Shell\\nSpark comes with several sample programs. Scala, Java, Python and R examples are in the examples/src/main directory. To run one of the Java or Scala sample programs, use bin/run-example <class> [params] in the top-level Spark directory. (Behind the scenes, this invokes the more general spark-submit script for launching applications). For example,\\n\\n./bin/run-example SparkPi 10\\nYou can also run Spark interactively through a modified version of the Scala shell. This is a great way to learn the framework.\\n\\n./bin/spark-shell --master local[2]\\nThe --master option specifies the master URL for a distributed cluster, or local to run locally with one thread, or local[N] to run locally with N threads. You should start by using local for testing. For a full list of options, run Spark shell with the --help option.\\n\\nSpark also provides a Python API. To run Spark interactively in a Python interpreter, use bin/pyspark:\\n\\n./bin/pyspark --master local[2]\\nExample applications are also provided in Python. For example,\\n\\n./bin/spark-submit examples/src/main/python/pi.py 10\\nSpark also provides an experimental R API since 1.4 (only DataFrames APIs included). To run Spark interactively in a R interpreter, use bin/sparkR:\\n\\n./bin/sparkR --master local[2]\\nExample applications are also provided in R. For example,\\n\\n./bin/spark-submit examples/src/main/r/dataframe.R\\nLaunching on a Cluster\\nThe Spark cluster mode overview explains the key concepts in running on a cluster. Spark can run both by itself, or over several existing cluster managers. It currently provides several options for deployment:\\n\\nStandalone Deploy Mode: simplest way to deploy Spark on a private cluster\\nApache Mesos\\nHadoop YARN\\nKubernetes\\nWhere to Go from Here\\nProgramming Guides:\\n\\nQuick Start: a quick introduction to the Spark API; start here!\\nRDD Programming Guide: overview of Spark basics - RDDs (core but old API), accumulators, and broadcast variables\\nSpark SQL, Datasets, and DataFrames: processing structured data with relational queries (newer API than RDDs)\\nStructured Streaming: processing structured data streams with relation queries (using Datasets and DataFrames, newer API than DStreams)\\nSpark Streaming: processing data streams using DStreams (old API)\\nMLlib: applying machine learning algorithms\\nGraphX: processing graphs\\nAPI Docs:\\n\\nSpark Scala API (Scaladoc)\\nSpark Java API (Javadoc)\\nSpark Python API (Sphinx)\\nSpark R API (Roxygen2)\\nSpark SQL, Built-in Functions (MkDocs)\\nDeployment Guides:\\n\\nCluster Overview: overview of concepts and components when running on a cluster\\nSubmitting Applications: packaging and deploying applications\\nDeployment modes:\\nAmazon EC2: scripts that let you launch a cluster on EC2 in about 5 minutes\\nStandalone Deploy Mode: launch a standalone cluster quickly without a third-party cluster manager\\nMesos: deploy a private cluster using Apache Mesos\\nYARN: deploy Spark on top of Hadoop NextGen (YARN)\\nKubernetes: deploy Spark on top of Kubernetes\\nOther Documents:\\n\\nConfiguration: customize Spark via its configuration system\\nMonitoring: track the behavior of your applications\\nTuning Guide: best practices to optimize performance and memory use\\nJob Scheduling: scheduling resources across and within Spark applications\\nSecurity: Spark security support\\nHardware Provisioning: recommendations for cluster hardware\\nIntegration with other storage systems:\\nCloud Infrastructures\\nOpenStack Swift\\nBuilding Spark: build Spark using the Maven system\\nContributing to Spark\\nThird Party Projects: related third party Spark projects\\nExternal Resources:\\n\\nSpark Homepage\\nSpark Community resources, including local meetups\\nStackOverflow tag apache-spark\\nMailing Lists: ask questions about Spark here\\nAMP Camps: a series of training camps at UC Berkeley that featured talks and exercises about Spark, Spark Streaming, Mesos, and more. Videos, slides and exercises are available online for free.\\nCode Examples: more are also available in the examples subfolder of Spark (Scala, Java, Python, R)'}"
      ]
     },
     "execution_count": 3,
     "metadata": {
      "tags": []
     },
     "output_type": "execute_result"
    }
   ],
   "source": [
    "files.upload()"
   ]
  },
  {
   "cell_type": "code",
   "execution_count": 0,
   "metadata": {
    "colab": {},
    "colab_type": "code",
    "id": "1C_7OGSdTNEJ"
   },
   "outputs": [],
   "source": [
    "text_file  = sc.textFile('input.txt')"
   ]
  },
  {
   "cell_type": "code",
   "execution_count": 0,
   "metadata": {
    "colab": {
     "base_uri": "https://localhost:8080/",
     "height": 34
    },
    "colab_type": "code",
    "id": "P299MfB4637i",
    "outputId": "72e6e682-b49c-4df6-97fb-efd7a57b54b0"
   },
   "outputs": [
    {
     "data": {
      "text/plain": [
       "['2.3.0', 'Overview', 'Programming Guides', 'API Docs', 'Deploying']"
      ]
     },
     "execution_count": 14,
     "metadata": {
      "tags": []
     },
     "output_type": "execute_result"
    }
   ],
   "source": [
    "text_file .take(5)"
   ]
  },
  {
   "cell_type": "code",
   "execution_count": 0,
   "metadata": {
    "colab": {},
    "colab_type": "code",
    "id": "pR_GbtMM7ULc"
   },
   "outputs": [],
   "source": [
    "x = text_file.flatMap(lambda line: line.split(\" \"))"
   ]
  },
  {
   "cell_type": "code",
   "execution_count": 0,
   "metadata": {
    "colab": {},
    "colab_type": "code",
    "id": "0I6kUFME7if9"
   },
   "outputs": [],
   "source": [
    "word_counts = text_file.flatMap(lambda line: line.split(\" \")) \\\n",
    "             .map(lambda word: (word, 1)) \\\n",
    "             .reduceByKey(lambda a, b: a + b)"
   ]
  },
  {
   "cell_type": "code",
   "execution_count": 0,
   "metadata": {
    "colab": {
     "base_uri": "https://localhost:8080/",
     "height": 357
    },
    "colab_type": "code",
    "id": "rqKC-GXo7vjh",
    "outputId": "7f8d578f-4b8d-4ee1-bec8-70b34ada034a"
   },
   "outputs": [
    {
     "data": {
      "text/plain": [
       "[('2.3.0', 2),\n",
       " ('Overview', 2),\n",
       " ('Programming', 3),\n",
       " ('Guides', 1),\n",
       " ('Docs', 1),\n",
       " ('Spark', 48),\n",
       " ('Apache', 3),\n",
       " ('is', 4),\n",
       " ('general-purpose', 1),\n",
       " ('It', 3),\n",
       " ('provides', 4),\n",
       " ('high-level', 1),\n",
       " ('APIs', 2),\n",
       " ('in', 12),\n",
       " ('Java,', 3),\n",
       " ('Scala,', 2),\n",
       " ('Python', 8),\n",
       " ('an', 2),\n",
       " ('optimized', 1),\n",
       " ('engine', 1)]"
      ]
     },
     "execution_count": 17,
     "metadata": {
      "tags": []
     },
     "output_type": "execute_result"
    }
   ],
   "source": [
    "word_counts.take(20)"
   ]
  },
  {
   "cell_type": "code",
   "execution_count": 0,
   "metadata": {
    "colab": {},
    "colab_type": "code",
    "id": "qoKwpjst7yJa"
   },
   "outputs": [],
   "source": [
    "my_collection = \"Postgraduate Program in Big Data Analytics and Optimization\"\\\n",
    "  .split(\" \")\n",
    "    \n",
    "words = sc.parallelize(my_collection)"
   ]
  },
  {
   "cell_type": "code",
   "execution_count": 0,
   "metadata": {
    "colab": {
     "base_uri": "https://localhost:8080/",
     "height": 153
    },
    "colab_type": "code",
    "id": "9heK9x4H7_p0",
    "outputId": "3e092fda-3ca3-407a-e0d7-f4aafb6f056a"
   },
   "outputs": [
    {
     "data": {
      "text/plain": [
       "['Postgraduate',\n",
       " 'Program',\n",
       " 'in',\n",
       " 'Big',\n",
       " 'Data',\n",
       " 'Analytics',\n",
       " 'and',\n",
       " 'Optimization']"
      ]
     },
     "execution_count": 19,
     "metadata": {
      "tags": []
     },
     "output_type": "execute_result"
    }
   ],
   "source": [
    "words.collect()"
   ]
  },
  {
   "cell_type": "code",
   "execution_count": 0,
   "metadata": {
    "colab": {},
    "colab_type": "code",
    "id": "51AyGsHl8CC1"
   },
   "outputs": [],
   "source": [
    "supplementalData = {\"Postgraduate\":1000, \"Analytics\":200, \"Optimization\": 400,\n",
    "                    \"Big\":-300, \"Data\": 100, \"Program\":100}"
   ]
  },
  {
   "cell_type": "code",
   "execution_count": 0,
   "metadata": {
    "colab": {},
    "colab_type": "code",
    "id": "LrevyIsV8Ho5"
   },
   "outputs": [],
   "source": [
    "suppBroadcast = sc.broadcast(supplementalData)"
   ]
  },
  {
   "cell_type": "code",
   "execution_count": 0,
   "metadata": {
    "colab": {
     "base_uri": "https://localhost:8080/",
     "height": 119
    },
    "colab_type": "code",
    "id": "te0RSUXd8KXO",
    "outputId": "bd0a76e5-7bbf-4fec-d13d-06043346b405"
   },
   "outputs": [
    {
     "data": {
      "text/plain": [
       "{'Analytics': 200,\n",
       " 'Big': -300,\n",
       " 'Data': 100,\n",
       " 'Optimization': 400,\n",
       " 'Postgraduate': 1000,\n",
       " 'Program': 100}"
      ]
     },
     "execution_count": 22,
     "metadata": {
      "tags": []
     },
     "output_type": "execute_result"
    }
   ],
   "source": [
    "suppBroadcast.value"
   ]
  },
  {
   "cell_type": "code",
   "execution_count": 0,
   "metadata": {
    "colab": {
     "base_uri": "https://localhost:8080/",
     "height": 153
    },
    "colab_type": "code",
    "id": "SFgpjr3D8L50",
    "outputId": "649a6894-6088-4381-a2fb-78e723ea443a"
   },
   "outputs": [
    {
     "data": {
      "text/plain": [
       "[('Postgraduate', 1000),\n",
       " ('Program', 100),\n",
       " ('in', None),\n",
       " ('Big', -300),\n",
       " ('Data', 100),\n",
       " ('Analytics', 200),\n",
       " ('and', None),\n",
       " ('Optimization', 400)]"
      ]
     },
     "execution_count": 23,
     "metadata": {
      "tags": []
     },
     "output_type": "execute_result"
    }
   ],
   "source": [
    "words.map(lambda word: (word,suppBroadcast.value.get(word))).collect()"
   ]
  },
  {
   "cell_type": "code",
   "execution_count": 0,
   "metadata": {
    "colab": {
     "base_uri": "https://localhost:8080/",
     "height": 153
    },
    "colab_type": "code",
    "id": "WJ2LtZe78Tw9",
    "outputId": "184611d9-80d5-46f4-90c6-d3458e704d1f"
   },
   "outputs": [
    {
     "data": {
      "text/plain": [
       "[('Postgraduate', 1000),\n",
       " ('Program', 100),\n",
       " ('in', 0),\n",
       " ('Big', -300),\n",
       " ('Data', 100),\n",
       " ('Analytics', 200),\n",
       " ('and', 0),\n",
       " ('Optimization', 400)]"
      ]
     },
     "execution_count": 24,
     "metadata": {
      "tags": []
     },
     "output_type": "execute_result"
    }
   ],
   "source": [
    "words.map(lambda word: (word, suppBroadcast.value.get(word, 0))).collect()"
   ]
  },
  {
   "cell_type": "code",
   "execution_count": 0,
   "metadata": {
    "colab": {
     "base_uri": "https://localhost:8080/",
     "height": 153
    },
    "colab_type": "code",
    "id": "xNmq6fGi8Z8U",
    "outputId": "b1467214-c94a-4e7f-fb63-bafcf5844040"
   },
   "outputs": [
    {
     "data": {
      "text/plain": [
       "[('Big', -300),\n",
       " ('in', 0),\n",
       " ('and', 0),\n",
       " ('Program', 100),\n",
       " ('Data', 100),\n",
       " ('Analytics', 200),\n",
       " ('Optimization', 400),\n",
       " ('Postgraduate', 1000)]"
      ]
     },
     "execution_count": 25,
     "metadata": {
      "tags": []
     },
     "output_type": "execute_result"
    }
   ],
   "source": [
    "words.map(lambda word: (word, suppBroadcast.value.get(word, 0)))\\\n",
    "  .sortBy(lambda wordPair: wordPair[1])\\\n",
    "  .collect()"
   ]
  },
  {
   "cell_type": "code",
   "execution_count": 0,
   "metadata": {
    "colab": {},
    "colab_type": "code",
    "id": "61e8SqGh8fLP"
   },
   "outputs": [],
   "source": [
    "count = sc.accumulator(0)"
   ]
  },
  {
   "cell_type": "code",
   "execution_count": 0,
   "metadata": {
    "colab": {
     "base_uri": "https://localhost:8080/",
     "height": 34
    },
    "colab_type": "code",
    "id": "xops-LQT8iBS",
    "outputId": "03011793-e8f2-4a9f-eced-e0eae1992b72"
   },
   "outputs": [
    {
     "data": {
      "text/plain": [
       "0"
      ]
     },
     "execution_count": 39,
     "metadata": {
      "tags": []
     },
     "output_type": "execute_result"
    }
   ],
   "source": [
    "count.value"
   ]
  },
  {
   "cell_type": "code",
   "execution_count": 0,
   "metadata": {
    "colab": {},
    "colab_type": "code",
    "id": "zE-F1PTp8kLq"
   },
   "outputs": [],
   "source": [
    "num = sc.parallelize([1,2,3])"
   ]
  },
  {
   "cell_type": "code",
   "execution_count": 0,
   "metadata": {
    "colab": {},
    "colab_type": "code",
    "id": "sZfKcdsZ8l8Y"
   },
   "outputs": [],
   "source": [
    "num.foreach(lambda x: count.add(1))"
   ]
  },
  {
   "cell_type": "code",
   "execution_count": 0,
   "metadata": {
    "colab": {
     "base_uri": "https://localhost:8080/",
     "height": 34
    },
    "colab_type": "code",
    "id": "9AaDchZI8nqM",
    "outputId": "e8770d62-a2c4-4de6-93f2-df934e11bb07"
   },
   "outputs": [
    {
     "data": {
      "text/plain": [
       "3"
      ]
     },
     "execution_count": 42,
     "metadata": {
      "tags": []
     },
     "output_type": "execute_result"
    }
   ],
   "source": [
    "count.value"
   ]
  },
  {
   "cell_type": "code",
   "execution_count": 0,
   "metadata": {
    "colab": {},
    "colab_type": "code",
    "id": "cNdxfyz-G47z"
   },
   "outputs": [],
   "source": []
  }
 ],
 "metadata": {
  "colab": {
   "collapsed_sections": [],
   "name": "Batch70_Spark_Rdd.ipynb",
   "provenance": [],
   "toc_visible": true
  },
  "kernelspec": {
   "display_name": "Python 3",
   "language": "python",
   "name": "python3"
  },
  "language_info": {
   "codemirror_mode": {
    "name": "ipython",
    "version": 3
   },
   "file_extension": ".py",
   "mimetype": "text/x-python",
   "name": "python",
   "nbconvert_exporter": "python",
   "pygments_lexer": "ipython3",
   "version": "3.7.3"
  }
 },
 "nbformat": 4,
 "nbformat_minor": 1
}
